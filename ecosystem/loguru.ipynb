{
 "cells": [
  {
   "cell_type": "markdown",
   "metadata": {},
   "source": [
    "# Loguru"
   ]
  },
  {
   "cell_type": "markdown",
   "metadata": {},
   "source": [
    "## Introducción\n",
    "\n",
    "Python incluye un práctico módulo de [logging](https://docs.python.org/3/howto/logging.html). Tanto para efectuar una depuración sencilla como para realizar un registro centralizado desde diversos servidores, el módulo logging de Python puede facilitar enormemente el trabajo a los desarrolladores y operadores.\n",
    "\n",
    "**Logging** proviene del término en inglés “logˮ y, en este contexto, se refiere a un protocolo. Al igual que un libro de registro, contiene todos los registros importantes del historial de eventos. Dependiendo del tipo de seguimiento que queramos hacer, solo se registran ciertas acciones o eventos de un proceso o, por el contrario, se comprueban todas las acciones.\n",
    "\n",
    "El registro de Python puede contener una gran cantidad de datos, especialmente al desarrollar aplicaciones complejas. Mediante el `logging to file` de Python (es decir, un archivo de registro creado por el módulo logging de Python y en el que un `handler` anota los datos de registro), los desarrolladores recopilan estos datos. Es importante que el archivo de registro funcione de forma asincrónica. De lo contrario, el logging de Python puede bloquear la ejecución del código."
   ]
  },
  {
   "cell_type": "markdown",
   "metadata": {},
   "source": [
    "### Análisis de errores\n",
    "\n",
    "El logging de Python presenta cinco niveles de gravedad distintos, que en inglés reciben el nombre de “levels of severityˮ. Si deseas crear tu propio filtro de registro, obviamente puedes hacerlo, aunque los niveles de gravedad incluidos en el módulo logging de Python, desarrollado por **Vinay Sajip**, nos parecen bastante adecuados:\n",
    "\n",
    "| Nombre del nivel de registro | Uso                                                                                                                  | Posible salida de mensaje                                                  |\n",
    "|------------------------------|----------------------------------------------------------------------------------------------------------------------|----------------------------------------------------------------------------|\n",
    "| Debug                        | Diagnóstico del problema, muy detallado                                                                              | Sangría inesperada en la línea X                                           |\n",
    "| Info                         | Indica que el sistema funciona correctamente                                                                         | La función 1*1 está ejecutándose.                                          |\n",
    "| Warning                      | La aplicación funciona correctamente, pero se ha producido una situación inesperada o se predice un problema futuro. | Poco espacio de almacenamiento                                             |\n",
    "| Error                        | No se pudo realizar una función debido a un problema.                                                                | Ha ocurrido un error y se ha interrumpido la acción.                       |\n",
    "| Critical                     | Ha ocurrido un problema grave. Es posible que la aplicación deba interrumpirse por completo.                         | Error grave: el programa no puede acceder a este servicio y debe cerrarse. |"
   ]
  },
  {
   "cell_type": "markdown",
   "metadata": {},
   "source": [
    "* **Debug** es el nivel más bajo, por lo que también genera información de baja prioridad. Esto no significa, sin embargo, que la gravedad de un error sea superior a la de critical.\n",
    "\n",
    "* Debug incluye todos los demás niveles y, por lo tanto, genera todos los mensajes hasta los de nivel critical."
   ]
  },
  {
   "cell_type": "markdown",
   "metadata": {},
   "source": [
    "### Componenetes principales del módulo logging"
   ]
  },
  {
   "cell_type": "markdown",
   "metadata": {},
   "source": [
    "#### a) Logger\n",
    "\n",
    "Los logger registran las **acciones durante la ejecución de un programa**. No se pueden usar directamente como instancia, sino que se los solicita con la función `logging.getLogger` (nombre del logger). Se asigna un nombre concreto al logger, por ejemplo, para mostrar las jerarquías de una manera estructurada. En Python, los directorios de los paquetes se separan con un punto. Por lo tanto, el paquete `log` puede contener los directorios `log.bam` o `log.bar.loco`. Los logger funcionan de manera análoga, de modo que, en este caso, el objeto `log` recibirá los datos de los directorios `log.bam` y `log.bar.loco`."
   ]
  },
  {
   "cell_type": "markdown",
   "metadata": {},
   "source": [
    "#### b) Handler\n",
    "Los handler recopilan la información del logger y la reenvían. El handler es una clase básica que determina cómo actúa la interfaz de las instancias del handler. Para establecer el destino, debes utilizar el tipo de handler correspondiente. **StreamHandler** envía los datos a las secuencias, mientras que **FileHandler** los envía a los archivos. Para un programa, puedes utilizar varios handler que envíen mensajes del mismo logger. Esto te puede ser útil, por ejemplo, si deseas mostrar los datos de depuración en la consola y los mensajes de error importantes en un archivo independiente.\n",
    "\n",
    "Mediante el método `setLevel()` puedes establecer el nivel mínimo de gravedad que un mensaje de registro requiere para ser reenviado a dicho handler. En lugar de `logger.setLevel` (que determina el nivel de registro), el método recibe el nombre de `[handlername].setLevel`"
   ]
  },
  {
   "cell_type": "markdown",
   "metadata": {},
   "source": [
    "#### c) Formatter\n",
    "Los formatter (objetos de formato), a diferencia de los handler, se pueden utilizar **directamente como instancias en el código de la aplicación**. Con estas instancias puedes determinar el formato en el que se emitirá la notificación en el archivo de registro. Si no utilizas ningún formato, solo aparecerá el mensaje especificado del logger. "
   ]
  },
  {
   "cell_type": "markdown",
   "metadata": {},
   "source": [
    "#### d) Filter\n",
    "Los filter permiten crear definiciones aún más precisas para los mensajes de salida. Establece primero los filtros y, después, añádelos al handler o al logger correspondiente mediante el método `addFilter()`. Si el valor de un filtro es false (erróneo) debido a las propiedades del mensaje, no reenviará el mensaje. Utiliza la función `logging.Filter(name = fh)`, donde el atributo fh representa cualquier nombre de logger, para permitir que se envíen únicamente los datos de registro de un logger concreto y bloquear todos los demás logger."
   ]
  },
  {
   "cell_type": "markdown",
   "metadata": {},
   "source": [
    "## Logging con Loguru\n",
    "\n",
    "[Loguru](https://github.com/Delgan/loguru) es una biblioteca que tiene como objetivo brindar un logging agradable en Python.\n",
    "\n",
    "Además, esta biblioteca está destinada a hacer que el registro de Python sea menos doloroso al agregar un montón de funcionalidades útiles que resuelven las advertencias de los loggers estándar. Usar logs en su aplicación debería ser un automatismo, **Loguru** intenta hacerlo agradable y poderoso."
   ]
  },
  {
   "cell_type": "markdown",
   "metadata": {},
   "source": [
    "### Fácil de usar\n",
    "\n",
    "El concepto principal de \"Loguru\" es que **hay uno y solo uno** *logger*. Para mayor comodidad, está preconfigurado y se envía a ``stderr`` para empezar (pero eso es completamente configurable).\n"
   ]
  },
  {
   "cell_type": "code",
   "execution_count": 1,
   "metadata": {},
   "outputs": [
    {
     "name": "stderr",
     "output_type": "stream",
     "text": [
      "2020-09-29 15:17:28.833 | DEBUG    | __main__:<module>:2 - That's it, beautiful and simple logging!\n"
     ]
    }
   ],
   "source": [
    "%%python\n",
    "from loguru import logger\n",
    "logger.debug(\"That's it, beautiful and simple logging!\")"
   ]
  },
  {
   "cell_type": "markdown",
   "metadata": {},
   "source": [
    "### No Handler, no Formatter, no Filter: todo en uno\n",
    "\n",
    "¿Cómo agregar un Handler? ¿Cómo configurar el formato de los registros? ¿Cómo filtrar mensajes? ¿Cómo poner el nivel?. Una respuesta: la función `add()`."
   ]
  },
  {
   "cell_type": "code",
   "execution_count": 2,
   "metadata": {},
   "outputs": [],
   "source": [
    "%%python\n",
    "from loguru import logger\n",
    "import sys\n",
    "logger.add(sys.stderr, format=\"{time} {level} {message}\", filter=\"my_module\", level=\"INFO\")"
   ]
  },
  {
   "cell_type": "markdown",
   "metadata": {},
   "source": [
    "Esta función debe usarse para registrar los ``sink``, responsables de administrar los `log messages ` contextualizados con un` record dict`. \n",
    "\n",
    "Un ``sink`` puede tomar muchas formas: una función simple, una ruta de cadena, un objeto similar a un archivo, una función de rutina o un controlador integrado (built-in Handler).\n"
   ]
  },
  {
   "cell_type": "markdown",
   "metadata": {},
   "source": [
    "### Registro de archivos más fácil con rotation / retention / compression"
   ]
  },
  {
   "cell_type": "markdown",
   "metadata": {},
   "source": [
    "Si desea enviar mensajes registrados a un archivo, solo tiene que usar una ruta de cadena como ``sink``. También se puede programar automáticamente para mayor comodidad:"
   ]
  },
  {
   "cell_type": "code",
   "execution_count": 3,
   "metadata": {},
   "outputs": [],
   "source": [
    "%%python\n",
    "from loguru import logger\n",
    "logger.add(\"file_{time}.log\")"
   ]
  },
  {
   "cell_type": "markdown",
   "metadata": {},
   "source": [
    "También es fácilmente configurable si necesita un registrador giratorio (rotating logger), si desea eliminar registros más antiguos o si desea comprimir sus archivos al cierre."
   ]
  },
  {
   "cell_type": "code",
   "execution_count": 4,
   "metadata": {},
   "outputs": [],
   "source": [
    "%%python\n",
    "from loguru import logger\n",
    "logger.add(\"file_1.log\", rotation=\"500 MB\")    # Automatically rotate too big file\n",
    "logger.add(\"file_2.log\", rotation=\"12:00\")     # New file is created each day at noon\n",
    "logger.add(\"file_3.log\", rotation=\"1 week\")    # Once the file is too old, it's rotated\n",
    "logger.add(\"file_X.log\", retention=\"10 days\")  # Cleanup after some time\n",
    "logger.add(\"file_Y.log\", compression=\"zip\")    # Save some loved space"
   ]
  },
  {
   "cell_type": "markdown",
   "metadata": {},
   "source": [
    "### Captura de excepciones dentro `threads` o  `main`\n",
    "\n",
    "¿Alguna vez ha visto su programa fallar inesperadamente sin ver nada en el archivo de registro? ¿Alguna vez notó que las excepciones que ocurren en los hilos no se registran? Esto se puede resolver usando el decorador/administrador de contexto `catch` que asegura que cualquier error se propague correctamente al `logger`."
   ]
  },
  {
   "cell_type": "code",
   "execution_count": 5,
   "metadata": {},
   "outputs": [],
   "source": [
    "%%python\n",
    "\n",
    "from loguru import logger\n",
    "\n",
    "@logger.catch\n",
    "def my_function(x, y, z):\n",
    "    # An error? It's caught anyway!\n",
    "    return 1 / (x + y + z)"
   ]
  },
  {
   "cell_type": "markdown",
   "metadata": {},
   "source": [
    "### Hermosos logging con colores\n",
    "\n",
    "Loguru agrega automáticamente colores a sus registros si su terminal es compatible. Puede definir su estilo favorito utilizando etiquetas de marcado en el formato `sink`."
   ]
  },
  {
   "cell_type": "code",
   "execution_count": 6,
   "metadata": {},
   "outputs": [],
   "source": [
    "%%python\n",
    "from loguru import logger\n",
    "import sys\n",
    "logger.add(sys.stdout, colorize=True, format=\"<green>{time}</green> <level>{message}</level>\")"
   ]
  },
  {
   "cell_type": "markdown",
   "metadata": {},
   "source": [
    "Las funciones de corrutina utilizadas como `sink` también son compatibles y se deben esperar con `complete()`."
   ]
  },
  {
   "cell_type": "markdown",
   "metadata": {},
   "source": [
    "### Excepciones completamente descriptivas\n",
    "\n",
    "Registrar las excepciones que ocurren en su código es importante para rastrear errores, pero es bastante inútil si no sabe por qué falló. `Loguru` te ayuda a identificar problemas al permitir que se muestre todo el seguimiento de la pila (`stack`), incluidos los valores de las variables (¡gracias `better_exceptions` por esto!).\n"
   ]
  },
  {
   "cell_type": "code",
   "execution_count": 7,
   "metadata": {},
   "outputs": [
    {
     "name": "stderr",
     "output_type": "stream",
     "text": [
      "2020-09-29 15:17:33.143 | ERROR    | __main__:nested:12 - What?!\n",
      "Traceback (most recent call last):\n",
      "\n",
      "  File \"<stdin>\", line 14, in <module>\n",
      "> File \"<stdin>\", line 10, in nested\n",
      "  File \"<stdin>\", line 6, in func\n",
      "\n",
      "ZeroDivisionError: division by zero\n"
     ]
    }
   ],
   "source": [
    "%%python\n",
    "from loguru import logger\n",
    "\n",
    "logger.add(\"out.log\", backtrace=True, diagnose=True)  # Caution, may leak sensitive data in prod\n",
    "\n",
    "def func(a, b):\n",
    "    return a / b\n",
    "\n",
    "def nested(c):\n",
    "    try:\n",
    "        func(5, c)\n",
    "    except ZeroDivisionError:\n",
    "        logger.exception(\"What?!\")\n",
    "\n",
    "nested(0)"
   ]
  },
  {
   "cell_type": "markdown",
   "metadata": {},
   "source": [
    "### Mejor manejo de fecha y hora\n",
    "\n",
    "el logger estándar está repleto de argumentos como datefmt o `msecs`, `%(asctime)s`y `%(created)s`, fechas y horas ingenuas sin información de zona horaria, formato no intuitivo, etc. Loguru lo corrige:"
   ]
  },
  {
   "cell_type": "code",
   "execution_count": 8,
   "metadata": {},
   "outputs": [],
   "source": [
    "%%python\n",
    "from loguru import logger\n",
    "import sys\n",
    "logger.add(\"file.log\", format=\"{time:YYYY-MM-DD at HH:mm:ss} | {level} | {message}\")"
   ]
  },
  {
   "cell_type": "markdown",
   "metadata": {},
   "source": [
    "**Observación**: al final de cada presentación, se eliminan los archivos que generamos de manera temporal."
   ]
  },
  {
   "cell_type": "code",
   "execution_count": 9,
   "metadata": {},
   "outputs": [],
   "source": [
    "# eliminar archivos temporales\n",
    "!rm -r *.log *.zip"
   ]
  }
 ],
 "metadata": {
  "kernelspec": {
   "display_name": "Python 3",
   "language": "python",
   "name": "python3"
  },
  "language_info": {
   "codemirror_mode": {
    "name": "ipython",
    "version": 3
   },
   "file_extension": ".py",
   "mimetype": "text/x-python",
   "name": "python",
   "nbconvert_exporter": "python",
   "pygments_lexer": "ipython3",
   "version": "3.7.3"
  }
 },
 "nbformat": 4,
 "nbformat_minor": 4
}

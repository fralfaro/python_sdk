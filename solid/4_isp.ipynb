{
 "cells": [
  {
   "cell_type": "markdown",
   "metadata": {},
   "source": [
    "# Interface Segregation Principle\n",
    "\n",
    "Cree interfaces de grano fino que sean específicas del cliente. Los clientes no deben verse obligados a depender de interfaces que no utilizan. Este principio se ocupa de las desventajas de implementar grandes interfaces.\n",
    "\n",
    "Veamos la siguiente interfaz de `IShape`:"
   ]
  },
  {
   "cell_type": "code",
   "execution_count": 1,
   "metadata": {},
   "outputs": [],
   "source": [
    "class IShape:\n",
    "    def draw_square(self):\n",
    "        raise NotImplementedError\n",
    "    \n",
    "    def draw_rectangle(self):\n",
    "        raise NotImplementedError\n",
    "    \n",
    "    def draw_circle(self):\n",
    "        raise NotImplementedError\n",
    "\n",
    "        "
   ]
  },
  {
   "cell_type": "markdown",
   "metadata": {},
   "source": [
    "Esta interfaz dibuja cuadrados, círculos, rectángulos. La clase `Circle`, `Square` o `Rectangle` que implementa la interfaz `IShape` debe definir los métodos `draw_square()`, `draw_rectangle()`, `draw_circle()`."
   ]
  },
  {
   "cell_type": "code",
   "execution_count": 2,
   "metadata": {},
   "outputs": [],
   "source": [
    "class Circle(IShape):\n",
    "    def draw_square(self):\n",
    "        pass\n",
    "\n",
    "    def draw_rectangle(self):\n",
    "        pass\n",
    "    \n",
    "    def draw_circle(self):\n",
    "        pass\n",
    "\n",
    "class Square(IShape):\n",
    "    def draw_square(self):\n",
    "        pass\n",
    "\n",
    "    def draw_rectangle(self):\n",
    "        pass\n",
    "    \n",
    "    def draw_circle(self):\n",
    "        pass\n",
    "\n",
    "class Rectangle(IShape):\n",
    "    def draw_square(self):\n",
    "        pass\n",
    "\n",
    "    def draw_rectangle(self):\n",
    "        pass\n",
    "    \n",
    "    def draw_circle(self):\n",
    "        pass\n",
    "\n",
    "    "
   ]
  },
  {
   "cell_type": "markdown",
   "metadata": {},
   "source": [
    " La clase `Rectangle` implementa métodos (`draw_circle` y `draw_square`) de los que no tiene uso, del mismo modo que Square implementa `draw_circle`, y `draw_rectangle`, y la clase `Circle` (`draw_square`, `draw_rectangle`).\n",
    "\n",
    "Si agregamos otro método a la interfaz `IShape`, como `draw_triangle()`,"
   ]
  },
  {
   "cell_type": "code",
   "execution_count": 3,
   "metadata": {},
   "outputs": [],
   "source": [
    "class IShape:\n",
    "    def draw_square(self):\n",
    "        raise NotImplementedError\n",
    "    \n",
    "    def draw_rectangle(self):\n",
    "        raise NotImplementedError\n",
    "    \n",
    "    def draw_circle(self):\n",
    "        raise NotImplementedError\n",
    "    \n",
    "    def draw_triangle(self):\n",
    "        raise NotImplementedError"
   ]
  },
  {
   "cell_type": "markdown",
   "metadata": {},
   "source": [
    "Las clases deben implementar el nuevo método o se lanzará un error.\n",
    "\n",
    "Vemos que es imposible implementar una forma que pueda dibujar un círculo pero no un rectángulo o un cuadrado o un triángulo. Podemos simplemente implementar los métodos para generar un error que muestre que la operación no se puede realizar.\n",
    "\n",
    "ISP frunce el ceño contra el diseño de esta interfaz IShape. Los clientes (aquí `Circle`, `Square` o `Rectangle`) no deberían verse obligados a depender de métodos que no necesitan o utilizan. Además, el ISP establece que las interfaces deben realizar solo un trabajo (al igual que el principio SRP), cualquier agrupación adicional de comportamiento debe abstraerse a otra interfaz.\n",
    "\n",
    "La interfaz `IShape` realiza acciones que deberían ser manejadas de forma independiente por otras interfaces.\n",
    "\n",
    "La interfaz `IShape` se ajuste al principio de ISP, segregamos las acciones en diferentes interfaces. Las clases (`Circle`, `Square` ,`Rectangle`, etc) pueden simplemente heredar de la interfaz `IShape` e implementar su propio comportamiento de dibujo."
   ]
  },
  {
   "cell_type": "code",
   "execution_count": 4,
   "metadata": {},
   "outputs": [],
   "source": [
    "class IShape:\n",
    "    def draw(self):\n",
    "        raise NotImplementedError\n",
    "\n",
    "class Circle(IShape):\n",
    "    def draw(self):\n",
    "        pass\n",
    "\n",
    "class Square(IShape):\n",
    "    def draw(self):\n",
    "        pass\n",
    "\n",
    "class Rectangle(IShape):\n",
    "    def draw(self):\n",
    "        pass\n",
    "\n",
    "    "
   ]
  },
  {
   "cell_type": "markdown",
   "metadata": {},
   "source": [
    "Luego podemos usar las I-interfaces para crear formas específicas como semicírculo, triángulo en ángulo recto, triángulo equilátero,  etc."
   ]
  }
 ],
 "metadata": {
  "kernelspec": {
   "display_name": "Python 3",
   "language": "python",
   "name": "python3"
  },
  "language_info": {
   "codemirror_mode": {
    "name": "ipython",
    "version": 3
   },
   "file_extension": ".py",
   "mimetype": "text/x-python",
   "name": "python",
   "nbconvert_exporter": "python",
   "pygments_lexer": "ipython3",
   "version": "3.7.3"
  }
 },
 "nbformat": 4,
 "nbformat_minor": 4
}

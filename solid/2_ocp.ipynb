{
 "cells": [
  {
   "cell_type": "markdown",
   "metadata": {},
   "source": [
    "# Open-Closed Principle\n",
    "\n",
    "Las entidades de software (clases, módulos, funciones) deben estar abiertas para extensión, no modificación."
   ]
  },
  {
   "cell_type": "code",
   "execution_count": 2,
   "metadata": {},
   "outputs": [
    {
     "name": "stdout",
     "output_type": "stream",
     "text": [
      "roar\n",
      "squeak\n"
     ]
    }
   ],
   "source": [
    "class Animal:\n",
    "    def __init__(self, name: str):\n",
    "        self.name = name\n",
    "    \n",
    "    def get_name(self) -> str:\n",
    "        pass\n",
    "\n",
    "animals = [\n",
    "    Animal('lion'),\n",
    "    Animal('mouse')\n",
    "]\n",
    "\n",
    "def animal_sound(animals: list):\n",
    "    for animal in animals:\n",
    "        if animal.name == 'lion':\n",
    "            print('roar')\n",
    "\n",
    "        elif animal.name == 'mouse':\n",
    "            print('squeak')\n",
    "\n",
    "animal_sound(animals)"
   ]
  },
  {
   "cell_type": "markdown",
   "metadata": {},
   "source": [
    "La función `animal_sound` no se ajusta al principio ocp puesto que no puede cerrarse frente a nuevos tipos de animales. Si agregamos un nuevo animal, `Snake`, tenemos que modificar la función `animal_sound`. Verá, para cada nuevo animal, se agrega una nueva lógica a la función animal_sound. Éste es un ejemplo bastante simple. Cuando su aplicación crezca y se vuelva compleja, verá que la instrucción if se repetirá una y otra vez en la función `animal_sound` cada vez que se agregue un nuevo animal, en toda la aplicación."
   ]
  },
  {
   "cell_type": "code",
   "execution_count": 3,
   "metadata": {},
   "outputs": [
    {
     "name": "stdout",
     "output_type": "stream",
     "text": [
      "roar\n",
      "squeak\n",
      "hiss\n"
     ]
    }
   ],
   "source": [
    "animals = [\n",
    "    Animal('lion'),\n",
    "    Animal('mouse'),\n",
    "    Animal('snake')\n",
    "]\n",
    "\n",
    "def animal_sound(animals: list):\n",
    "    for animal in animals:\n",
    "        if animal.name == 'lion':\n",
    "            print('roar')\n",
    "        elif animal.name == 'mouse':\n",
    "            print('squeak')\n",
    "        elif animal.name == 'snake':\n",
    "            print('hiss')\n",
    "\n",
    "animal_sound(animals)"
   ]
  },
  {
   "cell_type": "markdown",
   "metadata": {},
   "source": [
    "¿Cómo lo hacemos (animal_sound) conforme a OCP?"
   ]
  },
  {
   "cell_type": "code",
   "execution_count": 11,
   "metadata": {},
   "outputs": [
    {
     "name": "stdout",
     "output_type": "stream",
     "text": [
      "roar\n",
      "squeak\n",
      "hiss\n"
     ]
    }
   ],
   "source": [
    "class Animal:\n",
    "    def __init__(self, name: str):\n",
    "        self.name = name\n",
    "    \n",
    "    def get_name(self) -> str:\n",
    "        pass\n",
    "\n",
    "    def make_sound(self):\n",
    "        pass\n",
    "\n",
    "\n",
    "class Lion(Animal):\n",
    "    def make_sound(self):\n",
    "        return 'roar'\n",
    "\n",
    "\n",
    "class Mouse(Animal):\n",
    "    def make_sound(self):\n",
    "        return 'squeak'\n",
    "\n",
    "\n",
    "class Snake(Animal):\n",
    "    def make_sound(self):\n",
    "        return 'hiss'\n",
    "\n",
    "\n",
    "def animal_sound(animals: list):\n",
    "    for animal in animals:\n",
    "        print(animal.make_sound())\n",
    "\n",
    "\n",
    "animals = [\n",
    "    Lion(name = \"Lion\"),\n",
    "    Mouse(name = \"Mouse\"),\n",
    "    Snake(name = \"Snake\"),\n",
    "]\n",
    "\n",
    "animal_sound(animals)"
   ]
  },
  {
   "cell_type": "markdown",
   "metadata": {},
   "source": [
    "`Animal` ahora tiene un método virtual `make_sound`. Hacemos que cada animal extienda la clase `Animal` e implementemos el método virtual `make_sound`. Cada animal agrega su propia implementación sobre cómo hace un sonido en `make_sound`. `animal_sound` itera a través de la matriz de animal y simplemente llama a su método `make_sound`.\n",
    "\n",
    "Ahora, si agregamos un nuevo animal, animal_sound no necesita cambiar. Todo lo que tenemos que hacer es agregar el nuevo animal a la matriz de animales.\n",
    "`animal_sound` ahora se ajusta al principio OCP."
   ]
  },
  {
   "cell_type": "markdown",
   "metadata": {},
   "source": [
    "**Otro ejemplo:**\n",
    "\n",
    "Imaginemos que tiene una tienda y ofrece un descuento del 20% a sus clientes favoritos que usan esta clase: cuando decide ofrecer el doble del 20% de descuento a los clientes VIP. Puede modificar la clase de esta manera:"
   ]
  },
  {
   "cell_type": "code",
   "execution_count": 5,
   "metadata": {},
   "outputs": [],
   "source": [
    "class Discount:\n",
    "    def __init__(self, customer, price):\n",
    "        self.customer = customer\n",
    "        self.price = price\n",
    "\n",
    "    def give_discount(self):\n",
    "            if self.customer == 'fav':\n",
    "                return self.price * 0.2\n",
    "            if self.customer == 'vip':\n",
    "                return self.price * 0.4"
   ]
  },
  {
   "cell_type": "markdown",
   "metadata": {},
   "source": [
    "No, esto no cumple con el principio OCP. OCP lo prohíbe. \n",
    "\n",
    "Si queremos dar un nuevo porcentaje de descuento, tal vez, a un diferencial. tipo de clientes, verá que se agregará una nueva lógica.\n",
    "Para que siga el principio OCP, agregaremos una nueva clase que extenderá el descuento. En esta nueva clase, implementaríamos su nuevo comportamiento:"
   ]
  },
  {
   "cell_type": "code",
   "execution_count": 6,
   "metadata": {},
   "outputs": [],
   "source": [
    "class Discount:\n",
    "    def __init__(self, customer, price):\n",
    "        self.customer = customer\n",
    "        self.price = price\n",
    "\n",
    "    def get_discount(self):\n",
    "            return self.price * 0.2\n",
    "\n",
    "\n",
    "class VIPDiscount(Discount):\n",
    "    def get_discount(self):\n",
    "        return super().get_discount() * 2"
   ]
  },
  {
   "cell_type": "markdown",
   "metadata": {},
   "source": [
    "Si decide un 80% de descuento para clientes super VIP, debería ser así: Verá, extensión sin modificación."
   ]
  },
  {
   "cell_type": "code",
   "execution_count": 7,
   "metadata": {},
   "outputs": [],
   "source": [
    "class SuperVIPDiscount(VIPDiscount):\n",
    "    def get_discount(self):\n",
    "        return super().get_discount() * 2"
   ]
  }
 ],
 "metadata": {
  "kernelspec": {
   "display_name": "Python 3",
   "language": "python",
   "name": "python3"
  },
  "language_info": {
   "codemirror_mode": {
    "name": "ipython",
    "version": 3
   },
   "file_extension": ".py",
   "mimetype": "text/x-python",
   "name": "python",
   "nbconvert_exporter": "python",
   "pygments_lexer": "ipython3",
   "version": "3.7.3"
  }
 },
 "nbformat": 4,
 "nbformat_minor": 4
}

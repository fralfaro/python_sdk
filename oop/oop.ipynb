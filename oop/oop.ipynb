{
 "cells": [
  {
   "cell_type": "markdown",
   "id": "7991a708",
   "metadata": {},
   "source": [
    "# Introducción\n",
    "\n",
    "La **Programación Orientada a Objetos** (POO u OOP según sus siglas en inglés) tiene sus raíces en la década del 60 con el lenguaje de programación `Simula` que en 1967, el cual fue el primer lenguaje que posee las características principales de un lenguaje orientado a objetos.\n",
    "\n",
    "**Smalltalk** (de 1972 a 1980) es posiblemente el ejemplo canónico, y con el que gran parte de la teoría de la POO se ha desarrollado. Más su uso se popularizó a principios de la década de 1990\n",
    "\n",
    "Este modo o paradigma de programación nos permite organizar el código de una manera que se asemeja bastante a como pensamos en la vida real, utilizando las famosas clases. Estas nos permiten agrupar un conjunto de variables y funciones que veremos a continuación.\n",
    "\n",
    "Cosas de lo más cotidianas como un perro o un coche pueden ser representadas con clases. Estas clases tienen diferentes características, que en el caso del perro podrían ser la edad, el nombre o la raza. Llamaremos a estas características, atributos.\n",
    "\n",
    "Por otro lado, las clases tienen un conjunto de funcionalidades o cosas que pueden hacer. En el caso del perro podría ser andar o ladrar. Llamaremos a estas funcionalidades métodos.\n",
    "\n",
    "Por último, pueden existir diferentes tipos de perro. Podemos tener uno que se llama Toby o el del vecino que se llama Laika. Llamaremos a estos diferentes tipos de perro objetos. Es decir, el concepto abstracto de perro es la clase, pero Toby o cualquier otro perro particular será el objeto.\n",
    "\n",
    "La programación orientada a objetos está basada en 6 principios o pilares básicos:\n",
    "\n",
    "```{tableofcontents}\n",
    "```"
   ]
  }
 ],
 "metadata": {
  "jupytext": {
   "cell_metadata_filter": "-all",
   "main_language": "python",
   "notebook_metadata_filter": "-all",
   "text_representation": {
    "extension": ".md",
    "format_name": "markdown"
   }
  }
 },
 "nbformat": 4,
 "nbformat_minor": 5
}

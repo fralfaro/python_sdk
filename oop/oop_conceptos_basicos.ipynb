{
 "cells": [
  {
   "cell_type": "markdown",
   "metadata": {},
   "source": [
    "# Conceptos básicos\n",
    "\n",
    "## Clases y objetos\n",
    "\n",
    "\n",
    "* Una **clase** es una entidad que define una serie de elementos que determinan un estado (datos) y un comportamiento (operaciones sobre los datos que modifican su estado). \n",
    "\n",
    "\n",
    "* Por su parte, un **objeto** es una concreción o instancia de una clase.\n",
    "\n",
    "Lo primero es crear una clase, para ello usaremos el ejemplo de perro. Para crear una clase se ocupa el comando `class`.\n"
   ]
  },
  {
   "cell_type": "code",
   "execution_count": 1,
   "metadata": {},
   "outputs": [],
   "source": [
    "# Creando una clase vacía\n",
    "class Perro:\n",
    "    pass"
   ]
  },
  {
   "cell_type": "markdown",
   "metadata": {},
   "source": [
    "Se trata de una clase vacía y sin mucha utilidad práctica, pero es la mínima clase que podemos crear. Nótese el uso del pass que no hace realmente nada, pero daría un error si después de los : no tenemos contenido.\n",
    "\n",
    "Ahora que tenemos la **clase**, podemos crear un **objeto** de la misma. Podemos hacerlo como si de una variable normal se tratase. Nombre de la variable igual a la clase con `()`. Dentro de los paréntesis irían los parámetros de entrada si los hubiera."
   ]
  },
  {
   "cell_type": "code",
   "execution_count": 54,
   "metadata": {},
   "outputs": [],
   "source": [
    "# Creamos un objeto de la clase perro\n",
    "mi_perro = Perro()"
   ]
  },
  {
   "cell_type": "markdown",
   "metadata": {},
   "source": [
    "> **Observación**: El nombre de la clase debe comenzar con Mayúscula (Ejemplo: Perro)."
   ]
  },
  {
   "cell_type": "markdown",
   "metadata": {},
   "source": [
    "## Definiendo atributos\n",
    "A continuación vamos a añadir algunos atributos a nuestra clase. Antes de nada es importante distinguir que existen dos tipos de atributos:\n",
    "\n",
    "* **Atributos de instancia**: Pertenecen a la instancia de la clase o al objeto. Son atributos particulares de cada instancia, en nuestro caso de cada perro.\n",
    "* **Atributos de clase**: Se trata de atributos que pertenecen a la clase, por lo tanto serán comunes para todos los objetos.\n",
    "\n",
    "Empecemos creando un par de atributos de instancia para nuestro perro, el nombre y la raza. Para ello creamos un método `__init__` que será llamado automáticamente cuando creemos un objeto. Se trata del **constructor**."
   ]
  },
  {
   "cell_type": "code",
   "execution_count": 3,
   "metadata": {},
   "outputs": [],
   "source": [
    "class Perro:\n",
    "    # El método __init__ es llamado al crear el objeto\n",
    "    def __init__(self, nombre, raza):\n",
    "        print(f\"Creando perro {nombre}, {raza}\")\n",
    "\n",
    "        # Atributos de instancia\n",
    "        self.nombre = nombre\n",
    "        self.raza = raza"
   ]
  },
  {
   "cell_type": "markdown",
   "metadata": {},
   "source": [
    "Ahora que hemos definido el método `__init__` con dos parámetros de entrada, podemos crear el objeto pasando el valor de los atributos. Usando `type()` podemos ver como efectivamente el objeto es de la clase Perro."
   ]
  },
  {
   "cell_type": "code",
   "execution_count": 4,
   "metadata": {},
   "outputs": [
    {
     "name": "stdout",
     "output_type": "stream",
     "text": [
      "Creando perro Toby, Bulldog\n",
      "<class '__main__.Perro'>\n"
     ]
    }
   ],
   "source": [
    "mi_perro = Perro(\"Toby\", \"Bulldog\")\n",
    "print(type(mi_perro))"
   ]
  },
  {
   "cell_type": "markdown",
   "metadata": {},
   "source": [
    "Seguramente te hayas fijado en el `self` que se pasa como parámetro de entrada del método. Es una variable que representa la instancia de la clase, y deberá estar siempre ahí.\n",
    "\n",
    "El uso de `__init__` y el doble `__` no es una coincidencia. Cuando veas un método con esa forma, significa que está reservado para un uso especial del lenguaje. En este caso sería lo que se conoce como constructor. Hay gente que llama a estos **métodos mágicos**.\n",
    "\n",
    "Por último, podemos acceder a los atributos usando el objeto."
   ]
  },
  {
   "cell_type": "code",
   "execution_count": 55,
   "metadata": {},
   "outputs": [
    {
     "ename": "AttributeError",
     "evalue": "'Perro' object has no attribute 'nombre'",
     "output_type": "error",
     "traceback": [
      "\u001b[0;31m---------------------------------------------------------------------------\u001b[0m",
      "\u001b[0;31mAttributeError\u001b[0m                            Traceback (most recent call last)",
      "\u001b[0;32m<ipython-input-55-75ae86c0ae26>\u001b[0m in \u001b[0;36m<module>\u001b[0;34m\u001b[0m\n\u001b[0;32m----> 1\u001b[0;31m \u001b[0mprint\u001b[0m\u001b[0;34m(\u001b[0m\u001b[0mmi_perro\u001b[0m\u001b[0;34m.\u001b[0m\u001b[0mnombre\u001b[0m\u001b[0;34m)\u001b[0m \u001b[0;31m# Toby\u001b[0m\u001b[0;34m\u001b[0m\u001b[0;34m\u001b[0m\u001b[0m\n\u001b[0m\u001b[1;32m      2\u001b[0m \u001b[0mprint\u001b[0m\u001b[0;34m(\u001b[0m\u001b[0mmi_perro\u001b[0m\u001b[0;34m.\u001b[0m\u001b[0mraza\u001b[0m\u001b[0;34m)\u001b[0m   \u001b[0;31m# Bulldog\u001b[0m\u001b[0;34m\u001b[0m\u001b[0;34m\u001b[0m\u001b[0m\n",
      "\u001b[0;31mAttributeError\u001b[0m: 'Perro' object has no attribute 'nombre'"
     ]
    }
   ],
   "source": [
    "print(mi_perro.nombre) # Toby\n",
    "print(mi_perro.raza)   # Bulldog"
   ]
  },
  {
   "cell_type": "markdown",
   "metadata": {},
   "source": [
    "Hasta ahora hemos definido atributos de instancia, ya que son atributos que pertenecen a cada perro concreto. Ahora vamos a definir un atributo de clase, que será común para todos los perros. Por ejemplo, la especie de los perros es algo común para todos los objetos Perro."
   ]
  },
  {
   "cell_type": "code",
   "execution_count": 6,
   "metadata": {},
   "outputs": [],
   "source": [
    "class Perro:\n",
    "    # Atributo de clase\n",
    "    especie = 'mamífero'\n",
    "\n",
    "    # El método __init__ es llamado al crear el objeto\n",
    "    def __init__(self, nombre, raza):\n",
    "        print(f\"Creando perro {nombre}, {raza}\")\n",
    "\n",
    "        # Atributos de instancia\n",
    "        self.nombre = nombre\n",
    "        self.raza = raza"
   ]
  },
  {
   "cell_type": "markdown",
   "metadata": {},
   "source": [
    "Dado que es un atributo de clase, no es necesario crear un objeto para acceder al atributos. Podemos hacer lo siguiente.\n",
    "\n"
   ]
  },
  {
   "cell_type": "code",
   "execution_count": 8,
   "metadata": {},
   "outputs": [
    {
     "name": "stdout",
     "output_type": "stream",
     "text": [
      "mamífero\n"
     ]
    }
   ],
   "source": [
    "print(Perro.especie)"
   ]
  },
  {
   "cell_type": "markdown",
   "metadata": {},
   "source": [
    "Se puede acceder también al atributo de clase desde el objeto.\n",
    "\n"
   ]
  },
  {
   "cell_type": "code",
   "execution_count": 9,
   "metadata": {},
   "outputs": [
    {
     "name": "stdout",
     "output_type": "stream",
     "text": [
      "Creando perro Toby, Bulldog\n"
     ]
    },
    {
     "data": {
      "text/plain": [
       "'mamífero'"
      ]
     },
     "execution_count": 9,
     "metadata": {},
     "output_type": "execute_result"
    }
   ],
   "source": [
    "mi_perro = Perro(\"Toby\", \"Bulldog\")\n",
    "mi_perro.especie"
   ]
  },
  {
   "cell_type": "markdown",
   "metadata": {},
   "source": [
    "De esta manera, todos los objetos que se creen de la clase perro compartirán ese atributo de clase, ya que pertenecen a la misma.\n",
    "\n"
   ]
  },
  {
   "cell_type": "markdown",
   "metadata": {},
   "source": [
    "## Definiendo métodos\n",
    "\n",
    "Los **métodos** son las funciones que se definen dentro de una clase y que, por consiguiente, pueden ser referenciadas por los objetos de dicha clase.\n",
    "\n",
    "Vamos a codificar dos métodos, `ladrar` y `caminar`. El primero no recibirá ningún parámetro y el segundo recibirá el número de pasos que queremos andar. Como hemos indicado anteriormente `self` hace referencia a la instancia de la clase. Se puede definir un método con `def` y el nombre, y entre `()` los parámetros de entrada que recibe, donde siempre tendrá que estar `self` el primero."
   ]
  },
  {
   "cell_type": "code",
   "execution_count": 10,
   "metadata": {},
   "outputs": [],
   "source": [
    "class Perro:\n",
    "    # Atributo de clase\n",
    "    especie = 'mamífero'\n",
    "\n",
    "    # El método __init__ es llamado al crear el objeto\n",
    "    def __init__(self, nombre, raza):\n",
    "        print(f\"Creando perro {nombre}, {raza}\")\n",
    "\n",
    "        # Atributos de instancia\n",
    "        self.nombre = nombre\n",
    "        self.raza = raza\n",
    "\n",
    "    def ladra(self):\n",
    "        print(\"Guau\")\n",
    "\n",
    "    def camina(self, pasos):\n",
    "        print(f\"Caminando {pasos} pasos\")"
   ]
  },
  {
   "cell_type": "markdown",
   "metadata": {},
   "source": [
    "Por lo tanto si creamos un objeto `mi_perro`, podremos hacer uso de sus métodos llamándolos con `.` y el nombre del método. Como si de una función se tratase, pueden recibir y devolver argumentos."
   ]
  },
  {
   "cell_type": "code",
   "execution_count": 56,
   "metadata": {},
   "outputs": [
    {
     "ename": "TypeError",
     "evalue": "Perro() takes no arguments",
     "output_type": "error",
     "traceback": [
      "\u001b[0;31m---------------------------------------------------------------------------\u001b[0m",
      "\u001b[0;31mTypeError\u001b[0m                                 Traceback (most recent call last)",
      "\u001b[0;32m<ipython-input-56-8f9b248109d4>\u001b[0m in \u001b[0;36m<module>\u001b[0;34m\u001b[0m\n\u001b[0;32m----> 1\u001b[0;31m \u001b[0mmi_perro\u001b[0m \u001b[0;34m=\u001b[0m \u001b[0mPerro\u001b[0m\u001b[0;34m(\u001b[0m\u001b[0;34m\"Toby\"\u001b[0m\u001b[0;34m,\u001b[0m \u001b[0;34m\"Bulldog\"\u001b[0m\u001b[0;34m)\u001b[0m\u001b[0;34m\u001b[0m\u001b[0;34m\u001b[0m\u001b[0m\n\u001b[0m\u001b[1;32m      2\u001b[0m \u001b[0mmi_perro\u001b[0m\u001b[0;34m.\u001b[0m\u001b[0mladra\u001b[0m\u001b[0;34m(\u001b[0m\u001b[0;34m)\u001b[0m\u001b[0;34m\u001b[0m\u001b[0;34m\u001b[0m\u001b[0m\n\u001b[1;32m      3\u001b[0m \u001b[0mmi_perro\u001b[0m\u001b[0;34m.\u001b[0m\u001b[0mcamina\u001b[0m\u001b[0;34m(\u001b[0m\u001b[0;36m10\u001b[0m\u001b[0;34m)\u001b[0m\u001b[0;34m\u001b[0m\u001b[0;34m\u001b[0m\u001b[0m\n",
      "\u001b[0;31mTypeError\u001b[0m: Perro() takes no arguments"
     ]
    }
   ],
   "source": [
    "mi_perro = Perro(\"Toby\", \"Bulldog\")\n",
    "mi_perro.ladra()\n",
    "mi_perro.camina(10)"
   ]
  },
  {
   "cell_type": "markdown",
   "metadata": {},
   "source": [
    "### Tipos de métodos\n",
    "\n",
    "Hemos visto como se pueden crear métodos con def dentro de una clase, pudiendo recibir parámetros como entrada y modificar el estado (como los atributos) de la instancia. Pues bien, haciendo uso de los decoradores, es posible crear diferentes tipos de métodos:\n",
    "\n",
    "* Lo métodos de instancia “normales” que ya hemos visto como metodo()\n",
    "* Métodos de clase usando el decorador `@classmethod`\n",
    "* Y métodos estáticos usando el decorador `@staticmethod`\n",
    "\n",
    "En la siguiente clase tenemos un ejemplo donde definimos los tres tipos de métodos."
   ]
  },
  {
   "cell_type": "code",
   "execution_count": 61,
   "metadata": {},
   "outputs": [],
   "source": [
    "class Clase:\n",
    "    def metodo(self):\n",
    "        return 'Método normal', self\n",
    "\n",
    "    @classmethod\n",
    "    def metododeclase(cls):\n",
    "        return 'Método de clase', cls\n",
    "\n",
    "    @staticmethod\n",
    "    def metodoestatico():\n",
    "        return \"Método estático\""
   ]
  },
  {
   "cell_type": "markdown",
   "metadata": {},
   "source": [
    "#### **Métodos de instancia**\n",
    "\n",
    "Los **métodos de instancia** son los métodos normales, de toda la vida, que hemos visto anteriormente. Reciben como parámetro de entrada `self` que hace referencia a la instancia que llama al método. También pueden recibir otros argumentos como entrada.\n"
   ]
  },
  {
   "cell_type": "code",
   "execution_count": 62,
   "metadata": {},
   "outputs": [],
   "source": [
    "class Clase:\n",
    "    def metodo(self, arg1, arg2):\n",
    "        return 'Método normal', self"
   ]
  },
  {
   "cell_type": "markdown",
   "metadata": {},
   "source": [
    "Y como ya sabemos, una vez creado un objeto pueden ser llamados.\n",
    "\n"
   ]
  },
  {
   "cell_type": "code",
   "execution_count": 63,
   "metadata": {},
   "outputs": [
    {
     "data": {
      "text/plain": [
       "('Método normal', <__main__.Clase at 0x7f890c6465e0>)"
      ]
     },
     "execution_count": 63,
     "metadata": {},
     "output_type": "execute_result"
    }
   ],
   "source": [
    "mi_clase = Clase()\n",
    "mi_clase.metodo(\"a\", \"b\")"
   ]
  },
  {
   "cell_type": "markdown",
   "metadata": {},
   "source": [
    "En vista a esto, los métodos de instancia:\n",
    "\n",
    "* Pueden acceder y modificar los atributos del objeto.\n",
    "* Pueden acceder a otros métodos.\n",
    "* Dado que desde el objeto self se puede acceder a la clase con ` self.class`, también pueden modificar el estado de la clase\n"
   ]
  },
  {
   "cell_type": "markdown",
   "metadata": {},
   "source": [
    "#### **Métodos de clase**\n",
    "\n",
    "A diferencia de los métodos de instancia, los **métodos de clase** reciben como argumento `cls`, que hace referencia a la clase. Por lo tanto, pueden acceder a la clase pero no a la instancia."
   ]
  },
  {
   "cell_type": "code",
   "execution_count": 64,
   "metadata": {},
   "outputs": [],
   "source": [
    "class Clase:\n",
    "    @classmethod\n",
    "    def metododeclase(cls):\n",
    "        return 'Método de clase', cls"
   ]
  },
  {
   "cell_type": "markdown",
   "metadata": {},
   "source": [
    "Se pueden llamar sobre la clase.\n",
    "\n"
   ]
  },
  {
   "cell_type": "code",
   "execution_count": 65,
   "metadata": {},
   "outputs": [
    {
     "data": {
      "text/plain": [
       "('Método de clase', __main__.Clase)"
      ]
     },
     "execution_count": 65,
     "metadata": {},
     "output_type": "execute_result"
    }
   ],
   "source": [
    "Clase.metododeclase()\n"
   ]
  },
  {
   "cell_type": "markdown",
   "metadata": {},
   "source": [
    "Pero también se pueden llamar sobre el objeto.\n",
    "\n"
   ]
  },
  {
   "cell_type": "code",
   "execution_count": 67,
   "metadata": {},
   "outputs": [
    {
     "data": {
      "text/plain": [
       "('Método de clase', __main__.Clase)"
      ]
     },
     "execution_count": 67,
     "metadata": {},
     "output_type": "execute_result"
    }
   ],
   "source": [
    "mi_clase = Clase()\n",
    "mi_clase.metododeclase()"
   ]
  },
  {
   "cell_type": "markdown",
   "metadata": {},
   "source": [
    "Por lo tanto, los métodos de clase:\n",
    "\n",
    "* No pueden acceder a los atributos de la instancia.\n",
    "* Pero si pueden modificar los atributos de la clase.\n",
    "\n",
    "#### **Métodos estáticos**\n",
    "\n",
    "\n",
    "Los **métodos estáticos** se pueden definir con el decorador `@staticmethod` y no aceptan como parámetro ni la instancia ni la clase. Es por ello por lo que no pueden modificar el estado ni de la clase ni de la instancia. Pero por supuesto pueden aceptar parámetros de entrada."
   ]
  },
  {
   "cell_type": "code",
   "execution_count": 41,
   "metadata": {},
   "outputs": [],
   "source": [
    "class Clase:\n",
    "    @staticmethod\n",
    "    def metodoestatico():\n",
    "        return \"Método estático\""
   ]
  },
  {
   "cell_type": "code",
   "execution_count": 42,
   "metadata": {},
   "outputs": [
    {
     "data": {
      "text/plain": [
       "'Método estático'"
      ]
     },
     "execution_count": 42,
     "metadata": {},
     "output_type": "execute_result"
    }
   ],
   "source": [
    "mi_clase = Clase()\n",
    "Clase.metodoestatico()\n",
    "mi_clase.metodoestatico()"
   ]
  },
  {
   "cell_type": "markdown",
   "metadata": {},
   "source": [
    "Por lo tanto el uso de los métodos estáticos pueden resultar útil para indicar que un método no modificará el estado de la instancia ni de la clase. Es cierto que se podría hacer lo mismo con un método de instancia por ejemplo, pero a veces resulta importante indicar de alguna manera estas peculiaridades, evitando así futuros problemas y malentendidos.\n",
    "\n",
    "En otras palabras, los métodos estáticos se podrían ver como funciones normales, con la salvedad de que van ligadas a una clase concreta."
   ]
  },
  {
   "cell_type": "markdown",
   "metadata": {},
   "source": [
    "## Ejercicios\n",
    "\n",
    "### Ejercicio 01\n",
    "\n",
    "Crear una clase denomina `Coche` que cumpla los siguientes aspectos:\n",
    "\n",
    "* Atributo de clase `rueda` igual a 4.\n",
    "* Atributos de instancias `color`, `aceleracion` y `velocidad`. Pero que la velocidad sea igual a un valor contante 0.\n",
    "* Definir método `acelera`, que dé como salida la velocidad más la aceleración.\n",
    "* Definir método `frena`, que dé como salida la velocidad menos la aceleración (si el resultado es menor que 0, retorno el valor 0).\n",
    "\n",
    "Finalmente, cree el objeto `coche_01` que tenga como argumentos color `rojo` y aceleración `20`. Pruebe los atributos y métodos asociados a esta clase.\n"
   ]
  },
  {
   "cell_type": "code",
   "execution_count": 1,
   "metadata": {},
   "outputs": [],
   "source": [
    "# crear clase Coche\n",
    "class Coche:\n",
    "    \"\"\"\n",
    "    Esta clase define el estado y el comportamiento de un coche\n",
    "    \"\"\"\n",
    "    \n",
    "    ruedas = None\n",
    "    \n",
    "    def __init__(self, color,aceleracion):\n",
    "        self.color = None\n",
    "        self.aceleracion = None\n",
    "        self.velocidad = None\n",
    "        \n",
    "    def acelera(self):\n",
    "        pass\n",
    "    \n",
    "    def frena(self):\n",
    "        pass"
   ]
  },
  {
   "cell_type": "code",
   "execution_count": 12,
   "metadata": {},
   "outputs": [],
   "source": [
    "# crear objeto de la clase Coche\n",
    "coche_01 = None"
   ]
  },
  {
   "cell_type": "markdown",
   "metadata": {},
   "source": [
    "Atributos y métodos de la clase `Coche`"
   ]
  },
  {
   "cell_type": "code",
   "execution_count": 11,
   "metadata": {},
   "outputs": [],
   "source": [
    "# ruedas\n",
    "#coche_01.ruedas"
   ]
  },
  {
   "cell_type": "code",
   "execution_count": null,
   "metadata": {},
   "outputs": [],
   "source": [
    "# color\n",
    "#coche_01.color"
   ]
  },
  {
   "cell_type": "code",
   "execution_count": null,
   "metadata": {},
   "outputs": [],
   "source": [
    "# aceleracion\n",
    "#coche_01.aceleracion"
   ]
  },
  {
   "cell_type": "code",
   "execution_count": null,
   "metadata": {},
   "outputs": [],
   "source": [
    "# velocidad\n",
    "#coche_01.velocidad"
   ]
  },
  {
   "cell_type": "code",
   "execution_count": null,
   "metadata": {},
   "outputs": [],
   "source": [
    "# metodo frena\n",
    "#coche_01.acelera()\n",
    "#coche_01.velocidad"
   ]
  },
  {
   "cell_type": "code",
   "execution_count": null,
   "metadata": {},
   "outputs": [],
   "source": [
    "# metodo frena\n",
    "#coche_01.frena()\n",
    "#coche_01.velocidad"
   ]
  }
 ],
 "metadata": {
  "kernelspec": {
   "display_name": "Python 3",
   "language": "python",
   "name": "python3"
  },
  "language_info": {
   "codemirror_mode": {
    "name": "ipython",
    "version": 3
   },
   "file_extension": ".py",
   "mimetype": "text/x-python",
   "name": "python",
   "nbconvert_exporter": "python",
   "pygments_lexer": "ipython3",
   "version": "3.8.3"
  }
 },
 "nbformat": 4,
 "nbformat_minor": 4
}

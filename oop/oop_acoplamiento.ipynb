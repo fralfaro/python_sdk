{
 "cells": [
  {
   "cell_type": "markdown",
   "metadata": {},
   "source": [
    "# Acoplamiento en programación\n",
    "\n",
    "El **acoplamiento** en programación (denominado coupling en Inglés) es un concepto que mide la dependencia entre dos módulos distintos de software, como pueden ser por ejemplo las clases. El acoplamiento puede ser de dos tipos:\n",
    "\n",
    "* **Acoplamiento débil**, que indica que no existe dependencia de un módulo con otros. Esto debería ser la meta de nuestro software.\n",
    "* **Acoplamiento fuerte**, que por lo contrario indica que un módulo tiene dependencias internas con otros.\n",
    "\n",
    "\n",
    "El término acoplamiento está muy relacionado con la cohesión, ya que acoplamiento débil suele ir ligado a cohesión fuerte. En general lo que buscamos en nuestro código es que tenga acoplamiento débil y cohesión fuerte, es decir, que no tenga dependencias con otros módulos y que las tareas que realiza estén relacionadas entre sí. \n",
    "\n",
    "Si aún no te hemos convencido de porque buscamos código débilmente acoplado, veamos lo que pasaría con un código fuertemente acoplado:\n",
    "\n",
    "* Debido a las dependencias con otros módulo, un cambio en un modulo ajeno al nuestro podría tener un “efecto mariposa” en nuestro código, aún sin haber modificado directamente nuestro módulo.\n",
    "\n",
    "* Si un módulo tiene dependencias con otros, reduce la reusabilidad, ya que para reusarlo deberíamos copiar también las dependencias.\n",
    "\n",
    "Veamos un ejemplo usando clases y objetos en Python. Tenemos una `Clase1` que define un atributo de `clase x`. Por otro lado la `Clase2` basa el comportamiento del método `mi_metodo()` en el valor de `x` de la `Clase1`. En este ejemplo existe acoplamiento fuerte, ya que existe una dependencia con una variable de otro módulo."
   ]
  },
  {
   "cell_type": "code",
   "execution_count": 116,
   "metadata": {},
   "outputs": [
    {
     "data": {
      "text/plain": [
       "'Hola'"
      ]
     },
     "execution_count": 116,
     "metadata": {},
     "output_type": "execute_result"
    }
   ],
   "source": [
    "class Clase1:\n",
    "    x = True\n",
    "    pass\n",
    "\n",
    "class Clase2:\n",
    "    def mi_metodo(self, valor):\n",
    "        if Clase1.x:\n",
    "            self.valor = valor\n",
    "\n",
    "mi_clase = Clase2()\n",
    "mi_clase.mi_metodo(\"Hola\")\n",
    "mi_clase.valor"
   ]
  },
  {
   "cell_type": "markdown",
   "metadata": {},
   "source": [
    "Puede parecer un ejemplo trivial, pero cuando el software se va complicando, no es nada raro acabar haciendo cosas de este tipo casi sin darnos cuenta. Hay veces que dependencias externas pueden estar justificadas, pero hay que estar muy seguro de lo que se hace.\n",
    "\n",
    "Este tipo de dependencias también puede hacer el código muy difícil de depurar. Imaginemos que nuestro código de la `Clase2` funciona perfectamente, pero de repente alguien hace un cambio en la `Clase1`. Un cambio tan sencillo como el siguiente."
   ]
  },
  {
   "cell_type": "code",
   "execution_count": 117,
   "metadata": {},
   "outputs": [],
   "source": [
    "Clase1.x = False"
   ]
  },
  {
   "cell_type": "markdown",
   "metadata": {},
   "source": [
    "Este cambio estaría modificando el comportamiento de nuestra clase y nos preguntaríamos ¿porqué ha dejado de funcionar mi código si no he tocado nada? A veces atribuimos estos comportamientos a la magia o radiación cósmica, pero simplemente tenemos código con acoplamiento fuerte."
   ]
  },
  {
   "cell_type": "markdown",
   "metadata": {},
   "source": [
    "## Ejercicios\n",
    "\n",
    "### Ejercicio 01\n",
    "\n",
    "Considere el siguiente ejemplo:\n"
   ]
  },
  {
   "cell_type": "code",
   "execution_count": 2,
   "metadata": {},
   "outputs": [],
   "source": [
    "class Clase1:\n",
    "    x = True\n",
    "    pass\n",
    "\n",
    "class Clase2:\n",
    "    def mi_metodo(self, valor):\n",
    "        if Clase1.x:\n",
    "            self.valor = valor"
   ]
  },
  {
   "cell_type": "markdown",
   "metadata": {},
   "source": [
    "De lo explicado anteriormente, se sabe que en este código existe un **acoplamiento fuerte**. Reescribe el código anterior para pasar de un **acoplamiento fuerte** a un **acoplamiento débil**. "
   ]
  }
 ],
 "metadata": {
  "kernelspec": {
   "display_name": "Python 3",
   "language": "python",
   "name": "python3"
  },
  "language_info": {
   "codemirror_mode": {
    "name": "ipython",
    "version": 3
   },
   "file_extension": ".py",
   "mimetype": "text/x-python",
   "name": "python",
   "nbconvert_exporter": "python",
   "pygments_lexer": "ipython3",
   "version": "3.8.5"
  }
 },
 "nbformat": 4,
 "nbformat_minor": 4
}

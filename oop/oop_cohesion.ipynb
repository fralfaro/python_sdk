{
 "cells": [
  {
   "cell_type": "markdown",
   "metadata": {},
   "source": [
    "# Cohesión \n",
    "La **cohesión** hace referencia al grado de relación entre los elementos de un módulo. En el diseño de una función, es importante pensar bien la tarea que va a realizar, intentando que sea única y bien definida. Cuantas más cosas diferentes haga una función sin relación entre sí, más complicado será el código de entender. Existen por lo tanto dos tipos de cohesión:\n",
    "\n",
    " * La **cohesión débil** que indica que la relación entre los elementos es baja. Es decir, no pertenecen a una única funcionalidad.\n",
    " * La **cohesión fuerte**, que debe ser nuestro objetivo al diseñar programas. La cohesión fuerte indica que existe una alta relación entre los elementos existentes dentro del módulo.\n",
    "\n",
    "\n",
    "Veámoslo con un ejemplo. Tenemos una función `suma()` que suma dos números. El problema es que además de sumar dos números, los convierte a `float()` y además pide al usuario que introduzca por pantalla el número. Podría parecer que esas otras dos funcionalidades no son para tanto, pero si por ejemplo una persona quiere usar nuestra función `suma()` pero ya tiene los números y no quiere pedirlos por pantalla, no le serviría nuestra función."
   ]
  },
  {
   "cell_type": "code",
   "execution_count": 10,
   "metadata": {},
   "outputs": [],
   "source": [
    "# Mal. Cohesión débil\n",
    "def suma():\n",
    "    num1 = float(input(\"Dame primer número\") or 42) \n",
    "    num2 = float(input(\"Dame segundo número\") or 12) \n",
    "    suma = num1 + num2\n",
    "    print(suma)"
   ]
  },
  {
   "cell_type": "code",
   "execution_count": 11,
   "metadata": {},
   "outputs": [
    {
     "name": "stdout",
     "output_type": "stream",
     "text": [
      "Dame primer número\n",
      "Dame segundo número\n",
      "54.0\n"
     ]
    }
   ],
   "source": [
    "suma()"
   ]
  },
  {
   "cell_type": "markdown",
   "metadata": {},
   "source": [
    "Para que la función tuviese una cohesión fuerte, sería conveniente que la suma realizara una única tarea bien definida, que es sumar.\n",
    "\n"
   ]
  },
  {
   "cell_type": "code",
   "execution_count": 94,
   "metadata": {},
   "outputs": [],
   "source": [
    "# Bien. Cohesión fuerte\n",
    "def suma(numeros):\n",
    "    total = 0\n",
    "    for i in numeros:\n",
    "        total = total + i\n",
    "    return total"
   ]
  },
  {
   "cell_type": "markdown",
   "metadata": {},
   "source": [
    "Evidentemente un ejemplo tan sencillo como el explicado no tiene implicaciones demasiado graves, pero es importante buscar que las funciones realicen una única tarea (o conjunto) pero relacionadas entre sí. Diseñar código con cohesión fuerte nos permite:\n",
    "\n",
    " * Reducir la complejidad del módulo, ya que tendrá un menor número de operaciones.\n",
    " * Se podrá reutilizar los módulos más fácilmente\n",
    " * El sistema será más fácilmente mantenible."
   ]
  }
 ],
 "metadata": {
  "kernelspec": {
   "display_name": "Python 3",
   "language": "python",
   "name": "python3"
  },
  "language_info": {
   "codemirror_mode": {
    "name": "ipython",
    "version": 3
   },
   "file_extension": ".py",
   "mimetype": "text/x-python",
   "name": "python",
   "nbconvert_exporter": "python",
   "pygments_lexer": "ipython3",
   "version": "3.8.3"
  }
 },
 "nbformat": 4,
 "nbformat_minor": 4
}

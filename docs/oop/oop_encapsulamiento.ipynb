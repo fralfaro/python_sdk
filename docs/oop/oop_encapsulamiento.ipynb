{
 "cells": [
  {
   "cell_type": "markdown",
   "metadata": {},
   "source": [
    "# Encapsulamiento \n",
    "\n",
    "El **encapsulamiento** hace referencia al ocultamiento de los estado internos de una clase al exterior. Dicho de otra manera, encapsular consiste en hacer que los atributos o métodos internos a una clase no se puedan acceder ni modificar desde fuera, sino que tan solo el propio objeto pueda acceder a ellos.\n",
    "\n",
    "Para la gente que conozca **Java**, le resultará un termino muy familiar, pero en Python es algo distinto. Digamos que Python por defecto no oculta los atributos y métodos de una clase al exterior. Veamos un ejemplo con el lenguaje Python."
   ]
  },
  {
   "cell_type": "code",
   "execution_count": null,
   "metadata": {},
   "outputs": [],
   "source": [
    "class Clase:\n",
    "    atributo_clase = \"Hola\"\n",
    "    def __init__(self, atributo_instancia):\n",
    "        self.atributo_instancia = atributo_instancia"
   ]
  },
  {
   "cell_type": "code",
   "execution_count": 119,
   "metadata": {},
   "outputs": [],
   "source": [
    "mi_clase = Clase(\"Que tal\")"
   ]
  },
  {
   "cell_type": "code",
   "execution_count": 120,
   "metadata": {},
   "outputs": [
    {
     "data": {
      "text/plain": [
       "'Hola'"
      ]
     },
     "execution_count": 120,
     "metadata": {},
     "output_type": "execute_result"
    }
   ],
   "source": [
    "mi_clase.atributo_clase"
   ]
  },
  {
   "cell_type": "code",
   "execution_count": 121,
   "metadata": {},
   "outputs": [
    {
     "data": {
      "text/plain": [
       "'Que tal'"
      ]
     },
     "execution_count": 121,
     "metadata": {},
     "output_type": "execute_result"
    }
   ],
   "source": [
    "mi_clase.atributo_instancia"
   ]
  },
  {
   "cell_type": "markdown",
   "metadata": {},
   "source": [
    "Ambos atributos son perfectamente accesibles desde el exterior. Sin embargo esto es algo que tal vez no queramos. Hay ciertos métodos o atributos que queremos que pertenezcan sólo a la clase o al objeto, y que sólo puedan ser accedidos por los mismos. Para ello podemos usar la doble `__` para nombrar a un atributo o método. Esto hará que Python los interprete como **privados**, de manera que no podrán ser accedidos desde el exterior."
   ]
  },
  {
   "cell_type": "code",
   "execution_count": 122,
   "metadata": {},
   "outputs": [],
   "source": [
    "class Clase:\n",
    "    atributo_clase = \"Hola\"   # Accesible desde el exterior\n",
    "    __atributo_clase = \"Hola\" # No accesible\n",
    "\n",
    "    # No accesible desde el exterior\n",
    "    def __mi_metodo(self):\n",
    "        print(\"Haz algo\")\n",
    "        self.__variable = 0\n",
    "\n",
    "    # Accesible desde el exterior\n",
    "    def metodo_normal(self):\n",
    "        # El método si es accesible desde el interior\n",
    "        self.__mi_metodo()"
   ]
  },
  {
   "cell_type": "code",
   "execution_count": 123,
   "metadata": {},
   "outputs": [
    {
     "ename": "AttributeError",
     "evalue": "'Clase' object has no attribute '__atributo_clase'",
     "output_type": "error",
     "traceback": [
      "\u001b[0;31m---------------------------------------------------------------------------\u001b[0m",
      "\u001b[0;31mAttributeError\u001b[0m                            Traceback (most recent call last)",
      "\u001b[0;32m<ipython-input-123-032bf986b5b0>\u001b[0m in \u001b[0;36m<module>\u001b[0;34m\u001b[0m\n\u001b[1;32m      1\u001b[0m \u001b[0mmi_clase\u001b[0m \u001b[0;34m=\u001b[0m \u001b[0mClase\u001b[0m\u001b[0;34m(\u001b[0m\u001b[0;34m)\u001b[0m\u001b[0;34m\u001b[0m\u001b[0;34m\u001b[0m\u001b[0m\n\u001b[0;32m----> 2\u001b[0;31m \u001b[0mmi_clase\u001b[0m\u001b[0;34m.\u001b[0m\u001b[0m__atributo_clase\u001b[0m  \u001b[0;31m# Error! El atributo no es accesible\u001b[0m\u001b[0;34m\u001b[0m\u001b[0;34m\u001b[0m\u001b[0m\n\u001b[0m",
      "\u001b[0;31mAttributeError\u001b[0m: 'Clase' object has no attribute '__atributo_clase'"
     ]
    }
   ],
   "source": [
    "mi_clase = Clase()\n",
    "mi_clase.__atributo_clase  # Error! El atributo no es accesible"
   ]
  },
  {
   "cell_type": "code",
   "execution_count": 124,
   "metadata": {},
   "outputs": [
    {
     "ename": "AttributeError",
     "evalue": "'Clase' object has no attribute '__mi_metodo'",
     "output_type": "error",
     "traceback": [
      "\u001b[0;31m---------------------------------------------------------------------------\u001b[0m",
      "\u001b[0;31mAttributeError\u001b[0m                            Traceback (most recent call last)",
      "\u001b[0;32m<ipython-input-124-d565976117bf>\u001b[0m in \u001b[0;36m<module>\u001b[0;34m\u001b[0m\n\u001b[0;32m----> 1\u001b[0;31m \u001b[0mmi_clase\u001b[0m\u001b[0;34m.\u001b[0m\u001b[0m__mi_metodo\u001b[0m\u001b[0;34m(\u001b[0m\u001b[0;34m)\u001b[0m     \u001b[0;31m# Error! El método no es accesible\u001b[0m\u001b[0;34m\u001b[0m\u001b[0;34m\u001b[0m\u001b[0m\n\u001b[0m",
      "\u001b[0;31mAttributeError\u001b[0m: 'Clase' object has no attribute '__mi_metodo'"
     ]
    }
   ],
   "source": [
    "mi_clase.__mi_metodo()     # Error! El método no es accesible"
   ]
  },
  {
   "cell_type": "code",
   "execution_count": 126,
   "metadata": {},
   "outputs": [
    {
     "data": {
      "text/plain": [
       "'Hola'"
      ]
     },
     "execution_count": 126,
     "metadata": {},
     "output_type": "execute_result"
    }
   ],
   "source": [
    "mi_clase.atributo_clase     # Ok!"
   ]
  },
  {
   "cell_type": "code",
   "execution_count": 127,
   "metadata": {},
   "outputs": [
    {
     "name": "stdout",
     "output_type": "stream",
     "text": [
      "Haz algo\n"
     ]
    }
   ],
   "source": [
    "mi_clase.metodo_normal()    # Ok!"
   ]
  },
  {
   "cell_type": "markdown",
   "metadata": {},
   "source": [
    "Y como curiosidad, podemos hacer uso de dir para ver el listado de métodos y atributos de nuestra clase. Podemos ver claramente como tenemos el metodo_normal y el atributo de clase, pero no podemos encontrar `__mi_metodo` ni `__atributo_clase`."
   ]
  },
  {
   "cell_type": "code",
   "execution_count": 129,
   "metadata": {},
   "outputs": [
    {
     "name": "stdout",
     "output_type": "stream",
     "text": [
      "['_Clase__atributo_clase', '_Clase__mi_metodo', '_Clase__variable', '__class__', '__delattr__', '__dict__', '__dir__', '__doc__', '__eq__', '__format__', '__ge__', '__getattribute__', '__gt__', '__hash__', '__init__', '__init_subclass__', '__le__', '__lt__', '__module__', '__ne__', '__new__', '__reduce__', '__reduce_ex__', '__repr__', '__setattr__', '__sizeof__', '__str__', '__subclasshook__', '__weakref__', 'atributo_clase', 'metodo_normal']\n"
     ]
    }
   ],
   "source": [
    "print(dir(mi_clase))"
   ]
  },
  {
   "cell_type": "markdown",
   "metadata": {},
   "source": [
    "Pues bien, en realidad si que podríamos acceder a `__atributo_clase` y a `__mi_metodo` haciendo un poco de trampa. Aunque no se vea a simple vista, si que están pero con un nombre distinto, para de alguna manera ocultarlos y evitar su uso. Pero podemos llamarlos de la siguiente manera, pero por lo general no es una buena idea."
   ]
  },
  {
   "cell_type": "code",
   "execution_count": 131,
   "metadata": {},
   "outputs": [
    {
     "data": {
      "text/plain": [
       "'Hola'"
      ]
     },
     "execution_count": 131,
     "metadata": {},
     "output_type": "execute_result"
    }
   ],
   "source": [
    "mi_clase._Clase__atributo_clase"
   ]
  },
  {
   "cell_type": "code",
   "execution_count": 132,
   "metadata": {},
   "outputs": [
    {
     "name": "stdout",
     "output_type": "stream",
     "text": [
      "Haz algo\n"
     ]
    }
   ],
   "source": [
    "mi_clase._Clase__mi_metodo()"
   ]
  },
  {
   "cell_type": "markdown",
   "metadata": {},
   "source": [
    "## Decoradores\n",
    "\n",
    "**Decorador Property**\n",
    "\n",
    "El decorador `@property`, que viene por defecto con Python, y puede ser usado para modificar un método para que sea un atributo o propiedad.  El decorador puede ser usado sobre un método, que hará que actúe como si fuera un atributo."
   ]
  },
  {
   "cell_type": "code",
   "execution_count": 133,
   "metadata": {},
   "outputs": [],
   "source": [
    "class Clase:\n",
    "    def __init__(self, mi_atributo):\n",
    "        self.__mi_atributo = mi_atributo\n",
    "\n",
    "    @property\n",
    "    def mi_atributo(self):\n",
    "        return self.__mi_atributo\n",
    "        "
   ]
  },
  {
   "cell_type": "markdown",
   "metadata": {},
   "source": [
    "Como si de un atributo normal se tratase, podemos acceder a el con el objeto . y nombre."
   ]
  },
  {
   "cell_type": "code",
   "execution_count": 134,
   "metadata": {},
   "outputs": [
    {
     "data": {
      "text/plain": [
       "'valor_atributo'"
      ]
     },
     "execution_count": 134,
     "metadata": {},
     "output_type": "execute_result"
    }
   ],
   "source": [
    "mi_clase = Clase(\"valor_atributo\")\n",
    "mi_clase.mi_atributo\n",
    "# 'valor_atributo'"
   ]
  },
  {
   "cell_type": "markdown",
   "metadata": {},
   "source": [
    "Muy importante notar que aunque `mi_atributo` pueda parecer un método, en realidad no lo es, por lo que no puede ser llamado con `().`"
   ]
  },
  {
   "cell_type": "code",
   "execution_count": 135,
   "metadata": {},
   "outputs": [
    {
     "ename": "TypeError",
     "evalue": "'str' object is not callable",
     "output_type": "error",
     "traceback": [
      "\u001b[0;31m---------------------------------------------------------------------------\u001b[0m",
      "\u001b[0;31mTypeError\u001b[0m                                 Traceback (most recent call last)",
      "\u001b[0;32m<ipython-input-135-e6068a9fee20>\u001b[0m in \u001b[0;36m<module>\u001b[0;34m\u001b[0m\n\u001b[0;32m----> 1\u001b[0;31m \u001b[0mmi_clase\u001b[0m\u001b[0;34m.\u001b[0m\u001b[0mmi_atributo\u001b[0m\u001b[0;34m(\u001b[0m\u001b[0;34m)\u001b[0m \u001b[0;31m# Error! Es un atributo, no un método\u001b[0m\u001b[0;34m\u001b[0m\u001b[0;34m\u001b[0m\u001b[0m\n\u001b[0m",
      "\u001b[0;31mTypeError\u001b[0m: 'str' object is not callable"
     ]
    }
   ],
   "source": [
    "mi_clase.mi_atributo() # Error! Es un atributo, no un método"
   ]
  },
  {
   "cell_type": "markdown",
   "metadata": {},
   "source": [
    "Tal vez te preguntes para que sirve esto, ya que el siguiente código hace exactamente lo mismo sin hacer uso de decoradores."
   ]
  },
  {
   "cell_type": "code",
   "execution_count": 137,
   "metadata": {},
   "outputs": [
    {
     "data": {
      "text/plain": [
       "'valor_atributo'"
      ]
     },
     "execution_count": 137,
     "metadata": {},
     "output_type": "execute_result"
    }
   ],
   "source": [
    "class Clase:\n",
    "    def __init__(self, mi_atributo):\n",
    "        self.mi_atributo = mi_atributo\n",
    "\n",
    "mi_clase = Clase(\"valor_atributo\")\n",
    "mi_clase.mi_atributo"
   ]
  },
  {
   "cell_type": "markdown",
   "metadata": {},
   "source": [
    "Bien, la explicación no es sencilla, pero está relacionada con el concepto de encapsulación de la programación orientada a objetos. Este concepto nos indica que en determinadas ocasiones es importante ocultar el estado interno de los objetos al exterior, para evitar que sean modificados de manera incorrecta. Para la gente que venga del mundo de **Java**, esto no será nada nuevo, y está muy relacionado con los métodos `set()` y `get()` que veremos a continuación.\n",
    "\n",
    "La primera diferencia que vemos entre los códigos anteriores es el uso de `__` antes de `mi_atributo`. Cuando nombramos una variable de esta manera, es una forma de decirle a Python que queremos que se “oculte” y que no pueda ser accedida como el resto de atributos."
   ]
  },
  {
   "cell_type": "code",
   "execution_count": null,
   "metadata": {},
   "outputs": [],
   "source": [
    "class Clase:\n",
    "    def __init__(self, mi_atributo):\n",
    "        self.__mi_atributo = mi_atributo\n",
    "\n",
    "mi_clase = Clase(\"valor_atributo\")"
   ]
  },
  {
   "cell_type": "code",
   "execution_count": 139,
   "metadata": {},
   "outputs": [
    {
     "ename": "AttributeError",
     "evalue": "'Clase' object has no attribute '__mi_atributo'",
     "output_type": "error",
     "traceback": [
      "\u001b[0;31m---------------------------------------------------------------------------\u001b[0m",
      "\u001b[0;31mAttributeError\u001b[0m                            Traceback (most recent call last)",
      "\u001b[0;32m<ipython-input-139-5c61a1cd0bf2>\u001b[0m in \u001b[0;36m<module>\u001b[0;34m\u001b[0m\n\u001b[0;32m----> 1\u001b[0;31m \u001b[0mmi_clase\u001b[0m\u001b[0;34m.\u001b[0m\u001b[0m__mi_atributo\u001b[0m \u001b[0;31m# Error!\u001b[0m\u001b[0;34m\u001b[0m\u001b[0;34m\u001b[0m\u001b[0m\n\u001b[0m",
      "\u001b[0;31mAttributeError\u001b[0m: 'Clase' object has no attribute '__mi_atributo'"
     ]
    }
   ],
   "source": [
    "mi_clase.__mi_atributo # Error!"
   ]
  },
  {
   "cell_type": "markdown",
   "metadata": {},
   "source": [
    "Esto puede ser importante con ciertas variables que no queremos que sean accesibles desde el exterior de una manera no controlada. Al definir la propiedad con `@property` el acceso a ese atributo se realiza a través de una función, siendo por lo tanto un acceso controlado."
   ]
  },
  {
   "cell_type": "code",
   "execution_count": 140,
   "metadata": {},
   "outputs": [],
   "source": [
    "class Clase:\n",
    "    def __init__(self, mi_atributo):\n",
    "        self.__mi_atributo = mi_atributo\n",
    "\n",
    "    @property\n",
    "    def mi_atributo(self):\n",
    "        # El acceso se realiza a través de este \"método\" y\n",
    "        # podría contener código extra y no un simple retorno\n",
    "        return self.__mi_atributo\n",
    "        "
   ]
  },
  {
   "cell_type": "markdown",
   "metadata": {},
   "source": [
    "Otra utilidad podría ser la consulta de un parámetro que requiera de muchos cálculos. Se podría tener un atributo que no estuviera directamente almacenado en la clase, sino que precisara de realizar ciertos cálculos. Para optimizar esto, se podrían hacer los cálculos sólo cuando el atributo es consultado.\n",
    "\n",
    "Por último, existen varios añadidos al decorador `@property` como pueden ser el `setter`. Se trata de otro decorador que permite definir un “método” que modifica el contenido del atributo que se esté usando."
   ]
  },
  {
   "cell_type": "code",
   "execution_count": 141,
   "metadata": {},
   "outputs": [],
   "source": [
    "class Clase:\n",
    "    def __init__(self, mi_atributo):\n",
    "        self.__mi_atributo = mi_atributo\n",
    "\n",
    "    @property\n",
    "    def mi_atributo(self):\n",
    "        return self.__mi_atributo\n",
    "\n",
    "    @mi_atributo.setter\n",
    "    def mi_atributo(self, valor):\n",
    "        if valor != \"\":\n",
    "            print(\"Modificando el valor\")\n",
    "            self.__mi_atributo = valor\n",
    "        else:\n",
    "            print(\"Error está vacío\")\n",
    "            \n",
    "            "
   ]
  },
  {
   "cell_type": "markdown",
   "metadata": {},
   "source": [
    "De esta forma podemos añadir código al `setter`, haciendo que por ejemplo realice comprobaciones antes de modificar el valor. Esto es una cosa que de usar un atributo normal no podríamos hacer, y es muy útil de cara a la encapsulación."
   ]
  },
  {
   "cell_type": "code",
   "execution_count": 144,
   "metadata": {},
   "outputs": [
    {
     "data": {
      "text/plain": [
       "'valor_atributo'"
      ]
     },
     "execution_count": 144,
     "metadata": {},
     "output_type": "execute_result"
    }
   ],
   "source": [
    "mi_clase = Clase(\"valor_atributo\")\n",
    "mi_clase.mi_atributo"
   ]
  },
  {
   "cell_type": "code",
   "execution_count": 145,
   "metadata": {},
   "outputs": [
    {
     "name": "stdout",
     "output_type": "stream",
     "text": [
      "Modificando el valor\n"
     ]
    },
    {
     "data": {
      "text/plain": [
       "'nuevo_valor'"
      ]
     },
     "execution_count": 145,
     "metadata": {},
     "output_type": "execute_result"
    }
   ],
   "source": [
    "mi_clase.mi_atributo = \"nuevo_valor\"\n",
    "mi_clase.mi_atributo"
   ]
  },
  {
   "cell_type": "code",
   "execution_count": 146,
   "metadata": {},
   "outputs": [
    {
     "name": "stdout",
     "output_type": "stream",
     "text": [
      "Error está vacío\n"
     ]
    }
   ],
   "source": [
    "mi_clase.mi_atributo = \"\"\n",
    "# Error está vacío"
   ]
  },
  {
   "cell_type": "markdown",
   "metadata": {},
   "source": [
    "Resulta lógico pensar que si un determinado atributo pertenece a una clase, si queremos modificarlo debería de tener la “aprobación” de la clase, para asegurarse que ninguna entidad externa está “haciendo cosas raras”."
   ]
  },
  {
   "cell_type": "markdown",
   "metadata": {},
   "source": [
    "## Ejercicios \n",
    "\n",
    "### Ejercicio 01\n",
    "\n",
    "Crear una clase denomina `Parametros` que cumpla los siguientes aspectos:\n",
    "\n",
    "* Atributo de clase privado `local` igual a `True`\n",
    "* Atributo de instancia `forecast_start` (fecha objetivo)\n",
    "* Atributo de instancia `forecast_weeks` (número de semanas a pronosticar)\n",
    "* Atributo de instancia `test_weeks`(número de semanas de testeo)\n",
    "* Ocupar el decorador `property` para definir el atributo `forecast_periods`, que corresponde número de dias a pronosticar: `(test_weeks + forecast_weeks)*7`\n",
    "* Ocupar el decorador `property` para definir el atributo `test_start`, que corresponde a la fecha de testeo (`forecast_start` - total de días de `test_weeks`)"
   ]
  },
  {
   "cell_type": "code",
   "execution_count": null,
   "metadata": {},
   "outputs": [],
   "source": [
    "# clase ForecastParams:"
   ]
  },
  {
   "cell_type": "code",
   "execution_count": null,
   "metadata": {},
   "outputs": [],
   "source": []
  }
 ],
 "metadata": {
  "kernelspec": {
   "display_name": "Python 3",
   "language": "python",
   "name": "python3"
  },
  "language_info": {
   "codemirror_mode": {
    "name": "ipython",
    "version": 3
   },
   "file_extension": ".py",
   "mimetype": "text/x-python",
   "name": "python",
   "nbconvert_exporter": "python",
   "pygments_lexer": "ipython3",
   "version": "3.8.5"
  }
 },
 "nbformat": 4,
 "nbformat_minor": 4
}

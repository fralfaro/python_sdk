{
 "cells": [
  {
   "cell_type": "markdown",
   "metadata": {},
   "source": [
    "# Polimorfismo en programación\n",
    "\n",
    "El **Polimorfismo** es la capacidad de una entidad de referenciar en tiempo de ejecución a instancias de diferentes clases.\n",
    "\n",
    "Una definición un tanto informal del polimorfismo, diría algo así: “me da igual de que clase sea este objeto, que si comparte funcionalidades con otros, para mi son lo mismo”. Evidentemente para que esto ocurra tiene que existir un denominador común, que por definición ocurre cuando una clase hija hereda de una padre, heredando todos sus métodos y atributos. Las clases hijas pueden implementar los métodos de una forma diferente, pero usando el mismo `interfaz`.\n",
    "\n",
    "Vamos a ver un ejemplo en Python con tres clases de tres animales. Todas implementan el método `hablar()`."
   ]
  },
  {
   "cell_type": "code",
   "execution_count": 113,
   "metadata": {},
   "outputs": [],
   "source": [
    "class Perro:\n",
    "    def hablar(self):\n",
    "        print(\"Guau!\")\n",
    "\n",
    "class Gato:\n",
    "    def hablar(self):\n",
    "        print(\"Miau!\")\n",
    "\n",
    "class Vaca:\n",
    "    def hablar(self):\n",
    "        print(\"Muuu!\")"
   ]
  },
  {
   "cell_type": "markdown",
   "metadata": {},
   "source": [
    "Vamos a crear una lista de objetos, uno de cada clase.\n",
    "\n"
   ]
  },
  {
   "cell_type": "code",
   "execution_count": 114,
   "metadata": {},
   "outputs": [],
   "source": [
    "animales = [Perro(), Gato(), Vaca()]"
   ]
  },
  {
   "cell_type": "markdown",
   "metadata": {},
   "source": [
    "Y ahora vamos a llamar al método `hablar()` de todos los animales. Como todos ellos lo codifican con el mismo nombre, pero con una implementación distinta, se ejecutará sin problemas. Esto ejemplo usa en cierto modo el concepto de polimorfismo"
   ]
  },
  {
   "cell_type": "code",
   "execution_count": 115,
   "metadata": {},
   "outputs": [
    {
     "name": "stdout",
     "output_type": "stream",
     "text": [
      "Guau!\n",
      "Miau!\n",
      "Muuu!\n"
     ]
    }
   ],
   "source": [
    "for animal in animales:\n",
    "    animal.hablar()"
   ]
  },
  {
   "cell_type": "markdown",
   "metadata": {},
   "source": [
    "Y llevado a la herencia, sería exactamente igual. Tenemos una clase padre `Animal` con un método definido pero no implementado, de la que heredan tres animales. Cada animal implementa el método común de una manera distinta."
   ]
  },
  {
   "cell_type": "code",
   "execution_count": 23,
   "metadata": {},
   "outputs": [
    {
     "name": "stdout",
     "output_type": "stream",
     "text": [
      "Guau!\n",
      "Miau!\n",
      "Muuu!\n"
     ]
    }
   ],
   "source": [
    "class Animal:\n",
    "    def hablar(self):\n",
    "        pass\n",
    "\n",
    "class Perro(Animal):\n",
    "    def hablar(self):\n",
    "        print(\"Guau!\")\n",
    "\n",
    "class Gato(Animal):\n",
    "    def hablar(self):\n",
    "        print(\"Miau!\")\n",
    "\n",
    "class Vaca(Animal):\n",
    "    def hablar(self):\n",
    "        print(\"Muuu!\")\n",
    "\n",
    "animales = [Perro(), Gato(), Vaca()]\n",
    "for animal in animales:\n",
    "    animal.hablar()"
   ]
  },
  {
   "cell_type": "markdown",
   "metadata": {},
   "source": [
    "## Ejercicios\n",
    "\n",
    "### Ejercicio 01\n",
    "\n",
    "\n",
    "Ocupando las clases  `Coche`, `Barco` y `Avion`, imprima por pantalla el nombre del vehículo y el tipo de transporte de las distintas clases respectivamente. Aplique el concepto de **polimorfismo** de clases (explique por qué funciona en este caso).\n",
    "\n",
    "\n"
   ]
  },
  {
   "cell_type": "code",
   "execution_count": 7,
   "metadata": {},
   "outputs": [],
   "source": [
    "from abc import ABC, abstractmethod\n",
    "\n",
    "# clase abstracta Vehiculo\n",
    "\n",
    "class Vehiculo(ABC):\n",
    "    def __init__(self, ruedas):\n",
    "        self.ruedas = ruedas\n",
    "\n",
    "    @abstractmethod\n",
    "    def nombre(self):\n",
    "        pass\n",
    "    \n",
    "    @abstractmethod\n",
    "    def tipo_transporte(self):\n",
    "        pass"
   ]
  },
  {
   "cell_type": "code",
   "execution_count": 8,
   "metadata": {},
   "outputs": [],
   "source": [
    "# clase abstracta Coche (ejemplo)\n",
    "\n",
    "class Coche(Vehiculo):\n",
    "\n",
    "    def nombre(self):\n",
    "        print(\"Soy un coche\")\n",
    "    \n",
    "    def tipo_transporte(self):\n",
    "        print(\"Tipo de transporte: terrestre\")"
   ]
  },
  {
   "cell_type": "code",
   "execution_count": 9,
   "metadata": {},
   "outputs": [],
   "source": [
    "# clase abstracta Barco\n",
    "\n",
    "class Barco(Vehiculo):\n",
    "\n",
    "    def nombre(self):\n",
    "        print(\"Soy un barco\")\n",
    "    \n",
    "    def tipo_transporte(self):\n",
    "        print(\"Tipo de transporte: maritimo\")"
   ]
  },
  {
   "cell_type": "code",
   "execution_count": 11,
   "metadata": {},
   "outputs": [],
   "source": [
    "# clase abstracta Avion\n",
    "\n",
    "class Avion(Vehiculo):\n",
    "\n",
    "    def nombre(self):\n",
    "        print(\"Soy un avion\")\n",
    "    \n",
    "    def tipo_transporte(self):\n",
    "        print(\"Tipo de transporte: aereo\")"
   ]
  },
  {
   "cell_type": "code",
   "execution_count": 19,
   "metadata": {},
   "outputs": [],
   "source": [
    "# objetos a partir de las distintas clases\n",
    "\n",
    "coche = None\n",
    "barco = None\n",
    "avion = None"
   ]
  },
  {
   "cell_type": "code",
   "execution_count": 18,
   "metadata": {},
   "outputs": [],
   "source": [
    "# imprimir nombre y tipo de transporte de los objetos definidos\n"
   ]
  }
 ],
 "metadata": {
  "kernelspec": {
   "display_name": "Python 3",
   "language": "python",
   "name": "python3"
  },
  "language_info": {
   "codemirror_mode": {
    "name": "ipython",
    "version": 3
   },
   "file_extension": ".py",
   "mimetype": "text/x-python",
   "name": "python",
   "nbconvert_exporter": "python",
   "pygments_lexer": "ipython3",
   "version": "3.8.5"
  }
 },
 "nbformat": 4,
 "nbformat_minor": 4
}

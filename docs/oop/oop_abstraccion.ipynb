{
 "cells": [
  {
   "cell_type": "markdown",
   "metadata": {},
   "source": [
    "# Abstracción \n",
    "\n",
    "La **abstracción** es un termino que hace referencia a la ocultación de la complejidad intrínseca de una aplicación al exterior, centrándose sólo en como puede ser usada, lo que se conoce como **interfaz** (o clases abstractas).\n",
    "\n",
    "la abstracción consiste en ocultar toda la complejidad que algo puede tener por dentro, ofreciéndonos unas funciones de alto nivel, por lo general sencillas de usar, que pueden ser usadas para interactuar con la aplicación sin tener conocimiento de lo que hay dentro."
   ]
  },
  {
   "cell_type": "markdown",
   "metadata": {},
   "source": [
    "Para poder crear clases abstractas en Python es necesario importar la clase `ABC` y el decorador `abstractmethod` del modulo `abc` (**Abstract Base Classes**).\n",
    "\n",
    "Un módulo que se encuentra en la librería estándar del lenguaje, por lo que no es necesario instalar. Así para definir una clase privada solamente se tiene que crear una clase heredada de `ABC` con un método abstracto."
   ]
  },
  {
   "cell_type": "code",
   "execution_count": 51,
   "metadata": {},
   "outputs": [],
   "source": [
    "from abc import ABC, abstractmethod\n",
    "\n",
    "class Animal(ABC):\n",
    "    @abstractmethod\n",
    "    def mover(self):\n",
    "        pass"
   ]
  },
  {
   "cell_type": "markdown",
   "metadata": {},
   "source": [
    "Ahora si se intenta crear una instancia de la clase animal, Python no lo permitirá indicando que no es posible. Es importante notar que que si la clase no hereda de `ABC` o contiene por lo menos un método abstracto, Python permitirá instancias las clases."
   ]
  },
  {
   "cell_type": "code",
   "execution_count": 95,
   "metadata": {},
   "outputs": [
    {
     "data": {
      "text/plain": [
       "<__main__.Animal at 0x7f890cf53430>"
      ]
     },
     "execution_count": 95,
     "metadata": {},
     "output_type": "execute_result"
    }
   ],
   "source": [
    "class Animal(ABC):\n",
    "    def mover(self):\n",
    "        pass\n",
    "    \n",
    "Animal()"
   ]
  },
  {
   "cell_type": "code",
   "execution_count": 96,
   "metadata": {},
   "outputs": [
    {
     "data": {
      "text/plain": [
       "<__main__.Animal at 0x7f890c646430>"
      ]
     },
     "execution_count": 96,
     "metadata": {},
     "output_type": "execute_result"
    }
   ],
   "source": [
    "class Animal():\n",
    "    @abstractmethod\n",
    "    def mover(self):\n",
    "        pass\n",
    "    \n",
    "Animal()"
   ]
  },
  {
   "cell_type": "markdown",
   "metadata": {},
   "source": [
    "## Métodos en las subclases\n",
    "\n",
    "Las **subclases** tienen que implementar todos los métodos abstractos, en el caso de que falta alguno de ellos Python no permitirá instancias tampoco la clase hija."
   ]
  },
  {
   "cell_type": "code",
   "execution_count": 103,
   "metadata": {},
   "outputs": [],
   "source": [
    "# clase abstracta\n",
    "class Animal(ABC):\n",
    "    @abstractmethod\n",
    "    def mover(self):\n",
    "        pass\n",
    "    \n",
    "    @abstractmethod\n",
    "    def comer(self):\n",
    "        print('Animal come')\n",
    "\n",
    "# subclase\n",
    "class Gato(Animal):\n",
    "    def mover(self):\n",
    "        print('Mover gato')\n",
    "        \n",
    "    # falta implementar metodo comer()"
   ]
  },
  {
   "cell_type": "code",
   "execution_count": 104,
   "metadata": {},
   "outputs": [
    {
     "ename": "TypeError",
     "evalue": "Can't instantiate abstract class Gato with abstract methods comer",
     "output_type": "error",
     "traceback": [
      "\u001b[0;31m---------------------------------------------------------------------------\u001b[0m",
      "\u001b[0;31mTypeError\u001b[0m                                 Traceback (most recent call last)",
      "\u001b[0;32m<ipython-input-104-f134a1af2db8>\u001b[0m in \u001b[0;36m<module>\u001b[0;34m\u001b[0m\n\u001b[0;32m----> 1\u001b[0;31m \u001b[0mg\u001b[0m \u001b[0;34m=\u001b[0m \u001b[0mGato\u001b[0m\u001b[0;34m(\u001b[0m\u001b[0;34m)\u001b[0m \u001b[0;31m# Error\u001b[0m\u001b[0;34m\u001b[0m\u001b[0;34m\u001b[0m\u001b[0m\n\u001b[0m",
      "\u001b[0;31mTypeError\u001b[0m: Can't instantiate abstract class Gato with abstract methods comer"
     ]
    }
   ],
   "source": [
    "g = Gato() # Error"
   ]
  },
  {
   "cell_type": "markdown",
   "metadata": {},
   "source": [
    "Escribamos el ejemplo correctamente:"
   ]
  },
  {
   "cell_type": "code",
   "execution_count": 108,
   "metadata": {},
   "outputs": [],
   "source": [
    "# clase abstracta\n",
    "class Animal(ABC):\n",
    "    @abstractmethod\n",
    "    def mover(self):\n",
    "        pass\n",
    "    \n",
    "    @abstractmethod\n",
    "    def comer(self):\n",
    "        print('Animal come')\n",
    "\n",
    "# subclase\n",
    "class Gato(Animal):\n",
    "    def mover(self):\n",
    "        print('Mover gato')\n",
    "        \n",
    "    def comer(self):\n",
    "        print('Gato come')"
   ]
  },
  {
   "cell_type": "code",
   "execution_count": 109,
   "metadata": {},
   "outputs": [],
   "source": [
    "g = Gato()"
   ]
  },
  {
   "cell_type": "code",
   "execution_count": 110,
   "metadata": {},
   "outputs": [
    {
     "name": "stdout",
     "output_type": "stream",
     "text": [
      "Mover gato\n"
     ]
    }
   ],
   "source": [
    "g.mover()"
   ]
  },
  {
   "cell_type": "code",
   "execution_count": 111,
   "metadata": {},
   "outputs": [
    {
     "name": "stdout",
     "output_type": "stream",
     "text": [
      "Gato come\n"
     ]
    }
   ],
   "source": [
    "g.comer()"
   ]
  },
  {
   "cell_type": "markdown",
   "metadata": {},
   "source": [
    "## Ejercicios\n",
    "\n",
    "### Ejercicio 01\n",
    "\n",
    "Defina la interfaz `Vehiculo`, que cumpla los siguientes aspectos:\n",
    "\n",
    "* Atributos de instancias `ruedas`.\n",
    "* Definir método abstracto `nombre`, que imprima por pantalla el nombre del vehículo.\n",
    "* Definir método abstracto `tipo_transporte`, que imprima por pantalla el tipo de transporte del vehículo (terrestre, maritimo o aéreo).\n",
    "\n",
    "\n",
    "Con esta interfaz,  cree las clases `Coche`, `Barco` y `Avion`. Luego, cree los objetos `coche` , `barco` y `avion` a partir de las clases `Coche`, `Barco` y `Avion`, respectivamente."
   ]
  },
  {
   "cell_type": "code",
   "execution_count": 8,
   "metadata": {},
   "outputs": [],
   "source": [
    "from abc import ABC, abstractmethod\n",
    "\n",
    "# clase abstracta Vehiculo\n",
    "\n",
    "class Vehiculo(ABC):\n",
    "    def __init__(self, ruedas):\n",
    "        self.ruedas = None\n",
    "\n",
    "    @abstractmethod\n",
    "    def nombre(self):\n",
    "        pass\n",
    "    \n",
    "    @abstractmethod\n",
    "    def tipo_transporte(self):\n",
    "        pass"
   ]
  },
  {
   "cell_type": "code",
   "execution_count": 9,
   "metadata": {},
   "outputs": [],
   "source": [
    "# clase Coche (ejemplo)\n",
    "\n",
    "class Coche(Vehiculo):\n",
    "\n",
    "    def nombre(self):\n",
    "        print(\"Soy un coche\")\n",
    "    \n",
    "    def tipo_transporte(self):\n",
    "        print(\"Tipo de transporte: terrestre\")"
   ]
  },
  {
   "cell_type": "code",
   "execution_count": 10,
   "metadata": {},
   "outputs": [],
   "source": [
    "# clase Barco\n",
    "\n",
    "class Barco(Vehiculo):\n",
    "\n",
    "    def nombre(self):\n",
    "        pass\n",
    "    \n",
    "    def tipo_transporte(self):\n",
    "        pass"
   ]
  },
  {
   "cell_type": "code",
   "execution_count": 11,
   "metadata": {},
   "outputs": [],
   "source": [
    "# clase Avion\n",
    "\n",
    "class Avion(Vehiculo):\n",
    "\n",
    "    def nombre(self):\n",
    "        pass\n",
    "    \n",
    "    def tipo_transporte(self):\n",
    "        pass"
   ]
  },
  {
   "cell_type": "code",
   "execution_count": 12,
   "metadata": {},
   "outputs": [],
   "source": [
    "# objetos a partir de las distintas clases\n",
    "\n",
    "coche = None\n",
    "barco = None\n",
    "avion = None"
   ]
  }
 ],
 "metadata": {
  "kernelspec": {
   "display_name": "Python 3",
   "language": "python",
   "name": "python3"
  },
  "language_info": {
   "codemirror_mode": {
    "name": "ipython",
    "version": 3
   },
   "file_extension": ".py",
   "mimetype": "text/x-python",
   "name": "python",
   "nbconvert_exporter": "python",
   "pygments_lexer": "ipython3",
   "version": "3.8.3"
  }
 },
 "nbformat": 4,
 "nbformat_minor": 4
}

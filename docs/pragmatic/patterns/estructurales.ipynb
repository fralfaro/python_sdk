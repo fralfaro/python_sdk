{
 "cells": [
  {
   "cell_type": "markdown",
   "metadata": {},
   "source": [
    "# Patrones estructurales\n",
    "Tratan de conseguir que cambios en los requisitos de la aplicación no ocasionen cambios en las relaciones entre los objetos. Lo fundamental son las relaciones de uso entre los objetos, y, éstas están determinadas por las interfaces que soportan los objetos.\n",
    "\n",
    "Estudian como se relacionan los objetos en tiempo de ejecución. Sirven para diseñar las interconexiones entre los objetos."
   ]
  },
  {
   "cell_type": "markdown",
   "metadata": {},
   "source": [
    "## Adapter\n",
    "Convierte la interfaz de una clase en otra distinta que es la que esperan los clientes. Permiten que cooperen clases que de otra manera no podrían por tener interfaces incompatibles.\n",
    "\n",
    "![adapter](images/adapter.png)"
   ]
  },
  {
   "cell_type": "code",
   "execution_count": 1,
   "metadata": {},
   "outputs": [],
   "source": [
    "# patron\n",
    "class Adaptado():\n",
    "\n",
    "    def escribir_reves(self):\n",
    "        return \"retpada ed olpmeje nU\"\n",
    "\n",
    "class Objetivo():\n",
    "\n",
    "    def escribir(self):\n",
    "        pass\n",
    "\n",
    "class Original(Objetivo):\n",
    "\n",
    "    def escribir(self):\n",
    "        return \"Un ejemplo de adapter\"\n",
    "\n",
    "class Adaptador(Objetivo):\n",
    "\n",
    "    def __init__(self):\n",
    "        self.__adaptado__ = Adaptado()\n",
    "    \n",
    "    def escribir(self):\n",
    "        return \"(Traduccion) \" + ((self.__adaptado__.escribir_reves())[::-1])"
   ]
  },
  {
   "cell_type": "code",
   "execution_count": 2,
   "metadata": {},
   "outputs": [],
   "source": [
    "# ejemplo\n",
    "class EjemploAdapter:\n",
    "    def obtener_nombre(self):\n",
    "        return \"Adapter\"\n",
    "\n",
    "    def operacion(self):\n",
    "        print(\"Ejemplo adapter\")\n",
    "\n",
    "        print(\"Objeto original\")\n",
    "        original = Original()\n",
    "        print(original.escribir())\n",
    "\n",
    "        print(\"Objeto a adaptar\")\n",
    "        adaptado = Adaptado()\n",
    "        print(adaptado.escribir_reves())\n",
    "\n",
    "        print(\"Objeto adaptado\")\n",
    "        adaptador = Adaptador()\n",
    "        print(adaptador.escribir())"
   ]
  },
  {
   "cell_type": "code",
   "execution_count": 3,
   "metadata": {},
   "outputs": [
    {
     "name": "stdout",
     "output_type": "stream",
     "text": [
      "Ejemplo adapter\n",
      "Objeto original\n",
      "Un ejemplo de adapter\n",
      "Objeto a adaptar\n",
      "retpada ed olpmeje nU\n",
      "Objeto adaptado\n",
      "(Traduccion) Un ejemplo de adapter\n"
     ]
    }
   ],
   "source": [
    "#resultado\n",
    "EjemploAdapter().operacion()"
   ]
  },
  {
   "cell_type": "markdown",
   "metadata": {},
   "source": [
    "## Bridge\n",
    "Desvincula una abstracción de su implementación, de manera que ambas puedan variar de forma independiente.\n",
    "\n",
    "![bridge](images/bridge.png)"
   ]
  },
  {
   "cell_type": "code",
   "execution_count": 4,
   "metadata": {},
   "outputs": [],
   "source": [
    "# patron\n",
    "class Abstraccion():\n",
    "    def __init__(self, implementador):\n",
    "        self.__imp__ = implementador\n",
    "\n",
    "    def operacion(self):\n",
    "        return self.__imp__.operacion_implementada()\n",
    "\n",
    "class AbstraccionRefinada(Abstraccion):\n",
    "\n",
    "    def operacion_refinada(self):\n",
    "        return self.__imp__.operacion_implementada_refinada()\n",
    "\n",
    "class Implementador():\n",
    "    def operacion_implementada(self):\n",
    "        pass\n",
    "\n",
    "class ImplementadorRefinado(Implementador):\n",
    "    def operacion_implementada_refinada(self):\n",
    "        pass\n",
    "\n",
    "class ImplementadorConcretoA(Implementador):\n",
    "\n",
    "    def operacion_implementada(self):\n",
    "        return \"operacion concreta A\"\n",
    "\n",
    "class ImplementadorConcretoB(Implementador):\n",
    "\n",
    "    def operacion_implementada(self):\n",
    "        return \"operacion concreta B\"\n",
    "\n",
    "class ImpelmentadorConcretoC(ImplementadorRefinado):\n",
    "\n",
    "    def operacion_implementada(self):\n",
    "        return \"operacion concreta C\"\n",
    "\n",
    "    def operacion_implementada_refinada(self):\n",
    "        return \"operacion refinada C\""
   ]
  },
  {
   "cell_type": "code",
   "execution_count": 5,
   "metadata": {},
   "outputs": [],
   "source": [
    "# ejemplo\n",
    "class EjemploBridge:\n",
    "    def obtener_nombre(self):\n",
    "        return \"Bridge\"\n",
    "\n",
    "    def operacion(self):\n",
    "        print(\"Ejemplo bridge\")\n",
    "\n",
    "        objeto = Abstraccion(ImplementadorConcretoB())\n",
    "        print(objeto.operacion())\n",
    "\n",
    "        objeto_refinado = AbstraccionRefinada(ImpelmentadorConcretoC())\n",
    "        print(objeto_refinado.operacion())\n",
    "        print(objeto_refinado.operacion_refinada())"
   ]
  },
  {
   "cell_type": "code",
   "execution_count": 6,
   "metadata": {},
   "outputs": [
    {
     "name": "stdout",
     "output_type": "stream",
     "text": [
      "Ejemplo bridge\n",
      "operacion concreta B\n",
      "operacion concreta C\n",
      "operacion refinada C\n"
     ]
    }
   ],
   "source": [
    "# resultado\n",
    "EjemploBridge().operacion()"
   ]
  },
  {
   "cell_type": "markdown",
   "metadata": {},
   "source": [
    "## Composite\n",
    "Combina objetos en estructuras de árbol para representar jerarquías de parte-todo. Permite que los clientes traten de manera uniforme a los objetos individuales y a los compuestos.\n",
    "\n",
    "![composite](images/composite.png)"
   ]
  },
  {
   "cell_type": "code",
   "execution_count": 7,
   "metadata": {},
   "outputs": [],
   "source": [
    "# patron\n",
    "class Componente():\n",
    "\n",
    "    def operacion(self):\n",
    "        pass\n",
    "\n",
    "class Compuesto(Componente):\n",
    "\n",
    "    def __init__(self):\n",
    "        self.__elementos__ = []\n",
    "\n",
    "    def operacion(self):\n",
    "        print(\"operacion de compuesto\")\n",
    "        for e in self.__elementos__:\n",
    "            e.operacion()\n",
    "\n",
    "    def agregar_elemento(self, elemento):\n",
    "        self.__elementos__.append(elemento)\n",
    "\n",
    "class Simple(Componente):\n",
    "\n",
    "    def operacion(self):\n",
    "        print(\"operacion simple\")"
   ]
  },
  {
   "cell_type": "code",
   "execution_count": 8,
   "metadata": {},
   "outputs": [],
   "source": [
    "# ejemplo\n",
    "class EjemploComposite:\n",
    "    def obtener_nombre(self):\n",
    "        return \"Composite\"\n",
    "\n",
    "    def operacion(self):\n",
    "        print(\"Ejemplo composite\")\n",
    "\n",
    "        elemento = Compuesto()\n",
    "\n",
    "        for i in range(5):\n",
    "            elemento.agregar_elemento(Simple())\n",
    "\n",
    "        elemento2 = Compuesto()\n",
    "        elemento2.agregar_elemento(Simple())\n",
    "\n",
    "        elemento.agregar_elemento(elemento2)\n",
    "        elemento.operacion()"
   ]
  },
  {
   "cell_type": "code",
   "execution_count": 9,
   "metadata": {},
   "outputs": [
    {
     "name": "stdout",
     "output_type": "stream",
     "text": [
      "Ejemplo composite\n",
      "operacion de compuesto\n",
      "operacion simple\n",
      "operacion simple\n",
      "operacion simple\n",
      "operacion simple\n",
      "operacion simple\n",
      "operacion de compuesto\n",
      "operacion simple\n"
     ]
    }
   ],
   "source": [
    "# resultado\n",
    "EjemploComposite().operacion()"
   ]
  },
  {
   "cell_type": "markdown",
   "metadata": {},
   "source": [
    "## Decorator\n",
    "Añade dinámicamente nuevas responsabilidades a un objeto, proporcionando una alternativa flexible a la herencia para extender la funcionalidad.\n",
    "\n",
    "![decorator](images/decorator.png)"
   ]
  },
  {
   "cell_type": "code",
   "execution_count": 10,
   "metadata": {},
   "outputs": [],
   "source": [
    "# patron\n",
    "class Componente():\n",
    "    def operacion(self):\n",
    "        pass\n",
    "\n",
    "class ComponenteConcreto(Componente):\n",
    "    def operacion(self):\n",
    "        print(\"operacion concreta\")\n",
    "\n",
    "class Decorador(Componente):\n",
    "    def __init__(self, componente):\n",
    "        self.__comp__ = componente\n",
    "\n",
    "    def operacion(self):\n",
    "        pass\n",
    "    \n",
    "\n",
    "class DecoradorConcretoA(Decorador):\n",
    "    def operacion(self):\n",
    "        print(\"operacion decorada por A\")\n",
    "        self.__comp__.operacion()\n",
    "\n",
    "class DecoradorConcretoB(Decorador):\n",
    "    def operacion(self):\n",
    "        print(\"operacion decorada por B\")\n",
    "        self.__comp__.operacion()"
   ]
  },
  {
   "cell_type": "code",
   "execution_count": 11,
   "metadata": {},
   "outputs": [],
   "source": [
    "# ejemplo\n",
    "class EjemploDecorator:\n",
    "    def obtener_nombre(self):\n",
    "        return \"Decorator\"\n",
    "\n",
    "    def operacion(self):\n",
    "        print(\"Ejemplo decorator\")\n",
    "\n",
    "        objeto = ComponenteConcreto()\n",
    "        objeto.operacion()\n",
    "        print(\"-\"*10)\n",
    "        decorador1 = DecoradorConcretoA(objeto)\n",
    "        decorador1.operacion()\n",
    "        print(\"-\"*10)\n",
    "        decorador2 = DecoradorConcretoB(decorador1)\n",
    "        decorador2.operacion()"
   ]
  },
  {
   "cell_type": "code",
   "execution_count": 12,
   "metadata": {},
   "outputs": [
    {
     "name": "stdout",
     "output_type": "stream",
     "text": [
      "Ejemplo decorator\n",
      "operacion concreta\n",
      "----------\n",
      "operacion decorada por A\n",
      "operacion concreta\n",
      "----------\n",
      "operacion decorada por B\n",
      "operacion decorada por A\n",
      "operacion concreta\n"
     ]
    }
   ],
   "source": [
    "# resultado\n",
    "EjemploDecorator().operacion()"
   ]
  },
  {
   "cell_type": "markdown",
   "metadata": {},
   "source": [
    "## Facade\n",
    "Proporciona una interfaz unificada para un conjunto de interfaces de un subsistema. Define una interfaz de alto nivel que hace que el subsistema se más fácil de usar.\n",
    "\n",
    "![facade](images/facade.png)"
   ]
  },
  {
   "cell_type": "code",
   "execution_count": 13,
   "metadata": {},
   "outputs": [],
   "source": [
    "# patron\n",
    "class BibliotecaLibros:\n",
    "    def buscar_libros(self):\n",
    "        return \"buscando libros\"\n",
    "\n",
    "class BibliotecaMusica:\n",
    "    def buscar_musica(self):\n",
    "        return \"buscando musica\"\n",
    "\n",
    "class BibliotecaVideos:\n",
    "    def buscar_videos(self):\n",
    "        return \"buscando videos\"\n",
    "\n",
    "class Fachada:\n",
    "    def __init__(self):\n",
    "        self.biblioteca_libros = BibliotecaLibros()\n",
    "        self.biblioteca_musica = BibliotecaMusica()\n",
    "        self.biblioteca_videos = BibliotecaVideos()\n",
    "\n",
    "    def buscar_libros(self):\n",
    "        return self.biblioteca_libros.buscar_libros()\n",
    "\n",
    "    def buscar_musica(self):\n",
    "        return self.biblioteca_musica.buscar_musica()\n",
    "\n",
    "    def buscar_videos(self):\n",
    "        return self.biblioteca_videos.buscar_videos()"
   ]
  },
  {
   "cell_type": "code",
   "execution_count": 14,
   "metadata": {},
   "outputs": [],
   "source": [
    "# ejemplo\n",
    "class EjemploFachada:\n",
    "    def obtener_nombre(self):\n",
    "        return \"Fachada\"\n",
    "\n",
    "    def operacion(self):\n",
    "        print(\"Ejemplo fachada\")\n",
    "\n",
    "        fachada = Fachada()\n",
    "\n",
    "        print(fachada.buscar_libros())\n",
    "        print(fachada.buscar_musica())\n",
    "        print(fachada.buscar_videos())"
   ]
  },
  {
   "cell_type": "code",
   "execution_count": 15,
   "metadata": {},
   "outputs": [
    {
     "name": "stdout",
     "output_type": "stream",
     "text": [
      "Ejemplo fachada\n",
      "buscando libros\n",
      "buscando musica\n",
      "buscando videos\n"
     ]
    }
   ],
   "source": [
    "# resultado\n",
    "EjemploFachada().operacion()"
   ]
  },
  {
   "cell_type": "markdown",
   "metadata": {},
   "source": [
    "## Flyweight\n",
    "Usa el compartimiento para permitir un gran número de objetos de grano fino de forma eficiente.\n",
    "\n",
    "![flyweight](images/flyweight.png)"
   ]
  },
  {
   "cell_type": "code",
   "execution_count": 16,
   "metadata": {},
   "outputs": [],
   "source": [
    "# patron\n",
    "class Flyweight:\n",
    "\n",
    "    def operacion(self):\n",
    "        pass\n",
    "\n",
    "class ConcreteFlyweight(Flyweight):\n",
    "\n",
    "    def operacion(self):\n",
    "        return \"Operación del peso ligero concreto clear\"\n",
    "\n",
    "class UnshareFlyweight(Flyweight):\n",
    "\n",
    "    def __init__(self, concreto, contador):\n",
    "        self.concreto = concreto\n",
    "        self.contador = contador\n",
    "\n",
    "    def operacion(self):\n",
    "        return self.concreto.operacion() + str(self.contador)\n",
    "\n",
    "class FlyweightFactory:\n",
    "    def __init__(self):\n",
    "        self.concreto = None\n",
    "        self.contador = 0\n",
    "\n",
    "    def entregar_flyweight(self):\n",
    "        if self.concreto == None:\n",
    "            self.concreto = ConcreteFlyweight()\n",
    "        self.contador += 1\n",
    "        return UnshareFlyweight(self.concreto, self.contador)"
   ]
  },
  {
   "cell_type": "code",
   "execution_count": 17,
   "metadata": {},
   "outputs": [],
   "source": [
    "# ejemplo\n",
    "class EjemploFlyweight:\n",
    "    def obtener_nombre(self):\n",
    "        return \"Flyweight\"\n",
    "\n",
    "    def operacion(self):\n",
    "        print(\"Ejemplo flyweight\")\n",
    "\n",
    "        factoria = FlyweightFactory()\n",
    "\n",
    "        flyweights = []\n",
    "\n",
    "        for i in range(10):\n",
    "            flyweights.append(factoria.entregar_flyweight())\n",
    "\n",
    "        print(flyweights[0].concreto == flyweights[2].concreto)\n",
    "        \n",
    "        for f in flyweights:\n",
    "            print(f.operacion())"
   ]
  },
  {
   "cell_type": "code",
   "execution_count": 18,
   "metadata": {},
   "outputs": [
    {
     "name": "stdout",
     "output_type": "stream",
     "text": [
      "Ejemplo flyweight\n",
      "True\n",
      "Operación del peso ligero concreto clear1\n",
      "Operación del peso ligero concreto clear2\n",
      "Operación del peso ligero concreto clear3\n",
      "Operación del peso ligero concreto clear4\n",
      "Operación del peso ligero concreto clear5\n",
      "Operación del peso ligero concreto clear6\n",
      "Operación del peso ligero concreto clear7\n",
      "Operación del peso ligero concreto clear8\n",
      "Operación del peso ligero concreto clear9\n",
      "Operación del peso ligero concreto clear10\n"
     ]
    }
   ],
   "source": [
    "# resultado\n",
    "EjemploFlyweight().operacion()"
   ]
  },
  {
   "cell_type": "markdown",
   "metadata": {},
   "source": [
    "## Proxy\n",
    "Proporciona un sustituto o representante de otro objeto para controlar el acceso a éste.\n",
    "\n",
    "![proxy](images/proxy.png)"
   ]
  },
  {
   "cell_type": "code",
   "execution_count": 20,
   "metadata": {},
   "outputs": [],
   "source": [
    "# patron\n",
    "class Subject:\n",
    "\n",
    "    def peticion(self):\n",
    "        pass\n",
    "\n",
    "class RealSubject(Subject):\n",
    "\n",
    "    def peticion(self):\n",
    "        return \"operación del objeto real\"\n",
    "\n",
    "class Proxy(Subject):\n",
    "    def __init__(self, objeto):\n",
    "        self.objeto = objeto\n",
    "\n",
    "    def peticion(self):\n",
    "        return \"Mediante el proxy -> \" + self.objeto.peticion()"
   ]
  },
  {
   "cell_type": "code",
   "execution_count": 21,
   "metadata": {},
   "outputs": [],
   "source": [
    "# ejemplo\n",
    "class EjemploProxy:\n",
    "    def obtener_nombre(self):\n",
    "        return \"Proxy\"\n",
    "\n",
    "    def operacion(self):\n",
    "        print(\"Ejemplo proxy\")\n",
    "\n",
    "        proxy = Proxy(RealSubject())\n",
    "\n",
    "        print(proxy.peticion())"
   ]
  },
  {
   "cell_type": "code",
   "execution_count": 22,
   "metadata": {},
   "outputs": [
    {
     "name": "stdout",
     "output_type": "stream",
     "text": [
      "Ejemplo proxy\n",
      "Mediante el proxy -> operación del objeto real\n"
     ]
    }
   ],
   "source": [
    "# resultado\n",
    "EjemploProxy().operacion()"
   ]
  }
 ],
 "metadata": {
  "kernelspec": {
   "display_name": "Python 3",
   "language": "python",
   "name": "python3"
  },
  "language_info": {
   "codemirror_mode": {
    "name": "ipython",
    "version": 3
   },
   "file_extension": ".py",
   "mimetype": "text/x-python",
   "name": "python",
   "nbconvert_exporter": "python",
   "pygments_lexer": "ipython3",
   "version": "3.8.8"
  }
 },
 "nbformat": 4,
 "nbformat_minor": 4
}

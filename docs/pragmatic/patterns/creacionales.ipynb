{
 "cells": [
  {
   "cell_type": "markdown",
   "metadata": {},
   "source": [
    "# Patrones de creación\n",
    "Los patrones de creación abstraen la forma en la que se crean los objetos, permitiendo tratar las clases a crear de forma genérica dejando para más tarde la decisión de qué clases crear o cómo crearlas."
   ]
  },
  {
   "cell_type": "markdown",
   "metadata": {},
   "source": [
    "## Singleton\n",
    "Garantiza que una clase sólo tenga una instancia, y proporciona un punto de acceso global a ella.\n",
    "\n",
    "![singleton](images/singleton.png)"
   ]
  },
  {
   "cell_type": "code",
   "execution_count": 4,
   "metadata": {},
   "outputs": [],
   "source": [
    "# patron\n",
    "class Singleton():\n",
    "\n",
    "    _instance = None\n",
    "    _value = 0\n",
    "\n",
    "    @classmethod\n",
    "    def get_instance(cls): # Constructor alternativo que retorna una nueva instancia\n",
    "        if not cls._instance:\n",
    "            cls._instance = cls()\n",
    "        return cls._instance\n",
    "\n",
    "    def get_value(self):\n",
    "        return self._value\n",
    "\n",
    "    def set_value(self, v):\n",
    "        self._value = v"
   ]
  },
  {
   "cell_type": "code",
   "execution_count": 5,
   "metadata": {},
   "outputs": [],
   "source": [
    "# ejemplo\n",
    "class EjemploSingleton:\n",
    "    def obtener_nombre(self):\n",
    "        return \"Singleton\"\n",
    "\n",
    "    def operacion(self):\n",
    "        print(\"Ejemplo Singleton\")\n",
    "        x = Singleton.get_instance()\n",
    "        y = Singleton.get_instance()\n",
    "\n",
    "\n",
    "        print( x is y)\n",
    "\n",
    "        y.set_value(10)\n",
    "\n",
    "        print(x.get_value())"
   ]
  },
  {
   "cell_type": "code",
   "execution_count": 9,
   "metadata": {},
   "outputs": [
    {
     "name": "stdout",
     "output_type": "stream",
     "text": [
      "Ejemplo Singleton\n",
      "True\n",
      "10\n"
     ]
    }
   ],
   "source": [
    "#resultado\n",
    "EjemploSingleton().operacion()"
   ]
  },
  {
   "cell_type": "markdown",
   "metadata": {},
   "source": [
    "## Prototype\n",
    "Especifica los tipos de objetos a crear por medio de una instancia prototípica, y crear nuevos objetos copiando este prototipo.\n",
    "\n",
    "![prototype](images/prototype.png)"
   ]
  },
  {
   "cell_type": "code",
   "execution_count": 12,
   "metadata": {},
   "outputs": [],
   "source": [
    "# ejemplo\n",
    "from abc import ABC, abstractmethod\n",
    "from copy import copy, deepcopy\n",
    "\n",
    "class Animal(ABC):\n",
    "    \n",
    "    def __init__(self):\n",
    "        self.__description__ = \"\"\n",
    "        self.__number_of_legs__ = 0\n",
    "        self.__name__ = \"\"\n",
    "        self.__owner__ = None\n",
    "\n",
    "    def hello_animal(self):\n",
    "        return \"hi i am a \" + self.__name__ + \" and i have \" + str(self.__number_of_legs__) + \" legs, property of: \" + self.__owner__.get_name()\n",
    "\n",
    "    def set_owner(self, owner):\n",
    "        self.__owner__ = owner;\n",
    "\n",
    "    def get_owner(self):\n",
    "        return self.__owner__\n",
    "    \n",
    "    def change_owner(self, name):\n",
    "        self.__owner__.set_name(name)\n",
    "    \n",
    "\n",
    "    def set_description(self, description):\n",
    "        self.__description__ = description;\n",
    "    \n",
    "    def get_description(self):\n",
    "        return self.__description__\n",
    "\n",
    "    def get_name(self):\n",
    "        return self.__name__\n",
    "\n",
    "    def set_name(self, name):\n",
    "        self.__name__ = name;\n",
    "\n",
    "    def get_number_of_legs(self):\n",
    "        return self.__number_of_legs__\n",
    "\n",
    "    def set_number_of_legs(self, number_of_legs):\n",
    "        self.__number_of_legs__ = number_of_legs\n",
    "\n",
    "    def clone(self):\n",
    "        return deepcopy(self)\n",
    "\n",
    "class Sheep(Animal):\n",
    "    pass\n",
    "\n",
    "class Chicken(Animal):\n",
    "    pass\n",
    "\n",
    "class Owner():\n",
    "\n",
    "    def __init__(self, name):\n",
    "        self.__name__ = name\n",
    "\n",
    "    def get_name(self):\n",
    "        return self.__name__;\n",
    "    \n",
    "    def set_name(self, name):\n",
    "        self.__name__ = name;"
   ]
  },
  {
   "cell_type": "code",
   "execution_count": 15,
   "metadata": {},
   "outputs": [],
   "source": [
    "class AnimalCreator():\n",
    "    def __init__(self):\n",
    "        self.__chicken__ = Chicken()\n",
    "        self.__sheep__ = Sheep()\n",
    "        \n",
    "        self.__chicken__.set_owner(Owner(\"Juan\"))\n",
    "        self.__chicken__.set_description(\"a litle chicken\")\n",
    "        self.__chicken__.set_name(\"chicken\")\n",
    "        self.__chicken__.set_number_of_legs(2)\n",
    "        \n",
    "        self.__sheep__.set_owner(Owner(\"Juan\"))\n",
    "        self.__sheep__.set_description(\"a litle sheep\")\n",
    "        self.__sheep__.set_name(\"sheep\")\n",
    "        self.__sheep__.set_number_of_legs(4)\n",
    "\n",
    "    def retrieve_animal(self, kind_of_animal):\n",
    "        if \"Chicken\" == kind_of_animal:\n",
    "            return self.__chicken__.clone()\n",
    "        elif \"Sheep\" == kind_of_animal:\n",
    "            return self.__sheep__.clone()\n",
    "        return None"
   ]
  },
  {
   "cell_type": "code",
   "execution_count": 16,
   "metadata": {},
   "outputs": [],
   "source": [
    "# ejemplo\n",
    "class EjemploPrototype:\n",
    "    def obtener_nombre(self):\n",
    "        return \"Prototype\"\n",
    "\n",
    "    def operacion(self):\n",
    "        print(\"Ejemplo prototype\")\n",
    "        creator = AnimalCreator()\n",
    "        animals = []\n",
    "        for i in range(4):\n",
    "            animals.append(creator.retrieve_animal(\"Chicken\"))\n",
    "        for i in range(4):\n",
    "            animals.append(creator.retrieve_animal(\"Sheep\"))\n",
    "\n",
    "        for i in animals:\n",
    "            print(i.hello_animal())\n",
    "\n",
    "        animals[4].change_owner(\"Alejandro\")\n",
    "\n",
    "        for i in animals:\n",
    "            print(i.hello_animal())"
   ]
  },
  {
   "cell_type": "code",
   "execution_count": 17,
   "metadata": {},
   "outputs": [
    {
     "name": "stdout",
     "output_type": "stream",
     "text": [
      "Ejemplo prototype\n",
      "hi i am a chicken and i have 2 legs, property of: Juan\n",
      "hi i am a chicken and i have 2 legs, property of: Juan\n",
      "hi i am a chicken and i have 2 legs, property of: Juan\n",
      "hi i am a chicken and i have 2 legs, property of: Juan\n",
      "hi i am a sheep and i have 4 legs, property of: Juan\n",
      "hi i am a sheep and i have 4 legs, property of: Juan\n",
      "hi i am a sheep and i have 4 legs, property of: Juan\n",
      "hi i am a sheep and i have 4 legs, property of: Juan\n",
      "hi i am a chicken and i have 2 legs, property of: Juan\n",
      "hi i am a chicken and i have 2 legs, property of: Juan\n",
      "hi i am a chicken and i have 2 legs, property of: Juan\n",
      "hi i am a chicken and i have 2 legs, property of: Juan\n",
      "hi i am a sheep and i have 4 legs, property of: Alejandro\n",
      "hi i am a sheep and i have 4 legs, property of: Juan\n",
      "hi i am a sheep and i have 4 legs, property of: Juan\n",
      "hi i am a sheep and i have 4 legs, property of: Juan\n"
     ]
    }
   ],
   "source": [
    "# resultado\n",
    "EjemploPrototype().operacion()"
   ]
  },
  {
   "cell_type": "markdown",
   "metadata": {},
   "source": [
    "## Abstract Factory\n",
    "Proporciona una interfaz para crear familias de objetos o que dependen entre sí, sin especificar sus clases concretas.\n",
    "\n",
    "![abstract factory](images/abstractfactory.png)"
   ]
  },
  {
   "cell_type": "code",
   "execution_count": 20,
   "metadata": {},
   "outputs": [],
   "source": [
    "# patron\n",
    "from abc import ABC, abstractmethod\n",
    "\n",
    "class Memoria(ABC):\n",
    "    def implementacion(self):\n",
    "        print(\"instalando memoria\")\n",
    "\n",
    "    @abstractmethod\n",
    "    def operacion(self):\n",
    "        pass\n",
    "\n",
    "class Board(ABC):\n",
    "    def implementacion(self):\n",
    "        print(\"instalando board\")\n",
    "\n",
    "    @abstractmethod\n",
    "    def operacion(self):\n",
    "        pass\n",
    "\n",
    "class Procesador(ABC):\n",
    "    def implementacion(self):\n",
    "        print(\"instalando procesador\")\n",
    "\n",
    "    @abstractmethod\n",
    "    def operacion(self):\n",
    "        pass\n",
    "\n",
    "class MemoriaAMD(Memoria):\n",
    "\n",
    "    def operacion(self):\n",
    "        print(\"operando memoria AMD\")\n",
    "\n",
    "class BoardAMD(Board):\n",
    "\n",
    "    def operacion(self):\n",
    "        print(\"operando board AMD\")\n",
    "\n",
    "class ProcesadorAMD(Procesador):\n",
    "\n",
    "    def operacion(self):\n",
    "        print(\"operando procesador AMD\")\n",
    "\n",
    "class MemoriaIntel(Memoria):\n",
    "\n",
    "    def operacion(self):\n",
    "        print(\"operando memoria Intel\")\n",
    "\n",
    "class BoardIntel(Board):\n",
    "\n",
    "    def operacion(self):\n",
    "        print(\"operando board Intel\")\n",
    "\n",
    "class ProcesadorIntel(Procesador):\n",
    "\n",
    "    def operacion(self):\n",
    "        print(\"operando procesador Intel\")\n",
    "\n",
    "class MemoriaAlien(Memoria):\n",
    "\n",
    "    def operacion(self):\n",
    "        print(\"operando memoria Alien\")\n",
    "\n",
    "class BoardAlien(Board):\n",
    "\n",
    "    def operacion(self):\n",
    "        print(\"operando board Alien\")\n",
    "\n",
    "class ProcesadorAlien(Procesador):\n",
    "    \n",
    "    def operacion(self):\n",
    "        print(\"operando procesador Alien\")"
   ]
  },
  {
   "cell_type": "code",
   "execution_count": 21,
   "metadata": {},
   "outputs": [],
   "source": [
    "class FabricaAbstracta(ABC):\n",
    "\n",
    "    @abstractmethod\n",
    "    def crearMemoria(self):\n",
    "        pass\n",
    "    @abstractmethod\n",
    "    def crearProcesador(self):\n",
    "        pass\n",
    "    @abstractmethod\n",
    "    def crearBoard(self):\n",
    "        pass\n",
    "\n",
    "class FabricaAMD(FabricaAbstracta):\n",
    "\n",
    "    def crearMemoria(self):\n",
    "        return MemoriaAMD()\n",
    "\n",
    "    def crearProcesador(self):\n",
    "        return ProcesadorAMD()\n",
    "\n",
    "    def crearBoard(self):\n",
    "        return BoardAMD()\n",
    "\n",
    "class FabricaIntel(FabricaAbstracta):\n",
    "\n",
    "    def crearMemoria(self):\n",
    "        return MemoriaIntel()\n",
    "\n",
    "    def crearProcesador(self):\n",
    "        return ProcesadorIntel()\n",
    "\n",
    "    def crearBoard(self):\n",
    "        return BoardIntel()\n",
    "\n",
    "class FabricaAlien(FabricaAbstracta):\n",
    "\n",
    "    def crearMemoria(self):\n",
    "        return MemoriaAlien()\n",
    "\n",
    "    def crearProcesador(self):\n",
    "        return ProcesadorAlien()\n",
    "\n",
    "    def crearBoard(self):\n",
    "        return BoardAlien()\n"
   ]
  },
  {
   "cell_type": "code",
   "execution_count": 22,
   "metadata": {},
   "outputs": [],
   "source": [
    "# ejemplo\n",
    "class EjemploAbstractFactory:\n",
    "    def obtener_nombre(self):\n",
    "        return \"AbstractFactory\"\n",
    "\n",
    "    def operacion(self):\n",
    "        print(\"Ejemplo Abstract Factory\")\n",
    "        print(\"seleccione una fabrica: \\n\\t 0 - AMD \\n\\t 1 - Intel \\n\\t 2 - Alien \")\n",
    "        fabricas = [FabricaAMD(), FabricaIntel(), FabricaAlien()]\n",
    "\n",
    "        fabrica = fabricas[int(input())]\n",
    "\n",
    "        partes = [fabrica.crearMemoria(), fabrica.crearProcesador(), fabrica.crearBoard()]\n",
    "\n",
    "        for p in partes:\n",
    "            p.implementacion()\n",
    "            p.operacion()\n"
   ]
  },
  {
   "cell_type": "code",
   "execution_count": 23,
   "metadata": {},
   "outputs": [
    {
     "name": "stdout",
     "output_type": "stream",
     "text": [
      "Ejemplo prototype\n",
      "hi i am a chicken and i have 2 legs, property of: Juan\n",
      "hi i am a chicken and i have 2 legs, property of: Juan\n",
      "hi i am a chicken and i have 2 legs, property of: Juan\n",
      "hi i am a chicken and i have 2 legs, property of: Juan\n",
      "hi i am a sheep and i have 4 legs, property of: Juan\n",
      "hi i am a sheep and i have 4 legs, property of: Juan\n",
      "hi i am a sheep and i have 4 legs, property of: Juan\n",
      "hi i am a sheep and i have 4 legs, property of: Juan\n",
      "hi i am a chicken and i have 2 legs, property of: Juan\n",
      "hi i am a chicken and i have 2 legs, property of: Juan\n",
      "hi i am a chicken and i have 2 legs, property of: Juan\n",
      "hi i am a chicken and i have 2 legs, property of: Juan\n",
      "hi i am a sheep and i have 4 legs, property of: Alejandro\n",
      "hi i am a sheep and i have 4 legs, property of: Juan\n",
      "hi i am a sheep and i have 4 legs, property of: Juan\n",
      "hi i am a sheep and i have 4 legs, property of: Juan\n"
     ]
    }
   ],
   "source": [
    "# resultado\n",
    "EjemploPrototype().operacion()"
   ]
  },
  {
   "cell_type": "markdown",
   "metadata": {},
   "source": [
    "## Otros patrones"
   ]
  },
  {
   "cell_type": "markdown",
   "metadata": {},
   "source": [
    "- **Builder:** Separa la construcción de un objeto complejo de su representación, de forma que el mismo proceso de construcción pueda crear diferentes representaciones.\n",
    "\n",
    "![builder](images/builder.png)"
   ]
  },
  {
   "cell_type": "markdown",
   "metadata": {},
   "source": [
    "- **Factory Method:** Define una interfaz para crear un objeto, pero deja que sean las subclases quienes decidan qué clase instanciar. Permite que una clase delegue en sus subclases la creación de objetos.\n",
    "\n",
    "![factory method](images/factorymethod.png)"
   ]
  }
 ],
 "metadata": {
  "kernelspec": {
   "display_name": "Python 3",
   "language": "python",
   "name": "python3"
  },
  "language_info": {
   "codemirror_mode": {
    "name": "ipython",
    "version": 3
   },
   "file_extension": ".py",
   "mimetype": "text/x-python",
   "name": "python",
   "nbconvert_exporter": "python",
   "pygments_lexer": "ipython3",
   "version": "3.8.8"
  }
 },
 "nbformat": 4,
 "nbformat_minor": 4
}

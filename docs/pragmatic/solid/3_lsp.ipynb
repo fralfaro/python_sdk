{
 "cells": [
  {
   "cell_type": "markdown",
   "metadata": {},
   "source": [
    "# Liskov Substitution Principle\n",
    "\n",
    "Una subclase debe ser sustituible por su superclase. El objetivo de este principio es determinar que una subclase pueda asumir el lugar de su superclase sin errores. Si el código se encuentra comprobando el tipo de clase, entonces debe haber violado este principio.\n",
    "\n",
    "Usemos nuestro ejemplo `Animal`."
   ]
  },
  {
   "cell_type": "code",
   "execution_count": 18,
   "metadata": {},
   "outputs": [],
   "source": [
    "class Animal:\n",
    "    def __init__(self, name: str):\n",
    "        self.name = name\n",
    "    \n",
    "\n",
    "class Lion(Animal):\n",
    "    pass\n",
    "\n",
    "\n",
    "class Mouse(Animal):\n",
    "    pass\n",
    "\n",
    "\n",
    "class Pigeon(Animal):\n",
    "    pass\n",
    "\n",
    "\n",
    "\n",
    "animals = [\n",
    "    Lion(name = \"Lion\"),\n",
    "    Mouse(name = \"Mouse\"),\n",
    "    Pigeon(name = \"Pigeon\"),\n",
    "]"
   ]
  },
  {
   "cell_type": "code",
   "execution_count": 19,
   "metadata": {},
   "outputs": [
    {
     "ename": "NameError",
     "evalue": "name 'lion_leg_count' is not defined",
     "output_type": "error",
     "traceback": [
      "\u001b[0;31m---------------------------------------------------------------------------\u001b[0m",
      "\u001b[0;31mNameError\u001b[0m                                 Traceback (most recent call last)",
      "\u001b[0;32m<ipython-input-19-aad1b5d27670>\u001b[0m in \u001b[0;36m<module>\u001b[0;34m\u001b[0m\n\u001b[1;32m      8\u001b[0m             \u001b[0mprint\u001b[0m\u001b[0;34m(\u001b[0m\u001b[0mpigeon_leg_count\u001b[0m\u001b[0;34m(\u001b[0m\u001b[0manimal\u001b[0m\u001b[0;34m)\u001b[0m\u001b[0;34m)\u001b[0m\u001b[0;34m\u001b[0m\u001b[0;34m\u001b[0m\u001b[0m\n\u001b[1;32m      9\u001b[0m \u001b[0;34m\u001b[0m\u001b[0m\n\u001b[0;32m---> 10\u001b[0;31m \u001b[0manimal_leg_count\u001b[0m\u001b[0;34m(\u001b[0m\u001b[0manimals\u001b[0m\u001b[0;34m)\u001b[0m\u001b[0;34m\u001b[0m\u001b[0;34m\u001b[0m\u001b[0m\n\u001b[0m",
      "\u001b[0;32m<ipython-input-19-aad1b5d27670>\u001b[0m in \u001b[0;36manimal_leg_count\u001b[0;34m(animals)\u001b[0m\n\u001b[1;32m      2\u001b[0m     \u001b[0;32mfor\u001b[0m \u001b[0manimal\u001b[0m \u001b[0;32min\u001b[0m \u001b[0manimals\u001b[0m\u001b[0;34m:\u001b[0m\u001b[0;34m\u001b[0m\u001b[0;34m\u001b[0m\u001b[0m\n\u001b[1;32m      3\u001b[0m         \u001b[0;32mif\u001b[0m \u001b[0misinstance\u001b[0m\u001b[0;34m(\u001b[0m\u001b[0manimal\u001b[0m\u001b[0;34m,\u001b[0m \u001b[0mLion\u001b[0m\u001b[0;34m)\u001b[0m\u001b[0;34m:\u001b[0m\u001b[0;34m\u001b[0m\u001b[0;34m\u001b[0m\u001b[0m\n\u001b[0;32m----> 4\u001b[0;31m             \u001b[0mprint\u001b[0m\u001b[0;34m(\u001b[0m\u001b[0mlion_leg_count\u001b[0m\u001b[0;34m(\u001b[0m\u001b[0manimal\u001b[0m\u001b[0;34m)\u001b[0m\u001b[0;34m)\u001b[0m\u001b[0;34m\u001b[0m\u001b[0;34m\u001b[0m\u001b[0m\n\u001b[0m\u001b[1;32m      5\u001b[0m         \u001b[0;32melif\u001b[0m \u001b[0misinstance\u001b[0m\u001b[0;34m(\u001b[0m\u001b[0manimal\u001b[0m\u001b[0;34m,\u001b[0m \u001b[0mMouse\u001b[0m\u001b[0;34m)\u001b[0m\u001b[0;34m:\u001b[0m\u001b[0;34m\u001b[0m\u001b[0;34m\u001b[0m\u001b[0m\n\u001b[1;32m      6\u001b[0m             \u001b[0mprint\u001b[0m\u001b[0;34m(\u001b[0m\u001b[0mmouse_leg_count\u001b[0m\u001b[0;34m(\u001b[0m\u001b[0manimal\u001b[0m\u001b[0;34m)\u001b[0m\u001b[0;34m)\u001b[0m\u001b[0;34m\u001b[0m\u001b[0;34m\u001b[0m\u001b[0m\n",
      "\u001b[0;31mNameError\u001b[0m: name 'lion_leg_count' is not defined"
     ]
    }
   ],
   "source": [
    "def animal_leg_count(animals: list):\n",
    "    for animal in animals:\n",
    "        if isinstance(animal, Lion):\n",
    "            print(lion_leg_count(animal))\n",
    "        elif isinstance(animal, Mouse):\n",
    "            print(mouse_leg_count(animal))\n",
    "        elif isinstance(animal, Pigeon):\n",
    "            print(pigeon_leg_count(animal))\n",
    "        \n",
    "animal_leg_count(animals)"
   ]
  },
  {
   "cell_type": "markdown",
   "metadata": {},
   "source": [
    "Para que esta función siga el principio LSP, seguiremos estos requisitos LSP postulados por Steve Fenton:\n",
    "\n",
    "*Si la superclase (`Animal`) tiene un método que acepta un parámetro de tipo de superclase (`Animal`). Su subclase (`Pigeon`) debe aceptar como argumento un tipo de superclase (tipo `Animal`) o un tipo de subclase (tipo `Pigeon`). Si la superclase devuelve un tipo de superclase (`Animal`). Su subclase debería devolver un tipo de superclase (tipo `Animal`) o un tipo de subclase (`Pigeon`).*\n",
    "\n",
    "Ahora, podemos volver a implementar la función `animal_leg_count`:"
   ]
  },
  {
   "cell_type": "code",
   "execution_count": 17,
   "metadata": {},
   "outputs": [
    {
     "ename": "AttributeError",
     "evalue": "'Lion' object has no attribute 'leg_count'",
     "output_type": "error",
     "traceback": [
      "\u001b[0;31m---------------------------------------------------------------------------\u001b[0m",
      "\u001b[0;31mAttributeError\u001b[0m                            Traceback (most recent call last)",
      "\u001b[0;32m<ipython-input-17-98b6adbc243d>\u001b[0m in \u001b[0;36m<module>\u001b[0;34m\u001b[0m\n\u001b[1;32m      3\u001b[0m         \u001b[0mprint\u001b[0m\u001b[0;34m(\u001b[0m\u001b[0manimal\u001b[0m\u001b[0;34m.\u001b[0m\u001b[0mleg_count\u001b[0m\u001b[0;34m(\u001b[0m\u001b[0;34m)\u001b[0m\u001b[0;34m)\u001b[0m\u001b[0;34m\u001b[0m\u001b[0;34m\u001b[0m\u001b[0m\n\u001b[1;32m      4\u001b[0m \u001b[0;34m\u001b[0m\u001b[0m\n\u001b[0;32m----> 5\u001b[0;31m \u001b[0manimal_leg_count\u001b[0m\u001b[0;34m(\u001b[0m\u001b[0manimals\u001b[0m\u001b[0;34m)\u001b[0m\u001b[0;34m\u001b[0m\u001b[0;34m\u001b[0m\u001b[0m\n\u001b[0m",
      "\u001b[0;32m<ipython-input-17-98b6adbc243d>\u001b[0m in \u001b[0;36manimal_leg_count\u001b[0;34m(animals)\u001b[0m\n\u001b[1;32m      1\u001b[0m \u001b[0;32mdef\u001b[0m \u001b[0manimal_leg_count\u001b[0m\u001b[0;34m(\u001b[0m\u001b[0manimals\u001b[0m\u001b[0;34m:\u001b[0m \u001b[0mlist\u001b[0m\u001b[0;34m)\u001b[0m\u001b[0;34m:\u001b[0m\u001b[0;34m\u001b[0m\u001b[0;34m\u001b[0m\u001b[0m\n\u001b[1;32m      2\u001b[0m     \u001b[0;32mfor\u001b[0m \u001b[0manimal\u001b[0m \u001b[0;32min\u001b[0m \u001b[0manimals\u001b[0m\u001b[0;34m:\u001b[0m\u001b[0;34m\u001b[0m\u001b[0;34m\u001b[0m\u001b[0m\n\u001b[0;32m----> 3\u001b[0;31m         \u001b[0mprint\u001b[0m\u001b[0;34m(\u001b[0m\u001b[0manimal\u001b[0m\u001b[0;34m.\u001b[0m\u001b[0mleg_count\u001b[0m\u001b[0;34m(\u001b[0m\u001b[0;34m)\u001b[0m\u001b[0;34m)\u001b[0m\u001b[0;34m\u001b[0m\u001b[0;34m\u001b[0m\u001b[0m\n\u001b[0m\u001b[1;32m      4\u001b[0m \u001b[0;34m\u001b[0m\u001b[0m\n\u001b[1;32m      5\u001b[0m \u001b[0manimal_leg_count\u001b[0m\u001b[0;34m(\u001b[0m\u001b[0manimals\u001b[0m\u001b[0;34m)\u001b[0m\u001b[0;34m\u001b[0m\u001b[0;34m\u001b[0m\u001b[0m\n",
      "\u001b[0;31mAttributeError\u001b[0m: 'Lion' object has no attribute 'leg_count'"
     ]
    }
   ],
   "source": [
    "def animal_leg_count(animals: list):\n",
    "    for animal in animals:\n",
    "        print(animal.leg_count())\n",
    "        \n",
    "animal_leg_count(animals)"
   ]
  },
  {
   "cell_type": "markdown",
   "metadata": {},
   "source": [
    "A la función `animal_leg_count` le importa menos el tipo de Animal pasado, simplemente llama al método `leg_count`. Todo lo que sabe es que el parámetro debe ser de un tipo `Animal`, ya sea la clase `Animal` o su subclase.\n",
    "La clase `Animal` ahora tiene que implementar/definir un método `leg_count`. Y sus subclases deben implementar el `método leg_count`:"
   ]
  },
  {
   "cell_type": "code",
   "execution_count": 24,
   "metadata": {},
   "outputs": [
    {
     "name": "stdout",
     "output_type": "stream",
     "text": [
      "4\n",
      "4\n",
      "2\n"
     ]
    }
   ],
   "source": [
    "class Animal:\n",
    "    def leg_count(self):\n",
    "        pass\n",
    "\n",
    "\n",
    "class Lion(Animal):\n",
    "    def leg_count(self):\n",
    "        return 4\n",
    "\n",
    "class Mouse(Animal):\n",
    "    def leg_count(self):\n",
    "        return 4\n",
    "\n",
    "class Pigeon(Animal):\n",
    "    def leg_count(self):\n",
    "        return 2\n",
    "    \n",
    "    \n",
    "def animal_leg_count(animals: list):\n",
    "    for animal in animals:\n",
    "        print(animal.leg_count())\n",
    "        \n",
    "\n",
    "animals = [\n",
    "    Lion(),\n",
    "    Mouse(),\n",
    "    Pigeon(),\n",
    "]\n",
    "\n",
    "animal_leg_count(animals)"
   ]
  },
  {
   "cell_type": "markdown",
   "metadata": {},
   "source": [
    "Cuando se pasa a la función `animal_leg_count`, devuelve el número de patas que tiene un león.\n",
    "Verá, `animal_leg_count` no necesita saber el tipo de Animal para devolver su recuento de patas, solo llama al método `leg_count` del tipo Animal porque por contrato una subclase de la clase Animal debe implementar la función `leg_count`."
   ]
  }
 ],
 "metadata": {
  "kernelspec": {
   "display_name": "Python 3",
   "language": "python",
   "name": "python3"
  },
  "language_info": {
   "codemirror_mode": {
    "name": "ipython",
    "version": 3
   },
   "file_extension": ".py",
   "mimetype": "text/x-python",
   "name": "python",
   "nbconvert_exporter": "python",
   "pygments_lexer": "ipython3",
   "version": "3.7.3"
  }
 },
 "nbformat": 4,
 "nbformat_minor": 4
}

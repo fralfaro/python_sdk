{
 "cells": [
  {
   "cell_type": "markdown",
   "id": "63b1f584",
   "metadata": {},
   "source": [
    "# Documentar mediante Docstrings\n",
    "Ahora que hemos aprendido a comentar, profundicemos en la documentación de una base de código Python. En esta sección, aprenderá acerca de las docstrings y cómo usarlas para la documentación. Esta sección se divide en las siguientes subsecciones:\n",
    "\n",
    "* **Docstrings Background**: información básica sobre cómo funcionan los docstrings internamente en Python\n",
    "* **Docstring Types**: los distintos \"tipos\" de docstrings (función, clase, método de clase, módulo, paquete y secuencia de comandos)\n",
    "* **Docstring Formats**: los diferentes \"formatos\" de docstrings (Google, NumPy / SciPy, reStructuredText y Epytext)\n",
    "\n",
    "## Docstrings Background\n",
    "La documentación de su código Python se centra en docstrings. Estas son strings integradas que, cuando se configuran correctamente, pueden ayudar a sus usuarios y a usted mismo con la documentación de su proyecto. Junto con los docstrings, Python también tiene la función incorporada `help()` que imprime el docstrings de los objetos en la consola. A continuación, se muestra un ejemplo rápido:"
   ]
  },
  {
   "cell_type": "code",
   "execution_count": null,
   "id": "28d7901c",
   "metadata": {
    "lines_to_next_cell": 0
   },
   "outputs": [],
   "source": [
    ">>> help(str)"
   ]
  },
  {
   "cell_type": "markdown",
   "id": "3feb9843",
   "metadata": {
    "lines_to_next_cell": 0
   },
   "source": [
    "```\n",
    "Help on class str in module builtins:\n",
    "\n",
    "class str(object)\n",
    " |  str(object='') -> str\n",
    " |  str(bytes_or_buffer[, encoding[, errors]]) -> str\n",
    " |\n",
    " |  Create a new string object from the given object. If encoding or\n",
    " |  errors are specified, then the object must expose a data buffer\n",
    " |  that will be decoded using the given encoding and error handler.\n",
    " |  Otherwise, returns the result of object.__str__() (if defined)\n",
    " |  or repr(object).\n",
    " |  encoding defaults to sys.getdefaultencoding().\n",
    " |  errors defaults to 'strict'.\n",
    " # Truncated for readability\n",
    "```\n",
    "\n",
    "¿Cómo se genera esta salida? Dado que todo en Python es un objeto, puede examinar el directorio del objeto usando el comando `dir()`. Hagámoslo y veamos qué encontramos:"
   ]
  },
  {
   "cell_type": "code",
   "execution_count": null,
   "id": "c1944713",
   "metadata": {
    "lines_to_next_cell": 0
   },
   "outputs": [],
   "source": [
    ">>> dir(str)"
   ]
  },
  {
   "cell_type": "markdown",
   "id": "43a8f834",
   "metadata": {
    "lines_to_next_cell": 0
   },
   "source": [
    "```\n",
    "['__add__', ..., '__doc__', ..., 'zfill'] # Truncated for readability\n",
    "```\n",
    "\n",
    "Dentro de la salida de ese directorio, hay una propiedad interesante, `__doc__`. Si examina esa propiedad, descubrirá esto:"
   ]
  },
  {
   "cell_type": "code",
   "execution_count": null,
   "id": "9a49ca15",
   "metadata": {
    "lines_to_next_cell": 0
   },
   "outputs": [],
   "source": [
    ">>> print(str.__doc__)"
   ]
  },
  {
   "cell_type": "markdown",
   "id": "f9580f27",
   "metadata": {},
   "source": [
    "```\n",
    "str(object='') -> str\n",
    "str(bytes_or_buffer[, encoding[, errors]]) -> str\n",
    "\n",
    "Create a new string object from the given object. If encoding or\n",
    "errors are specified, then the object must expose a data buffer\n",
    "that will be decoded using the given encoding and error handler.\n",
    "Otherwise, returns the result of object.__str__() (if defined)\n",
    "or repr(object).\n",
    "encoding defaults to sys.getdefaultencoding().\n",
    "errors defaults to 'strict'.\n",
    "```\n",
    "\n",
    "¡Voilà! Descubrió dónde se almacenan las docstrings dentro del objeto. Esto significa que puede manipular directamente esa propiedad. Sin embargo, existen restricciones para las incorporaciones:"
   ]
  },
  {
   "cell_type": "code",
   "execution_count": null,
   "id": "fcd71d4a",
   "metadata": {},
   "outputs": [],
   "source": [
    ">>> str.__doc__ = \"I'm a little string doc! Short and stout; here is my input and print me for my out\""
   ]
  },
  {
   "cell_type": "markdown",
   "id": "e883e349",
   "metadata": {},
   "source": [
    "```\n",
    "Traceback (most recent call last):\n",
    "  File \"<stdin>\", line 1, in <module>\n",
    "TypeError: can't set attributes of built-in/extension type 'str'\n",
    "```\n",
    "Se puede manipular cualquier otro objeto personalizado:"
   ]
  },
  {
   "cell_type": "code",
   "execution_count": null,
   "id": "130ba27d",
   "metadata": {},
   "outputs": [],
   "source": [
    "def say_hello(name):\n",
    "    print(f\"Hello {name}, is it me you're looking for?\")\n",
    "\n",
    "say_hello.__doc__ = \"A simple function that says hello... Richie style\""
   ]
  },
  {
   "cell_type": "code",
   "execution_count": null,
   "id": "430bf4ea",
   "metadata": {},
   "outputs": [],
   "source": [
    ">>> help(say_hello)"
   ]
  },
  {
   "cell_type": "markdown",
   "id": "ef8e5e47",
   "metadata": {},
   "source": [
    "```\n",
    "Help on function say_hello in module __main__:\n",
    "\n",
    "say_hello(name)\n",
    "    A simple function that says hello... Richie style\n",
    "```\n",
    "\n",
    "Python tiene una característica más que simplifica la creación de docstrings. En lugar de manipular directamente la propiedad `__doc__`, la ubicación estratégica del\n",
    "ddocstrings directamente debajo del objeto establecerá automáticamente el valor `__doc__`. Esto es lo que sucede con el mismo ejemplo anterior:"
   ]
  },
  {
   "cell_type": "code",
   "execution_count": null,
   "id": "c6c9bf2c",
   "metadata": {},
   "outputs": [],
   "source": [
    "def say_hello(name):\n",
    "    \"\"\"A simple function that says hello... Richie style\"\"\"\n",
    "    print(f\"Hello {name}, is it me you're looking for?\")"
   ]
  },
  {
   "cell_type": "code",
   "execution_count": null,
   "id": "c46d4eb0",
   "metadata": {
    "lines_to_next_cell": 0
   },
   "outputs": [],
   "source": [
    ">>> help(say_hello)"
   ]
  },
  {
   "cell_type": "markdown",
   "id": "4c2aceef",
   "metadata": {
    "lines_to_next_cell": 0
   },
   "source": [
    "```\n",
    "Help on function say_hello in module __main__:\n",
    "\n",
    "say_hello(name)\n",
    "    A simple function that says hello... Richie style\n",
    "```\n",
    "\n",
    "¡Ahí tienes! Ahora comprende el trasfondo de las docstrings. Ha llegado el momento de conocer los diferentes tipos de docstrings y la información que deben contener.\n",
    "\n",
    "## Docstring Types\n",
    "Las convenciones de strings de documentos se describen en [PEP 257](). Su propósito es proporcionar a los usuarios una breve descripción general del objeto. Deben mantenerse lo suficientemente concisos para que sean fáciles de mantener, pero igualmente elaborados para que los nuevos usuarios comprendan su propósito y cómo utilizar el objeto documentado.\n",
    "\n",
    "En todos los casos, las docstrings deben usar el formato de string de comillas triples y dobles (\"\" \"). Esto debe hacerse tanto si el docstrings tiene varias líneas como si no. Como mínimo, un docstrings debe ser un resumen rápido de lo que sea lo que está describiendo y debe estar contenido en una sola línea:"
   ]
  },
  {
   "cell_type": "code",
   "execution_count": null,
   "id": "4a6b4136",
   "metadata": {},
   "outputs": [],
   "source": [
    "\"\"\"This is a quick summary line used as a description of the object.\"\"\""
   ]
  },
  {
   "cell_type": "markdown",
   "id": "431a2813",
   "metadata": {},
   "source": [
    "Los docstrings de varias líneas se utilizan para desarrollar más el objeto más allá del resumen. Todas los docstrings de varias líneas tienen las siguientes partes:\n",
    "\n",
    "* Una línea de resumen de una línea\n",
    "* Una línea en blanco que precede al resumen\n",
    "* Cualquier elaboración adicional para el docstrings\n",
    "* Otra linea en blanco"
   ]
  },
  {
   "cell_type": "code",
   "execution_count": null,
   "id": "39d4f01b",
   "metadata": {},
   "outputs": [],
   "source": [
    "\"\"\"This is the summary line\n",
    "\n",
    "This is the further elaboration of the docstring. Within this section,\n",
    "you can elaborate further on details as appropriate for the situation.\n",
    "Notice that the summary and the elaboration is separated by a blank new\n",
    "line.\n",
    "\"\"\"\n",
    "\n",
    "# Notice the blank line above. Code should continue on this line."
   ]
  },
  {
   "cell_type": "markdown",
   "id": "5346b6ac",
   "metadata": {},
   "source": [
    "Todas las docstrings deben tener la misma longitud máxima de caracteres que los comentarios (72 caracteres). Las docstrings se pueden dividir en tres categorías principales:\n",
    "\n",
    "* **Class Docstrings**: Clase y métodos de clase\n",
    "* **Package and Module Docstrings**: paquete, módulos y funciones\n",
    "* **Script Docstrings**: Script y funciones\n",
    "\n",
    "### Class Docstrings\n",
    "Las docstrings de clase se crean para la propia clase, así como para cualquier método de clase. Los docstrings se colocan inmediatamente después de la clase o método de clase con sangría de un nivel:"
   ]
  },
  {
   "cell_type": "code",
   "execution_count": null,
   "id": "e1f240ff",
   "metadata": {},
   "outputs": [],
   "source": [
    "class SimpleClass:\n",
    "    \"\"\"Class docstrings go here.\"\"\"\n",
    "\n",
    "    def say_hello(self, name: str):\n",
    "        \"\"\"Class method docstrings go here.\"\"\"\n",
    "\n",
    "        print(f'Hello {name}')"
   ]
  },
  {
   "cell_type": "markdown",
   "id": "f70bacd6",
   "metadata": {},
   "source": [
    "Los docstrings de la clase deben contener la siguiente información:\n",
    "\n",
    "* Un breve resumen de su propósito y comportamiento.\n",
    "* Cualquier método público, junto con una breve descripción.\n",
    "* Cualquier propiedad de clase (atributos)\n",
    "* Cualquier cosa relacionada con la [interfaz](https://realpython.com/python-interface/) para subclases, si la clase está destinada a ser subclasificada.\n",
    "\n",
    "Los parámetros del constructor de la clase deben documentarse dentro del docstrings del método de clase `__init__`. Los métodos individuales deben documentarse utilizando sus docstrings individuales. Los docstrings del método de clase deben contener lo siguiente:\n",
    "\n",
    "* Una breve descripción de qué es el método y para qué se utiliza.\n",
    "* Cualquier argumento (obligatorio y opcional) que se pase, incluidos los argumentos de palabras clave.\n",
    "* Etiquete los argumentos que se consideren opcionales o que tengan un valor predeterminado\n",
    "* Cualquier efecto secundario que se produzca al ejecutar el método.\n",
    "* Cualquier excepción que se plantee\n",
    "* Cualquier restricción sobre cuándo se puede llamar al método\n",
    "\n",
    "Tomemos un ejemplo simple de una clase de datos que representa un animal. Esta clase contendrá algunas propiedades de clase, propiedades de instancia, un `__init__` y un [método de instancia](https://realpython.com/instance-class-and-static-methods-demystified/) único:"
   ]
  },
  {
   "cell_type": "code",
   "execution_count": null,
   "id": "7fe62f41",
   "metadata": {},
   "outputs": [],
   "source": [
    "class Animal:\n",
    "    \"\"\"\n",
    "    A class used to represent an Animal\n",
    "\n",
    "    ...\n",
    "\n",
    "    Attributes\n",
    "    ----------\n",
    "    says_str : str\n",
    "        a formatted string to print out what the animal says\n",
    "    name : str\n",
    "        the name of the animal\n",
    "    sound : str\n",
    "        the sound that the animal makes\n",
    "    num_legs : int\n",
    "        the number of legs the animal has (default 4)\n",
    "\n",
    "    Methods\n",
    "    -------\n",
    "    says(sound=None)\n",
    "        Prints the animals name and what sound it makes\n",
    "    \"\"\"\n",
    "\n",
    "    says_str = \"A {name} says {sound}\"\n",
    "\n",
    "    def __init__(self, name, sound, num_legs=4):\n",
    "        \"\"\"\n",
    "        Parameters\n",
    "        ----------\n",
    "        name : str\n",
    "            The name of the animal\n",
    "        sound : str\n",
    "            The sound the animal makes\n",
    "        num_legs : int, optional\n",
    "            The number of legs the animal (default is 4)\n",
    "        \"\"\"\n",
    "\n",
    "        self.name = name\n",
    "        self.sound = sound\n",
    "        self.num_legs = num_legs\n",
    "\n",
    "    def says(self, sound=None):\n",
    "        \"\"\"Prints what the animals name is and what sound it makes.\n",
    "\n",
    "        If the argument `sound` isn't passed in, the default Animal\n",
    "        sound is used.\n",
    "\n",
    "        Parameters\n",
    "        ----------\n",
    "        sound : str, optional\n",
    "            The sound the animal makes (default is None)\n",
    "\n",
    "        Raises\n",
    "        ------\n",
    "        NotImplementedError\n",
    "            If no sound is set for the animal or passed in as a\n",
    "            parameter.\n",
    "        \"\"\"\n",
    "\n",
    "        if self.sound is None and sound is None:\n",
    "            raise NotImplementedError(\"Silent Animals are not supported!\")\n",
    "\n",
    "        out_sound = self.sound if sound is None else sound\n",
    "        print(self.says_str.format(name=self.name, sound=out_sound))"
   ]
  },
  {
   "cell_type": "markdown",
   "id": "cfbd0f6f",
   "metadata": {},
   "source": [
    "### Package and Module Docstrings\n",
    "Los docstrings del paquete deben colocarse en la parte superior del archivo `__init__.py` del paquete. Este docstrings debe enumerar los módulos y subpaquetes que exporta el paquete.\n",
    "\n",
    "Las docstrings del módulo son similares a las docstrings de la clase. En lugar de documentar las clases y los métodos de clase, ahora es el módulo y las funciones que se encuentran dentro. Los docstrings del módulo se colocan en la parte superior del archivo incluso antes de cualquier importación. Los docstrings del módulo deben incluir lo siguiente:\n",
    "\n",
    "* Una breve descripción del módulo y su propósito.\n",
    "* Una lista de las clases, excepciones, funciones y cualquier otro objeto exportado por el módulo.\n",
    "\n",
    "El docstrings de una función de módulo debe incluir los mismos elementos que un método de clase:\n",
    "\n",
    "* Una breve descripción de qué es la función y para qué se utiliza.\n",
    "* Cualquier argumento (obligatorio y opcional) que se pase, incluidos los argumentos de palabras clave.\n",
    "* Etiquete los argumentos que se consideren opcionales\n",
    "* Cualquier efecto secundario que se produzca al ejecutar la función.\n",
    "* Cualquier excepción que se plantee\n",
    "* Cualquier restricción sobre cuándo se puede llamar a la función\n",
    "\n",
    "### Script Docstrings\n",
    "Los scripts se consideran ejecutables de un solo archivo que se ejecutan desde la consola. Las docstrings para scripts se colocan en la parte superior del archivo y deben estar lo suficientemente bien documentadas para que los usuarios puedan tener una comprensión suficiente de cómo usar el script. Debería ser utilizable para su mensaje de \"uso\", cuando el usuario pasa incorrectamente un parámetro o usa la opción -h.\n",
    "\n",
    "Si usa argparse, puede omitir la documentación específica del parámetro, suponiendo que se haya documentado correctamente en el parámetro de ayuda de la función argparser.parser.add_argument. Se recomienda utilizar `__doc__` para el parámetro de descripción dentro del constructor de `argparse.ArgumentParser`. Consulte nuestro [tutorial](https://realpython.com/comparing-python-command-line-parsing-libraries-argparse-docopt-click/) sobre bibliotecas de análisis de línea de comandos para obtener más detalles sobre cómo usar `argparse` y otros analizadores de línea de comando comunes.\n",
    "\n",
    "Finalmente, cualquier importación personalizada o de terceros debe incluirse dentro de las docstrings para permitir a los usuarios saber qué paquetes pueden ser necesarios para ejecutar el script. A continuación, se muestra un ejemplo de una secuencia de comandos que se usa para imprimir simplemente los encabezados de columna de una hoja de cálculo:"
   ]
  },
  {
   "cell_type": "code",
   "execution_count": null,
   "id": "78709d6a",
   "metadata": {},
   "outputs": [],
   "source": [
    "\"\"\"Spreadsheet Column Printer\n",
    "\n",
    "This script allows the user to print to the console all columns in the\n",
    "spreadsheet. It is assumed that the first row of the spreadsheet is the\n",
    "location of the columns.\n",
    "\n",
    "This tool accepts comma separated value files (.csv) as well as excel\n",
    "(.xls, .xlsx) files.\n",
    "\n",
    "This script requires that `pandas` be installed within the Python\n",
    "environment you are running this script in.\n",
    "\n",
    "This file can also be imported as a module and contains the following\n",
    "functions:\n",
    "\n",
    "    * get_spreadsheet_cols - returns the column headers of the file\n",
    "    * main - the main function of the script\n",
    "\"\"\"\n",
    "\n",
    "import argparse\n",
    "\n",
    "import pandas as pd\n",
    "\n",
    "\n",
    "def get_spreadsheet_cols(file_loc, print_cols=False):\n",
    "    \"\"\"Gets and prints the spreadsheet's header columns\n",
    "\n",
    "    Parameters\n",
    "    ----------\n",
    "    file_loc : str\n",
    "        The file location of the spreadsheet\n",
    "    print_cols : bool, optional\n",
    "        A flag used to print the columns to the console (default is\n",
    "        False)\n",
    "\n",
    "    Returns\n",
    "    -------\n",
    "    list\n",
    "        a list of strings used that are the header columns\n",
    "    \"\"\"\n",
    "\n",
    "    file_data = pd.read_excel(file_loc)\n",
    "    col_headers = list(file_data.columns.values)\n",
    "\n",
    "    if print_cols:\n",
    "        print(\"\\n\".join(col_headers))\n",
    "\n",
    "    return col_headers\n",
    "\n",
    "\n",
    "def main():\n",
    "    parser = argparse.ArgumentParser(description=__doc__)\n",
    "    parser.add_argument(\n",
    "        'input_file',\n",
    "        type=str,\n",
    "        help=\"The spreadsheet file to pring the columns of\"\n",
    "    )\n",
    "    args = parser.parse_args()\n",
    "    get_spreadsheet_cols(args.input_file, print_cols=True)\n",
    "\n",
    "\n",
    "if __name__ == \"__main__\":\n",
    "    main()"
   ]
  },
  {
   "cell_type": "markdown",
   "id": "6f43a8a0",
   "metadata": {},
   "source": [
    "## Docstring Formats\n",
    "Es posible que haya notado que, a lo largo de los ejemplos proporcionados en este tutorial, ha habido un formato específico con elementos comunes: argumentos, devoluciones y atributos. Hay formatos de docstrings específicos que se pueden usar para ayudar a los usuarios y a los analizadores de docstrings a tener un formato familiar y conocido. El formato utilizado en los ejemplos de este tutorial son docstrings de estilo NumPy / SciPy. Algunos de los formatos más habituales son los siguientes:\n",
    "\n",
    "| Formatting Type        \t| Description                                                                    \t| Supported by Sphynx \t| Formal Specification \t|\n",
    "|------------------------\t|--------------------------------------------------------------------------------\t|:-------------------:\t|:--------------------:\t|\n",
    "| Google docstrings      \t| Google’s recommended form of documentation                                     \t|         Yes         \t|          No          \t|\n",
    "| reStructuredText       \t| Official Python documentation standard; Not beginner friendly but feature rich \t|         Yes         \t|          Yes         \t|\n",
    "| NumPy/SciPy docstrings \t| NumPy’s combination of reStructuredText and Google Docstrings                  \t|         Yes         \t|          Yes         \t|\n",
    "| Epytext                \t| A Python adaptation of Epydoc; Great for Java developers                       \t|    Not officially   \t|          Yes         \t|\n",
    "\n",
    "La selección del formato de docstrings depende de usted, pero debe seguir con el mismo formato en todo su documento / proyecto. Los siguientes son ejemplos de cada tipo para darle una idea de cómo se ve cada formato de documentación.\n",
    "\n",
    "* **Google Docstrings Example**"
   ]
  },
  {
   "cell_type": "code",
   "execution_count": null,
   "id": "e1626d85",
   "metadata": {},
   "outputs": [],
   "source": [
    "\"\"\"Gets and prints the spreadsheet's header columns\n",
    "\n",
    "Args:\n",
    "    file_loc (str): The file location of the spreadsheet\n",
    "    print_cols (bool): A flag used to print the columns to the console\n",
    "        (default is False)\n",
    "\n",
    "Returns:\n",
    "    list: a list of strings representing the header columns\n",
    "\"\"\""
   ]
  },
  {
   "cell_type": "markdown",
   "id": "827cf3f8",
   "metadata": {},
   "source": [
    "* **reStructuredText Example**"
   ]
  },
  {
   "cell_type": "code",
   "execution_count": null,
   "id": "24227eab",
   "metadata": {},
   "outputs": [],
   "source": [
    "\"\"\"Gets and prints the spreadsheet's header columns\n",
    "\n",
    ":param file_loc: The file location of the spreadsheet\n",
    ":type file_loc: str\n",
    ":param print_cols: A flag used to print the columns to the console\n",
    "    (default is False)\n",
    ":type print_cols: bool\n",
    ":returns: a list of strings representing the header columns\n",
    ":rtype: list\n",
    "\"\"\""
   ]
  },
  {
   "cell_type": "markdown",
   "id": "d079d741",
   "metadata": {},
   "source": [
    "* **NumPy/SciPy Docstrings Example**"
   ]
  },
  {
   "cell_type": "code",
   "execution_count": null,
   "id": "fd12bf7c",
   "metadata": {},
   "outputs": [],
   "source": [
    "\"\"\"Gets and prints the spreadsheet's header columns\n",
    "\n",
    "Parameters\n",
    "----------\n",
    "file_loc : str\n",
    "    The file location of the spreadsheet\n",
    "print_cols : bool, optional\n",
    "    A flag used to print the columns to the console (default is False)\n",
    "\n",
    "Returns\n",
    "-------\n",
    "list\n",
    "    a list of strings representing the header columns\n",
    "\"\"\""
   ]
  },
  {
   "cell_type": "markdown",
   "id": "7699d18f",
   "metadata": {},
   "source": [
    "* **Epytext Example**"
   ]
  },
  {
   "cell_type": "code",
   "execution_count": null,
   "id": "18dbbe0a",
   "metadata": {},
   "outputs": [],
   "source": [
    "\"\"\"Gets and prints the spreadsheet's header columns\n",
    "\n",
    "@type file_loc: str\n",
    "@param file_loc: The file location of the spreadsheet\n",
    "@type print_cols: bool\n",
    "@param print_cols: A flag used to print the columns to the console\n",
    "    (default is False)\n",
    "@rtype: list\n",
    "@returns: a list of strings representing the header columns\n",
    "\"\"\""
   ]
  }
 ],
 "metadata": {
  "jupytext": {
   "cell_metadata_filter": "-all",
   "main_language": "python",
   "notebook_metadata_filter": "-all",
   "text_representation": {
    "extension": ".md",
    "format_name": "markdown"
   }
  }
 },
 "nbformat": 4,
 "nbformat_minor": 5
}

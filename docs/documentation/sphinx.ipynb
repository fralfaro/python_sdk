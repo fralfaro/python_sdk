{
 "cells": [
  {
   "cell_type": "markdown",
   "metadata": {},
   "source": [
    "# Sphinx\n",
    "\n",
    "## Introducción\n",
    "\n",
    "\n",
    "[Sphinx](https://www.sphinx-doc.org/en/master/) es una herramienta que facilita la creación de documentación inteligente y hermosa, escrita por Georg Brandl y con licencia BSD.\n",
    "\n",
    "Fue creado originalmente para la documentación de Python y tiene excelentes facilidades para la documentación de proyectos de software en una variedad de lenguajes. ¡Por supuesto, este sitio también se crea a partir de fuentes reStructuredText utilizando Sphinx! Deben destacarse las siguientes características:\n",
    "\n",
    "* **Formatos de salida**: HTML (incluida la Ayuda HTML de Windows), LaTeX (para versiones en PDF imprimibles), ePub, Texinfo, páginas de manual, texto sin formato\n",
    "* **Referencias cruzadas extensas**: marcado semántico y enlaces automáticos para funciones, clases, citas, términos del glosario y piezas de información similares\n",
    "* **Estructura jerárquica**: definición sencilla de un árbol de documentos, con enlaces automáticos a hermanos, padres e hijos\n",
    "* **Índices automáticos**: índice general así como índices de módulo específicos del idioma\n",
    "* **Manejo de código**: resaltado automático con el resaltador Pygments\n",
    "* **Extensiones**: prueba automática de fragmentos de código, inclusión de cadenas de documentos de módulos de Python (documentos API) y más\n",
    "* **Nuevas Extensiones**: más de 50 extensiones aportadas por los usuarios en un segundo repositorio; la mayoría de ellos instalables desde PyPI\n",
    "\n",
    "\n"
   ]
  },
  {
   "cell_type": "markdown",
   "metadata": {},
   "source": [
    "### Instalación \n",
    "La instalación de Sphinx dependerá del sistema operativo que estés utilizando. Si ya tienes instalado Python, puedes descargar e instalar Sphinx utilizando pip:\n",
    "```terminal\n",
    "$ pip install -U sphinx\n",
    "```"
   ]
  },
  {
   "cell_type": "markdown",
   "metadata": {},
   "source": [
    "## Creación del directorio de trabajo\n",
    "\n",
    "Para crear nuestro directorio de trabajo con ``Sphinx`` mediante línea de comando ejecutamos:\n",
    "\n",
    "```terminal\n",
    "$ sphinx-quickstart [options] [projectdir]\n",
    "```\n",
    "\n",
    "`Sphinx` se encargará de crear varios archivos de configuración y de directorios vacíos que serán utilizados más adelante. Para ver todas las opciones de `sphinx-quickstart` podemos visitar la páguina [Invocation of sphinx-quickstart](https://www.sphinx-doc.org/en/1.4/invocation.html).\n",
    "\n",
    "Acá existen dos formas de crear el proyecto:\n",
    "\n",
    "1. Respondiendo por terminal cada unas de la opciones (nombre poryecto, autor, etc.)\n",
    "2. Setear todos las opciones por línea de comandos.\n",
    "\n",
    "\n",
    "Para efectos prácticos, ocuparemos la segunda opción:"
   ]
  },
  {
   "cell_type": "code",
   "execution_count": 1,
   "metadata": {},
   "outputs": [
    {
     "name": "stdout",
     "output_type": "stream",
     "text": [
      "\n",
      "\u001b[01mFinished: An initial directory structure has been created.\u001b[39;49;00m\n",
      "\n",
      "You should now populate your master file /home/falfaro/PycharmProjects/python_development_tools/python_development_tools/ecosystem/sphinx/docs/index.rst and create other documentation\n",
      "source files. Use the Makefile to build the docs, like so:\n",
      "   make builder\n",
      "where \"builder\" is one of the supported builders, e.g. html, latex or linkcheck.\n",
      "\n"
     ]
    }
   ],
   "source": [
    "# inicializar \n",
    "!sphinx-quickstart \\\n",
    "    --quiet \\\n",
    "    --project= docs \\\n",
    "    --author=faam \\\n",
    "    --release=0.1 \\\n",
    "    --language=es "
   ]
  },
  {
   "cell_type": "markdown",
   "metadata": {},
   "source": [
    "Una vez creado el proyecto, deberiamos ver algo como esto:\n",
    "```terminal\n",
    "docs\n",
    "|  _build\n",
    "|  _static\n",
    "|  _templates\n",
    "|  conf.py\n",
    "|  index.rst\n",
    "|  make.bat\n",
    "|  Makefile\n",
    "\n",
    "```"
   ]
  },
  {
   "cell_type": "markdown",
   "metadata": {},
   "source": [
    "## Primer ejemplo con Sphinx\n",
    "\n",
    "Nuestro ejemplo consiste en documentar el paquete de python denominado `my_project`, el cual consta simplemente de un módulo `.py` (denominado `main.py`).\n"
   ]
  },
  {
   "cell_type": "markdown",
   "metadata": {},
   "source": [
    "\n",
    "Esquema del proyecto:\n",
    "\n",
    "\n",
    "\n",
    "\n",
    "\n",
    "```terminal\n",
    "docs\n",
    "|  _build\n",
    "|  _static\n",
    "|  _templates\n",
    "|  conf.py\n",
    "|  index.rst\n",
    "|  make.bat\n",
    "|  Makefile\n",
    "|\n",
    "my_project\n",
    "|  __init__.py\n",
    "|  main.py\n",
    "\n",
    "```"
   ]
  },
  {
   "cell_type": "markdown",
   "metadata": {},
   "source": [
    "Para poder crear una correcta documentación, es neceario conocer los archivos generados por `Sphinx` y las modificaciones a los archivos `.py`."
   ]
  },
  {
   "cell_type": "markdown",
   "metadata": {},
   "source": [
    "### Archivo `conf.py`\n",
    "\n",
    "El directorio de configuración debe contener un archivo llamado `conf.py`. Este archivo (que contiene código Python) se denomina \"archivo de configuración de compilación\" y contiene (casi) toda la configuración necesaria para personalizar el comportamiento de entrada y salida de Sphinx."
   ]
  },
  {
   "cell_type": "code",
   "execution_count": 2,
   "metadata": {},
   "outputs": [
    {
     "name": "stdout",
     "output_type": "stream",
     "text": [
      "Overwriting docs/conf.py\n"
     ]
    }
   ],
   "source": [
    "%%writefile docs/conf.py\n",
    "# Configuration file for the Sphinx documentation builder.\n",
    "#\n",
    "# This file only contains a selection of the most common options. For a full\n",
    "# list see the documentation:\n",
    "# https://www.sphinx-doc.org/en/master/usage/configuration.html\n",
    "\n",
    "# -- Path setup --------------------------------------------------------------\n",
    "\n",
    "# If extensions (or modules to document with autodoc) are in another directory,\n",
    "# add these directories to sys.path here. If the directory is relative to the\n",
    "# documentation root, use os.path.abspath to make it absolute, like shown here.\n",
    "#\n",
    "import os\n",
    "import sys\n",
    "\n",
    "cwd = os.getcwd()\n",
    "project_root = os.path.dirname(cwd)\n",
    "sys.path.insert(0, project_root)\n",
    "\n",
    "from my_project import __version__  # noqa\n",
    "\n",
    "\n",
    "# -- Project information -----------------------------------------------------\n",
    "\n",
    "project = 'my_project'\n",
    "copyright = '2020, faam'\n",
    "author = 'faam'\n",
    "\n",
    "# The full version, including alpha/beta/rc tags\n",
    "release = __version__\n",
    "\n",
    "\n",
    "# -- General configuration ---------------------------------------------------\n",
    "\n",
    "# Add any Sphinx extension module names here, as strings. They can be\n",
    "# extensions coming with Sphinx (named 'sphinx.ext.*') or your custom\n",
    "# ones.\n",
    "extensions = [\n",
    "    \"sphinx.ext.autodoc\", # Include documentation from docstrings\n",
    "    \"sphinxcontrib.plantuml\", # Sphinx \"plantuml\" extension\n",
    "    \"sphinx-pydantic\", # Autogenerate documentation from pydantic objects in Sphinx\n",
    "    \"sphinxcontrib.bibtex\", # A Sphinx extension for BibTeX style citations. \n",
    "    \"sphinx.ext.mathjax\", # Sphinx supports math in documentation with several extensions\n",
    "]\n",
    "\n",
    "# Add any paths that contain templates here, relative to this directory.\n",
    "templates_path = ['_templates']\n",
    "\n",
    "# The language for content autogenerated by Sphinx. Refer to documentation\n",
    "# for a list of supported languages.\n",
    "#\n",
    "# This is also used if you do content translation via gettext catalogs.\n",
    "# Usually you set \"language\" from the command line for these cases.\n",
    "language = 'es'\n",
    "\n",
    "# List of patterns, relative to source directory, that match files and\n",
    "# directories to ignore when looking for source files.\n",
    "# This pattern also affects html_static_path and html_extra_path.\n",
    "exclude_patterns = ['_build', 'Thumbs.db', '.DS_Store']\n",
    "\n",
    "\n",
    "# -- Options for HTML output -------------------------------------------------\n",
    "\n",
    "# The theme to use for HTML and HTML Help pages.  See the documentation for\n",
    "# a list of builtin themes.\n",
    "#\n",
    "html_theme = \"sphinx_rtd_theme\"\n",
    "\n",
    "# Add any paths that contain custom static files (such as style sheets) here,\n",
    "# relative to this directory. They are copied after the builtin static files,\n",
    "# so a file named \"default.css\" will overwrite the builtin \"default.css\".\n",
    "html_static_path = ['_static']"
   ]
  },
  {
   "cell_type": "markdown",
   "metadata": {},
   "source": [
    "Vayamos desglosando este archivo:\n",
    "\n",
    "1.- En `Path setup` se importa la versión de nuestro paquete `my_project`.\n",
    "\n",
    "```python\n",
    "# -- Path setup --------------------------------------------------------------\n",
    "\n",
    "# If extensions (or modules to document with autodoc) are in another directory,\n",
    "# add these directories to sys.path here. If the directory is relative to the\n",
    "# documentation root, use os.path.abspath to make it absolute, like shown here.\n",
    "#\n",
    "import os\n",
    "import sys\n",
    "\n",
    "cwd = os.getcwd()\n",
    "project_root = os.path.dirname(cwd)\n",
    "sys.path.insert(0, project_root)\n",
    "\n",
    "from my_project import __version__  # noqa\n",
    "```"
   ]
  },
  {
   "cell_type": "markdown",
   "metadata": {},
   "source": [
    "2.- En `Project information` se pone la información del proyecto\n",
    "\n",
    "\n",
    "```python\n",
    "# -- Project information -----------------------------------------------------\n",
    "\n",
    "project = 'my_project'\n",
    "copyright = '2020, faam'\n",
    "author = 'faam'\n",
    "\n",
    "# The full version, including alpha/beta/rc tags\n",
    "release = __version__\n",
    "```"
   ]
  },
  {
   "cell_type": "markdown",
   "metadata": {},
   "source": [
    "3.- En `General configuration` se configura:\n",
    "\n",
    "* `extensiones`: agregar extensiones en la medida que se necesite."
   ]
  },
  {
   "cell_type": "markdown",
   "metadata": {},
   "source": [
    "```python\n",
    "# Add any Sphinx extension module names here, as strings. They can be\n",
    "# extensions coming with Sphinx (named 'sphinx.ext.*') or your custom\n",
    "# ones.\n",
    "extensions = [\n",
    "    \"sphinx.ext.autodoc\", # Include documentation from docstrings\n",
    "    \"sphinxcontrib.plantuml\", # Sphinx \"plantuml\" extension\n",
    "    \"sphinx-pydantic\", # Autogenerate documentation from pydantic objects in Sphinx\n",
    "    \"sphinxcontrib.bibtex\", # A Sphinx extension for BibTeX style citations. \n",
    "    \"sphinx.ext.mathjax\", # Sphinx supports math in documentation with several extensions\n",
    "]\n",
    "\n",
    "```"
   ]
  },
  {
   "cell_type": "markdown",
   "metadata": {},
   "source": [
    "* `idioma`: especificar el idioma de la documentación (en este caso **español**)\n",
    "\n",
    "```python\n",
    "# This is also used if you do content translation via gettext catalogs.\n",
    "# Usually you set \"language\" from the command line for these cases.\n",
    "language = 'es'\n",
    "```"
   ]
  },
  {
   "cell_type": "markdown",
   "metadata": {},
   "source": [
    "4.- También podemos modificar el formato de salida del HTML.\n",
    "\n",
    "```python\n",
    "# -- Options for HTML output -------------------------------------------------\n",
    "\n",
    "# The theme to use for HTML and HTML Help pages.  See the documentation for\n",
    "# a list of builtin themes.\n",
    "#\n",
    "html_theme = \"sphinx_rtd_theme\"\n",
    "```"
   ]
  },
  {
   "cell_type": "markdown",
   "metadata": {},
   "source": [
    "## Archivo `*.rst`\n",
    "\n",
    "Sphinx utiliza como source archivos tipo .rst creados con un lenguaje de marcas denominado [reStructuredText](reStructuredText) (o simplemente reST). Se trata de un \n",
    "tipo de formato similar a markdown, pero con una serie de marcas ampliadas especialmente diseñadas para facilitar el trabajo de documentación automática de código. \n",
    "\n",
    "### reStructuredText Directives\n",
    "\n",
    "Las [directivas de reStructuredText](https://docutils.sourceforge.io/docs/ref/rst/directives.html) son los argumentos que ocupa `reStructuredText` para construir su cuerpo. \n",
    "\n",
    "Las distintas directivas se iran aprendiendo en la medida que se construyan los archivos `.rst`  a ocupar. Algunos ejemplos:\n",
    "\n",
    " * `.. toctree::` \n",
    " * `.. bibliography::`\n",
    " * `.. automodule::`\n",
    " * `.. uml::`\n",
    " * `.. image::`\n",
    " * `.. autofunction::`\n",
    " * `.. autoclass::`\n",
    " * `.. pydantic::`\n"
   ]
  },
  {
   "cell_type": "markdown",
   "metadata": {},
   "source": [
    "### Archivo `index.rst`"
   ]
  },
  {
   "cell_type": "markdown",
   "metadata": {},
   "source": [
    "Por defecto, se viene con el archivo `index.rst`, que corresponde al índice del archivo html que se genera, en él pondremos los archivos `*.rst` que se quieren mostrar en la documentación."
   ]
  },
  {
   "cell_type": "code",
   "execution_count": 3,
   "metadata": {},
   "outputs": [
    {
     "name": "stdout",
     "output_type": "stream",
     "text": [
      "Overwriting docs/index.rst\n"
     ]
    }
   ],
   "source": [
    "%%writefile docs/index.rst\n",
    "..  documentation master file, created by\n",
    "   sphinx-quickstart on Sun Sep 27 12:49:37 2020.\n",
    "   You can adapt this file completely to your liking, but it should at least\n",
    "   contain the root `toctree` directive.\n",
    "\n",
    "Welcome to my_project's documentation!\n",
    "=======================================\n",
    "\n",
    ".. toctree::\n",
    "   :maxdepth: 2\n",
    "   :caption: Contents:\n",
    "\n",
    "   main\n",
    "   references\n",
    "\n",
    "\n",
    "Indices and tables\n",
    "==================\n",
    "\n",
    "* :ref:`genindex`\n",
    "* :ref:`modindex`\n",
    "* :ref:`search`"
   ]
  },
  {
   "cell_type": "markdown",
   "metadata": {},
   "source": [
    "1.- Se agrega el nombre del título de la docuemntación\n",
    "```rst\n",
    "Welcome to my_project's documentation!\n",
    "=======================================\n",
    "```"
   ]
  },
  {
   "cell_type": "markdown",
   "metadata": {},
   "source": [
    "2.- Se agregan los archivos `main` y `reference`:\n",
    "```rst\n",
    "   main\n",
    "   references\n",
    "```"
   ]
  },
  {
   "cell_type": "markdown",
   "metadata": {},
   "source": [
    "Esta forma de referenciar, hace mención a los archivos:\n",
    "\n",
    "* `main.rst`: información del módulo `main.py`\n",
    "* `refrences.rst`: información de las bibiliografias ocupadas.\n",
    "\n",
    "\n",
    "### Archivo `refrences.rst`\n",
    "\n",
    "El archivo `refrences.rst` mostrará en la docuemntación toda la bibliografía ocupada. Se trabaja una estructura similar a la de `Latex`, creando un archivo `references.bib` con todas las referencias."
   ]
  },
  {
   "cell_type": "code",
   "execution_count": 4,
   "metadata": {},
   "outputs": [
    {
     "name": "stdout",
     "output_type": "stream",
     "text": [
      "Writing docs/references.bib\n"
     ]
    }
   ],
   "source": [
    "%%writefile docs/references.bib\n",
    "@article{dijkstra2017,\n",
    "author = {Dijkstra, Arjan and Roodbergen, Kees Jan},\n",
    "year = {2017},\n",
    "month = {04},\n",
    "pages = {},\n",
    "title = {Exact route-length formulas and a storage location assignment heuristic for picker-to-parts warehouses},\n",
    "volume = {102},\n",
    "journal = {Transportation Research Part E Logistics and Transportation Review},\n",
    "doi = {10.1016/j.tre.2017.04.003}\n",
    "}"
   ]
  },
  {
   "cell_type": "markdown",
   "metadata": {},
   "source": [
    "Ahora  queda mostrar la información del archivo `.bib` en el archivo `references.rst`"
   ]
  },
  {
   "cell_type": "code",
   "execution_count": 5,
   "metadata": {},
   "outputs": [
    {
     "name": "stdout",
     "output_type": "stream",
     "text": [
      "Writing docs/references.rst\n"
     ]
    }
   ],
   "source": [
    "%%writefile docs/references.rst\n",
    "Referencias\n",
    "===========\n",
    "\n",
    ".. bibliography:: references.bib\n",
    "    :style: unsrt\n",
    "    :all:"
   ]
  },
  {
   "cell_type": "markdown",
   "metadata": {},
   "source": [
    "## Archivo `main.rst`\n",
    "\n",
    "Acá va toda la información del módulo `main.py`( paquete `my_project`). Por otro lado, si existiesen otros módulo del paquete `my_project` sería ideal crear otros archivos `.rst`."
   ]
  },
  {
   "cell_type": "code",
   "execution_count": 6,
   "metadata": {},
   "outputs": [
    {
     "name": "stdout",
     "output_type": "stream",
     "text": [
      "Writing docs/main.rst\n"
     ]
    }
   ],
   "source": [
    "%%writefile docs/main.rst\n",
    "Main\n",
    "============\n",
    "\n",
    ".. uml:: diagrams/example.puml\n",
    "\n",
    ".. automodule:: my_project.main"
   ]
  },
  {
   "cell_type": "markdown",
   "metadata": {},
   "source": [
    "## Crear Proyecto\n",
    "\n",
    "Con los archivos `.rst` configurados, se puede poner manos a la obra con la documentación de los archivos `.py`. Nuestro ejemplos mostrará imagenes y diagramas de `plantuml`, los cuales se agregan a la carpeta `docs`."
   ]
  },
  {
   "cell_type": "code",
   "execution_count": 7,
   "metadata": {},
   "outputs": [],
   "source": [
    "# agregar imagenes a docs\n",
    "!cp -R img/ docs/"
   ]
  },
  {
   "cell_type": "code",
   "execution_count": 8,
   "metadata": {},
   "outputs": [],
   "source": [
    "# agregar diagramas plantuml a docs\n",
    "!cp -R diagrams/ docs/"
   ]
  },
  {
   "cell_type": "code",
   "execution_count": 9,
   "metadata": {},
   "outputs": [],
   "source": [
    "# crear directorio del proyecto\n",
    "!mkdir my_project "
   ]
  },
  {
   "cell_type": "code",
   "execution_count": 10,
   "metadata": {},
   "outputs": [],
   "source": [
    "# crear archivo __init__.py\n",
    "!cp -R  __init__.py my_project "
   ]
  },
  {
   "cell_type": "markdown",
   "metadata": {},
   "source": [
    "### Archivo `main.py`"
   ]
  },
  {
   "cell_type": "markdown",
   "metadata": {},
   "source": [
    "Para este archivo documentaremos una función y dos clases, donde una clase será nativa de python y otra seguirá los estándares de `pydantic`.  "
   ]
  },
  {
   "cell_type": "code",
   "execution_count": 11,
   "metadata": {},
   "outputs": [
    {
     "name": "stdout",
     "output_type": "stream",
     "text": [
      "Writing my_project/main.py\n"
     ]
    }
   ],
   "source": [
    "%%writefile my_project/main.py\n",
    "\n",
    "# -*- coding: utf-8 -*-\n",
    "\"\"\"\n",
    "Main\n",
    "============\n",
    ".. autofunction:: calcular_pi\n",
    ".. autoclass:: RoutingStrategy\n",
    ".. pydantic:: my_project.main.OrdenTrabajo\n",
    "\n",
    "\"\"\"\n",
    "\n",
    "import abc\n",
    "from pydantic import BaseModel, validator\n",
    "from typing import List, Set, Optional, Generator\n",
    "from enum import Enum\n",
    "import os\n",
    "\n",
    "class OrdenTrabajo(BaseModel):\n",
    "    \"\"\"Esta clase representa una Orden de Trabajo\"\"\"\n",
    "\n",
    "    sku_ids: Set[int]\n",
    "\n",
    "def calcular_pi(n:int)->float:\n",
    "    \"\"\"\n",
    "    Aproximacion del valor de pi mediante el método de Leibniz\n",
    "\n",
    "    :math:`\\displaystyle \\pi = 4 \\\\sum_{k=1}^{\\\\infty}\\\\dfrac{(-1)^{k+1}}{2k-1} = 4(1-\\\\dfrac{1}{3}+\\\\dfrac{1}{5}-\\\\dfrac{1}{7} + ...)`\n",
    "\n",
    "    :param n: Numero de terminos\n",
    "    :return: Valor aproximado de pi\n",
    "    :ejemplos:\n",
    "    \n",
    "    >>> calcular_pi(3)\n",
    "    3.466666666666667\n",
    "\n",
    "    >>> calcular_pi(1000)\n",
    "    3.140592653839794\n",
    "    \"\"\"\n",
    "\n",
    "    pi = 0 # valor incial\n",
    "    for k in range(1,n+1):\n",
    "        numerador = (-1)**(k+1) # numerador de la iteracion i\n",
    "        denominador = 2*k-1  # denominador de la iteracion i\n",
    "        pi+=numerador/denominador # suma hasta el i-esimo termino\n",
    "\n",
    "    return 4*pi\n",
    "\n",
    "class RoutingStrategy(str, Enum):\n",
    "    \"\"\"\n",
    "    Enumeración de las distintas formas de ruteo dentro de un centro de\n",
    "    distribución:\n",
    "    \n",
    "\n",
    "    .. image:: img/routing_strategies.png\n",
    "    \n",
    "\n",
    "    Ver :cite:`dijkstra2017` para más detalles.\n",
    "    \n",
    "    \"\"\"\n",
    "\n",
    "    RETURN = \"RETURN\"\n",
    "    S_SHAPE = \"S\"\n",
    "    LARGEST_GAP = \"LARGEST GAP\"\n",
    "    MIDPOINT = \"MIDPOINT\""
   ]
  },
  {
   "cell_type": "markdown",
   "metadata": {},
   "source": [
    "### Información importante a destacar"
   ]
  },
  {
   "cell_type": "markdown",
   "metadata": {},
   "source": [
    "1.- Encabezado: se debe ocupar las directivas de `reST` para instanciar las clases (y funciones) que irán en la documentación.  Estas directivas dependerá del objeto ocupado en python.\n",
    "```python\n",
    "# -*- coding: utf-8 -*-\n",
    "\"\"\"\n",
    "Main\n",
    "============\n",
    ".. autofunction:: calcular_pi\n",
    ".. autoclass:: RoutingStrategy\n",
    ".. pydantic:: my_project.main.OrdenTrabajo\n",
    "\n",
    "\"\"\"\n",
    "```"
   ]
  },
  {
   "cell_type": "markdown",
   "metadata": {},
   "source": [
    "2.- Para agregar imagenes se ocupa la directiva `.. image::`. Para agregar citas se ocupa la directiva `:cite:`. "
   ]
  },
  {
   "cell_type": "markdown",
   "metadata": {},
   "source": [
    "```python\n",
    "class RoutingStrategy(str, Enum):\n",
    "    \"\"\"\n",
    "    Enumeración de las distintas formas de ruteo dentro de un centro de\n",
    "    distribución:\n",
    "    \n",
    "\n",
    "    .. image:: img/routing_strategies.png\n",
    "    \n",
    "\n",
    "    Ver :cite:`dijkstra2017` para más detalles.\n",
    "    \n",
    "    \"\"\"\n",
    "\n",
    "    RETURN = \"RETURN\"\n",
    "    S_SHAPE = \"S\"\n",
    "    LARGEST_GAP = \"LARGEST GAP\"\n",
    "    MIDPOINT = \"MIDPOINT\"\n",
    "```"
   ]
  },
  {
   "cell_type": "markdown",
   "metadata": {},
   "source": [
    "## ¡ Crear documentación !\n",
    "\n",
    "Si se ha seguido los pasos correctamente, se puede generar la documentación del paquete `my_project` (en este caso, en HTML). Para crear la documentación, es necesario moverse a la carpeta `docs` y ejecutar por línea de comando `make html`"
   ]
  },
  {
   "cell_type": "code",
   "execution_count": 12,
   "metadata": {},
   "outputs": [
    {
     "name": "stdout",
     "output_type": "stream",
     "text": [
      "\u001b[01mRunning Sphinx v3.2.1\u001b[39;49;00m\n",
      "\u001b[01mloading translations [es]... \u001b[39;49;00mdone\n",
      "\u001b[01mmaking output directory... \u001b[39;49;00mdone\n",
      "\u001b[01mbuilding [mo]: \u001b[39;49;00mtargets for 0 po files that are out of date\n",
      "\u001b[01mbuilding [html]: \u001b[39;49;00mtargets for 3 source files that are out of date\n",
      "\u001b[01mupdating environment: \u001b[39;49;00m[new config] 3 added, 0 changed, 0 removed\n",
      "\u001b[01mchecking for /home/falfaro/PycharmProjects/python_development_tools/python_development_tools/ecosystem/sphinx/docs/references.bib in bibtex cache... \u001b[39;49;00mnot found\n",
      "\u001b[01mparsing bibtex file /home/falfaro/PycharmProjects/python_development_tools/python_development_tools/ecosystem/sphinx/docs/references.bib... \u001b[39;49;00mparsed 1 entries\n",
      "\n",
      "\u001b[01mlooking for now-outdated files... \u001b[39;49;00mnone found\n",
      "\u001b[01mpickling environment... \u001b[39;49;00mdone\n",
      "\u001b[01mchecking consistency... \u001b[39;49;00mdone\n",
      "\u001b[01mpreparing documents... \u001b[39;49;00mdone\n",
      "\u001b[01mwriting output... \u001b[39;49;00m[100%] \u001b[32mreferences\u001b[39;49;00m                                             \n",
      "\u001b[01mgenerating indices... \u001b[39;49;00m genindex py-modindexdone\n",
      "\u001b[01mwriting additional pages... \u001b[39;49;00m searchdone\n",
      "\u001b[01mcopying images... \u001b[39;49;00m[100%] \u001b[33mimg/routing_strategies.png\u001b[39;49;00m                             \n",
      "\u001b[01mcopying static files... ... \u001b[39;49;00mdone\n",
      "\u001b[01mcopying extra files... \u001b[39;49;00mdone\n",
      "\u001b[01mdumping search index in Spanish (code: es)... \u001b[39;49;00mdone\n",
      "\u001b[01mdumping object inventory... \u001b[39;49;00mdone\n",
      "\u001b[01mbuild succeeded.\u001b[39;49;00m\n",
      "\n",
      "The HTML pages are in _build/html.\n"
     ]
    }
   ],
   "source": [
    "!cd docs && make html"
   ]
  },
  {
   "cell_type": "markdown",
   "metadata": {},
   "source": [
    "La documentación estará disponible en la carpeta `docs/_build/html/`. Se accede a la documentación mediante el navegador de **Google Chrome** ejecutando:"
   ]
  },
  {
   "cell_type": "code",
   "execution_count": null,
   "metadata": {},
   "outputs": [],
   "source": [
    "#!cd docs/_build/html && google-chrome index.html"
   ]
  },
  {
   "cell_type": "markdown",
   "metadata": {},
   "source": [
    "**Observación**: al final de cada presentación, se eliminan los archivos que generamos de manera temporal."
   ]
  },
  {
   "cell_type": "code",
   "execution_count": null,
   "metadata": {},
   "outputs": [],
   "source": [
    "# eliminar archivos temporales\n",
    "!rm -r docs my_project"
   ]
  }
 ],
 "metadata": {
  "kernelspec": {
   "display_name": "Python 3",
   "language": "python",
   "name": "python3"
  },
  "language_info": {
   "codemirror_mode": {
    "name": "ipython",
    "version": 3
   },
   "file_extension": ".py",
   "mimetype": "text/x-python",
   "name": "python",
   "nbconvert_exporter": "python",
   "pygments_lexer": "ipython3",
   "version": "3.8.10"
  }
 },
 "nbformat": 4,
 "nbformat_minor": 4
}

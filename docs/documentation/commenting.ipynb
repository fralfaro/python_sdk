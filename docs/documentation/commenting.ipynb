{
 "cells": [
  {
   "cell_type": "markdown",
   "id": "440f930c",
   "metadata": {},
   "source": [
    "# Comentar vs documentar \n",
    "Antes de que podamos profundizar en cómo documentar su código Python, debemos distinguir entre documentar y comentar.\n",
    "\n",
    "En general, comentar es describir su código a / para desarrolladores. La audiencia principal prevista son los mantenedores y desarrolladores del código Python. Junto con un código bien escrito, los comentarios ayudan a guiar al lector a comprender mejor su código y su propósito y diseño:\n",
    "> **Code tells you how; Comments tell you why** — Jeff Atwood (aka Coding Horror)\n",
    "\n",
    "Documentar código es describir su uso y funcionalidad a sus usuarios. Si bien puede ser útil en el proceso de desarrollo, el público objetivo principal son los usuarios. La siguiente sección describe cómo y cuándo comentar su código.\n",
    "\n",
    "## Conceptos básicos del código de comentarios\n",
    "Los comentarios se crean en Python usando el signo de almohadilla (#) y deben ser declaraciones breves de no más de unas pocas oraciones. A continuación, se muestra un ejemplo sencillo:"
   ]
  },
  {
   "cell_type": "code",
   "execution_count": null,
   "id": "c3295a80",
   "metadata": {},
   "outputs": [],
   "source": [
    "def hello_world():\n",
    "    # A simple comment preceding a simple print statement\n",
    "    print(\"Hello World\")"
   ]
  },
  {
   "cell_type": "markdown",
   "id": "52dcd581",
   "metadata": {},
   "source": [
    "Según [PEP 8](https://pep8.org/#maximum-line-length), los comentarios deben tener una longitud máxima de 72 caracteres. Esto es cierto incluso si su proyecto cambia la longitud máxima de la línea para que sea mayor que los 80 caracteres recomendados. Si un comentario va a ser mayor que el límite de caracteres del comentario, es apropiado usar varias líneas para el comentario:"
   ]
  },
  {
   "cell_type": "code",
   "execution_count": null,
   "id": "72e5874f",
   "metadata": {},
   "outputs": [],
   "source": [
    "def hello_long_world():\n",
    "    # A very long statement that just goes on and on and on and on and\n",
    "    # never ends until after it's reached the 80 char limit\n",
    "    print(\"Hellooooooooooooooooooooooooooooooooooooooooooooooooooooooo World\")"
   ]
  },
  {
   "cell_type": "markdown",
   "id": "f3e8472a",
   "metadata": {},
   "source": [
    "Comentar su código tiene varios propósitos, que incluyen:\n",
    "\n",
    "* **Planificación y revisión**: cuando está desarrollando nuevas partes de su código, puede ser apropiado utilizar primero los comentarios como una forma de planificar o delinear esa sección de código. Recuerde eliminar estos comentarios una vez que se haya implementado y revisado / probado la codificación real:"
   ]
  },
  {
   "cell_type": "code",
   "execution_count": null,
   "id": "3ecc1008",
   "metadata": {},
   "outputs": [],
   "source": [
    "# First step\n",
    "# Second step\n",
    "# Third step"
   ]
  },
  {
   "cell_type": "markdown",
   "id": "614d6c96",
   "metadata": {},
   "source": [
    "* **Descripción del código**: los comentarios se pueden utilizar para explicar la intención de secciones específicas del código:"
   ]
  },
  {
   "cell_type": "code",
   "execution_count": null,
   "id": "2b90f015",
   "metadata": {},
   "outputs": [],
   "source": [
    "# Attempt a connection based on previous settings. If unsuccessful,\n",
    "# prompt user for new settings."
   ]
  },
  {
   "cell_type": "markdown",
   "id": "3107161e",
   "metadata": {},
   "source": [
    "* **Descripción algorítmica**: cuando se utilizan algoritmos, especialmente los complicados, puede ser útil explicar cómo funciona el algoritmo o cómo se implementa dentro de su código. También puede ser apropiado describir por qué se seleccionó un algoritmo específico sobre otro."
   ]
  },
  {
   "cell_type": "code",
   "execution_count": null,
   "id": "04c2582c",
   "metadata": {
    "lines_to_next_cell": 0
   },
   "outputs": [],
   "source": [
    "# Using quick sort for performance gains"
   ]
  },
  {
   "cell_type": "markdown",
   "id": "90a36a95",
   "metadata": {},
   "source": [
    "* **Tagging**: el uso de etiquetado se puede utilizar para etiquetar secciones específicas de código donde se encuentran problemas conocidos o áreas de mejora. Algunos ejemplos son: BUG, FIXME y TODO."
   ]
  },
  {
   "cell_type": "code",
   "execution_count": null,
   "id": "0b84b4da",
   "metadata": {},
   "outputs": [],
   "source": [
    "# TODO: Add condition for when val is None"
   ]
  },
  {
   "cell_type": "markdown",
   "id": "246f3fa3",
   "metadata": {},
   "source": [
    "Los comentarios a su código deben ser breves y enfocados. Evite el uso de comentarios largos cuando sea posible. Además, debe utilizar las siguientes cuatro reglas esenciales sugeridas por [Jeff Atwood](https://blog.codinghorror.com/when-good-comments-go-bad/):\n",
    "\n",
    "* Mantenga los comentarios lo más cerca posible del código que se describe. Los comentarios que no están cerca de su código descriptivo son frustrantes para el lector y se pierden fácilmente cuando se realizan actualizaciones.\n",
    "\n",
    "* No utilice formatos complejos (como tablas o figuras ASCII). El formato complejo genera contenido que distrae y puede ser difícil de mantener con el tiempo.\n",
    "\n",
    "* No incluya información redundante. Suponga que el lector del código tiene un conocimiento básico de los principios de programación y la sintaxis del lenguaje.\n",
    "\n",
    "+ Diseña tu código para comentarlo. La forma más fácil de entender el código es leyéndolo. Cuando diseñe su código utilizando conceptos claros y fáciles de entender, el lector podrá conceptualizar rápidamente su intención.\n",
    "\n",
    "Recuerde que los comentarios están diseñados para el lector, incluido usted mismo, para ayudarlo a guiarlo en la comprensión del propósito y el diseño del software."
   ]
  },
  {
   "cell_type": "markdown",
   "id": "13007d92",
   "metadata": {},
   "source": [
    "## Comentario de código a través de sugerencias de tipo \n",
    "La sugerencia de tipo se agregó a Python 3.5 y es un formulario adicional para ayudar a los lectores de su código. De hecho, lleva la cuarta sugerencia de Jeff de arriba al siguiente nivel. Permite al desarrollador diseñar y explicar partes de su código sin comentar. A continuación, se muestra un ejemplo rápido:"
   ]
  },
  {
   "cell_type": "code",
   "execution_count": null,
   "id": "97d382e2",
   "metadata": {},
   "outputs": [],
   "source": [
    "def hello_name(name: str) -> str:\n",
    "    return(f\"Hello {name}\")"
   ]
  },
  {
   "cell_type": "markdown",
   "id": "1a9cbaa5",
   "metadata": {},
   "source": [
    "Al examinar la sugerencia de tipo, puede saber inmediatamente que la función espera que el nombre de entrada sea de un tipo str o string. También puede decir que la salida esperada de la función será de tipo str, o string, también. Si bien las sugerencias de tipo ayudan a reducir los comentarios, tenga en cuenta que hacerlo también puede generar un trabajo adicional al crear o actualizar la documentación de su proyecto.\n",
    "\n",
    "Puede obtener más información sobre las sugerencias de tipo y la verificación de tipo en este [video creado por Dan Bader](https://www.youtube.com/watch?v=2xWhaALHTvU&ab_channel=RealPython)."
   ]
  }
 ],
 "metadata": {
  "jupytext": {
   "cell_metadata_filter": "-all",
   "main_language": "python",
   "notebook_metadata_filter": "-all",
   "text_representation": {
    "extension": ".md",
    "format_name": "markdown"
   }
  }
 },
 "nbformat": 4,
 "nbformat_minor": 5
}

{
 "cells": [
  {
   "cell_type": "markdown",
   "metadata": {},
   "source": [
    "# Pre-commit\n",
    "\n",
    "## Introducción"
   ]
  },
  {
   "cell_type": "markdown",
   "metadata": {},
   "source": [
    "La revisión de código es una etapa importante en los proyectos de desarrollo de software, puesto que es en ella donde vamos aprendiendo de la forma de programar de otros integrantes del equipo. No obstante, existen algunos inconvenientes al momento de la revisión que nos gustaría mejorar:\n",
    "\n",
    "* Menos tiempo comentando el formato del código y más tiempo discutiendo la lógica del código\n",
    "* Menos problemas para detectar errores de formato (\"¿realmente puede ver ese espacio en blanco al final de la línea 76?\")\n",
    "* Deja de parecer quisquilloso (\"Pon dos líneas en blanco entre las definiciones de funciones\")\n",
    "\n",
    "Si pudiera automatizar los procesos anteriores y eliminar el humano en el ciclo, podríamos centrarnos más en la lógica y la implementación del código. Para ello existen los [Git hooks](https://git-scm.com/book/en/v2/Customizing-Git-Git-Hooks), específicamente los `pre-commit hook`. Estos les permite ejecutar automáticamente un breve script antes del `commit`. \n",
    "\n",
    "Antes de enviar mis archivos de Python preparados, [black](https://github.com/psf/black) formatea mi código y [flake8](https://pypi.org/project/flake8/) verifica mi cumplimiento con PEP8. Si todo pasa, se realiza el `commit`. Si no es así, realizo las ediciones necesarias y se hace un ``commit`` de nuevo. Se dedica menos tiempo al formateo del código, por lo que puedo centrarme más en la lógica del código."
   ]
  },
  {
   "cell_type": "markdown",
   "metadata": {},
   "source": [
    "<img src=\"images/precommit_pipeline.png\" alt=\"Girl in a jacket\" align = \"center\">\n"
   ]
  },
  {
   "cell_type": "markdown",
   "metadata": {},
   "source": [
    "## The pre-commit Python framework\n",
    "\n",
    "Para adoptar el `pre-commit` en nuestro sistema, simplemente realizamos las siguientes acciones:\n",
    "\n",
    "* Instalar `pre-commit`: pip install pre-commit\n",
    "* Agregue `pre-commit` a requirements.txt (o requirements-dev.txt)\n",
    "* Defina `.pre-commit-config.yaml` con los `hooks` que desea incluir.\n",
    "* Ejecute `pre-commit install` para instalar `git hooks` en su directorio .git /.\n",
    "\n",
    "\n",
    "El archivo YAML configura las fuentes de donde se tomarán los `hooks`. En nuestro caso, `flake8` ya se ha incluido en este marco, por lo que solo necesitamos especificar su id. Por otro lado, necesitamos definir dónde obtener `black` usando pocas líneas de código. A continuación se muestra un archivo `.pre-commit-config.yaml` de ejemplo:"
   ]
  },
  {
   "cell_type": "markdown",
   "metadata": {},
   "source": [
    "\n",
    "\n",
    "```yaml\n",
    "repos:\n",
    "-   repo: https://github.com/ambv/black\n",
    "    rev: stable\n",
    "    hooks:\n",
    "    - id: black\n",
    "      language_version: python3.6\n",
    "-   repo: https://gitlab.com/pycqa/flake8\n",
    "    rev: 3.7.9\n",
    "    hooks:\n",
    "    - id: flake8\n",
    "```"
   ]
  },
  {
   "cell_type": "markdown",
   "metadata": {},
   "source": [
    "```toml\n",
    "[flake8]\n",
    "ignore = E203, E266, E501, W503, F403, F401\n",
    "max-line-length = 79\n",
    "max-complexity = 18\n",
    "select = B,C,E,F,W,T4,B9\n",
    "```"
   ]
  },
  {
   "cell_type": "markdown",
   "metadata": {},
   "source": [
    "### Resultado\n",
    "\n",
    "Ahora que tenemos un marco de trabajo previo a la confirmación con `black` y `flake8`, ¡veámoslo en acción! \n"
   ]
  },
  {
   "cell_type": "markdown",
   "metadata": {},
   "source": [
    "<img src=\"images/precommit_demo.gif\" alt=\"Girl in a jacket\" width=\"800\" height=\"400\" align = \"center\">\n",
    "\n",
    "\n",
    "\n"
   ]
  }
 ],
 "metadata": {
  "kernelspec": {
   "display_name": "Python 3",
   "language": "python",
   "name": "python3"
  },
  "language_info": {
   "codemirror_mode": {
    "name": "ipython",
    "version": 3
   },
   "file_extension": ".py",
   "mimetype": "text/x-python",
   "name": "python",
   "nbconvert_exporter": "python",
   "pygments_lexer": "ipython3",
   "version": "3.8.8"
  }
 },
 "nbformat": 4,
 "nbformat_minor": 4
}

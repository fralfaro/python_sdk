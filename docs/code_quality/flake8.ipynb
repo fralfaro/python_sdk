{
 "cells": [
  {
   "cell_type": "markdown",
   "metadata": {},
   "source": [
    "# Flake8 \n",
    "\n",
    "`Flake8` es una herramienta poderosa que verifica el cumplimiento de nuestro código con `PEP8`. `Flake8` es un wrapper de estas herramientas:\n",
    "\n",
    "* PyFlakes\n",
    "* pycodestyle\n",
    "* El guión de McCabe de Ned Batchelder\n",
    "\n",
    "`Flake8` ejecuta todas las herramientas ejecutando el único comando flake8. Muestra las advertencias en una salida combinada por archivo.\n",
    "\n"
   ]
  },
  {
   "cell_type": "markdown",
   "metadata": {},
   "source": [
    "### Instalación\n",
    "\n",
    "Si desea que Flake8 se instale para su instalación predeterminada de Python, puede usar:\n",
    "```terminal\n",
    "# using pip (pip3)\n",
    "$ pip install flake8\n",
    "\n",
    "# using pipenv\n",
    "$ pipenv install flake8\n",
    "\n",
    "# using poetry\n",
    "$ poetry add flake8\n",
    "```"
   ]
  },
  {
   "cell_type": "markdown",
   "metadata": {},
   "source": [
    "## Uso\n",
    "\n",
    "Veamos un ejemplo sencillo:"
   ]
  },
  {
   "cell_type": "code",
   "execution_count": 12,
   "metadata": {},
   "outputs": [
    {
     "name": "stdout",
     "output_type": "stream",
     "text": [
      "Overwriting example_01.py\n"
     ]
    }
   ],
   "source": [
    "%%writefile example_01.py\n",
    "def is_unique( \n",
    "               s \n",
    "               ): \n",
    "    \"\"\"\n",
    "    Black is the uncompromising Python code formatter. By using it, you agree to cede control over minutiae of hand-formatting. \n",
    "    \"\"\"\n",
    "    s = list(s \n",
    "                ) \n",
    "    s.sort() \n",
    "  \n",
    "  \n",
    "    for i in range(len(s) - 1): \n",
    "        if s[i] == s[i + 1]: \n",
    "            return 0\n",
    "    else: \n",
    "        return 1\n",
    "  \n",
    "  \n",
    "if __name__ == \"__main__\": \n",
    "    print( \n",
    "          is_unique(input()) \n",
    "         )     "
   ]
  },
  {
   "cell_type": "markdown",
   "metadata": {},
   "source": [
    "Ocupemos `flake8` para analizar nuestro código:"
   ]
  },
  {
   "cell_type": "code",
   "execution_count": 13,
   "metadata": {},
   "outputs": [
    {
     "name": "stdout",
     "output_type": "stream",
     "text": [
      "example_01.py:1:15: W291 trailing whitespace\n",
      "example_01.py:2:17: W291 trailing whitespace\n",
      "example_01.py:3:18: W291 trailing whitespace\n",
      "example_01.py:5:80: E501 line too long (127 > 79 characters)\n",
      "example_01.py:5:128: W291 trailing whitespace\n",
      "example_01.py:7:15: W291 trailing whitespace\n",
      "example_01.py:8:17: E124 closing bracket does not match visual indentation\n",
      "example_01.py:8:18: W291 trailing whitespace\n",
      "example_01.py:9:13: W291 trailing whitespace\n",
      "example_01.py:10:1: W293 blank line contains whitespace\n",
      "example_01.py:11:1: W293 blank line contains whitespace\n",
      "example_01.py:12:5: E303 too many blank lines (2)\n",
      "example_01.py:12:32: W291 trailing whitespace\n",
      "example_01.py:13:29: W291 trailing whitespace\n",
      "example_01.py:15:10: W291 trailing whitespace\n",
      "example_01.py:17:1: W293 blank line contains whitespace\n",
      "example_01.py:18:1: W293 blank line contains whitespace\n",
      "example_01.py:19:27: W291 trailing whitespace\n",
      "example_01.py:20:11: W291 trailing whitespace\n",
      "example_01.py:21:29: W291 trailing whitespace\n",
      "example_01.py:22:11: W291 trailing whitespace\n"
     ]
    }
   ],
   "source": [
    "!python -m flake8 example_01.py"
   ]
  },
  {
   "cell_type": "markdown",
   "metadata": {},
   "source": [
    "`flake8` nos muestra una lista detallada de:\n",
    "\n",
    "* nombre del código que no esta cumpliendo alguna política de flake8\n",
    "* línea que no esta cumpliendo alguna de las políticas de flake8 \n",
    "* regla o política de flake8 que se esta rompiendo\n",
    "\n",
    "*( Para ver algunas de las reglas de `flake8` conculte el siguiente [link](https://www.flake8rules.com/) )*"
   ]
  },
  {
   "cell_type": "markdown",
   "metadata": {},
   "source": [
    "Veamos qué sucede si el código está escrito correctamente:"
   ]
  },
  {
   "cell_type": "code",
   "execution_count": 33,
   "metadata": {},
   "outputs": [
    {
     "name": "stdout",
     "output_type": "stream",
     "text": [
      "Overwriting example_01.py\n"
     ]
    }
   ],
   "source": [
    "%%writefile example_01.py\n",
    "def is_unique(s):\n",
    "    \"\"\"\n",
    "    Black is the uncompromising Python code formatter.\n",
    "    By using it, you agree to cede control over minutiae of hand-formatting.\n",
    "    \"\"\"\n",
    "    s = list(s)\n",
    "    s.sort()\n",
    "\n",
    "    for i in range(len(s) - 1):\n",
    "        if s[i] == s[i + 1]:\n",
    "            return 0\n",
    "    else:\n",
    "        return 1\n",
    "\n",
    "\n",
    "if __name__ == \"__main__\":\n",
    "    print(is_unique(input()))"
   ]
  },
  {
   "cell_type": "code",
   "execution_count": 34,
   "metadata": {},
   "outputs": [],
   "source": [
    "!python -m flake8 example_01.py"
   ]
  },
  {
   "cell_type": "markdown",
   "metadata": {},
   "source": [
    "Cuando el código está escrito correctamente, `flake8` no arroja ningún mensaje, dondo a entender al usuario que su código cumple con todas las políticas del PEP8. \n",
    "\n",
    "Si usted quiere ver más opciones de `flake8` (mediante línea de comando), ejecute:"
   ]
  },
  {
   "cell_type": "code",
   "execution_count": 35,
   "metadata": {},
   "outputs": [
    {
     "name": "stdout",
     "output_type": "stream",
     "text": [
      "usage: flake8 [options] file file ...\n",
      "\n",
      "positional arguments:\n",
      "  filename\n",
      "\n",
      "optional arguments:\n",
      "  -h, --help            show this help message and exit\n",
      "  -v, --verbose         Print more information about what is happening in\n",
      "                        flake8. This option is repeatable and will increase\n",
      "                        verbosity each time it is repeated.\n",
      "  --output-file OUTPUT_FILE\n",
      "                        Redirect report to a file.\n",
      "  --append-config APPEND_CONFIG\n",
      "                        Provide extra config files to parse in addition to the\n",
      "                        files found by Flake8 by default. These files are the\n",
      "                        last ones read and so they take the highest precedence\n",
      "                        when multiple files provide the same option.\n",
      "  --config CONFIG       Path to the config file that will be the authoritative\n",
      "                        config source. This will cause Flake8 to ignore all\n",
      "                        other configuration files.\n",
      "  --isolated            Ignore all configuration files.\n",
      "  --version             show program's version number and exit\n",
      "  -q, --quiet           Report only file names, or nothing. This option is\n",
      "                        repeatable.\n",
      "  --count               Print total number of errors and warnings to standard\n",
      "                        error and set the exit code to 1 if total is not\n",
      "                        empty.\n",
      "  --diff                Report changes only within line number ranges in the\n",
      "                        unified diff provided on standard in by the user.\n",
      "  --exclude patterns    Comma-separated list of files or directories to\n",
      "                        exclude. (Default: ['.svn', 'CVS', '.bzr', '.hg',\n",
      "                        '.git', '__pycache__', '.tox', '.eggs', '*.egg'])\n",
      "  --extend-exclude patterns\n",
      "                        Comma-separated list of files or directories to add to\n",
      "                        the list of excluded ones.\n",
      "  --filename patterns   Only check for filenames matching the patterns in this\n",
      "                        comma-separated list. (Default: ['*.py'])\n",
      "  --stdin-display-name STDIN_DISPLAY_NAME\n",
      "                        The name used when reporting errors from code passed\n",
      "                        via stdin. This is useful for editors piping the file\n",
      "                        contents to flake8. (Default: stdin)\n",
      "  --format format       Format errors according to the chosen formatter.\n",
      "  --hang-closing        Hang closing bracket instead of matching indentation\n",
      "                        of opening bracket's line.\n",
      "  --ignore errors       Comma-separated list of errors and warnings to ignore\n",
      "                        (or skip). For example, ``--ignore=E4,E51,W234``.\n",
      "                        (Default: ['E704', 'E123', 'W503', 'E126', 'E24',\n",
      "                        'W504', 'E226', 'E121'])\n",
      "  --extend-ignore errors\n",
      "                        Comma-separated list of errors and warnings to add to\n",
      "                        the list of ignored ones. For example, ``--extend-\n",
      "                        ignore=E4,E51,W234``.\n",
      "  --per-file-ignores PER_FILE_IGNORES\n",
      "                        A pairing of filenames and violation codes that\n",
      "                        defines which violations to ignore in a particular\n",
      "                        file. The filenames can be specified in a manner\n",
      "                        similar to the ``--exclude`` option and the violations\n",
      "                        work similarly to the ``--ignore`` and ``--select``\n",
      "                        options.\n",
      "  --max-line-length n   Maximum allowed line length for the entirety of this\n",
      "                        run. (Default: 79)\n",
      "  --max-doc-length n    Maximum allowed doc line length for the entirety of\n",
      "                        this run. (Default: None)\n",
      "  --select errors       Comma-separated list of errors and warnings to enable.\n",
      "                        For example, ``--select=E4,E51,W234``. (Default: ['E',\n",
      "                        'F', 'W', 'C90'])\n",
      "  --disable-noqa        Disable the effect of \"# noqa\". This will report\n",
      "                        errors on lines with \"# noqa\" at the end.\n",
      "  --show-source         Show the source generate each error or warning.\n",
      "  --statistics          Count errors and warnings.\n",
      "  --enable-extensions ENABLE_EXTENSIONS\n",
      "                        Enable plugins and extensions that are otherwise\n",
      "                        disabled by default\n",
      "  --exit-zero           Exit with status code \"0\" even if there are errors.\n",
      "  --install-hook {git,mercurial}\n",
      "                        Install a hook that is run prior to a commit for the\n",
      "                        supported version control system.\n",
      "  -j JOBS, --jobs JOBS  Number of subprocesses to use to run checks in\n",
      "                        parallel. This is ignored on Windows. The default,\n",
      "                        \"auto\", will auto-detect the number of processors\n",
      "                        available to use. (Default: auto)\n",
      "  --tee                 Write to stdout and output-file.\n",
      "  --benchmark           Print benchmark information about this run of Flake8\n",
      "  --bug-report          Print information necessary when preparing a bug\n",
      "                        report\n",
      "\n",
      "mccabe:\n",
      "  --max-complexity MAX_COMPLEXITY\n",
      "                        McCabe complexity threshold\n",
      "\n",
      "pyflakes:\n",
      "  --builtins BUILTINS   define more built-ins, comma separated\n",
      "  --doctests            also check syntax of the doctests\n",
      "  --include-in-doctest INCLUDE_IN_DOCTEST\n",
      "                        Run doctests only on these files\n",
      "  --exclude-from-doctest EXCLUDE_FROM_DOCTEST\n",
      "                        Skip these files when running doctests\n",
      "\n",
      "Installed plugins: mccabe: 0.6.1, pycodestyle: 2.6.0, pyflakes: 2.2.0\n"
     ]
    }
   ],
   "source": [
    "!python -m flake8 --help"
   ]
  },
  {
   "cell_type": "markdown",
   "metadata": {},
   "source": [
    "**Observación**: al final de cada presentación, se eliminan los archivos que generamos de manera temporal."
   ]
  },
  {
   "cell_type": "code",
   "execution_count": 1,
   "metadata": {},
   "outputs": [],
   "source": [
    "# eliminar archivos temporales\n",
    "!rm -r *.py"
   ]
  }
 ],
 "metadata": {
  "kernelspec": {
   "display_name": "Python 3",
   "language": "python",
   "name": "python3"
  },
  "language_info": {
   "codemirror_mode": {
    "name": "ipython",
    "version": 3
   },
   "file_extension": ".py",
   "mimetype": "text/x-python",
   "name": "python",
   "nbconvert_exporter": "python",
   "pygments_lexer": "ipython3",
   "version": "3.8.8"
  }
 },
 "nbformat": 4,
 "nbformat_minor": 4
}

{
 "cells": [
  {
   "cell_type": "markdown",
   "metadata": {},
   "source": [
    "# Dependency Inversion Principle\n",
    "\n",
    "La dependencia debe estar en abstracciones, no en concreciones. Los módulos de alto nivel no deben depender de módulos de bajo nivel. Ambos deberían depender de abstracciones. Las abstracciones no deben depender de los detalles. Los detalles deben depender de abstracciones.\n",
    "\n",
    "Llega un punto en el desarrollo de software en el que nuestra aplicación estará compuesta en gran parte por módulos. Cuando esto sucede, tenemos que aclarar las cosas usando la inyección de dependencia. Componentes de alto nivel dependiendo de los componentes de bajo nivel para funcionar."
   ]
  },
  {
   "cell_type": "code",
   "execution_count": 7,
   "metadata": {},
   "outputs": [],
   "source": [
    "class XMLHttpService():\n",
    "    pass\n",
    "\n",
    "class Http:\n",
    "    def __init__(self, xml_http_service: XMLHttpService):\n",
    "        self.xml_http_service = xml_http_service\n",
    "    \n",
    "    def get(self, url: str, options: dict):\n",
    "        self.xml_http_service.request(url, 'GET')\n",
    "\n",
    "    def post(self, url, options: dict):\n",
    "        self.xml_http_service.request(url, 'POST')\n",
    "\n",
    "        "
   ]
  },
  {
   "cell_type": "markdown",
   "metadata": {},
   "source": [
    "Aquí, `Http` es el componente de alto nivel mientras que `XMLHttpService` es el componente de bajo nivel. Este diseño viola **DIP**: los módulos de alto nivel no deben depender de módulos de bajo nivel. Debería depender de su abstracción.\n",
    "\n",
    "Esta clase `Http` está obligada a depender de la clase `XMLHttpService`. Si tuviéramos que cambiar el servicio de conexión Http, tal vez queramos conectarnos a Internet a través de *cURL* o incluso *simular* el servicio http. Tendremos que movernos minuciosamente por todas las instancias de Http para editar el código y esto viola el principio **OCP**.\n",
    "\n",
    "La clase `Http` debería preocuparse menos por el tipo de servicio Http que está utilizando. Hacemos una interfaz de conexión:"
   ]
  },
  {
   "cell_type": "code",
   "execution_count": 8,
   "metadata": {},
   "outputs": [],
   "source": [
    "class Connection:\n",
    "    def request(self, url: str, options: dict):\n",
    "        raise NotImplementedError\n",
    "\n",
    "        "
   ]
  },
  {
   "cell_type": "markdown",
   "metadata": {},
   "source": [
    "La interfaz `Connection` tiene un método de solicitud. Con esto, pasamos un argumento de tipo `Connection` a nuestra clase `Http`:"
   ]
  },
  {
   "cell_type": "code",
   "execution_count": 9,
   "metadata": {},
   "outputs": [],
   "source": [
    "class Http:\n",
    "    def __init__(self, http_connection: Connection):\n",
    "        self.http_connection = http_connection\n",
    "    \n",
    "    def get(self, url: str, options: dict):\n",
    "        self.http_connection.request(url, 'GET')\n",
    "\n",
    "    def post(self, url, options: dict):\n",
    "        self.http_connection.request(url, 'POST')\n",
    "\n",
    "        "
   ]
  },
  {
   "cell_type": "markdown",
   "metadata": {},
   "source": [
    "Así que ahora, sin importar el tipo de servicio de conexión Http pasado a `Http`, puede conectarse fácilmente a una red sin molestarse en saber el tipo de conexión de red.\n",
    "\n",
    "Ahora podemos volver a implementar nuestra clase `XMLHttpService` para implementar la interfaz de conexión:"
   ]
  },
  {
   "cell_type": "code",
   "execution_count": 11,
   "metadata": {},
   "outputs": [],
   "source": [
    "class XMLHttpService(Connection):\n",
    "    def request(self, url: str, options:dict):\n",
    "        pass  "
   ]
  },
  {
   "cell_type": "markdown",
   "metadata": {},
   "source": [
    "Podemos crear muchos tipos de conexión Http y pasarlos a nuestra clase `Http` sin ningún problema por los errores."
   ]
  },
  {
   "cell_type": "code",
   "execution_count": 12,
   "metadata": {},
   "outputs": [],
   "source": [
    "class NodeHttpService(Connection):\n",
    "    def request(self, url: str, options:dict):\n",
    "        pass\n",
    "\n",
    "class MockHttpService(Connection):\n",
    "    def request(self, url: str, options:dict):\n",
    "        pass"
   ]
  },
  {
   "cell_type": "markdown",
   "metadata": {},
   "source": [
    "Ahora, podemos ver que tanto los módulos de alto nivel como los de bajo nivel dependen de abstracciones. La clase `Http` (módulo de alto nivel) depende de la interfaz de `Connection` (abstracción) y los tipos de servicio Http (módulos de bajo nivel), a su vez, depende de la interfaz de `Connection` (abstracción).\n",
    "\n",
    "Además, este **DIP** nos obligará a no violar el principio de sustitución de **Liskov**: los tipos de conexión `Node-XML-MockHttpService` son sustituibles por su tipo de conexión principal."
   ]
  }
 ],
 "metadata": {
  "kernelspec": {
   "display_name": "Python 3",
   "language": "python",
   "name": "python3"
  },
  "language_info": {
   "codemirror_mode": {
    "name": "ipython",
    "version": 3
   },
   "file_extension": ".py",
   "mimetype": "text/x-python",
   "name": "python",
   "nbconvert_exporter": "python",
   "pygments_lexer": "ipython3",
   "version": "3.7.3"
  }
 },
 "nbformat": 4,
 "nbformat_minor": 4
}

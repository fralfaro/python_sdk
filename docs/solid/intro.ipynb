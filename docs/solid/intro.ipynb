{
 "cells": [
  {
   "cell_type": "markdown",
   "id": "e1bf823b",
   "metadata": {},
   "source": [
    "# Introducción"
   ]
  },
  {
   "cell_type": "markdown",
   "id": "47e12b42",
   "metadata": {},
   "source": [
    "El objetivo de este artículo es que el lector aprenda aplicar los principios **SOLID** con el lenguaje Python. **SOLID** es un acrónimo creado por *Michael Feathers* para los principios publicados por *Robert C. Martin*, en su libro *Agile Software Development: Principles, Patterns, and Practices*.\n",
    "\n",
    "Se trata de cinco principios de diseño orientado a objetos que nos ayudarán a crear mejor código, más estructurado, con clases de responsabilidad más definida y más desacopladas entre sí:\n",
    "\n",
    "* **Single Responsibility**: Responsabilidad única.\n",
    "* **Open/Closed**: Abierto/Cerrado.\n",
    "* **Liskov substitution**: Sustitución de Liskov.\n",
    "* **Interface segregation**: Segregación de interfaz.\n",
    "* **Dependency Inversion**: Inversión de dependencia."
   ]
  },
  {
   "cell_type": "markdown",
   "id": "678e61a1",
   "metadata": {},
   "source": [
    "Es importante resaltar que se trata de principios, no de reglas. Una regla es de obligatorio cumplimiento, en cambio, los principios son recomendaciones que pueden ayudar a hacer las cosas mejor. Además, siempre puedes encontrar algún contexto en el que te los puedas saltar, lo importante es hacerlo de forma consciente."
   ]
  }
 ],
 "metadata": {
  "jupytext": {
   "cell_metadata_filter": "-all",
   "main_language": "python",
   "notebook_metadata_filter": "-all",
   "text_representation": {
    "extension": ".md",
    "format_name": "markdown"
   }
  }
 },
 "nbformat": 4,
 "nbformat_minor": 5
}

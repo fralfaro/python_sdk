{
 "cells": [
  {
   "cell_type": "markdown",
   "metadata": {},
   "source": [
    "# Single Responsibility Principle\n",
    "\n",
    "**\"... Tenías un trabajo\"** - Loki a Skurge en Thor: Ragnarok.\n",
    "\n",
    "Una clase debe tener un solo trabajo. Si una clase tiene más de una responsabilidad,\n",
    "se acopla. Un cambio a una responsabilidad resulta en la modificación de\n",
    "la otra responsabilidad."
   ]
  },
  {
   "cell_type": "code",
   "execution_count": null,
   "metadata": {},
   "outputs": [],
   "source": [
    "class Animal:\n",
    "    def __init__(self, name: str):\n",
    "        self.name = name\n",
    "    \n",
    "    def get_name(self) -> str:\n",
    "        pass\n",
    "\n",
    "    def save(self, animal: Animal):\n",
    "        pass"
   ]
  },
  {
   "cell_type": "markdown",
   "metadata": {},
   "source": [
    "La clase `Animal` viola el SRP. ¿Cómo viola SRP?\n",
    "\n",
    "SRP establece que las clases deben tener una responsabilidad, aquí podemos establecer dos responsabilidades: gestión de bases de datos de animales y gestión de animales. El constructor y `get_name` administran las propiedades de la clase `Animal` mientras que el guardado administra el almacenamiento  de la clase `Animal` en una base de datos.\n",
    "\n",
    "¿Cómo causará problemas este diseño en el futuro?\n",
    "Si la aplicación cambia de una manera que afecta las funciones de administración de la base de datos. Las clases que hacen uso de las propiedades de los animales deberán modificarse y recompilarse para compensar los nuevos cambios. Es como un efecto dominó, toca una carta y afecta a todas las demás cartas en línea.\n",
    "\n",
    "Para que esto se ajuste a SRP, creamos otra clase que manejará la responsabilidad exclusiva de almacenar un animal en una base de datos:"
   ]
  },
  {
   "cell_type": "code",
   "execution_count": 1,
   "metadata": {},
   "outputs": [],
   "source": [
    "class Animal:\n",
    "    def __init__(self, name: str):\n",
    "            self.name = name\n",
    "    \n",
    "    def get_name(self):\n",
    "        pass\n",
    "\n",
    "\n",
    "class AnimalDB:\n",
    "    def get_animal(self, id) -> Animal:\n",
    "        pass\n",
    "\n",
    "    def save(self, animal: Animal):\n",
    "        pass"
   ]
  },
  {
   "cell_type": "markdown",
   "metadata": {},
   "source": [
    "*Al diseñar nuestras clases, debemos apuntar a juntar características relacionadas, de modo que siempre que tiendan a cambiar, cambien por la misma razón. Y deberíamos intentar separar las características si cambian por diferentes razones. - Steve Fenton*"
   ]
  },
  {
   "cell_type": "markdown",
   "metadata": {},
   "source": [
    "La desventaja de esta solución es que los clientes de este código tienen que lidiar con dos clases. Una solución común a este dilema es aplicar el patrón de diseño  `Facade`. La clase de animales será la fachada para la gestión de bases de datos de animales y la gestión de propiedades animales."
   ]
  },
  {
   "cell_type": "code",
   "execution_count": null,
   "metadata": {},
   "outputs": [],
   "source": [
    "class Animal:\n",
    "    def __init__(self, name: str):\n",
    "        self.name = name\n",
    "        self.db = AnimalDB()\n",
    "\n",
    "    def get_name(self):\n",
    "        return self.name\n",
    "\n",
    "    def get(self, id):\n",
    "        return self.db.get_animal(id)\n",
    "    \n",
    "    def save(self):\n",
    "        self.db.save(animal=self)"
   ]
  },
  {
   "cell_type": "markdown",
   "metadata": {},
   "source": [
    "Los métodos más importantes se guardan en la clase Animal y se utilizan como fachada para las funciones menores."
   ]
  }
 ],
 "metadata": {
  "kernelspec": {
   "display_name": "Python 3",
   "language": "python",
   "name": "python3"
  },
  "language_info": {
   "codemirror_mode": {
    "name": "ipython",
    "version": 3
   },
   "file_extension": ".py",
   "mimetype": "text/x-python",
   "name": "python",
   "nbconvert_exporter": "python",
   "pygments_lexer": "ipython3",
   "version": "3.7.3"
  }
 },
 "nbformat": 4,
 "nbformat_minor": 4
}

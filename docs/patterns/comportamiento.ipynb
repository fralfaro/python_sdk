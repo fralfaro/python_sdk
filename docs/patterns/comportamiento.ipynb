{
 "cells": [
  {
   "cell_type": "markdown",
   "metadata": {},
   "source": [
    "# Patrones de comportamiento\n",
    "Los patrones de comportamiento estudian las relaciones entre llamadas entre los diferentes objetos, normalmente ligados con la dimensión temporal.\n",
    "\n",
    "## Chain of Responsibility\n",
    " Evita acoplar el emisor de una petición a su receptor, al dar a más de un objeto la posibilidad de responder a la petición. Crea una cadena con los objetos receptores y pasa la petición a través de la cadena hasta que esta sea tratada por algún objeto.\n",
    "\n",
    "![chain of responsibility](images/chainofresponsibility.png)"
   ]
  },
  {
   "cell_type": "markdown",
   "metadata": {},
   "source": [
    "### Ejemplo"
   ]
  },
  {
   "cell_type": "code",
   "execution_count": 3,
   "metadata": {},
   "outputs": [],
   "source": [
    "# patron\n",
    "class Handler:\n",
    "    def __init__(self):\n",
    "        self.__succesor__ = None\n",
    "\n",
    "    def set_succesor(self, succesor):\n",
    "        self.__succesor__ = succesor\n",
    "\n",
    "    def handler_request(self, opt):\n",
    "        pass\n",
    "\n",
    "\n",
    "class HandlerOptionOne(Handler):\n",
    "\n",
    "    def handler_request(self, opt):\n",
    "        if opt == 1:\n",
    "            print(\"Domingo\")\n",
    "        else:\n",
    "            self.__succesor__.handler_request(opt)\n",
    "\n",
    "class HandlerOptionTwo(Handler):\n",
    "\n",
    "    def handler_request(self, opt):\n",
    "        if opt == 2:\n",
    "            print(\"Lunes\")\n",
    "        else:\n",
    "            self.__succesor__.handler_request(opt)\n",
    "\n",
    "class HandlerOptionThree(Handler):\n",
    "\n",
    "    def handler_request(self, opt):\n",
    "        if opt == 3:\n",
    "            print(\"Martes\")\n",
    "        else:\n",
    "            self.__succesor__.handler_request(opt)\n",
    "\n",
    "class HandlerOptionFour(Handler):\n",
    "\n",
    "    def handler_request(self, opt):\n",
    "        if opt == 4:\n",
    "            print(\"Miercoles\")\n",
    "        else:\n",
    "            self.__succesor__.handler_request(opt)\n",
    "\n",
    "class HandlerOptionFive(Handler):\n",
    "\n",
    "    def handler_request(self, opt):\n",
    "        if opt == 5:\n",
    "            print(\"Jueves\")\n",
    "        else:\n",
    "            self.__succesor__.handler_request(opt)\n",
    "\n",
    "class HandlerOptionSix(Handler):\n",
    "\n",
    "    def handler_request(self, opt):\n",
    "        if opt == 6:\n",
    "            print(\"Viernes\")\n",
    "        else:\n",
    "            self.__succesor__.handler_request(opt)\n",
    "\n",
    "class HandlerOptionSeven(Handler):\n",
    "\n",
    "    def handler_request(self, opt):\n",
    "        if opt == 7:\n",
    "            print(\"Sabado\")\n",
    "        else:\n",
    "            self.__succesor__.handler_request(opt)\n",
    "\n",
    "class HandlerOptionDefault(Handler):\n",
    "\n",
    "    def handler_request(self, opt):\n",
    "        print(\"Opción no valida\")"
   ]
  },
  {
   "cell_type": "code",
   "execution_count": 17,
   "metadata": {},
   "outputs": [],
   "source": [
    "# ejemplo\n",
    "class EjemploCadena:\n",
    "    def obtener_nombre(self):\n",
    "        return \"Chain of responsability\"\n",
    "\n",
    "    def operacion(self,opcion=5):\n",
    "        cadena = [HandlerOptionSix(), HandlerOptionTwo(), HandlerOptionThree(), HandlerOptionFour(),\n",
    "                  HandlerOptionFive(), HandlerOptionOne(), HandlerOptionSeven(), HandlerOptionDefault()]\n",
    "\n",
    "        for i in range(len(cadena)-1):\n",
    "            cadena[i].set_succesor(cadena[i+1])\n",
    "\n",
    "        #opcion = int(input(\"ingrese un número: \"))\n",
    "        cadena[0].handler_request(opcion)"
   ]
  },
  {
   "cell_type": "code",
   "execution_count": 18,
   "metadata": {},
   "outputs": [
    {
     "name": "stdout",
     "output_type": "stream",
     "text": [
      "Jueves\n"
     ]
    }
   ],
   "source": [
    "# resultado\n",
    "EjemploCadena().operacion()"
   ]
  },
  {
   "cell_type": "markdown",
   "metadata": {},
   "source": [
    "## Command\n",
    "Encapsula una petición en un objeto, permitiendo así parametrizar a los clientes con distintas peticiones, encolar o llevar un registro de las peticiones y poder deshacer la operaciones.\n",
    "\n",
    "![command](images/command.png)"
   ]
  },
  {
   "cell_type": "code",
   "execution_count": 13,
   "metadata": {},
   "outputs": [],
   "source": [
    "# patron\n",
    "class Command:\n",
    "    def execute(self, recivier):\n",
    "        pass\n",
    "\n",
    "class Recivier():\n",
    "    def show_message(self, msg):\n",
    "        print(msg)\n",
    "\n",
    "class DomesticEngineer(Command):\n",
    "    def execute(self, recivier):\n",
    "        recivier.show_message(\"take out the trash\")\n",
    "\n",
    "class Politician(Command):\n",
    "    def execute(self, recivier):\n",
    "        recivier.show_message(\"take the money from the rich, take the votes from poor\")\n",
    "\n",
    "class Programmer(Command):\n",
    "    def execute(self, recivier):\n",
    "        recivier.show_message(\"sell the bugs, charge extra for the fixes\")"
   ]
  },
  {
   "cell_type": "code",
   "execution_count": 14,
   "metadata": {},
   "outputs": [],
   "source": [
    "# ejemplo\n",
    "class EjemploCommand:\n",
    "    def obtener_nombre(self):\n",
    "        return \"Command\"\n",
    "\n",
    "    def operacion(self):\n",
    "        comandos = [Politician(), DomesticEngineer(), Programmer()]\n",
    "        r = Recivier()\n",
    "        for i in comandos:\n",
    "            i.execute(r)"
   ]
  },
  {
   "cell_type": "code",
   "execution_count": 15,
   "metadata": {},
   "outputs": [
    {
     "name": "stdout",
     "output_type": "stream",
     "text": [
      "take the money from the rich, take the votes from poor\n",
      "take out the trash\n",
      "sell the bugs, charge extra for the fixes\n"
     ]
    }
   ],
   "source": [
    "# resultado\n",
    "EjemploCommand().operacion()"
   ]
  },
  {
   "cell_type": "markdown",
   "metadata": {},
   "source": [
    "## Interpreter\n",
    "Dado un lenguaje, define una representación de su gramática junto con un intérprete que usa dicha representación para interpretar las sentencias del lenguaje.\n",
    "\n",
    "![interpreter](images/interpreter.png)"
   ]
  },
  {
   "cell_type": "code",
   "execution_count": 7,
   "metadata": {},
   "outputs": [],
   "source": [
    "# patron\n",
    "class Expresion:\n",
    "    def __init__(self, value=None, left=None, right=None):\n",
    "        self.__value__ = value\n",
    "        self.__left__ = left\n",
    "        self.__right__ = right\n",
    "\n",
    "class ExpresionNumber(Expresion):\n",
    "\n",
    "    def evaluate(self):\n",
    "        return int(self.__value__)\n",
    "\n",
    "class ExpresionPluss(Expresion):\n",
    "\n",
    "    def evaluate(self):\n",
    "        return self.__left__.evaluate() + self.__right__.evaluate()\n",
    "\n",
    "class ExpresionMinus(Expresion):\n",
    "\n",
    "    def evaluate(self):\n",
    "        return self.__left__.evaluate() - self.__right__.evaluate()"
   ]
  },
  {
   "cell_type": "code",
   "execution_count": 8,
   "metadata": {},
   "outputs": [],
   "source": [
    "# ejemplo\n",
    "class EjemploInterpreter:\n",
    "    def obtener_nombre(self):\n",
    "        return \"Interpreter\"\n",
    "\n",
    "    def operacion(self):\n",
    "        operacion = ExpresionPluss(left=ExpresionNumber(value='15'),right=ExpresionMinus(left=ExpresionNumber(value='25'), right=ExpresionNumber(value='5')))\n",
    "\n",
    "        print(operacion.evaluate())"
   ]
  },
  {
   "cell_type": "code",
   "execution_count": 9,
   "metadata": {},
   "outputs": [
    {
     "name": "stdout",
     "output_type": "stream",
     "text": [
      "35\n"
     ]
    }
   ],
   "source": [
    "# resultado\n",
    "EjemploInterpreter().operacion()"
   ]
  },
  {
   "cell_type": "markdown",
   "metadata": {},
   "source": [
    "## Otros Patrones"
   ]
  },
  {
   "cell_type": "markdown",
   "metadata": {},
   "source": [
    "- **Iterator:** Proporciona un modo de acceder secuencialmente a los elementos de un objeto agregado sin exponer su representación interna.\n",
    "\n",
    "![iterator](images/iterator.png)\n",
    "\n",
    "- **Mediator:** Define un objeto que encapsula cómo interactúan un conjunto de objetos. Promueve un bajo acoplamiento al evitar que los objetos se refieran unos a otros explícitamente, y permite variar la interacción entre ellos de forma independiente.\n",
    "\n",
    "![mediator](images/mediator.png)\n",
    "\n",
    "- **Memento:** Representa y externaliza el estado interno de un objeto sin violar la encapsulación, de forma que éste puede volver a dicho estado más tarde.\n",
    "\n",
    "![memento](images/memento.png)\n",
    "\n",
    "- **Observer:** Define una dependencia de uno-a-muchos entre objetos, de forma que cuando un objeto cambia de estado se notifica y actualizan automáticamente todos los objetos.\n",
    "\n",
    "![observer](images/observer.png)\n",
    "\n",
    "- **State:** Permite que un objeto modifique su comportamiento cada vez que cambia su estado interno. Parecerá que cambia la clase del objeto.\n",
    "\n",
    "![state](images/state.png)\n",
    "\n",
    "- **Strategy:** Define una familia de algoritmos, encapsula uno de ellos y los hace intercambiables. Permite que un algoritmo varíe independientemente de los clientes que lo usan.\n",
    "\n",
    "![strategy](images/strategy.png)\n",
    "\n",
    "- **Template Method:** Define en una operación el esqueleto de un algoritmo, delegando en las subclases algunos de sus pasos. Permite que las subclases redefinan ciertos pasos del algoritmo sin cambiar su estructura.\n",
    "\n",
    "![templatemethod](images/templatemethod.png)\n",
    "\n",
    "- **Visitor:** Representa una operación sobre los elementos de una estructura de objetos. Permite definir una nueva operación sin cambiar las clases de los elementos sobre los que opera.\n",
    "\n",
    "![visitor](images/visitor.png)"
   ]
  }
 ],
 "metadata": {
  "kernelspec": {
   "display_name": "Python 3",
   "language": "python",
   "name": "python3"
  },
  "language_info": {
   "codemirror_mode": {
    "name": "ipython",
    "version": 3
   },
   "file_extension": ".py",
   "mimetype": "text/x-python",
   "name": "python",
   "nbconvert_exporter": "python",
   "pygments_lexer": "ipython3",
   "version": "3.8.8"
  }
 },
 "nbformat": 4,
 "nbformat_minor": 4
}

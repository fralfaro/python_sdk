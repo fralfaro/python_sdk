{
 "cells": [
  {
   "cell_type": "markdown",
   "id": "67050592",
   "metadata": {},
   "source": [
    "# Introducción\n"
   ]
  },
  {
   "cell_type": "markdown",
   "id": "fac78a52",
   "metadata": {},
   "source": [
    "\n",
    "\n",
    "## ¿Qué es el *Test Driven Development*?\n",
    "En palabras simples, el desarrollo guiado por pruebas pone las pruebas en el corazón de nuestro trabajo. En su forma más simple consiste en un proceso iterativo de 3 fases:\n",
    "\n",
    "<img src=\"images/tdd.png\" alt=\"tdd\">\n",
    "\n",
    "\n",
    "\n",
    "- **Red**: Escribe un test que ponga a prueba una nueva funcionalidad y asegurate de que el test falla\n",
    "- **Green**: Escribe el código mínimo necesario para pasar ese test\n",
    "- **Refactor**: Refactoriza de ser necesario"
   ]
  },
  {
   "cell_type": "markdown",
   "id": "5e72c1b0",
   "metadata": {},
   "source": [
    "### Ejemplo sencillo\n",
    "\n",
    "A modo de ejemplo, vamos a testear la función `paridad`, que determina si un número natural es par o no.\n",
    "\n",
    "Lo primero que se debe hacer es crear el test, para ello se ocupará la librería [pytest](https://docs.pytest.org/en/6.2.x/). \n",
    "\n",
    "> **Nota**: No es necesario conocer previamente la librería `pytest` para entender el ejemplo."
   ]
  },
  {
   "cell_type": "markdown",
   "id": "ba01cb61",
   "metadata": {},
   "source": [
    "```python\n",
    "@pytest.mark.parametrize(\n",
    "    \"number, expected\",\n",
    "    [\n",
    "        (2, 'par'),\n",
    "])\n",
    "def test_paridad(number, expected):\n",
    "    assert paridad(number) == expected\n",
    "```"
   ]
  },
  {
   "cell_type": "markdown",
   "id": "aa0586d8",
   "metadata": {},
   "source": [
    "El test nos dice que si el input es el número `2`, la función `paridad` devuelve el output `'par'`. Cómo aún no hemos escrito la función, el test fallará (**fase red**).\n",
    "\n",
    "```\n",
    "========= test session starts ============================================ \n",
    "platform linux -- Python 3.8.10, pytest-6.2.4, py-1.10.0, pluggy-0.13.1\n",
    "rootdir: /home/fralfaro/PycharmProjects/ds_blog\n",
    "plugins: anyio-3.3.0\n",
    "collected 1 item                                                                                                                                                                          \n",
    "\n",
    "temp/test_funcion.py F                                              [100%]\n",
    "========= 1 failed in 0.14s  ===============================================\n",
    "```"
   ]
  },
  {
   "cell_type": "markdown",
   "id": "a8898752",
   "metadata": {},
   "source": [
    "Ahora, se escribe la función `paridad` (**fase green**):\n",
    "\n",
    "```python\n",
    "def paridad(n:int)->str:\n",
    "    \"\"\"\n",
    "    Determina si un numero natural es par o no.\n",
    "    \n",
    "    :param n: numero entero\n",
    "    :return: 'par' si es el numero es par; 'impar' en otro caso\n",
    "    \"\"\"\n",
    "    return 'par' if n%2==0 else 'impar'\n",
    "```\n",
    "\n",
    "Volvemos a correr el test:\n",
    "\n",
    "```\n",
    "========= test session starts ============================================ \n",
    "platform linux -- Python 3.8.10, pytest-6.2.4, py-1.10.0, pluggy-0.13.1\n",
    "rootdir: /home/fralfaro/PycharmProjects/ds_blog\n",
    "plugins: anyio-3.3.0\n",
    "collected 1 item                                                                                                                                                                          \n",
    "\n",
    "temp/test_funcion.py .                                              [100%]\n",
    "========= 1 passed in 0.06s  ===============================================\n",
    "```"
   ]
  },
  {
   "cell_type": "markdown",
   "id": "b456db1f",
   "metadata": {},
   "source": [
    "Hemos cometido un descuido a proposito, no hemos testeado el caso si el número fuese impar, por lo cual reescribimos el test (**fase refactor**)\n",
    "\n",
    "```python\n",
    "@pytest.mark.parametrize(\n",
    "    \"number, expected\",\n",
    "    [\n",
    "        (2, 'par'),\n",
    "        (3, 'impar'),\n",
    "])\n",
    "def test_paridad(number, expected):\n",
    "    assert paridad(number) == expected\n",
    "```"
   ]
  },
  {
   "cell_type": "markdown",
   "id": "78adfe89",
   "metadata": {},
   "source": [
    "y corremos nuevamente los test:\n",
    "\n",
    "```\n",
    "========= test session starts ============================================ \n",
    "platform linux -- Python 3.8.10, pytest-6.2.4, py-1.10.0, pluggy-0.13.1\n",
    "rootdir: /home/fralfaro/PycharmProjects/ds_blog\n",
    "plugins: anyio-3.3.0\n",
    "collected 2 items                                                                                                                                                                          \n",
    "\n",
    "temp/test_funcion.py ..                                              [100%]\n",
    "========= 2 passed in 0.06s  ===============================================\n",
    "```\n",
    "\n",
    "Listo, nuestra función `paridad` ha sido testeado correctamente!. "
   ]
  },
  {
   "cell_type": "markdown",
   "id": "12cfbe3a",
   "metadata": {},
   "source": [
    "## ¿Porqué debería usarlo?\n",
    "\n",
    "Existen varias razones por las que uno debería usar TDD. Entre ellas podemos encontrar:\n",
    "- Formular bien nuestros pensamientos mediante la escritura de un test significativo antes de ponernos a solucionar el problema nos ayuda a clarificar los límites del problema y cómo podemos resolverlo. Con el tiempo esto ayuda a obtener un diseño modular y reusable del código.\n",
    "- Escribir tests ayuda la forma en que escribimos código, haciéndolo más legible a otros. Sin embargo, no es un acto de altruismo, la mayoría de las veces ese otro es tu futuro yo.\n",
    "- Verifica que el código funciona de la manera que se espera, y lo hace de forma automática.\n",
    "- Te permite realizar *refactoring* con la certeza de que no has roto nada.\n",
    "- Los tests escritos sirven como documentación para otros desarrolladores.\n",
    "- Es una práctica **requerida** en metodologías de desarrollo de software *agile*."
   ]
  },
  {
   "cell_type": "markdown",
   "id": "ecd67af1",
   "metadata": {},
   "source": [
    "## Evidencia empírica\n",
    "El 2008, Nagappan, Maximilien, Bhat y Williams publicaron el paper llamado [Realizing Quality Improvement Through Test Driven Development - Results and Experiences of Four Industrial Teams](https://www.microsoft.com/en-us/research/wp-content/uploads/2009/10/Realizing-Quality-Improvement-Through-Test-Driven-Development-Results-and-Experiences-of-Four-Industrial-Teams-nagappan_tdd.pdf), en donde estudiaron 4 equipos de trabajo (3 de Microsoft y 1 de IBM), con proyectos que variaban entre las 6000 lineas de código hasta las 155k. Estas son parte de sus conclusiones:\n",
    "\n",
    "> Todos los equipos demostraron una baja considerable en la densidad de defectos: 40% para el equipo de IBM, y entre 60-90% para los equipos de Microsoft."
   ]
  },
  {
   "cell_type": "markdown",
   "id": "07453cdf",
   "metadata": {},
   "source": [
    "Como todo en la vida, nada es gratis:\n",
    "\n",
    "> Incremento del tiempo de desarrollo varía entre un 15% a 35%."
   ]
  },
  {
   "cell_type": "markdown",
   "id": "d69dfa27",
   "metadata": {},
   "source": [
    "Sin embargo\n",
    "\n",
    "> Desde un punto de vista de eficacia este incremento en tiempo de desarrollo se compensa por los costos de mantención reducidos debido al incremento en calidad."
   ]
  },
  {
   "cell_type": "markdown",
   "id": "6d11bc23",
   "metadata": {},
   "source": [
    "Además, es importante escribir tests junto con la implementación en pequeñas iteraciones. [George y Williams](https://collaboration.csc.ncsu.edu/laurie/Papers/TDDpaperv8.pdf) encontraron que escribir tests después de que la aplicación está mas o menos lista hace que se testee menos porque los desarrolladores piensan en menos casos, y además la aplicación se vuelve menos testeable. Otra conclusión interesante del estudio de George y Williams es que un 79% de los desarrolladores experimentaron que el uso de TDD conlleva a un diseño más simple.\n",
    "\n",
    "## ¿Puedo usar TDD siempre?\n",
    "No, pero puedes usarlo casi siempre. El análisis exploratorio es un caso en que el uso de TDD no hace sentido. Una vez que tenemos definido el problema a solucionar y un mejor entendimiento del problema podemos aterrizar nuestras ideas a la implementación vía testing.\n",
    "\n",
    "## Librerías disponibles\n",
    "Acá listamos algunas librerías de TDD en Python:\n",
    "- [unittest](https://docs.python.org/3/library/unittest.html): Módulo dentro de la librería estándar de Python. Permite realizar tests unitarios, de integración y end to end.\n",
    "- [doctest](https://docs.python.org/3/library/doctest.html): Permite realizar test de la documentación del código (ejemplos: [Numpy](http://www.numpy.org/) o [Pandas](https://pandas.pydata.org/)).\n",
    "- [pytest](https://docs.pytest.org/en/latest/): Librería de testing ampliamente usada en proyectos nuevos de Python.\n",
    "- [nose](https://nose.readthedocs.io/en/latest/): Librería que extiende unittest para hacerlo más simple.\n",
    "- [coverage](https://coverage.readthedocs.io/en/v4.5.x/): Herramienta para medir la [cobertura de código](https://es.wikipedia.org/wiki/Cobertura_de_c%C3%B3digo) de los proyectos.\n",
    "- [tox](https://tox.readthedocs.io/en/latest/): Herramienta para facilitar el test de una librería en diferentes versiones e intérpretes de Python.\n",
    "- [hypothesis](https://hypothesis.readthedocs.io/en/latest/): Librería para escribir tests vía reglas que ayuda a encontrar casos borde.\n",
    "- [behave](https://behave.readthedocs.io/en/latest/): Permite utilizar [Behavior Driven Development](https://es.wikipedia.org/wiki/Desarrollo_guiado_por_comportamiento), un proceso de desarrollo derivado del TDD."
   ]
  },
  {
   "cell_type": "markdown",
   "id": "5579ecbc",
   "metadata": {},
   "source": [
    "## Knowledge base / Lecturas recomendadas\n",
    "- [Realizing Quality Improvement Through Test Driven Development - Results and Experiences of Four Industrial Teams](https://www.microsoft.com/en-us/research/wp-content/uploads/2009/10/Realizing-Quality-Improvement-Through-Test-Driven-Development-Results-and-Experiences-of-Four-Industrial-Teams-nagappan_tdd.pdf), es una buena lectura, sobretodo los consejos que dan en las conclusiones.\n",
    "- [Google Testing Blog](https://testing.googleblog.com/): Poseen varios artículos sobre cómo abordar problemas tipo, buenas prácticas de diseño para generar código testeable, entre otros. En particular destaca la serie *Testing on the Toilet*.\n",
    "- [Cualquier artículo de Martin Fowler sobre testing](https://martinfowler.com/tags/testing.html), empezando por [éste](https://martinfowler.com/articles/practical-test-pyramid.html)\n",
    "- [Design Patterns](https://sourcemaking.com/design_patterns): Los patrones de diseño de software tienen en consideración que el código sea *testeable*."
   ]
  }
 ],
 "metadata": {
  "kernelspec": {
   "display_name": "Python 3",
   "language": "python",
   "name": "python3"
  },
  "language_info": {
   "codemirror_mode": {
    "name": "ipython",
    "version": 3
   },
   "file_extension": ".py",
   "mimetype": "text/x-python",
   "name": "python",
   "nbconvert_exporter": "python",
   "pygments_lexer": "ipython3",
   "version": "3.8.10"
  }
 },
 "nbformat": 4,
 "nbformat_minor": 5
}

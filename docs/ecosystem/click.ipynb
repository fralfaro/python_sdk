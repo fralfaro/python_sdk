{
 "cells": [
  {
   "cell_type": "markdown",
   "metadata": {},
   "source": [
    "# Click\n"
   ]
  },
  {
   "cell_type": "markdown",
   "metadata": {},
   "source": [
    "## Introducción\n",
    "\n",
    "**Click** es un paquete de Python para crear hermosas interfaces de línea de comandos de forma componible con tan poco código como sea necesario. Es el \"Kit de creación de interfaz de línea de comandos\". Es altamente configurable pero viene con valores predeterminados razonables listos para usar.\n",
    "\n",
    "Su objetivo es hacer que el proceso de escribir herramientas de línea de comandos sea rápido y divertido, al mismo tiempo que evita cualquier frustración causada por la incapacidad de implementar una API CLI prevista.\n",
    "\n",
    "**Click** en tres puntos:\n",
    "\n",
    " * anidamiento arbitrario de comandos\n",
    "\n",
    " * generación automática de páginas de ayuda\n",
    "\n",
    " * admite la carga diferida de subcomandos en tiempo de ejecución"
   ]
  },
  {
   "cell_type": "markdown",
   "metadata": {},
   "source": [
    "Veamos un ejemplo sencillo de esto:"
   ]
  },
  {
   "cell_type": "code",
   "execution_count": null,
   "metadata": {},
   "outputs": [],
   "source": [
    "%%writefile click_example_01.py\n",
    "import click\n",
    "\n",
    "\n",
    "@click.command()\n",
    "@click.argument('name', default='world')\n",
    "def hello(name):\n",
    "    click.echo(f'Hello {name}')\n",
    "\n",
    "if __name__ == '__main__':\n",
    "    hello()"
   ]
  },
  {
   "cell_type": "markdown",
   "metadata": {},
   "source": [
    "El ejemplo crea un mensaje con el valor de argumento dado. Si no hay ningún argumento, se utiliza el invitado predeterminado. El argumento se pasa a la función como variable."
   ]
  },
  {
   "cell_type": "code",
   "execution_count": null,
   "metadata": {},
   "outputs": [],
   "source": [
    "!python ./click_example_01.py "
   ]
  },
  {
   "cell_type": "code",
   "execution_count": null,
   "metadata": {},
   "outputs": [],
   "source": [
    "!python ./click_example_01.py guest"
   ]
  },
  {
   "cell_type": "markdown",
   "metadata": {},
   "source": [
    "## Python click argument types\n",
    "\n",
    "Podemos especificar los tipos de argumentos, incluidos int, float, str, bool, choice y varios rangos. El predeterminado es str."
   ]
  },
  {
   "cell_type": "code",
   "execution_count": null,
   "metadata": {},
   "outputs": [],
   "source": [
    "%%writefile click_example_02.py\n",
    "import click\n",
    "\n",
    "@click.command()\n",
    "@click.argument('name', default='guest')\n",
    "@click.argument('age', type=int)\n",
    "def hello(name, age):\n",
    "    click.echo(f'{name} is {age} years old')\n",
    "\n",
    "if __name__ == '__main__':\n",
    "    hello()"
   ]
  },
  {
   "cell_type": "code",
   "execution_count": null,
   "metadata": {},
   "outputs": [],
   "source": [
    "!python click_example_02.py Peter 34"
   ]
  },
  {
   "cell_type": "markdown",
   "metadata": {},
   "source": [
    "## Python click variable number of arguments\n",
    "Con la opción `nargs`, podemos establecer que un argumento tome múltiples valores. Para el valor -1, el argumento puede tomar un número variable de valores."
   ]
  },
  {
   "cell_type": "code",
   "execution_count": null,
   "metadata": {},
   "outputs": [],
   "source": [
    "%%writefile click_example_03.py\n",
    "\n",
    "import click\n",
    "from operator import mul\n",
    "from functools import reduce\n",
    "\n",
    "@click.command()\n",
    "@click.argument('vals', type=int, nargs=-1)\n",
    "def process(vals):\n",
    "\n",
    "    print(f'The sum is {sum(vals)}')\n",
    "    print(f'The product is {reduce(mul, vals, 1)}')\n",
    "\n",
    "\n",
    "if __name__ == '__main__':\n",
    "    process()"
   ]
  },
  {
   "cell_type": "markdown",
   "metadata": {},
   "source": [
    "El ejemplo crea un comando de proceso, que puede tomar un número variable de valores enteros en el argumento `vals`. El comando calcula la suma y el producto de los valores."
   ]
  },
  {
   "cell_type": "code",
   "execution_count": null,
   "metadata": {},
   "outputs": [],
   "source": [
    "!python click_example_03.py 1 2 3 4 5"
   ]
  },
  {
   "cell_type": "markdown",
   "metadata": {},
   "source": [
    "## Python click simple option\n",
    "Las opciones se agregan a los comandos con el decorador `click.option()`. Los nombres de las opciones tienen como prefijo uno o dos guiones."
   ]
  },
  {
   "cell_type": "code",
   "execution_count": null,
   "metadata": {},
   "outputs": [],
   "source": [
    "%%writefile click_example_04.py\n",
    "\n",
    "import click\n",
    "\n",
    "\n",
    "@click.command()\n",
    "@click.option('--n', type=int, default=1)\n",
    "def dots(n):\n",
    "    click.echo('.' * n)\n",
    "\n",
    "\n",
    "if __name__ == '__main__':\n",
    "    dots()"
   ]
  },
  {
   "cell_type": "markdown",
   "metadata": {},
   "source": [
    "En el ejemplo, tenemos la opción `--n` que toma un número. El número determina cuántas veces se imprime el punto en la consola."
   ]
  },
  {
   "cell_type": "code",
   "execution_count": null,
   "metadata": {},
   "outputs": [],
   "source": [
    "!python click_example_04.py --n 17"
   ]
  },
  {
   "cell_type": "markdown",
   "metadata": {},
   "source": [
    "## Python click option names\n",
    "Los nombres de las opciones comienzan con un solo guión o con dos guiones. Los programas de línea de comandos suelen tener opciones tanto cortas como largas. Click deriva el nombre de la opción del nombre largo, si se utilizan ambos."
   ]
  },
  {
   "cell_type": "code",
   "execution_count": null,
   "metadata": {},
   "outputs": [],
   "source": [
    "%%writefile click_example_05.py\n",
    "import click\n",
    "\n",
    "\n",
    "@click.command()\n",
    "@click.option('-s', '--string')\n",
    "def output(string):\n",
    "    click.echo(string)\n",
    "\n",
    "\n",
    "if __name__ == '__main__':\n",
    "    output()"
   ]
  },
  {
   "cell_type": "markdown",
   "metadata": {},
   "source": [
    "En el ejemplo, creamos una opción con nombres cortos y largos. El nombre de la variable pasada a la función es un string, derivado del nombre de opción más largo."
   ]
  },
  {
   "cell_type": "code",
   "execution_count": null,
   "metadata": {},
   "outputs": [],
   "source": [
    "!python click_example_05.py -s sky"
   ]
  },
  {
   "cell_type": "code",
   "execution_count": null,
   "metadata": {},
   "outputs": [],
   "source": [
    "!python click_example_05.py --string cloud"
   ]
  },
  {
   "cell_type": "markdown",
   "metadata": {},
   "source": [
    "### Python click prompt for value\n",
    "Podemos pedirle a un usuario que proporcione un valor de forma interactiva."
   ]
  },
  {
   "cell_type": "code",
   "execution_count": null,
   "metadata": {},
   "outputs": [],
   "source": [
    "%%writefile click_example_06.py\n",
    "import click\n",
    "\n",
    "@click.command()\n",
    "@click.option(\"--name\", prompt=\"Your name\", help=\"Provide your name\")\n",
    "def hello(name):\n",
    "    click.echo(f\"Hello, {name}\")\n",
    "\n",
    "if __name__ == '__main__':\n",
    "    hello()"
   ]
  },
  {
   "cell_type": "markdown",
   "metadata": {},
   "source": [
    "El ejemplo le pide al usuario su nombre."
   ]
  },
  {
   "cell_type": "code",
   "execution_count": null,
   "metadata": {},
   "outputs": [],
   "source": [
    "#!python click_example_06.py"
   ]
  },
  {
   "cell_type": "markdown",
   "metadata": {},
   "source": [
    "## Python click colour output\n",
    "Con el método `secho`, podemos generar el texto en color. También podemos utilizar estilos como negrita y subrayado. Los valores de color están limitados a un conjunto de valores predefinidos. Para la salida en color necesitamos tener instalado el módulo colorama."
   ]
  },
  {
   "cell_type": "code",
   "execution_count": null,
   "metadata": {},
   "outputs": [],
   "source": [
    "%%writefile click_example_07.py\n",
    "\n",
    "import click\n",
    "\n",
    "\n",
    "@click.command()\n",
    "def coloured():\n",
    "    click.secho('Hello there', fg=\"blue\", bold=True)\n",
    "\n",
    "\n",
    "if __name__ == '__main__':\n",
    "    coloured()"
   ]
  },
  {
   "cell_type": "markdown",
   "metadata": {},
   "source": [
    "El ejemplo muestra el texto en color azul intenso."
   ]
  },
  {
   "cell_type": "code",
   "execution_count": null,
   "metadata": {},
   "outputs": [],
   "source": [
    "!python click_example_07.py"
   ]
  },
  {
   "cell_type": "markdown",
   "metadata": {},
   "source": [
    "## Python click flags\n",
    "\n",
    "Los `flags` son opciones booleanas que se pueden habilitar o deshabilitar. Esto se puede lograr definiendo dos `flags` de una vez separadas por una barra `(/)` para habilitar o deshabilitar la opción o con el parámetro `is_flag`.\n"
   ]
  },
  {
   "cell_type": "code",
   "execution_count": null,
   "metadata": {},
   "outputs": [],
   "source": [
    "%%writefile click_example_08.py\n",
    "\n",
    "import click\n",
    "\n",
    "\n",
    "@click.command()\n",
    "@click.option('--blue', is_flag=True, help='message in blue color')\n",
    "def hello(blue):\n",
    "\n",
    "    if blue:\n",
    "        click.secho('Hello there', fg='blue')\n",
    "    else:\n",
    "        click.secho('Hello there')\n",
    "\n",
    "if __name__ == '__main__':\n",
    "    hello()"
   ]
  },
  {
   "cell_type": "markdown",
   "metadata": {},
   "source": [
    "En el ejemplo, definimos una opción booleana `--blue` con el parámetro `is_flag`. Si está configurado, imprime el mensaje en color azul."
   ]
  },
  {
   "cell_type": "code",
   "execution_count": null,
   "metadata": {},
   "outputs": [],
   "source": [
    "!python click_example_08.py"
   ]
  },
  {
   "cell_type": "code",
   "execution_count": null,
   "metadata": {},
   "outputs": [],
   "source": [
    "%%writefile click_example_09.py\n",
    "\n",
    "import click\n",
    "\n",
    "\n",
    "@click.command()\n",
    "@click.argument('word')\n",
    "@click.option('--shout/--no-shout', default=False)\n",
    "def output(word, shout):\n",
    "    if shout:\n",
    "        click.echo(word.upper())\n",
    "    else:\n",
    "        click.echo(word)\n",
    "\n",
    "if __name__ == '__main__':\n",
    "    output()"
   ]
  },
  {
   "cell_type": "markdown",
   "metadata": {},
   "source": [
    "En el segundo caso, definimos los flags `--shout` y `--no-shout`. Si se establece la marca `--shout`, el argumento especificado se muestra en mayúsculas."
   ]
  },
  {
   "cell_type": "code",
   "execution_count": null,
   "metadata": {},
   "outputs": [],
   "source": [
    "!python click_example_09.py --shout sky"
   ]
  },
  {
   "cell_type": "code",
   "execution_count": null,
   "metadata": {},
   "outputs": [],
   "source": [
    "!python click_example_09.py --no-shout sky"
   ]
  },
  {
   "cell_type": "markdown",
   "metadata": {},
   "source": [
    "## Python click environment variables\n",
    "Los valores se pueden extraer de las variables de entorno."
   ]
  },
  {
   "cell_type": "code",
   "execution_count": null,
   "metadata": {},
   "outputs": [],
   "source": [
    "%%writefile click_example_10.py\n",
    "import click\n",
    "import os\n",
    "\n",
    "@click.argument('mydir', envvar='MYDIR', type=click.Path(exists=True))\n",
    "@click.command()\n",
    "def dolist(mydir):\n",
    "\n",
    "    click.echo(os.listdir(mydir))\n",
    "\n",
    "\n",
    "if __name__ == '__main__':\n",
    "    dolist()"
   ]
  },
  {
   "cell_type": "markdown",
   "metadata": {},
   "source": [
    "El ejemplo imprime el contenido del directorio especificado en la variable de entorno MYDIR."
   ]
  },
  {
   "cell_type": "code",
   "execution_count": null,
   "metadata": {},
   "outputs": [],
   "source": [
    "#!export MYDIR=~/Documents; click_example_10.py "
   ]
  },
  {
   "cell_type": "code",
   "execution_count": null,
   "metadata": {},
   "outputs": [],
   "source": [
    "#!python click_example_10.py "
   ]
  },
  {
   "cell_type": "markdown",
   "metadata": {},
   "source": [
    "## Python click option tuples\n",
    "\n",
    "Podemos tener opciones de valores múltiples que se convierten en tuplas de Python."
   ]
  },
  {
   "cell_type": "code",
   "execution_count": null,
   "metadata": {},
   "outputs": [],
   "source": [
    "%%writefile click_example_11.py\n",
    "import click\n",
    "\n",
    "\n",
    "@click.command()\n",
    "@click.option('--data', required=True, type=(str, int))\n",
    "def output(data):\n",
    "    click.echo(f'name={data[0]} age={data[1]}')\n",
    "\n",
    "\n",
    "if __name__ == '__main__':\n",
    "    output()"
   ]
  },
  {
   "cell_type": "markdown",
   "metadata": {},
   "source": [
    "En el ejemplo, la opción `--data` toma dos valores que se convierten en una tupla de Python. Los valores se utilizan para construir un mensaje."
   ]
  },
  {
   "cell_type": "code",
   "execution_count": null,
   "metadata": {},
   "outputs": [],
   "source": [
    "!python click_example_11.py --data Peter 23"
   ]
  },
  {
   "cell_type": "markdown",
   "metadata": {},
   "source": [
    "## Specifying options multiple times\n",
    "Los valores de opción se pueden proporcionar varias veces y se pueden registrar todos los valores. Los valores se almacenan en una tupla de Python."
   ]
  },
  {
   "cell_type": "code",
   "execution_count": null,
   "metadata": {},
   "outputs": [],
   "source": [
    "%%writefile click_example_12.py\n",
    "import click\n",
    "\n",
    "\n",
    "@click.command()\n",
    "@click.option('--word', '-w', multiple=True)\n",
    "def words(word):\n",
    "    click.echo('\\n'.join(word))\n",
    "\n",
    "if __name__ == '__main__':\n",
    "    words()"
   ]
  },
  {
   "cell_type": "markdown",
   "metadata": {},
   "source": [
    "En el ejemplo, podemos especificar las opciones `--word/-w` varias veces."
   ]
  },
  {
   "cell_type": "code",
   "execution_count": null,
   "metadata": {},
   "outputs": [],
   "source": [
    "!python click_example_12.py -w sky --word forest --word rock -w cloud"
   ]
  },
  {
   "cell_type": "markdown",
   "metadata": {},
   "source": [
    "## The click.File type\n",
    "\n",
    "El tipo `click.File` declara que un parámetro es un archivo para lectura o escritura. El archivo se cierra automáticamente una vez que el contexto se rompe (después de que el comando terminó de funcionar)."
   ]
  },
  {
   "cell_type": "code",
   "execution_count": null,
   "metadata": {},
   "outputs": [],
   "source": [
    "%%writefile words.txt\n",
    "sky\n",
    "cloud\n",
    "water\n",
    "forest\n",
    "rock\n",
    "moon\n",
    "falcon\n",
    "lake"
   ]
  },
  {
   "cell_type": "markdown",
   "metadata": {},
   "source": [
    "Trabajamos con este archivo de texto.\n"
   ]
  },
  {
   "cell_type": "code",
   "execution_count": null,
   "metadata": {},
   "outputs": [],
   "source": [
    "%%writefile click_example_13.py\n",
    "import click\n",
    "\n",
    "@click.command()\n",
    "@click.argument('file_name', type=click.File('r'))\n",
    "@click.argument('lines', default=-1, type=int)\n",
    "def head(file_name, lines):\n",
    "\n",
    "    counter = 0\n",
    "\n",
    "    for line in file_name:\n",
    "\n",
    "        print(line.strip())\n",
    "        counter += 1\n",
    "\n",
    "        if counter == lines: \n",
    "            break\n",
    "\n",
    "\n",
    "if __name__ == '__main__':\n",
    "    head()"
   ]
  },
  {
   "cell_type": "markdown",
   "metadata": {},
   "source": [
    "Creamos un equivalente del comando `head` de Linux.\n"
   ]
  },
  {
   "cell_type": "code",
   "execution_count": null,
   "metadata": {},
   "outputs": [],
   "source": [
    "!python click_example_13.py words.txt 4"
   ]
  },
  {
   "cell_type": "markdown",
   "metadata": {},
   "source": [
    "## The click.Path type\n",
    "El tipo `click.Path` es similar al tipo `click.File`. En lugar de devolver un identificador de archivo abierto, solo devuelve el nombre del archivo."
   ]
  },
  {
   "cell_type": "code",
   "execution_count": null,
   "metadata": {},
   "outputs": [],
   "source": [
    "%%writefile click_example_14.py\n",
    "import click\n",
    "\n",
    "@click.command()\n",
    "@click.argument('file_name', type=click.Path(exists=True))\n",
    "@click.argument('lines', default=-1, type=int)\n",
    "def head(file_name, lines):\n",
    "\n",
    "    with open(file_name, 'r') as f:\n",
    "\n",
    "        counter = 0\n",
    "\n",
    "        for line in file_name:\n",
    "\n",
    "            print(line.strip())\n",
    "            counter += 1\n",
    "\n",
    "            if counter == lines: \n",
    "                break\n",
    "\n",
    "\n",
    "if __name__ == '__main__':\n",
    "    head()"
   ]
  },
  {
   "cell_type": "markdown",
   "metadata": {},
   "source": [
    "Este es el comando de cabecera creado con el tipo `click.Path`.\n",
    "\n"
   ]
  },
  {
   "cell_type": "markdown",
   "metadata": {},
   "source": [
    "## Python click command groups\n",
    "\n",
    "Los comandos se pueden agregar a grupos. Los grupos se crean con el decorador `@click.group`."
   ]
  },
  {
   "cell_type": "code",
   "execution_count": null,
   "metadata": {},
   "outputs": [],
   "source": [
    "%%writefile click_example_15.py\n",
    "import click\n",
    "\n",
    "\n",
    "@click.group()\n",
    "def messages():\n",
    "    pass\n",
    "\n",
    "\n",
    "@click.command()\n",
    "def generic():\n",
    "    click.echo('Hello there')\n",
    "\n",
    "\n",
    "@click.command()\n",
    "def welcome():\n",
    "    click.echo('Welcome')\n",
    "\n",
    "\n",
    "messages.add_command(generic)\n",
    "messages.add_command(welcome)\n",
    "\n",
    "if __name__ == '__main__':\n",
    "    messages()"
   ]
  },
  {
   "cell_type": "markdown",
   "metadata": {},
   "source": [
    "El ejemplo define dos grupos."
   ]
  },
  {
   "cell_type": "code",
   "execution_count": null,
   "metadata": {},
   "outputs": [],
   "source": [
    "!python click_example_15.py --help"
   ]
  },
  {
   "cell_type": "code",
   "execution_count": null,
   "metadata": {},
   "outputs": [],
   "source": [
    "!python click_example_15.py generic"
   ]
  },
  {
   "cell_type": "code",
   "execution_count": null,
   "metadata": {},
   "outputs": [],
   "source": [
    "!python click_example_15.py welcome"
   ]
  },
  {
   "cell_type": "markdown",
   "metadata": {},
   "source": [
    "El mensaje de ayuda muestra dos comandos."
   ]
  },
  {
   "cell_type": "code",
   "execution_count": null,
   "metadata": {},
   "outputs": [],
   "source": [
    "%%writefile click_example_16.py\n",
    "\n",
    "import click\n",
    "\n",
    "\n",
    "@click.group()\n",
    "def cli():\n",
    "    pass\n",
    "\n",
    "\n",
    "@cli.command(name='gen')\n",
    "def generic():\n",
    "    click.echo('Hello there')\n",
    "\n",
    "\n",
    "@cli.command(name='wel')\n",
    "def welcome():\n",
    "    click.echo('Welcome')\n",
    "\n",
    "\n",
    "if __name__ == '__main__':\n",
    "    cli()"
   ]
  },
  {
   "cell_type": "markdown",
   "metadata": {},
   "source": [
    "Esta es una sintaxis alternativa para crear un grupo de comandos. Los comandos toman el nombre de la función, pero se les puede dar otro nombre con la opción de nombre."
   ]
  },
  {
   "cell_type": "code",
   "execution_count": null,
   "metadata": {},
   "outputs": [],
   "source": [
    "!python click_example_16.py gen"
   ]
  },
  {
   "cell_type": "code",
   "execution_count": null,
   "metadata": {},
   "outputs": [],
   "source": [
    "!python click_example_16.py wel"
   ]
  },
  {
   "cell_type": "markdown",
   "metadata": {},
   "source": [
    "**Observación**: al final de cada presentación, se eliminan los archivos que generamos de manera temporal."
   ]
  },
  {
   "cell_type": "code",
   "execution_count": null,
   "metadata": {},
   "outputs": [],
   "source": [
    "# eliminar archivos temporales\n",
    "!rm *.py *.txt"
   ]
  }
 ],
 "metadata": {
  "kernelspec": {
   "display_name": "Python 3",
   "language": "python",
   "name": "python3"
  },
  "language_info": {
   "codemirror_mode": {
    "name": "ipython",
    "version": 3
   },
   "file_extension": ".py",
   "mimetype": "text/x-python",
   "name": "python",
   "nbconvert_exporter": "python",
   "pygments_lexer": "ipython3",
   "version": "3.7.3"
  },
  "latex_envs": {
   "LaTeX_envs_menu_present": true,
   "autoclose": false,
   "autocomplete": true,
   "bibliofile": "biblio.bib",
   "cite_by": "apalike",
   "current_citInitial": 1,
   "eqLabelWithNumbers": true,
   "eqNumInitial": 1,
   "hotkeys": {
    "equation": "Ctrl-E",
    "itemize": "Ctrl-I"
   },
   "labels_anchors": false,
   "latex_user_defs": false,
   "report_style_numbering": false,
   "user_envs_cfg": false
  }
 },
 "nbformat": 4,
 "nbformat_minor": 4
}

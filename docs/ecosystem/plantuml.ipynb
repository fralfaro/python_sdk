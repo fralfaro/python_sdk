{
 "cells": [
  {
   "cell_type": "markdown",
   "metadata": {},
   "source": [
    "# PlantUML "
   ]
  },
  {
   "cell_type": "markdown",
   "metadata": {},
   "source": [
    "## Introducción\n",
    "\n",
    "[PlantUML](https://plantuml.com/) es una herramienta de dibujo de diagramas. Soporta varios de los diagramas más usados. Entre ellos destacan:\n",
    "\n",
    "* Diagramas de Secuencia\n",
    "* Diagramas de Clases\n",
    "* Diagramas de Estados\n",
    "* Diagramas de Actividad\n",
    "\n",
    "Una de sus ventajas es que se puede integrar con una gran cantidad de aplicaciones. Otra de sus ventajas es la simplicidad e intuitividad de su sintaxis, por ejemplo, para hacer una flecha en un diagrama de secuencia se usa “->”; si se necesita una flecha discontinua se usaría “–>»; una relación de herencia en un diagrama de clases “<|--”.\n",
    "\n",
    "Es importante recordar que es una herramienta de dibujo. Esto quiere decir que es posible dibujar diagramas inconsistentes si no se tiene algo de cuidado."
   ]
  },
  {
   "cell_type": "markdown",
   "metadata": {},
   "source": [
    "### Instalación\n",
    "\n",
    "\n",
    "* Instalar [Graphviz](https://plantuml.com/es/graphviz-dot). Es necesario para poder generar la mayoría de los diagramas.\n",
    "*  Instalar plantuml. En un sistema basado en Debian, puede instalar el paquete plantuml. De lo contrario, puede descargar `plantuml.jar` y copiarlo en `/usr/local/bin/plantuml.jar`.\n",
    "* Para correr estos ejemplos en jupyter notebook, debemos intalar [iplantuml](https://github.com/jbn/IPlantUML)."
   ]
  },
  {
   "cell_type": "markdown",
   "metadata": {},
   "source": [
    "## Ejemplos\n",
    "\n",
    "### Diagramas de secuencia\n",
    "\n",
    "Comencemos, pues, a dibujar. Lo principal es empezar cada uno de nuestros diagramas con @startuml y terminarlos con @enduml. Veremos mediante ejemplos qué cosas se pueden hacer con esta herramienta, desde algo sencillo a algo más complejo. La complejidad y el tamaño de los diagramas puede ser atroz. Por si os queréis hacer una idea, en la documentación se habla de un problema de memoria para diagramas de mas de 20000 x 10000px, pudiéndose arreglar aumentando la memoria que usa la JVM. Nosotros no vamos a llegar a tanto, empezamos con un diagrama sencillo tal que así:"
   ]
  },
  {
   "cell_type": "code",
   "execution_count": 1,
   "metadata": {},
   "outputs": [],
   "source": [
    "import iplantuml"
   ]
  },
  {
   "cell_type": "code",
   "execution_count": 2,
   "metadata": {},
   "outputs": [
    {
     "data": {
      "image/svg+xml": [
       "<svg contentScriptType=\"application/ecmascript\" contentStyleType=\"text/css\" height=\"223px\" preserveAspectRatio=\"none\" style=\"width:219px;height:223px;\" version=\"1.1\" viewBox=\"0 0 219 223\" width=\"219px\" xmlns=\"http://www.w3.org/2000/svg\" xmlns:xlink=\"http://www.w3.org/1999/xlink\" zoomAndPan=\"magnify\"><defs><filter height=\"300%\" id=\"f3nbti3n32has\" width=\"300%\" x=\"-1\" y=\"-1\"><feGaussianBlur result=\"blurOut\" stdDeviation=\"2.0\"/><feColorMatrix in=\"blurOut\" result=\"blurOut2\" type=\"matrix\" values=\"0 0 0 0 0 0 0 0 0 0 0 0 0 0 0 0 0 0 .4 0\"/><feOffset dx=\"4.0\" dy=\"4.0\" in=\"blurOut2\" result=\"blurOut3\"/><feBlend in=\"SourceGraphic\" in2=\"blurOut3\" mode=\"normal\"/></filter></defs><g><line style=\"stroke: #A80036; stroke-width: 1.0; stroke-dasharray: 5.0,5.0;\" x1=\"31\" x2=\"31\" y1=\"38.2969\" y2=\"174.8281\"/><line style=\"stroke: #A80036; stroke-width: 1.0; stroke-dasharray: 5.0,5.0;\" x1=\"115.5\" x2=\"115.5\" y1=\"38.2969\" y2=\"174.8281\"/><line style=\"stroke: #A80036; stroke-width: 1.0; stroke-dasharray: 5.0,5.0;\" x1=\"177.5\" x2=\"177.5\" y1=\"38.2969\" y2=\"174.8281\"/><rect fill=\"#FEFECE\" filter=\"url(#f3nbti3n32has)\" height=\"30.2969\" style=\"stroke: #A80036; stroke-width: 1.5;\" width=\"43\" x=\"8\" y=\"3\"/><text fill=\"#000000\" font-family=\"sans-serif\" font-size=\"14\" lengthAdjust=\"spacingAndGlyphs\" textLength=\"29\" x=\"15\" y=\"22.9951\">Juan</text><rect fill=\"#FEFECE\" filter=\"url(#f3nbti3n32has)\" height=\"30.2969\" style=\"stroke: #A80036; stroke-width: 1.5;\" width=\"43\" x=\"8\" y=\"173.8281\"/><text fill=\"#000000\" font-family=\"sans-serif\" font-size=\"14\" lengthAdjust=\"spacingAndGlyphs\" textLength=\"29\" x=\"15\" y=\"193.8232\">Juan</text><rect fill=\"#FEFECE\" filter=\"url(#f3nbti3n32has)\" height=\"30.2969\" style=\"stroke: #A80036; stroke-width: 1.5;\" width=\"48\" x=\"89.5\" y=\"3\"/><text fill=\"#000000\" font-family=\"sans-serif\" font-size=\"14\" lengthAdjust=\"spacingAndGlyphs\" textLength=\"34\" x=\"96.5\" y=\"22.9951\">Paco</text><rect fill=\"#FEFECE\" filter=\"url(#f3nbti3n32has)\" height=\"30.2969\" style=\"stroke: #A80036; stroke-width: 1.5;\" width=\"48\" x=\"89.5\" y=\"173.8281\"/><text fill=\"#000000\" font-family=\"sans-serif\" font-size=\"14\" lengthAdjust=\"spacingAndGlyphs\" textLength=\"34\" x=\"96.5\" y=\"193.8232\">Paco</text><rect fill=\"#FEFECE\" filter=\"url(#f3nbti3n32has)\" height=\"30.2969\" style=\"stroke: #A80036; stroke-width: 1.5;\" width=\"49\" x=\"151.5\" y=\"3\"/><text fill=\"#000000\" font-family=\"sans-serif\" font-size=\"14\" lengthAdjust=\"spacingAndGlyphs\" textLength=\"35\" x=\"158.5\" y=\"22.9951\">Jesús</text><rect fill=\"#FEFECE\" filter=\"url(#f3nbti3n32has)\" height=\"30.2969\" style=\"stroke: #A80036; stroke-width: 1.5;\" width=\"49\" x=\"151.5\" y=\"173.8281\"/><text fill=\"#000000\" font-family=\"sans-serif\" font-size=\"14\" lengthAdjust=\"spacingAndGlyphs\" textLength=\"35\" x=\"158.5\" y=\"193.8232\">Jesús</text><polygon fill=\"#A80036\" points=\"103.5,65.4297,113.5,69.4297,103.5,73.4297,107.5,69.4297\" style=\"stroke: #A80036; stroke-width: 1.0;\"/><line style=\"stroke: #A80036; stroke-width: 1.0;\" x1=\"31.5\" x2=\"109.5\" y1=\"69.4297\" y2=\"69.4297\"/><text fill=\"#000000\" font-family=\"sans-serif\" font-size=\"13\" lengthAdjust=\"spacingAndGlyphs\" textLength=\"42\" x=\"38.5\" y=\"64.3638\">saluda</text><polygon fill=\"#A80036\" points=\"42.5,94.5625,32.5,98.5625,42.5,102.5625,38.5,98.5625\" style=\"stroke: #A80036; stroke-width: 1.0;\"/><line style=\"stroke: #A80036; stroke-width: 1.0; stroke-dasharray: 2.0,2.0;\" x1=\"36.5\" x2=\"114.5\" y1=\"98.5625\" y2=\"98.5625\"/><text fill=\"#000000\" font-family=\"sans-serif\" font-size=\"13\" lengthAdjust=\"spacingAndGlyphs\" textLength=\"60\" x=\"48.5\" y=\"93.4966\">responde</text><polygon fill=\"#A80036\" points=\"166,123.6953,176,127.6953,166,131.6953,170,127.6953\" style=\"stroke: #A80036; stroke-width: 1.0;\"/><line style=\"stroke: #A80036; stroke-width: 1.0;\" x1=\"31.5\" x2=\"172\" y1=\"127.6953\" y2=\"127.6953\"/><text fill=\"#000000\" font-family=\"sans-serif\" font-size=\"13\" lengthAdjust=\"spacingAndGlyphs\" textLength=\"42\" x=\"38.5\" y=\"122.6294\">saluda</text><polygon fill=\"#A80036\" points=\"42.5,152.8281,32.5,156.8281,42.5,160.8281,38.5,156.8281\" style=\"stroke: #A80036; stroke-width: 1.0;\"/><line style=\"stroke: #A80036; stroke-width: 1.0; stroke-dasharray: 2.0,2.0;\" x1=\"36.5\" x2=\"177\" y1=\"156.8281\" y2=\"156.8281\"/><text fill=\"#000000\" font-family=\"sans-serif\" font-size=\"13\" lengthAdjust=\"spacingAndGlyphs\" textLength=\"60\" x=\"48.5\" y=\"151.7622\">responde</text><!--MD5=[d16b35c0c191e0d6aa139174a4b2c54e]\n",
       "@startuml\n",
       "Juan -> Paco: saluda\n",
       "Juan <- - Paco: responde\n",
       "Juan -> Jesús: saluda\n",
       "Juan <- - Jesús: responde\n",
       "@enduml\n",
       "\n",
       "PlantUML version 1.2020.18beta4(Unknown compile time)\n",
       "(GPL source distribution)\n",
       "Java Runtime: Java(TM) SE Runtime Environment\n",
       "JVM: Java HotSpot(TM) 64-Bit Server VM\n",
       "Default Encoding: UTF-8\n",
       "Language: en\n",
       "Country: US\n",
       "--></g></svg>"
      ],
      "text/plain": [
       "<IPython.core.display.SVG object>"
      ]
     },
     "execution_count": 2,
     "metadata": {},
     "output_type": "execute_result"
    }
   ],
   "source": [
    "%%plantuml \n",
    "\n",
    "@startuml\n",
    "Juan -> Paco: saluda\n",
    "Juan <-- Paco: responde\n",
    "Juan -> Jesús: saluda\n",
    "Juan <-- Jesús: responde \n",
    "@enduml"
   ]
  },
  {
   "cell_type": "markdown",
   "metadata": {},
   "source": [
    "También podemos declarar distintos participantes en el diagrama, como un actor (el monigote de los diagramas) o una base de datos, entre otros. Incluso añadir notas, o cambiar la apariencia de todo. Completando el ejemplo anterior… (lo siento Jesús, te he convertido en baseDeDatos)"
   ]
  },
  {
   "cell_type": "code",
   "execution_count": 3,
   "metadata": {},
   "outputs": [
    {
     "data": {
      "image/svg+xml": [
       "<svg contentScriptType=\"application/ecmascript\" contentStyleType=\"text/css\" height=\"392px\" preserveAspectRatio=\"none\" style=\"width:281px;height:392px;\" version=\"1.1\" viewBox=\"0 0 281 392\" width=\"281px\" xmlns=\"http://www.w3.org/2000/svg\" xmlns:xlink=\"http://www.w3.org/1999/xlink\" zoomAndPan=\"magnify\"><defs><filter height=\"300%\" id=\"f1f51bztdawj7u\" width=\"300%\" x=\"-1\" y=\"-1\"><feGaussianBlur result=\"blurOut\" stdDeviation=\"2.0\"/><feColorMatrix in=\"blurOut\" result=\"blurOut2\" type=\"matrix\" values=\"0 0 0 0 0 0 0 0 0 0 0 0 0 0 0 0 0 0 .4 0\"/><feOffset dx=\"4.0\" dy=\"4.0\" in=\"blurOut2\" result=\"blurOut3\"/><feBlend in=\"SourceGraphic\" in2=\"blurOut3\" mode=\"normal\"/></filter></defs><g><line style=\"stroke: #A80036; stroke-width: 1.0; stroke-dasharray: 5.0,5.0;\" x1=\"25\" x2=\"25\" y1=\"86.2969\" y2=\"305.2266\"/><line style=\"stroke: #A80036; stroke-width: 1.0; stroke-dasharray: 5.0,5.0;\" x1=\"109.5\" x2=\"109.5\" y1=\"86.2969\" y2=\"305.2266\"/><line style=\"stroke: #A80036; stroke-width: 1.0; stroke-dasharray: 5.0,5.0;\" x1=\"196.5\" x2=\"196.5\" y1=\"86.2969\" y2=\"305.2266\"/><text fill=\"#000000\" font-family=\"sans-serif\" font-size=\"14\" lengthAdjust=\"spacingAndGlyphs\" textLength=\"29\" x=\"8\" y=\"82.9951\">Juan</text><ellipse cx=\"25.5\" cy=\"13\" fill=\"#FEFECE\" filter=\"url(#f1f51bztdawj7u)\" rx=\"8\" ry=\"8\" style=\"stroke: #A80036; stroke-width: 2.0;\"/><path d=\"M25.5,21 L25.5,48 M12.5,29 L38.5,29 M25.5,48 L12.5,63 M25.5,48 L38.5,63 \" fill=\"none\" filter=\"url(#f1f51bztdawj7u)\" style=\"stroke: #A80036; stroke-width: 2.0;\"/><text fill=\"#000000\" font-family=\"sans-serif\" font-size=\"14\" lengthAdjust=\"spacingAndGlyphs\" textLength=\"29\" x=\"8\" y=\"317.2217\">Juan</text><ellipse cx=\"25.5\" cy=\"330.5234\" fill=\"#FEFECE\" filter=\"url(#f1f51bztdawj7u)\" rx=\"8\" ry=\"8\" style=\"stroke: #A80036; stroke-width: 2.0;\"/><path d=\"M25.5,338.5234 L25.5,365.5234 M12.5,346.5234 L38.5,346.5234 M25.5,365.5234 L12.5,380.5234 M25.5,365.5234 L38.5,380.5234 \" fill=\"none\" filter=\"url(#f1f51bztdawj7u)\" style=\"stroke: #A80036; stroke-width: 2.0;\"/><text fill=\"#000000\" font-family=\"sans-serif\" font-size=\"14\" lengthAdjust=\"spacingAndGlyphs\" textLength=\"96\" x=\"58.5\" y=\"82.9951\">baseDeDatos</text><path d=\"M91.5,34 C91.5,24 109.5,24 109.5,24 C109.5,24 127.5,24 127.5,34 L127.5,60 C127.5,70 109.5,70 109.5,70 C109.5,70 91.5,70 91.5,60 L91.5,34 \" fill=\"#008000\" filter=\"url(#f1f51bztdawj7u)\" style=\"stroke: #000000; stroke-width: 1.5;\"/><path d=\"M91.5,34 C91.5,44 109.5,44 109.5,44 C109.5,44 127.5,44 127.5,34 \" fill=\"none\" style=\"stroke: #000000; stroke-width: 1.5;\"/><text fill=\"#000000\" font-family=\"sans-serif\" font-size=\"14\" lengthAdjust=\"spacingAndGlyphs\" textLength=\"96\" x=\"58.5\" y=\"317.2217\">baseDeDatos</text><path d=\"M91.5,330.5234 C91.5,320.5234 109.5,320.5234 109.5,320.5234 C109.5,320.5234 127.5,320.5234 127.5,330.5234 L127.5,356.5234 C127.5,366.5234 109.5,366.5234 109.5,366.5234 C109.5,366.5234 91.5,366.5234 91.5,356.5234 L91.5,330.5234 \" fill=\"#008000\" filter=\"url(#f1f51bztdawj7u)\" style=\"stroke: #000000; stroke-width: 1.5;\"/><path d=\"M91.5,330.5234 C91.5,340.5234 109.5,340.5234 109.5,340.5234 C109.5,340.5234 127.5,340.5234 127.5,330.5234 \" fill=\"none\" style=\"stroke: #000000; stroke-width: 1.5;\"/><rect fill=\"#FEFECE\" filter=\"url(#f1f51bztdawj7u)\" height=\"30.2969\" style=\"stroke: #A80036; stroke-width: 1.5;\" width=\"48\" x=\"170.5\" y=\"51\"/><text fill=\"#000000\" font-family=\"sans-serif\" font-size=\"14\" lengthAdjust=\"spacingAndGlyphs\" textLength=\"34\" x=\"177.5\" y=\"70.9951\">Paco</text><rect fill=\"#FEFECE\" filter=\"url(#f1f51bztdawj7u)\" height=\"30.2969\" style=\"stroke: #A80036; stroke-width: 1.5;\" width=\"48\" x=\"170.5\" y=\"304.2266\"/><text fill=\"#000000\" font-family=\"sans-serif\" font-size=\"14\" lengthAdjust=\"spacingAndGlyphs\" textLength=\"34\" x=\"177.5\" y=\"324.2217\">Paco</text><polygon fill=\"#A80036\" points=\"97.5,118.4297,107.5,122.4297,97.5,126.4297,101.5,122.4297\" style=\"stroke: #A80036; stroke-width: 1.0;\"/><line style=\"stroke: #A80036; stroke-width: 1.0;\" x1=\"25.5\" x2=\"103.5\" y1=\"122.4297\" y2=\"122.4297\"/><text fill=\"#000000\" font-family=\"sans-serif\" font-size=\"13\" lengthAdjust=\"spacingAndGlyphs\" textLength=\"49\" x=\"32.5\" y=\"117.3638\">saludas</text><path d=\"M114,101.2969 L114,126.2969 L186,126.2969 L186,111.2969 L176,101.2969 L114,101.2969 \" fill=\"#FBFB77\" filter=\"url(#f1f51bztdawj7u)\" style=\"stroke: #A80036; stroke-width: 1.0;\"/><path d=\"M176,101.2969 L176,111.2969 L186,111.2969 L176,101.2969 \" fill=\"#FBFB77\" style=\"stroke: #A80036; stroke-width: 1.0;\"/><text fill=\"#000000\" font-family=\"sans-serif\" font-size=\"13\" lengthAdjust=\"spacingAndGlyphs\" textLength=\"51\" x=\"120\" y=\"118.3638\">cortesía</text><polygon fill=\"#A80036\" points=\"36.5,152.5625,26.5,156.5625,36.5,160.5625,32.5,156.5625\" style=\"stroke: #A80036; stroke-width: 1.0;\"/><line style=\"stroke: #A80036; stroke-width: 1.0; stroke-dasharray: 2.0,2.0;\" x1=\"30.5\" x2=\"108.5\" y1=\"156.5625\" y2=\"156.5625\"/><text fill=\"#000000\" font-family=\"sans-serif\" font-size=\"13\" lengthAdjust=\"spacingAndGlyphs\" textLength=\"60\" x=\"42.5\" y=\"151.4966\">responde</text><polygon fill=\"#A80036\" points=\"184.5,181.6953,194.5,185.6953,184.5,189.6953,188.5,185.6953\" style=\"stroke: #A80036; stroke-width: 1.0;\"/><line style=\"stroke: #A80036; stroke-width: 1.0;\" x1=\"25.5\" x2=\"190.5\" y1=\"185.6953\" y2=\"185.6953\"/><text fill=\"#000000\" font-family=\"sans-serif\" font-size=\"13\" lengthAdjust=\"spacingAndGlyphs\" textLength=\"42\" x=\"32.5\" y=\"180.6294\">saluda</text><line style=\"stroke: #A80036; stroke-width: 1.0;\" x1=\"196.5\" x2=\"238.5\" y1=\"245.0938\" y2=\"245.0938\"/><line style=\"stroke: #A80036; stroke-width: 1.0;\" x1=\"238.5\" x2=\"238.5\" y1=\"245.0938\" y2=\"258.0938\"/><line style=\"stroke: #A80036; stroke-width: 1.0;\" x1=\"197.5\" x2=\"238.5\" y1=\"258.0938\" y2=\"258.0938\"/><polygon fill=\"#A80036\" points=\"207.5,254.0938,197.5,258.0938,207.5,262.0938,203.5,258.0938\" style=\"stroke: #A80036; stroke-width: 1.0;\"/><text fill=\"#000000\" font-family=\"sans-serif\" font-size=\"13\" lengthAdjust=\"spacingAndGlyphs\" textLength=\"62\" x=\"203.5\" y=\"209.7622\">¿cómo se</text><text fill=\"#000000\" font-family=\"sans-serif\" font-size=\"13\" lengthAdjust=\"spacingAndGlyphs\" textLength=\"51\" x=\"203.5\" y=\"224.895\">llamaba</text><text fill=\"#000000\" font-family=\"sans-serif\" font-size=\"13\" lengthAdjust=\"spacingAndGlyphs\" textLength=\"55\" x=\"203.5\" y=\"240.0278\">este tío?</text><polygon fill=\"#A80036\" points=\"36.5,283.2266,26.5,287.2266,36.5,291.2266,32.5,287.2266\" style=\"stroke: #A80036; stroke-width: 1.0;\"/><line style=\"stroke: #A80036; stroke-width: 1.0; stroke-dasharray: 2.0,2.0;\" x1=\"30.5\" x2=\"195.5\" y1=\"287.2266\" y2=\"287.2266\"/><text fill=\"#000000\" font-family=\"sans-serif\" font-size=\"13\" lengthAdjust=\"spacingAndGlyphs\" textLength=\"60\" x=\"42.5\" y=\"282.1606\">responde</text><!--MD5=[9c65e0119a3217664a9fecacb69f1551]\n",
       "@startuml\n",
       "actor Juan\n",
       "database baseDeDatos #green\n",
       "\n",
       "Juan -> baseDeDatos: saludas\n",
       "note right: cortesía\n",
       "Juan <- - baseDeDatos: responde\n",
       "\n",
       "Juan -> Paco: saluda\n",
       "Paco -> Paco: ¿cómo se \\nllamaba \\neste tío?\n",
       "Juan <- - Paco: responde\n",
       "@enduml\n",
       "\n",
       "PlantUML version 1.2020.18beta4(Unknown compile time)\n",
       "(GPL source distribution)\n",
       "Java Runtime: Java(TM) SE Runtime Environment\n",
       "JVM: Java HotSpot(TM) 64-Bit Server VM\n",
       "Default Encoding: UTF-8\n",
       "Language: en\n",
       "Country: US\n",
       "--></g></svg>"
      ],
      "text/plain": [
       "<IPython.core.display.SVG object>"
      ]
     },
     "execution_count": 3,
     "metadata": {},
     "output_type": "execute_result"
    }
   ],
   "source": [
    "%%plantuml \n",
    "\n",
    "@startuml\n",
    "\n",
    "actor Juan\n",
    "database baseDeDatos #green\n",
    "\n",
    "Juan -> baseDeDatos: saludas\n",
    "note right: cortesía\n",
    "Juan <-- baseDeDatos: responde\n",
    "\n",
    "Juan -> Paco: saluda\n",
    "Paco -> Paco: ¿cómo se \\nllamaba \\neste tío?\n",
    "Juan <-- Paco: responde\n",
    "\n",
    "@enduml"
   ]
  },
  {
   "cell_type": "markdown",
   "metadata": {},
   "source": [
    "Como podemos ver, las posibilidades se hacen enormes según descubrimos nuevos elementos que añadir en nuestros diagramas, así como formas de combinarlos. En el siguiente código podemos ver una muestra de las posibilidades:"
   ]
  },
  {
   "cell_type": "code",
   "execution_count": 4,
   "metadata": {},
   "outputs": [
    {
     "data": {
      "image/svg+xml": [
       "<svg contentScriptType=\"application/ecmascript\" contentStyleType=\"text/css\" height=\"248px\" preserveAspectRatio=\"none\" style=\"width:228px;height:248px;\" version=\"1.1\" viewBox=\"0 0 228 248\" width=\"228px\" xmlns=\"http://www.w3.org/2000/svg\" xmlns:xlink=\"http://www.w3.org/1999/xlink\" zoomAndPan=\"magnify\"><defs><filter height=\"300%\" id=\"ff1a8xki9lot2\" width=\"300%\" x=\"-1\" y=\"-1\"><feGaussianBlur result=\"blurOut\" stdDeviation=\"2.0\"/><feColorMatrix in=\"blurOut\" result=\"blurOut2\" type=\"matrix\" values=\"0 0 0 0 0 0 0 0 0 0 0 0 0 0 0 0 0 0 .4 0\"/><feOffset dx=\"4.0\" dy=\"4.0\" in=\"blurOut2\" result=\"blurOut3\"/><feBlend in=\"SourceGraphic\" in2=\"blurOut3\" mode=\"normal\"/></filter></defs><g><line style=\"stroke: #A80036; stroke-width: 1.0; stroke-dasharray: 5.0,5.0;\" x1=\"56\" x2=\"56\" y1=\"38.2969\" y2=\"200.5625\"/><line style=\"stroke: #A80036; stroke-width: 1.0; stroke-dasharray: 5.0,5.0;\" x1=\"163\" x2=\"163\" y1=\"38.2969\" y2=\"200.5625\"/><rect fill=\"#FEFECE\" filter=\"url(#ff1a8xki9lot2)\" height=\"30.2969\" style=\"stroke: #A80036; stroke-width: 1.5;\" width=\"93\" x=\"8\" y=\"3\"/><text fill=\"#000000\" font-family=\"sans-serif\" font-size=\"14\" lengthAdjust=\"spacingAndGlyphs\" textLength=\"79\" x=\"15\" y=\"22.9951\">Elemento1</text><rect fill=\"#FEFECE\" filter=\"url(#ff1a8xki9lot2)\" height=\"30.2969\" style=\"stroke: #A80036; stroke-width: 1.5;\" width=\"93\" x=\"8\" y=\"199.5625\"/><text fill=\"#000000\" font-family=\"sans-serif\" font-size=\"14\" lengthAdjust=\"spacingAndGlyphs\" textLength=\"79\" x=\"15\" y=\"219.5576\">Elemento1</text><rect fill=\"#FEFECE\" filter=\"url(#ff1a8xki9lot2)\" height=\"30.2969\" style=\"stroke: #A80036; stroke-width: 1.5;\" width=\"92\" x=\"115\" y=\"3\"/><text fill=\"#000000\" font-family=\"sans-serif\" font-size=\"14\" lengthAdjust=\"spacingAndGlyphs\" textLength=\"78\" x=\"122\" y=\"22.9951\">Elemento2</text><rect fill=\"#FEFECE\" filter=\"url(#ff1a8xki9lot2)\" height=\"30.2969\" style=\"stroke: #A80036; stroke-width: 1.5;\" width=\"92\" x=\"115\" y=\"199.5625\"/><text fill=\"#000000\" font-family=\"sans-serif\" font-size=\"14\" lengthAdjust=\"spacingAndGlyphs\" textLength=\"78\" x=\"122\" y=\"219.5576\">Elemento2</text><rect fill=\"#EEEEEE\" filter=\"url(#ff1a8xki9lot2)\" height=\"3\" style=\"stroke: #EEEEEE; stroke-width: 1.0;\" width=\"213\" x=\"3\" y=\"68.8633\"/><line style=\"stroke: #000000; stroke-width: 1.0;\" x1=\"3\" x2=\"216\" y1=\"68.8633\" y2=\"68.8633\"/><line style=\"stroke: #000000; stroke-width: 1.0;\" x1=\"3\" x2=\"216\" y1=\"71.8633\" y2=\"71.8633\"/><rect fill=\"#EEEEEE\" filter=\"url(#ff1a8xki9lot2)\" height=\"23.1328\" style=\"stroke: #000000; stroke-width: 2.0;\" width=\"88\" x=\"65.5\" y=\"58.2969\"/><text fill=\"#000000\" font-family=\"sans-serif\" font-size=\"13\" font-weight=\"bold\" lengthAdjust=\"spacingAndGlyphs\" textLength=\"74\" x=\"71.5\" y=\"74.3638\">Comienzo</text><line style=\"stroke: #A80036; stroke-width: 2.0;\" x1=\"145\" x2=\"155\" y1=\"92.4297\" y2=\"102.4297\"/><line style=\"stroke: #A80036; stroke-width: 2.0;\" x1=\"145\" x2=\"155\" y1=\"102.4297\" y2=\"92.4297\"/><line style=\"stroke: #A80036; stroke-width: 1.0;\" x1=\"56.5\" x2=\"150\" y1=\"97.4297\" y2=\"97.4297\"/><polygon fill=\"#0000FF\" points=\"67.5,107.4297,57.5,111.4297,67.5,111.4297\" style=\"stroke: #0000FF; stroke-width: 1.0;\"/><line style=\"stroke: #0000FF; stroke-width: 1.0; stroke-dasharray: 2.0,2.0;\" x1=\"56.5\" x2=\"162\" y1=\"111.4297\" y2=\"111.4297\"/><polygon fill=\"#A80036\" points=\"67.5,121.4297,57.5,125.4297,67.5,129.4297,63.5,125.4297\" style=\"stroke: #A80036; stroke-width: 1.0;\"/><polygon fill=\"#A80036\" points=\"151,121.4297,161,125.4297,151,129.4297,155,125.4297\" style=\"stroke: #A80036; stroke-width: 1.0;\"/><line style=\"stroke: #A80036; stroke-width: 1.0;\" x1=\"61.5\" x2=\"157\" y1=\"125.4297\" y2=\"125.4297\"/><rect fill=\"#EEEEEE\" filter=\"url(#ff1a8xki9lot2)\" height=\"3\" style=\"stroke: #EEEEEE; stroke-width: 1.0;\" width=\"213\" x=\"3\" y=\"153.9961\"/><line style=\"stroke: #000000; stroke-width: 1.0;\" x1=\"3\" x2=\"216\" y1=\"153.9961\" y2=\"153.9961\"/><line style=\"stroke: #000000; stroke-width: 1.0;\" x1=\"3\" x2=\"216\" y1=\"156.9961\" y2=\"156.9961\"/><rect fill=\"#EEEEEE\" filter=\"url(#ff1a8xki9lot2)\" height=\"23.1328\" style=\"stroke: #000000; stroke-width: 2.0;\" width=\"54\" x=\"82.5\" y=\"143.4297\"/><text fill=\"#000000\" font-family=\"sans-serif\" font-size=\"13\" font-weight=\"bold\" lengthAdjust=\"spacingAndGlyphs\" textLength=\"35\" x=\"88.5\" y=\"159.4966\">Final</text><ellipse cx=\"162.5\" cy=\"181.8125\" fill=\"none\" rx=\"4\" ry=\"4\" style=\"stroke: #A80036; stroke-width: 1.5;\"/><polygon fill=\"#A80036\" points=\"145.5,178.5625,155.5,182.5625,145.5,186.5625,149.5,182.5625\" style=\"stroke: #A80036; stroke-width: 1.0;\"/><line style=\"stroke: #A80036; stroke-width: 1.0;\" x1=\"56.5\" x2=\"151.5\" y1=\"182.5625\" y2=\"182.5625\"/><!--MD5=[9434aaed23501573b68aba42acdb668a]\n",
       "@startuml\n",
       "== Comienzo==\n",
       " \n",
       "Elemento1 -X Elemento2\n",
       "Elemento2 -[#0000FF]-\\ Elemento1\n",
       "Elemento2 <-> Elemento1\n",
       " \n",
       "== Final ==\n",
       " \n",
       "Elemento1 ->o Elemento2\n",
       "@enduml\n",
       "\n",
       "PlantUML version 1.2020.18beta4(Unknown compile time)\n",
       "(GPL source distribution)\n",
       "Java Runtime: Java(TM) SE Runtime Environment\n",
       "JVM: Java HotSpot(TM) 64-Bit Server VM\n",
       "Default Encoding: UTF-8\n",
       "Language: en\n",
       "Country: US\n",
       "--></g></svg>"
      ],
      "text/plain": [
       "<IPython.core.display.SVG object>"
      ]
     },
     "execution_count": 4,
     "metadata": {},
     "output_type": "execute_result"
    }
   ],
   "source": [
    "%%plantuml \n",
    "\n",
    "@startuml\n",
    " \n",
    "== Comienzo==\n",
    " \n",
    "Elemento1 -X Elemento2\n",
    "Elemento2 -[#0000FF]-\\ Elemento1\n",
    "Elemento2 <-> Elemento1\n",
    " \n",
    "== Final ==\n",
    " \n",
    "Elemento1 ->o Elemento2\n",
    " \n",
    "@enduml"
   ]
  },
  {
   "cell_type": "markdown",
   "metadata": {},
   "source": [
    "Con esto terminamos con los diagramas de secuencia, podemos hacernos una idea de las posibilidades."
   ]
  },
  {
   "cell_type": "markdown",
   "metadata": {},
   "source": [
    "### Diagramas de clases\n",
    "Lo siguientes diagramas que tenemos en la lista son los diagramas de clases, vamos a analizarlos. A continuación exponemos las principales operaciones entre clases: Herencia, composición y agregación."
   ]
  },
  {
   "cell_type": "code",
   "execution_count": 5,
   "metadata": {},
   "outputs": [
    {
     "data": {
      "image/svg+xml": [
       "<svg contentScriptType=\"application/ecmascript\" contentStyleType=\"text/css\" height=\"182px\" preserveAspectRatio=\"none\" style=\"width:423px;height:182px;\" version=\"1.1\" viewBox=\"0 0 423 182\" width=\"423px\" xmlns=\"http://www.w3.org/2000/svg\" xmlns:xlink=\"http://www.w3.org/1999/xlink\" zoomAndPan=\"magnify\"><defs><filter height=\"300%\" id=\"f17li6h10y746w\" width=\"300%\" x=\"-1\" y=\"-1\"><feGaussianBlur result=\"blurOut\" stdDeviation=\"2.0\"/><feColorMatrix in=\"blurOut\" result=\"blurOut2\" type=\"matrix\" values=\"0 0 0 0 0 0 0 0 0 0 0 0 0 0 0 0 0 0 .4 0\"/><feOffset dx=\"4.0\" dy=\"4.0\" in=\"blurOut2\" result=\"blurOut3\"/><feBlend in=\"SourceGraphic\" in2=\"blurOut3\" mode=\"normal\"/></filter></defs><g><!--MD5=[4e35f906c2a4d4856153a549eaaabe8e]\n",
       "class Clase1--><rect fill=\"#FEFECE\" filter=\"url(#f17li6h10y746w)\" height=\"48\" id=\"Clase1\" style=\"stroke: #A80036; stroke-width: 1.5;\" width=\"72\" x=\"61.5\" y=\"7\"/><ellipse cx=\"76.5\" cy=\"23\" fill=\"#ADD1B2\" rx=\"11\" ry=\"11\" style=\"stroke: #A80036; stroke-width: 1.0;\"/><path d=\"M78.8438,18.6719 C77.9063,18.2344 77.3125,18.0938 76.4375,18.0938 C73.8125,18.0938 71.8125,20.1719 71.8125,22.8906 L71.8125,24.0156 C71.8125,26.5938 73.9219,28.4844 76.8125,28.4844 C78.0313,28.4844 79.1875,28.1875 79.9375,27.6406 C80.5156,27.2344 80.8438,26.7813 80.8438,26.3906 C80.8438,25.9375 80.4531,25.5469 79.9844,25.5469 C79.7656,25.5469 79.5625,25.625 79.375,25.8125 C78.9219,26.2969 78.9219,26.2969 78.7344,26.3906 C78.3125,26.6563 77.625,26.7813 76.8594,26.7813 C74.8125,26.7813 73.5156,25.6875 73.5156,23.9844 L73.5156,22.8906 C73.5156,21.1094 74.7656,19.7969 76.5,19.7969 C77.0781,19.7969 77.6875,19.9531 78.1563,20.2031 C78.6406,20.4844 78.8125,20.7031 78.9063,21.1094 C78.9688,21.5156 79,21.6406 79.1406,21.7656 C79.2813,21.9063 79.5156,22.0156 79.7344,22.0156 C80,22.0156 80.2656,21.875 80.4375,21.6563 C80.5469,21.5 80.5781,21.3125 80.5781,20.8906 L80.5781,19.4688 C80.5781,19.0313 80.5625,18.9063 80.4688,18.75 C80.3125,18.4844 80.0313,18.3438 79.7344,18.3438 C79.4375,18.3438 79.2344,18.4375 79.0156,18.75 L78.8438,18.6719 Z \"/><text fill=\"#000000\" font-family=\"sans-serif\" font-size=\"12\" lengthAdjust=\"spacingAndGlyphs\" textLength=\"40\" x=\"90.5\" y=\"27.1543\">Clase1</text><line style=\"stroke: #A80036; stroke-width: 1.5;\" x1=\"62.5\" x2=\"132.5\" y1=\"39\" y2=\"39\"/><line style=\"stroke: #A80036; stroke-width: 1.5;\" x1=\"62.5\" x2=\"132.5\" y1=\"47\" y2=\"47\"/><!--MD5=[0f41aec53022ad6042a2eb8f0445fa53]\n",
       "class Clase2--><rect fill=\"#FEFECE\" filter=\"url(#f17li6h10y746w)\" height=\"48\" id=\"Clase2\" style=\"stroke: #A80036; stroke-width: 1.5;\" width=\"73\" x=\"7\" y=\"115\"/><ellipse cx=\"22\" cy=\"131\" fill=\"#ADD1B2\" rx=\"11\" ry=\"11\" style=\"stroke: #A80036; stroke-width: 1.0;\"/><path d=\"M24.3438,126.6719 C23.4063,126.2344 22.8125,126.0938 21.9375,126.0938 C19.3125,126.0938 17.3125,128.1719 17.3125,130.8906 L17.3125,132.0156 C17.3125,134.5938 19.4219,136.4844 22.3125,136.4844 C23.5313,136.4844 24.6875,136.1875 25.4375,135.6406 C26.0156,135.2344 26.3438,134.7813 26.3438,134.3906 C26.3438,133.9375 25.9531,133.5469 25.4844,133.5469 C25.2656,133.5469 25.0625,133.625 24.875,133.8125 C24.4219,134.2969 24.4219,134.2969 24.2344,134.3906 C23.8125,134.6563 23.125,134.7813 22.3594,134.7813 C20.3125,134.7813 19.0156,133.6875 19.0156,131.9844 L19.0156,130.8906 C19.0156,129.1094 20.2656,127.7969 22,127.7969 C22.5781,127.7969 23.1875,127.9531 23.6563,128.2031 C24.1406,128.4844 24.3125,128.7031 24.4063,129.1094 C24.4688,129.5156 24.5,129.6406 24.6406,129.7656 C24.7813,129.9063 25.0156,130.0156 25.2344,130.0156 C25.5,130.0156 25.7656,129.875 25.9375,129.6563 C26.0469,129.5 26.0781,129.3125 26.0781,128.8906 L26.0781,127.4688 C26.0781,127.0313 26.0625,126.9063 25.9688,126.75 C25.8125,126.4844 25.5313,126.3438 25.2344,126.3438 C24.9375,126.3438 24.7344,126.4375 24.5156,126.75 L24.3438,126.6719 Z \"/><text fill=\"#000000\" font-family=\"sans-serif\" font-size=\"12\" lengthAdjust=\"spacingAndGlyphs\" textLength=\"41\" x=\"36\" y=\"135.1543\">Clase2</text><line style=\"stroke: #A80036; stroke-width: 1.5;\" x1=\"8\" x2=\"79\" y1=\"147\" y2=\"147\"/><line style=\"stroke: #A80036; stroke-width: 1.5;\" x1=\"8\" x2=\"79\" y1=\"155\" y2=\"155\"/><!--MD5=[2c9ecc0a7368ed76df993a8b99fd7ad3]\n",
       "class Clase3--><rect fill=\"#FEFECE\" filter=\"url(#f17li6h10y746w)\" height=\"48\" id=\"Clase3\" style=\"stroke: #A80036; stroke-width: 1.5;\" width=\"73\" x=\"115\" y=\"115\"/><ellipse cx=\"130\" cy=\"131\" fill=\"#ADD1B2\" rx=\"11\" ry=\"11\" style=\"stroke: #A80036; stroke-width: 1.0;\"/><path d=\"M132.3438,126.6719 C131.4063,126.2344 130.8125,126.0938 129.9375,126.0938 C127.3125,126.0938 125.3125,128.1719 125.3125,130.8906 L125.3125,132.0156 C125.3125,134.5938 127.4219,136.4844 130.3125,136.4844 C131.5313,136.4844 132.6875,136.1875 133.4375,135.6406 C134.0156,135.2344 134.3438,134.7813 134.3438,134.3906 C134.3438,133.9375 133.9531,133.5469 133.4844,133.5469 C133.2656,133.5469 133.0625,133.625 132.875,133.8125 C132.4219,134.2969 132.4219,134.2969 132.2344,134.3906 C131.8125,134.6563 131.125,134.7813 130.3594,134.7813 C128.3125,134.7813 127.0156,133.6875 127.0156,131.9844 L127.0156,130.8906 C127.0156,129.1094 128.2656,127.7969 130,127.7969 C130.5781,127.7969 131.1875,127.9531 131.6563,128.2031 C132.1406,128.4844 132.3125,128.7031 132.4063,129.1094 C132.4688,129.5156 132.5,129.6406 132.6406,129.7656 C132.7813,129.9063 133.0156,130.0156 133.2344,130.0156 C133.5,130.0156 133.7656,129.875 133.9375,129.6563 C134.0469,129.5 134.0781,129.3125 134.0781,128.8906 L134.0781,127.4688 C134.0781,127.0313 134.0625,126.9063 133.9688,126.75 C133.8125,126.4844 133.5313,126.3438 133.2344,126.3438 C132.9375,126.3438 132.7344,126.4375 132.5156,126.75 L132.3438,126.6719 Z \"/><text fill=\"#000000\" font-family=\"sans-serif\" font-size=\"12\" lengthAdjust=\"spacingAndGlyphs\" textLength=\"41\" x=\"144\" y=\"135.1543\">Clase3</text><line style=\"stroke: #A80036; stroke-width: 1.5;\" x1=\"116\" x2=\"187\" y1=\"147\" y2=\"147\"/><line style=\"stroke: #A80036; stroke-width: 1.5;\" x1=\"116\" x2=\"187\" y1=\"155\" y2=\"155\"/><!--MD5=[3d03710c9870b3fbccf94dcefe84f8f7]\n",
       "class Clase4--><rect fill=\"#FEFECE\" filter=\"url(#f17li6h10y746w)\" height=\"48\" id=\"Clase4\" style=\"stroke: #A80036; stroke-width: 1.5;\" width=\"73\" x=\"223\" y=\"7\"/><ellipse cx=\"238\" cy=\"23\" fill=\"#ADD1B2\" rx=\"11\" ry=\"11\" style=\"stroke: #A80036; stroke-width: 1.0;\"/><path d=\"M240.3438,18.6719 C239.4063,18.2344 238.8125,18.0938 237.9375,18.0938 C235.3125,18.0938 233.3125,20.1719 233.3125,22.8906 L233.3125,24.0156 C233.3125,26.5938 235.4219,28.4844 238.3125,28.4844 C239.5313,28.4844 240.6875,28.1875 241.4375,27.6406 C242.0156,27.2344 242.3438,26.7813 242.3438,26.3906 C242.3438,25.9375 241.9531,25.5469 241.4844,25.5469 C241.2656,25.5469 241.0625,25.625 240.875,25.8125 C240.4219,26.2969 240.4219,26.2969 240.2344,26.3906 C239.8125,26.6563 239.125,26.7813 238.3594,26.7813 C236.3125,26.7813 235.0156,25.6875 235.0156,23.9844 L235.0156,22.8906 C235.0156,21.1094 236.2656,19.7969 238,19.7969 C238.5781,19.7969 239.1875,19.9531 239.6563,20.2031 C240.1406,20.4844 240.3125,20.7031 240.4063,21.1094 C240.4688,21.5156 240.5,21.6406 240.6406,21.7656 C240.7813,21.9063 241.0156,22.0156 241.2344,22.0156 C241.5,22.0156 241.7656,21.875 241.9375,21.6563 C242.0469,21.5 242.0781,21.3125 242.0781,20.8906 L242.0781,19.4688 C242.0781,19.0313 242.0625,18.9063 241.9688,18.75 C241.8125,18.4844 241.5313,18.3438 241.2344,18.3438 C240.9375,18.3438 240.7344,18.4375 240.5156,18.75 L240.3438,18.6719 Z \"/><text fill=\"#000000\" font-family=\"sans-serif\" font-size=\"12\" lengthAdjust=\"spacingAndGlyphs\" textLength=\"41\" x=\"252\" y=\"27.1543\">Clase4</text><line style=\"stroke: #A80036; stroke-width: 1.5;\" x1=\"224\" x2=\"295\" y1=\"39\" y2=\"39\"/><line style=\"stroke: #A80036; stroke-width: 1.5;\" x1=\"224\" x2=\"295\" y1=\"47\" y2=\"47\"/><!--MD5=[1f8c144c1c43692a2dc6bfa14b4c4c56]\n",
       "class Clase5--><rect fill=\"#FEFECE\" filter=\"url(#f17li6h10y746w)\" height=\"48\" id=\"Clase5\" style=\"stroke: #A80036; stroke-width: 1.5;\" width=\"73\" x=\"223\" y=\"115\"/><ellipse cx=\"238\" cy=\"131\" fill=\"#ADD1B2\" rx=\"11\" ry=\"11\" style=\"stroke: #A80036; stroke-width: 1.0;\"/><path d=\"M240.3438,126.6719 C239.4063,126.2344 238.8125,126.0938 237.9375,126.0938 C235.3125,126.0938 233.3125,128.1719 233.3125,130.8906 L233.3125,132.0156 C233.3125,134.5938 235.4219,136.4844 238.3125,136.4844 C239.5313,136.4844 240.6875,136.1875 241.4375,135.6406 C242.0156,135.2344 242.3438,134.7813 242.3438,134.3906 C242.3438,133.9375 241.9531,133.5469 241.4844,133.5469 C241.2656,133.5469 241.0625,133.625 240.875,133.8125 C240.4219,134.2969 240.4219,134.2969 240.2344,134.3906 C239.8125,134.6563 239.125,134.7813 238.3594,134.7813 C236.3125,134.7813 235.0156,133.6875 235.0156,131.9844 L235.0156,130.8906 C235.0156,129.1094 236.2656,127.7969 238,127.7969 C238.5781,127.7969 239.1875,127.9531 239.6563,128.2031 C240.1406,128.4844 240.3125,128.7031 240.4063,129.1094 C240.4688,129.5156 240.5,129.6406 240.6406,129.7656 C240.7813,129.9063 241.0156,130.0156 241.2344,130.0156 C241.5,130.0156 241.7656,129.875 241.9375,129.6563 C242.0469,129.5 242.0781,129.3125 242.0781,128.8906 L242.0781,127.4688 C242.0781,127.0313 242.0625,126.9063 241.9688,126.75 C241.8125,126.4844 241.5313,126.3438 241.2344,126.3438 C240.9375,126.3438 240.7344,126.4375 240.5156,126.75 L240.3438,126.6719 Z \"/><text fill=\"#000000\" font-family=\"sans-serif\" font-size=\"12\" lengthAdjust=\"spacingAndGlyphs\" textLength=\"41\" x=\"252\" y=\"135.1543\">Clase5</text><line style=\"stroke: #A80036; stroke-width: 1.5;\" x1=\"224\" x2=\"295\" y1=\"147\" y2=\"147\"/><line style=\"stroke: #A80036; stroke-width: 1.5;\" x1=\"224\" x2=\"295\" y1=\"155\" y2=\"155\"/><!--MD5=[71afceb414046089c2fa0e9dda318570]\n",
       "class Clase6--><rect fill=\"#FEFECE\" filter=\"url(#f17li6h10y746w)\" height=\"48\" id=\"Clase6\" style=\"stroke: #A80036; stroke-width: 1.5;\" width=\"73\" x=\"331\" y=\"7\"/><ellipse cx=\"346\" cy=\"23\" fill=\"#ADD1B2\" rx=\"11\" ry=\"11\" style=\"stroke: #A80036; stroke-width: 1.0;\"/><path d=\"M348.3438,18.6719 C347.4063,18.2344 346.8125,18.0938 345.9375,18.0938 C343.3125,18.0938 341.3125,20.1719 341.3125,22.8906 L341.3125,24.0156 C341.3125,26.5938 343.4219,28.4844 346.3125,28.4844 C347.5313,28.4844 348.6875,28.1875 349.4375,27.6406 C350.0156,27.2344 350.3438,26.7813 350.3438,26.3906 C350.3438,25.9375 349.9531,25.5469 349.4844,25.5469 C349.2656,25.5469 349.0625,25.625 348.875,25.8125 C348.4219,26.2969 348.4219,26.2969 348.2344,26.3906 C347.8125,26.6563 347.125,26.7813 346.3594,26.7813 C344.3125,26.7813 343.0156,25.6875 343.0156,23.9844 L343.0156,22.8906 C343.0156,21.1094 344.2656,19.7969 346,19.7969 C346.5781,19.7969 347.1875,19.9531 347.6563,20.2031 C348.1406,20.4844 348.3125,20.7031 348.4063,21.1094 C348.4688,21.5156 348.5,21.6406 348.6406,21.7656 C348.7813,21.9063 349.0156,22.0156 349.2344,22.0156 C349.5,22.0156 349.7656,21.875 349.9375,21.6563 C350.0469,21.5 350.0781,21.3125 350.0781,20.8906 L350.0781,19.4688 C350.0781,19.0313 350.0625,18.9063 349.9688,18.75 C349.8125,18.4844 349.5313,18.3438 349.2344,18.3438 C348.9375,18.3438 348.7344,18.4375 348.5156,18.75 L348.3438,18.6719 Z \"/><text fill=\"#000000\" font-family=\"sans-serif\" font-size=\"12\" lengthAdjust=\"spacingAndGlyphs\" textLength=\"41\" x=\"360\" y=\"27.1543\">Clase6</text><line style=\"stroke: #A80036; stroke-width: 1.5;\" x1=\"332\" x2=\"403\" y1=\"39\" y2=\"39\"/><line style=\"stroke: #A80036; stroke-width: 1.5;\" x1=\"332\" x2=\"403\" y1=\"47\" y2=\"47\"/><!--MD5=[c72f4fd27793ec7cd83ea4b8cb357ce8]\n",
       "class Clase7--><rect fill=\"#FEFECE\" filter=\"url(#f17li6h10y746w)\" height=\"48\" id=\"Clase7\" style=\"stroke: #A80036; stroke-width: 1.5;\" width=\"73\" x=\"331\" y=\"115\"/><ellipse cx=\"346\" cy=\"131\" fill=\"#ADD1B2\" rx=\"11\" ry=\"11\" style=\"stroke: #A80036; stroke-width: 1.0;\"/><path d=\"M348.3438,126.6719 C347.4063,126.2344 346.8125,126.0938 345.9375,126.0938 C343.3125,126.0938 341.3125,128.1719 341.3125,130.8906 L341.3125,132.0156 C341.3125,134.5938 343.4219,136.4844 346.3125,136.4844 C347.5313,136.4844 348.6875,136.1875 349.4375,135.6406 C350.0156,135.2344 350.3438,134.7813 350.3438,134.3906 C350.3438,133.9375 349.9531,133.5469 349.4844,133.5469 C349.2656,133.5469 349.0625,133.625 348.875,133.8125 C348.4219,134.2969 348.4219,134.2969 348.2344,134.3906 C347.8125,134.6563 347.125,134.7813 346.3594,134.7813 C344.3125,134.7813 343.0156,133.6875 343.0156,131.9844 L343.0156,130.8906 C343.0156,129.1094 344.2656,127.7969 346,127.7969 C346.5781,127.7969 347.1875,127.9531 347.6563,128.2031 C348.1406,128.4844 348.3125,128.7031 348.4063,129.1094 C348.4688,129.5156 348.5,129.6406 348.6406,129.7656 C348.7813,129.9063 349.0156,130.0156 349.2344,130.0156 C349.5,130.0156 349.7656,129.875 349.9375,129.6563 C350.0469,129.5 350.0781,129.3125 350.0781,128.8906 L350.0781,127.4688 C350.0781,127.0313 350.0625,126.9063 349.9688,126.75 C349.8125,126.4844 349.5313,126.3438 349.2344,126.3438 C348.9375,126.3438 348.7344,126.4375 348.5156,126.75 L348.3438,126.6719 Z \"/><text fill=\"#000000\" font-family=\"sans-serif\" font-size=\"12\" lengthAdjust=\"spacingAndGlyphs\" textLength=\"41\" x=\"360\" y=\"135.1543\">Clase7</text><line style=\"stroke: #A80036; stroke-width: 1.5;\" x1=\"332\" x2=\"403\" y1=\"147\" y2=\"147\"/><line style=\"stroke: #A80036; stroke-width: 1.5;\" x1=\"332\" x2=\"403\" y1=\"155\" y2=\"155\"/><!--MD5=[10122a1f126d81ab36fc0b42701ded14]\n",
       "reverse link Clase1 to Clase2--><path codeLine=\"1\" d=\"M76.5655,73.0936 C69.3814,87.1958 61.5932,102.4838 55.3808,114.6784 \" fill=\"none\" id=\"Clase1-backto-Clase2\" style=\"stroke: #A80036; stroke-width: 1.0;\"/><polygon fill=\"none\" points=\"70.467,69.6437,85.7828,55,82.9415,75.9987,70.467,69.6437\" style=\"stroke: #A80036; stroke-width: 1.0;\"/><!--MD5=[7a4b703868fe6fcb1a656cc6578c2a8d]\n",
       "reverse link Clase1 to Clase3--><path codeLine=\"2\" d=\"M118.434,73.0936 C125.619,87.1958 133.407,102.4838 139.619,114.6784 \" fill=\"none\" id=\"Clase1-backto-Clase3\" style=\"stroke: #A80036; stroke-width: 1.0;\"/><polygon fill=\"none\" points=\"112.058,75.9987,109.217,55,124.533,69.6437,112.058,75.9987\" style=\"stroke: #A80036; stroke-width: 1.0;\"/><!--MD5=[caf964131a0fc7f1a4442e2bb29942e9]\n",
       "reverse link Clase4 to Clase5--><path codeLine=\"3\" d=\"M259.5,68.3383 C259.5,83.6813 259.5,101.098 259.5,114.6784 \" fill=\"none\" id=\"Clase4-backto-Clase5\" style=\"stroke: #A80036; stroke-width: 1.0;\"/><polygon fill=\"#A80036\" points=\"259.5,55,255.5,61,259.5,67,263.5,61,259.5,55\" style=\"stroke: #A80036; stroke-width: 1.0;\"/><!--MD5=[67dc1ece74063d072cf7232f55b00770]\n",
       "reverse link Clase6 to Clase7--><path codeLine=\"4\" d=\"M367.5,68.3383 C367.5,83.6813 367.5,101.098 367.5,114.6784 \" fill=\"none\" id=\"Clase6-backto-Clase7\" style=\"stroke: #A80036; stroke-width: 1.0;\"/><polygon fill=\"#FFFFFF\" points=\"367.5,55,363.5,61,367.5,67,371.5,61,367.5,55\" style=\"stroke: #A80036; stroke-width: 1.0;\"/><!--MD5=[f686f4118cd56aa6e0f5dfe96820b2d1]\n",
       "@startuml\n",
       "Clase1 <|- - Clase2\n",
       "Clase1 <|- - Clase3\n",
       "Clase4 *- - Clase5\n",
       "Clase6 o- - Clase7\n",
       "@enduml\n",
       "\n",
       "PlantUML version 1.2020.18beta4(Unknown compile time)\n",
       "(GPL source distribution)\n",
       "Java Runtime: Java(TM) SE Runtime Environment\n",
       "JVM: Java HotSpot(TM) 64-Bit Server VM\n",
       "Default Encoding: UTF-8\n",
       "Language: en\n",
       "Country: US\n",
       "--></g></svg>"
      ],
      "text/plain": [
       "<IPython.core.display.SVG object>"
      ]
     },
     "execution_count": 5,
     "metadata": {},
     "output_type": "execute_result"
    }
   ],
   "source": [
    "%%plantuml \n",
    "@startuml\n",
    "\n",
    "Clase1 <|-- Clase2\n",
    "Clase1 <|-- Clase3\n",
    "Clase4 *-- Clase5\n",
    "Clase6 o-- Clase7\n",
    "\n",
    "@enduml"
   ]
  },
  {
   "cell_type": "markdown",
   "metadata": {},
   "source": [
    "Como hemos hecho antes, ahora completamos el diagrama con más elementos para demostrar la potencia: nombres a las relaciones, métodos, etc."
   ]
  },
  {
   "cell_type": "code",
   "execution_count": 6,
   "metadata": {},
   "outputs": [
    {
     "data": {
      "image/svg+xml": [
       "<svg contentScriptType=\"application/ecmascript\" contentStyleType=\"text/css\" height=\"237px\" preserveAspectRatio=\"none\" style=\"width:474px;height:237px;\" version=\"1.1\" viewBox=\"0 0 474 237\" width=\"474px\" xmlns=\"http://www.w3.org/2000/svg\" xmlns:xlink=\"http://www.w3.org/1999/xlink\" zoomAndPan=\"magnify\"><defs><filter height=\"300%\" id=\"f6gfsp5w3kkdd\" width=\"300%\" x=\"-1\" y=\"-1\"><feGaussianBlur result=\"blurOut\" stdDeviation=\"2.0\"/><feColorMatrix in=\"blurOut\" result=\"blurOut2\" type=\"matrix\" values=\"0 0 0 0 0 0 0 0 0 0 0 0 0 0 0 0 0 0 .4 0\"/><feOffset dx=\"4.0\" dy=\"4.0\" in=\"blurOut2\" result=\"blurOut3\"/><feBlend in=\"SourceGraphic\" in2=\"blurOut3\" mode=\"normal\"/></filter></defs><g><!--MD5=[4e35f906c2a4d4856153a549eaaabe8e]\n",
       "class Clase1--><rect codeLine=\"1\" fill=\"#FEFECE\" filter=\"url(#f6gfsp5w3kkdd)\" height=\"60.8047\" id=\"Clase1\" style=\"stroke: #A80036; stroke-width: 1.5;\" width=\"72\" x=\"100\" y=\"7\"/><ellipse cx=\"115\" cy=\"23\" fill=\"#ADD1B2\" rx=\"11\" ry=\"11\" style=\"stroke: #A80036; stroke-width: 1.0;\"/><path d=\"M117.3438,18.6719 C116.4063,18.2344 115.8125,18.0938 114.9375,18.0938 C112.3125,18.0938 110.3125,20.1719 110.3125,22.8906 L110.3125,24.0156 C110.3125,26.5938 112.4219,28.4844 115.3125,28.4844 C116.5313,28.4844 117.6875,28.1875 118.4375,27.6406 C119.0156,27.2344 119.3438,26.7813 119.3438,26.3906 C119.3438,25.9375 118.9531,25.5469 118.4844,25.5469 C118.2656,25.5469 118.0625,25.625 117.875,25.8125 C117.4219,26.2969 117.4219,26.2969 117.2344,26.3906 C116.8125,26.6563 116.125,26.7813 115.3594,26.7813 C113.3125,26.7813 112.0156,25.6875 112.0156,23.9844 L112.0156,22.8906 C112.0156,21.1094 113.2656,19.7969 115,19.7969 C115.5781,19.7969 116.1875,19.9531 116.6563,20.2031 C117.1406,20.4844 117.3125,20.7031 117.4063,21.1094 C117.4688,21.5156 117.5,21.6406 117.6406,21.7656 C117.7813,21.9063 118.0156,22.0156 118.2344,22.0156 C118.5,22.0156 118.7656,21.875 118.9375,21.6563 C119.0469,21.5 119.0781,21.3125 119.0781,20.8906 L119.0781,19.4688 C119.0781,19.0313 119.0625,18.9063 118.9688,18.75 C118.8125,18.4844 118.5313,18.3438 118.2344,18.3438 C117.9375,18.3438 117.7344,18.4375 117.5156,18.75 L117.3438,18.6719 Z \"/><text fill=\"#000000\" font-family=\"sans-serif\" font-size=\"12\" lengthAdjust=\"spacingAndGlyphs\" textLength=\"40\" x=\"129\" y=\"27.1543\">Clase1</text><line style=\"stroke: #A80036; stroke-width: 1.5;\" x1=\"101\" x2=\"171\" y1=\"39\" y2=\"39\"/><line style=\"stroke: #A80036; stroke-width: 1.5;\" x1=\"101\" x2=\"171\" y1=\"47\" y2=\"47\"/><text fill=\"#000000\" font-family=\"sans-serif\" font-size=\"11\" lengthAdjust=\"spacingAndGlyphs\" textLength=\"52\" x=\"106\" y=\"61.2104\">toString()</text><!--MD5=[0f41aec53022ad6042a2eb8f0445fa53]\n",
       "class Clase2--><rect codeLine=\"5\" fill=\"#FEFECE\" filter=\"url(#f6gfsp5w3kkdd)\" height=\"73.6094\" id=\"Clase2\" style=\"stroke: #A80036; stroke-width: 1.5;\" width=\"124\" x=\"7\" y=\"145\"/><ellipse cx=\"44.95\" cy=\"161\" fill=\"#ADD1B2\" rx=\"11\" ry=\"11\" style=\"stroke: #A80036; stroke-width: 1.0;\"/><path d=\"M47.2938,156.6719 C46.3563,156.2344 45.7625,156.0938 44.8875,156.0938 C42.2625,156.0938 40.2625,158.1719 40.2625,160.8906 L40.2625,162.0156 C40.2625,164.5938 42.3719,166.4844 45.2625,166.4844 C46.4813,166.4844 47.6375,166.1875 48.3875,165.6406 C48.9656,165.2344 49.2938,164.7813 49.2938,164.3906 C49.2938,163.9375 48.9031,163.5469 48.4344,163.5469 C48.2156,163.5469 48.0125,163.625 47.825,163.8125 C47.3719,164.2969 47.3719,164.2969 47.1844,164.3906 C46.7625,164.6563 46.075,164.7813 45.3094,164.7813 C43.2625,164.7813 41.9656,163.6875 41.9656,161.9844 L41.9656,160.8906 C41.9656,159.1094 43.2156,157.7969 44.95,157.7969 C45.5281,157.7969 46.1375,157.9531 46.6063,158.2031 C47.0906,158.4844 47.2625,158.7031 47.3563,159.1094 C47.4188,159.5156 47.45,159.6406 47.5906,159.7656 C47.7313,159.9063 47.9656,160.0156 48.1844,160.0156 C48.45,160.0156 48.7156,159.875 48.8875,159.6563 C48.9969,159.5 49.0281,159.3125 49.0281,158.8906 L49.0281,157.4688 C49.0281,157.0313 49.0125,156.9063 48.9188,156.75 C48.7625,156.4844 48.4813,156.3438 48.1844,156.3438 C47.8875,156.3438 47.6844,156.4375 47.4656,156.75 L47.2938,156.6719 Z \"/><text fill=\"#000000\" font-family=\"sans-serif\" font-size=\"12\" lengthAdjust=\"spacingAndGlyphs\" textLength=\"41\" x=\"64.05\" y=\"165.1543\">Clase2</text><line style=\"stroke: #A80036; stroke-width: 1.5;\" x1=\"8\" x2=\"130\" y1=\"177\" y2=\"177\"/><text fill=\"#000000\" font-family=\"sans-serif\" font-size=\"11\" lengthAdjust=\"spacingAndGlyphs\" textLength=\"107\" x=\"13\" y=\"191.2104\">String[] elementos</text><line style=\"stroke: #A80036; stroke-width: 1.5;\" x1=\"8\" x2=\"130\" y1=\"197.8047\" y2=\"197.8047\"/><text fill=\"#000000\" font-family=\"sans-serif\" font-size=\"11\" lengthAdjust=\"spacingAndGlyphs\" textLength=\"112\" x=\"13\" y=\"212.0151\">mostrarElementos()</text><!--MD5=[2c9ecc0a7368ed76df993a8b99fd7ad3]\n",
       "class Clase3--><rect fill=\"#FEFECE\" filter=\"url(#f6gfsp5w3kkdd)\" height=\"48\" id=\"Clase3\" style=\"stroke: #A80036; stroke-width: 1.5;\" width=\"73\" x=\"166.5\" y=\"158\"/><ellipse cx=\"181.5\" cy=\"174\" fill=\"#ADD1B2\" rx=\"11\" ry=\"11\" style=\"stroke: #A80036; stroke-width: 1.0;\"/><path d=\"M183.8438,169.6719 C182.9063,169.2344 182.3125,169.0938 181.4375,169.0938 C178.8125,169.0938 176.8125,171.1719 176.8125,173.8906 L176.8125,175.0156 C176.8125,177.5938 178.9219,179.4844 181.8125,179.4844 C183.0313,179.4844 184.1875,179.1875 184.9375,178.6406 C185.5156,178.2344 185.8438,177.7813 185.8438,177.3906 C185.8438,176.9375 185.4531,176.5469 184.9844,176.5469 C184.7656,176.5469 184.5625,176.625 184.375,176.8125 C183.9219,177.2969 183.9219,177.2969 183.7344,177.3906 C183.3125,177.6563 182.625,177.7813 181.8594,177.7813 C179.8125,177.7813 178.5156,176.6875 178.5156,174.9844 L178.5156,173.8906 C178.5156,172.1094 179.7656,170.7969 181.5,170.7969 C182.0781,170.7969 182.6875,170.9531 183.1563,171.2031 C183.6406,171.4844 183.8125,171.7031 183.9063,172.1094 C183.9688,172.5156 184,172.6406 184.1406,172.7656 C184.2813,172.9063 184.5156,173.0156 184.7344,173.0156 C185,173.0156 185.2656,172.875 185.4375,172.6563 C185.5469,172.5 185.5781,172.3125 185.5781,171.8906 L185.5781,170.4688 C185.5781,170.0313 185.5625,169.9063 185.4688,169.75 C185.3125,169.4844 185.0313,169.3438 184.7344,169.3438 C184.4375,169.3438 184.2344,169.4375 184.0156,169.75 L183.8438,169.6719 Z \"/><text fill=\"#000000\" font-family=\"sans-serif\" font-size=\"12\" lengthAdjust=\"spacingAndGlyphs\" textLength=\"41\" x=\"195.5\" y=\"178.1543\">Clase3</text><line style=\"stroke: #A80036; stroke-width: 1.5;\" x1=\"167.5\" x2=\"238.5\" y1=\"190\" y2=\"190\"/><line style=\"stroke: #A80036; stroke-width: 1.5;\" x1=\"167.5\" x2=\"238.5\" y1=\"198\" y2=\"198\"/><!--MD5=[3d03710c9870b3fbccf94dcefe84f8f7]\n",
       "class Clase4--><rect fill=\"#FEFECE\" filter=\"url(#f6gfsp5w3kkdd)\" height=\"48\" id=\"Clase4\" style=\"stroke: #A80036; stroke-width: 1.5;\" width=\"73\" x=\"274.5\" y=\"13.5\"/><ellipse cx=\"289.5\" cy=\"29.5\" fill=\"#ADD1B2\" rx=\"11\" ry=\"11\" style=\"stroke: #A80036; stroke-width: 1.0;\"/><path d=\"M291.8438,25.1719 C290.9063,24.7344 290.3125,24.5938 289.4375,24.5938 C286.8125,24.5938 284.8125,26.6719 284.8125,29.3906 L284.8125,30.5156 C284.8125,33.0938 286.9219,34.9844 289.8125,34.9844 C291.0313,34.9844 292.1875,34.6875 292.9375,34.1406 C293.5156,33.7344 293.8438,33.2813 293.8438,32.8906 C293.8438,32.4375 293.4531,32.0469 292.9844,32.0469 C292.7656,32.0469 292.5625,32.125 292.375,32.3125 C291.9219,32.7969 291.9219,32.7969 291.7344,32.8906 C291.3125,33.1563 290.625,33.2813 289.8594,33.2813 C287.8125,33.2813 286.5156,32.1875 286.5156,30.4844 L286.5156,29.3906 C286.5156,27.6094 287.7656,26.2969 289.5,26.2969 C290.0781,26.2969 290.6875,26.4531 291.1563,26.7031 C291.6406,26.9844 291.8125,27.2031 291.9063,27.6094 C291.9688,28.0156 292,28.1406 292.1406,28.2656 C292.2813,28.4063 292.5156,28.5156 292.7344,28.5156 C293,28.5156 293.2656,28.375 293.4375,28.1563 C293.5469,28 293.5781,27.8125 293.5781,27.3906 L293.5781,25.9688 C293.5781,25.5313 293.5625,25.4063 293.4688,25.25 C293.3125,24.9844 293.0313,24.8438 292.7344,24.8438 C292.4375,24.8438 292.2344,24.9375 292.0156,25.25 L291.8438,25.1719 Z \"/><text fill=\"#000000\" font-family=\"sans-serif\" font-size=\"12\" lengthAdjust=\"spacingAndGlyphs\" textLength=\"41\" x=\"303.5\" y=\"33.6543\">Clase4</text><line style=\"stroke: #A80036; stroke-width: 1.5;\" x1=\"275.5\" x2=\"346.5\" y1=\"45.5\" y2=\"45.5\"/><line style=\"stroke: #A80036; stroke-width: 1.5;\" x1=\"275.5\" x2=\"346.5\" y1=\"53.5\" y2=\"53.5\"/><!--MD5=[1f8c144c1c43692a2dc6bfa14b4c4c56]\n",
       "class Clase5--><rect fill=\"#FEFECE\" filter=\"url(#f6gfsp5w3kkdd)\" height=\"48\" id=\"Clase5\" style=\"stroke: #A80036; stroke-width: 1.5;\" width=\"73\" x=\"274.5\" y=\"158\"/><ellipse cx=\"289.5\" cy=\"174\" fill=\"#ADD1B2\" rx=\"11\" ry=\"11\" style=\"stroke: #A80036; stroke-width: 1.0;\"/><path d=\"M291.8438,169.6719 C290.9063,169.2344 290.3125,169.0938 289.4375,169.0938 C286.8125,169.0938 284.8125,171.1719 284.8125,173.8906 L284.8125,175.0156 C284.8125,177.5938 286.9219,179.4844 289.8125,179.4844 C291.0313,179.4844 292.1875,179.1875 292.9375,178.6406 C293.5156,178.2344 293.8438,177.7813 293.8438,177.3906 C293.8438,176.9375 293.4531,176.5469 292.9844,176.5469 C292.7656,176.5469 292.5625,176.625 292.375,176.8125 C291.9219,177.2969 291.9219,177.2969 291.7344,177.3906 C291.3125,177.6563 290.625,177.7813 289.8594,177.7813 C287.8125,177.7813 286.5156,176.6875 286.5156,174.9844 L286.5156,173.8906 C286.5156,172.1094 287.7656,170.7969 289.5,170.7969 C290.0781,170.7969 290.6875,170.9531 291.1563,171.2031 C291.6406,171.4844 291.8125,171.7031 291.9063,172.1094 C291.9688,172.5156 292,172.6406 292.1406,172.7656 C292.2813,172.9063 292.5156,173.0156 292.7344,173.0156 C293,173.0156 293.2656,172.875 293.4375,172.6563 C293.5469,172.5 293.5781,172.3125 293.5781,171.8906 L293.5781,170.4688 C293.5781,170.0313 293.5625,169.9063 293.4688,169.75 C293.3125,169.4844 293.0313,169.3438 292.7344,169.3438 C292.4375,169.3438 292.2344,169.4375 292.0156,169.75 L291.8438,169.6719 Z \"/><text fill=\"#000000\" font-family=\"sans-serif\" font-size=\"12\" lengthAdjust=\"spacingAndGlyphs\" textLength=\"41\" x=\"303.5\" y=\"178.1543\">Clase5</text><line style=\"stroke: #A80036; stroke-width: 1.5;\" x1=\"275.5\" x2=\"346.5\" y1=\"190\" y2=\"190\"/><line style=\"stroke: #A80036; stroke-width: 1.5;\" x1=\"275.5\" x2=\"346.5\" y1=\"198\" y2=\"198\"/><!--MD5=[71afceb414046089c2fa0e9dda318570]\n",
       "class Clase6--><rect fill=\"#FEFECE\" filter=\"url(#f6gfsp5w3kkdd)\" height=\"48\" id=\"Clase6\" style=\"stroke: #A80036; stroke-width: 1.5;\" width=\"73\" x=\"382.5\" y=\"13.5\"/><ellipse cx=\"397.5\" cy=\"29.5\" fill=\"#ADD1B2\" rx=\"11\" ry=\"11\" style=\"stroke: #A80036; stroke-width: 1.0;\"/><path d=\"M399.8438,25.1719 C398.9063,24.7344 398.3125,24.5938 397.4375,24.5938 C394.8125,24.5938 392.8125,26.6719 392.8125,29.3906 L392.8125,30.5156 C392.8125,33.0938 394.9219,34.9844 397.8125,34.9844 C399.0313,34.9844 400.1875,34.6875 400.9375,34.1406 C401.5156,33.7344 401.8438,33.2813 401.8438,32.8906 C401.8438,32.4375 401.4531,32.0469 400.9844,32.0469 C400.7656,32.0469 400.5625,32.125 400.375,32.3125 C399.9219,32.7969 399.9219,32.7969 399.7344,32.8906 C399.3125,33.1563 398.625,33.2813 397.8594,33.2813 C395.8125,33.2813 394.5156,32.1875 394.5156,30.4844 L394.5156,29.3906 C394.5156,27.6094 395.7656,26.2969 397.5,26.2969 C398.0781,26.2969 398.6875,26.4531 399.1563,26.7031 C399.6406,26.9844 399.8125,27.2031 399.9063,27.6094 C399.9688,28.0156 400,28.1406 400.1406,28.2656 C400.2813,28.4063 400.5156,28.5156 400.7344,28.5156 C401,28.5156 401.2656,28.375 401.4375,28.1563 C401.5469,28 401.5781,27.8125 401.5781,27.3906 L401.5781,25.9688 C401.5781,25.5313 401.5625,25.4063 401.4688,25.25 C401.3125,24.9844 401.0313,24.8438 400.7344,24.8438 C400.4375,24.8438 400.2344,24.9375 400.0156,25.25 L399.8438,25.1719 Z \"/><text fill=\"#000000\" font-family=\"sans-serif\" font-size=\"12\" lengthAdjust=\"spacingAndGlyphs\" textLength=\"41\" x=\"411.5\" y=\"33.6543\">Clase6</text><line style=\"stroke: #A80036; stroke-width: 1.5;\" x1=\"383.5\" x2=\"454.5\" y1=\"45.5\" y2=\"45.5\"/><line style=\"stroke: #A80036; stroke-width: 1.5;\" x1=\"383.5\" x2=\"454.5\" y1=\"53.5\" y2=\"53.5\"/><!--MD5=[c72f4fd27793ec7cd83ea4b8cb357ce8]\n",
       "class Clase7--><rect fill=\"#FEFECE\" filter=\"url(#f6gfsp5w3kkdd)\" height=\"48\" id=\"Clase7\" style=\"stroke: #A80036; stroke-width: 1.5;\" width=\"73\" x=\"382.5\" y=\"158\"/><ellipse cx=\"397.5\" cy=\"174\" fill=\"#ADD1B2\" rx=\"11\" ry=\"11\" style=\"stroke: #A80036; stroke-width: 1.0;\"/><path d=\"M399.8438,169.6719 C398.9063,169.2344 398.3125,169.0938 397.4375,169.0938 C394.8125,169.0938 392.8125,171.1719 392.8125,173.8906 L392.8125,175.0156 C392.8125,177.5938 394.9219,179.4844 397.8125,179.4844 C399.0313,179.4844 400.1875,179.1875 400.9375,178.6406 C401.5156,178.2344 401.8438,177.7813 401.8438,177.3906 C401.8438,176.9375 401.4531,176.5469 400.9844,176.5469 C400.7656,176.5469 400.5625,176.625 400.375,176.8125 C399.9219,177.2969 399.9219,177.2969 399.7344,177.3906 C399.3125,177.6563 398.625,177.7813 397.8594,177.7813 C395.8125,177.7813 394.5156,176.6875 394.5156,174.9844 L394.5156,173.8906 C394.5156,172.1094 395.7656,170.7969 397.5,170.7969 C398.0781,170.7969 398.6875,170.9531 399.1563,171.2031 C399.6406,171.4844 399.8125,171.7031 399.9063,172.1094 C399.9688,172.5156 400,172.6406 400.1406,172.7656 C400.2813,172.9063 400.5156,173.0156 400.7344,173.0156 C401,173.0156 401.2656,172.875 401.4375,172.6563 C401.5469,172.5 401.5781,172.3125 401.5781,171.8906 L401.5781,170.4688 C401.5781,170.0313 401.5625,169.9063 401.4688,169.75 C401.3125,169.4844 401.0313,169.3438 400.7344,169.3438 C400.4375,169.3438 400.2344,169.4375 400.0156,169.75 L399.8438,169.6719 Z \"/><text fill=\"#000000\" font-family=\"sans-serif\" font-size=\"12\" lengthAdjust=\"spacingAndGlyphs\" textLength=\"41\" x=\"411.5\" y=\"178.1543\">Clase7</text><line style=\"stroke: #A80036; stroke-width: 1.5;\" x1=\"383.5\" x2=\"454.5\" y1=\"190\" y2=\"190\"/><line style=\"stroke: #A80036; stroke-width: 1.5;\" x1=\"383.5\" x2=\"454.5\" y1=\"198\" y2=\"198\"/><!--MD5=[10122a1f126d81ab36fc0b42701ded14]\n",
       "reverse link Clase1 to Clase2--><path codeLine=\"10\" d=\"M113.468,86.422 C104.4771,105.545 94.3008,127.1886 85.9543,144.9405 \" fill=\"none\" id=\"Clase1-backto-Clase2\" style=\"stroke: #A80036; stroke-width: 1.0;\"/><polygon fill=\"none\" points=\"107.273,83.147,122.118,68.026,119.942,89.104,107.273,83.147\" style=\"stroke: #A80036; stroke-width: 1.0;\"/><!--MD5=[7a4b703868fe6fcb1a656cc6578c2a8d]\n",
       "reverse link Clase1 to Clase3--><path codeLine=\"11\" d=\"M158.425,86.196 C169.727,110.234 182.924,138.302 192.01,157.6261 \" fill=\"none\" id=\"Clase1-backto-Clase3\" style=\"stroke: #A80036; stroke-width: 1.0;\"/><polygon fill=\"none\" points=\"152.058,89.104,149.882,68.026,164.727,83.147,152.058,89.104\" style=\"stroke: #A80036; stroke-width: 1.0;\"/><!--MD5=[caf964131a0fc7f1a4442e2bb29942e9]\n",
       "reverse link Clase4 to Clase5--><path codeLine=\"13\" d=\"M311,74.861 C311,100.955 311,135.3394 311,157.7977 \" fill=\"none\" id=\"Clase4-backto-Clase5\" style=\"stroke: #A80036; stroke-width: 1.0;\"/><polygon fill=\"#A80036\" points=\"311,61.712,307,67.712,311,73.712,315,67.712,311,61.712\" style=\"stroke: #A80036; stroke-width: 1.0;\"/><text fill=\"#000000\" font-family=\"sans-serif\" font-size=\"13\" lengthAdjust=\"spacingAndGlyphs\" textLength=\"71\" x=\"312\" y=\"111.0669\">agregación</text><text fill=\"#000000\" font-family=\"sans-serif\" font-size=\"13\" lengthAdjust=\"spacingAndGlyphs\" textLength=\"8\" x=\"302.025\" y=\"81.5249\">1</text><text fill=\"#000000\" font-family=\"sans-serif\" font-size=\"13\" lengthAdjust=\"spacingAndGlyphs\" textLength=\"8\" x=\"301.975\" y=\"146.7579\">n</text><!--MD5=[67dc1ece74063d072cf7232f55b00770]\n",
       "reverse link Clase6 to Clase7--><path codeLine=\"14\" d=\"M419,74.861 C419,100.955 419,135.3394 419,157.7977 \" fill=\"none\" id=\"Clase6-backto-Clase7\" style=\"stroke: #A80036; stroke-width: 1.0;\"/><polygon fill=\"#FFFFFF\" points=\"419,61.712,415,67.712,419,73.712,423,67.712,419,61.712\" style=\"stroke: #A80036; stroke-width: 1.0;\"/><!--MD5=[c9a054540ee44697752884485d81dd42]\n",
       "@startuml\n",
       "class Clase1{\n",
       "      toString()\n",
       "}\n",
       " \n",
       "class Clase2 {\n",
       "      String[] elementos\n",
       "      mostrarElementos()\n",
       "}\n",
       " \n",
       "Clase1 <|- - Clase2\n",
       "Clase1 <|- - Clase3\n",
       " \n",
       "Clase4 \"1\" *- - \"n\" Clase5 :agregación\n",
       "Clase6 o- - Clase7\n",
       "@enduml\n",
       "\n",
       "PlantUML version 1.2020.18beta4(Unknown compile time)\n",
       "(GPL source distribution)\n",
       "Java Runtime: Java(TM) SE Runtime Environment\n",
       "JVM: Java HotSpot(TM) 64-Bit Server VM\n",
       "Default Encoding: UTF-8\n",
       "Language: en\n",
       "Country: US\n",
       "--></g></svg>"
      ],
      "text/plain": [
       "<IPython.core.display.SVG object>"
      ]
     },
     "execution_count": 6,
     "metadata": {},
     "output_type": "execute_result"
    }
   ],
   "source": [
    "%%plantuml \n",
    "@startuml\n",
    " \n",
    "class Clase1{\n",
    "      toString()\n",
    "}\n",
    " \n",
    "class Clase2 {\n",
    "      String[] elementos\n",
    "      mostrarElementos()\n",
    "}\n",
    " \n",
    "Clase1 <|-- Clase2\n",
    "Clase1 <|-- Clase3\n",
    " \n",
    "Clase4 \"1\" *-- \"n\" Clase5 :agregación\n",
    "Clase6 o-- Clase7\n",
    " \n",
    "@enduml"
   ]
  },
  {
   "cell_type": "markdown",
   "metadata": {},
   "source": [
    "Tenemos muchas más opciones para relacionar clases entre sí, más ejemplos:\n",
    "\n"
   ]
  },
  {
   "cell_type": "code",
   "execution_count": 7,
   "metadata": {},
   "outputs": [
    {
     "data": {
      "image/svg+xml": [
       "<svg contentScriptType=\"application/ecmascript\" contentStyleType=\"text/css\" height=\"398px\" preserveAspectRatio=\"none\" style=\"width:315px;height:398px;\" version=\"1.1\" viewBox=\"0 0 315 398\" width=\"315px\" xmlns=\"http://www.w3.org/2000/svg\" xmlns:xlink=\"http://www.w3.org/1999/xlink\" zoomAndPan=\"magnify\"><defs><filter height=\"300%\" id=\"fafe4h4ncy6xv\" width=\"300%\" x=\"-1\" y=\"-1\"><feGaussianBlur result=\"blurOut\" stdDeviation=\"2.0\"/><feColorMatrix in=\"blurOut\" result=\"blurOut2\" type=\"matrix\" values=\"0 0 0 0 0 0 0 0 0 0 0 0 0 0 0 0 0 0 .4 0\"/><feOffset dx=\"4.0\" dy=\"4.0\" in=\"blurOut2\" result=\"blurOut3\"/><feBlend in=\"SourceGraphic\" in2=\"blurOut3\" mode=\"normal\"/></filter></defs><g><!--MD5=[4e35f906c2a4d4856153a549eaaabe8e]\n",
       "class Clase1--><rect fill=\"#FEFECE\" filter=\"url(#fafe4h4ncy6xv)\" height=\"48\" id=\"Clase1\" style=\"stroke: #A80036; stroke-width: 1.5;\" width=\"72\" x=\"61.5\" y=\"7\"/><ellipse cx=\"76.5\" cy=\"23\" fill=\"#ADD1B2\" rx=\"11\" ry=\"11\" style=\"stroke: #A80036; stroke-width: 1.0;\"/><path d=\"M78.8438,18.6719 C77.9063,18.2344 77.3125,18.0938 76.4375,18.0938 C73.8125,18.0938 71.8125,20.1719 71.8125,22.8906 L71.8125,24.0156 C71.8125,26.5938 73.9219,28.4844 76.8125,28.4844 C78.0313,28.4844 79.1875,28.1875 79.9375,27.6406 C80.5156,27.2344 80.8438,26.7813 80.8438,26.3906 C80.8438,25.9375 80.4531,25.5469 79.9844,25.5469 C79.7656,25.5469 79.5625,25.625 79.375,25.8125 C78.9219,26.2969 78.9219,26.2969 78.7344,26.3906 C78.3125,26.6563 77.625,26.7813 76.8594,26.7813 C74.8125,26.7813 73.5156,25.6875 73.5156,23.9844 L73.5156,22.8906 C73.5156,21.1094 74.7656,19.7969 76.5,19.7969 C77.0781,19.7969 77.6875,19.9531 78.1563,20.2031 C78.6406,20.4844 78.8125,20.7031 78.9063,21.1094 C78.9688,21.5156 79,21.6406 79.1406,21.7656 C79.2813,21.9063 79.5156,22.0156 79.7344,22.0156 C80,22.0156 80.2656,21.875 80.4375,21.6563 C80.5469,21.5 80.5781,21.3125 80.5781,20.8906 L80.5781,19.4688 C80.5781,19.0313 80.5625,18.9063 80.4688,18.75 C80.3125,18.4844 80.0313,18.3438 79.7344,18.3438 C79.4375,18.3438 79.2344,18.4375 79.0156,18.75 L78.8438,18.6719 Z \"/><text fill=\"#000000\" font-family=\"sans-serif\" font-size=\"12\" lengthAdjust=\"spacingAndGlyphs\" textLength=\"40\" x=\"90.5\" y=\"27.1543\">Clase1</text><line style=\"stroke: #A80036; stroke-width: 1.5;\" x1=\"62.5\" x2=\"132.5\" y1=\"39\" y2=\"39\"/><line style=\"stroke: #A80036; stroke-width: 1.5;\" x1=\"62.5\" x2=\"132.5\" y1=\"47\" y2=\"47\"/><!--MD5=[0f41aec53022ad6042a2eb8f0445fa53]\n",
       "class Clase2--><rect fill=\"#FEFECE\" filter=\"url(#fafe4h4ncy6xv)\" height=\"48\" id=\"Clase2\" style=\"stroke: #A80036; stroke-width: 1.5;\" width=\"73\" x=\"7\" y=\"115\"/><ellipse cx=\"22\" cy=\"131\" fill=\"#ADD1B2\" rx=\"11\" ry=\"11\" style=\"stroke: #A80036; stroke-width: 1.0;\"/><path d=\"M24.3438,126.6719 C23.4063,126.2344 22.8125,126.0938 21.9375,126.0938 C19.3125,126.0938 17.3125,128.1719 17.3125,130.8906 L17.3125,132.0156 C17.3125,134.5938 19.4219,136.4844 22.3125,136.4844 C23.5313,136.4844 24.6875,136.1875 25.4375,135.6406 C26.0156,135.2344 26.3438,134.7813 26.3438,134.3906 C26.3438,133.9375 25.9531,133.5469 25.4844,133.5469 C25.2656,133.5469 25.0625,133.625 24.875,133.8125 C24.4219,134.2969 24.4219,134.2969 24.2344,134.3906 C23.8125,134.6563 23.125,134.7813 22.3594,134.7813 C20.3125,134.7813 19.0156,133.6875 19.0156,131.9844 L19.0156,130.8906 C19.0156,129.1094 20.2656,127.7969 22,127.7969 C22.5781,127.7969 23.1875,127.9531 23.6563,128.2031 C24.1406,128.4844 24.3125,128.7031 24.4063,129.1094 C24.4688,129.5156 24.5,129.6406 24.6406,129.7656 C24.7813,129.9063 25.0156,130.0156 25.2344,130.0156 C25.5,130.0156 25.7656,129.875 25.9375,129.6563 C26.0469,129.5 26.0781,129.3125 26.0781,128.8906 L26.0781,127.4688 C26.0781,127.0313 26.0625,126.9063 25.9688,126.75 C25.8125,126.4844 25.5313,126.3438 25.2344,126.3438 C24.9375,126.3438 24.7344,126.4375 24.5156,126.75 L24.3438,126.6719 Z \"/><text fill=\"#000000\" font-family=\"sans-serif\" font-size=\"12\" lengthAdjust=\"spacingAndGlyphs\" textLength=\"41\" x=\"36\" y=\"135.1543\">Clase2</text><line style=\"stroke: #A80036; stroke-width: 1.5;\" x1=\"8\" x2=\"79\" y1=\"147\" y2=\"147\"/><line style=\"stroke: #A80036; stroke-width: 1.5;\" x1=\"8\" x2=\"79\" y1=\"155\" y2=\"155\"/><!--MD5=[2c9ecc0a7368ed76df993a8b99fd7ad3]\n",
       "class Clase3--><rect fill=\"#FEFECE\" filter=\"url(#fafe4h4ncy6xv)\" height=\"48\" id=\"Clase3\" style=\"stroke: #A80036; stroke-width: 1.5;\" width=\"73\" x=\"115\" y=\"115\"/><ellipse cx=\"130\" cy=\"131\" fill=\"#ADD1B2\" rx=\"11\" ry=\"11\" style=\"stroke: #A80036; stroke-width: 1.0;\"/><path d=\"M132.3438,126.6719 C131.4063,126.2344 130.8125,126.0938 129.9375,126.0938 C127.3125,126.0938 125.3125,128.1719 125.3125,130.8906 L125.3125,132.0156 C125.3125,134.5938 127.4219,136.4844 130.3125,136.4844 C131.5313,136.4844 132.6875,136.1875 133.4375,135.6406 C134.0156,135.2344 134.3438,134.7813 134.3438,134.3906 C134.3438,133.9375 133.9531,133.5469 133.4844,133.5469 C133.2656,133.5469 133.0625,133.625 132.875,133.8125 C132.4219,134.2969 132.4219,134.2969 132.2344,134.3906 C131.8125,134.6563 131.125,134.7813 130.3594,134.7813 C128.3125,134.7813 127.0156,133.6875 127.0156,131.9844 L127.0156,130.8906 C127.0156,129.1094 128.2656,127.7969 130,127.7969 C130.5781,127.7969 131.1875,127.9531 131.6563,128.2031 C132.1406,128.4844 132.3125,128.7031 132.4063,129.1094 C132.4688,129.5156 132.5,129.6406 132.6406,129.7656 C132.7813,129.9063 133.0156,130.0156 133.2344,130.0156 C133.5,130.0156 133.7656,129.875 133.9375,129.6563 C134.0469,129.5 134.0781,129.3125 134.0781,128.8906 L134.0781,127.4688 C134.0781,127.0313 134.0625,126.9063 133.9688,126.75 C133.8125,126.4844 133.5313,126.3438 133.2344,126.3438 C132.9375,126.3438 132.7344,126.4375 132.5156,126.75 L132.3438,126.6719 Z \"/><text fill=\"#000000\" font-family=\"sans-serif\" font-size=\"12\" lengthAdjust=\"spacingAndGlyphs\" textLength=\"41\" x=\"144\" y=\"135.1543\">Clase3</text><line style=\"stroke: #A80036; stroke-width: 1.5;\" x1=\"116\" x2=\"187\" y1=\"147\" y2=\"147\"/><line style=\"stroke: #A80036; stroke-width: 1.5;\" x1=\"116\" x2=\"187\" y1=\"155\" y2=\"155\"/><!--MD5=[3d03710c9870b3fbccf94dcefe84f8f7]\n",
       "class Clase4--><rect fill=\"#FEFECE\" filter=\"url(#fafe4h4ncy6xv)\" height=\"48\" id=\"Clase4\" style=\"stroke: #A80036; stroke-width: 1.5;\" width=\"73\" x=\"115\" y=\"223\"/><ellipse cx=\"130\" cy=\"239\" fill=\"#ADD1B2\" rx=\"11\" ry=\"11\" style=\"stroke: #A80036; stroke-width: 1.0;\"/><path d=\"M132.3438,234.6719 C131.4063,234.2344 130.8125,234.0938 129.9375,234.0938 C127.3125,234.0938 125.3125,236.1719 125.3125,238.8906 L125.3125,240.0156 C125.3125,242.5938 127.4219,244.4844 130.3125,244.4844 C131.5313,244.4844 132.6875,244.1875 133.4375,243.6406 C134.0156,243.2344 134.3438,242.7813 134.3438,242.3906 C134.3438,241.9375 133.9531,241.5469 133.4844,241.5469 C133.2656,241.5469 133.0625,241.625 132.875,241.8125 C132.4219,242.2969 132.4219,242.2969 132.2344,242.3906 C131.8125,242.6563 131.125,242.7813 130.3594,242.7813 C128.3125,242.7813 127.0156,241.6875 127.0156,239.9844 L127.0156,238.8906 C127.0156,237.1094 128.2656,235.7969 130,235.7969 C130.5781,235.7969 131.1875,235.9531 131.6563,236.2031 C132.1406,236.4844 132.3125,236.7031 132.4063,237.1094 C132.4688,237.5156 132.5,237.6406 132.6406,237.7656 C132.7813,237.9063 133.0156,238.0156 133.2344,238.0156 C133.5,238.0156 133.7656,237.875 133.9375,237.6563 C134.0469,237.5 134.0781,237.3125 134.0781,236.8906 L134.0781,235.4688 C134.0781,235.0313 134.0625,234.9063 133.9688,234.75 C133.8125,234.4844 133.5313,234.3438 133.2344,234.3438 C132.9375,234.3438 132.7344,234.4375 132.5156,234.75 L132.3438,234.6719 Z \"/><text fill=\"#000000\" font-family=\"sans-serif\" font-size=\"12\" lengthAdjust=\"spacingAndGlyphs\" textLength=\"41\" x=\"144\" y=\"243.1543\">Clase4</text><line style=\"stroke: #A80036; stroke-width: 1.5;\" x1=\"116\" x2=\"187\" y1=\"255\" y2=\"255\"/><line style=\"stroke: #A80036; stroke-width: 1.5;\" x1=\"116\" x2=\"187\" y1=\"263\" y2=\"263\"/><!--MD5=[1f8c144c1c43692a2dc6bfa14b4c4c56]\n",
       "class Clase5--><rect fill=\"#FEFECE\" filter=\"url(#fafe4h4ncy6xv)\" height=\"48\" id=\"Clase5\" style=\"stroke: #A80036; stroke-width: 1.5;\" width=\"73\" x=\"115\" y=\"331\"/><ellipse cx=\"130\" cy=\"347\" fill=\"#ADD1B2\" rx=\"11\" ry=\"11\" style=\"stroke: #A80036; stroke-width: 1.0;\"/><path d=\"M132.3438,342.6719 C131.4063,342.2344 130.8125,342.0938 129.9375,342.0938 C127.3125,342.0938 125.3125,344.1719 125.3125,346.8906 L125.3125,348.0156 C125.3125,350.5938 127.4219,352.4844 130.3125,352.4844 C131.5313,352.4844 132.6875,352.1875 133.4375,351.6406 C134.0156,351.2344 134.3438,350.7813 134.3438,350.3906 C134.3438,349.9375 133.9531,349.5469 133.4844,349.5469 C133.2656,349.5469 133.0625,349.625 132.875,349.8125 C132.4219,350.2969 132.4219,350.2969 132.2344,350.3906 C131.8125,350.6563 131.125,350.7813 130.3594,350.7813 C128.3125,350.7813 127.0156,349.6875 127.0156,347.9844 L127.0156,346.8906 C127.0156,345.1094 128.2656,343.7969 130,343.7969 C130.5781,343.7969 131.1875,343.9531 131.6563,344.2031 C132.1406,344.4844 132.3125,344.7031 132.4063,345.1094 C132.4688,345.5156 132.5,345.6406 132.6406,345.7656 C132.7813,345.9063 133.0156,346.0156 133.2344,346.0156 C133.5,346.0156 133.7656,345.875 133.9375,345.6563 C134.0469,345.5 134.0781,345.3125 134.0781,344.8906 L134.0781,343.4688 C134.0781,343.0313 134.0625,342.9063 133.9688,342.75 C133.8125,342.4844 133.5313,342.3438 133.2344,342.3438 C132.9375,342.3438 132.7344,342.4375 132.5156,342.75 L132.3438,342.6719 Z \"/><text fill=\"#000000\" font-family=\"sans-serif\" font-size=\"12\" lengthAdjust=\"spacingAndGlyphs\" textLength=\"41\" x=\"144\" y=\"351.1543\">Clase5</text><line style=\"stroke: #A80036; stroke-width: 1.5;\" x1=\"116\" x2=\"187\" y1=\"363\" y2=\"363\"/><line style=\"stroke: #A80036; stroke-width: 1.5;\" x1=\"116\" x2=\"187\" y1=\"371\" y2=\"371\"/><!--MD5=[71afceb414046089c2fa0e9dda318570]\n",
       "class Clase6--><rect fill=\"#FEFECE\" filter=\"url(#fafe4h4ncy6xv)\" height=\"48\" id=\"Clase6\" style=\"stroke: #A80036; stroke-width: 1.5;\" width=\"73\" x=\"223\" y=\"7\"/><ellipse cx=\"238\" cy=\"23\" fill=\"#ADD1B2\" rx=\"11\" ry=\"11\" style=\"stroke: #A80036; stroke-width: 1.0;\"/><path d=\"M240.3438,18.6719 C239.4063,18.2344 238.8125,18.0938 237.9375,18.0938 C235.3125,18.0938 233.3125,20.1719 233.3125,22.8906 L233.3125,24.0156 C233.3125,26.5938 235.4219,28.4844 238.3125,28.4844 C239.5313,28.4844 240.6875,28.1875 241.4375,27.6406 C242.0156,27.2344 242.3438,26.7813 242.3438,26.3906 C242.3438,25.9375 241.9531,25.5469 241.4844,25.5469 C241.2656,25.5469 241.0625,25.625 240.875,25.8125 C240.4219,26.2969 240.4219,26.2969 240.2344,26.3906 C239.8125,26.6563 239.125,26.7813 238.3594,26.7813 C236.3125,26.7813 235.0156,25.6875 235.0156,23.9844 L235.0156,22.8906 C235.0156,21.1094 236.2656,19.7969 238,19.7969 C238.5781,19.7969 239.1875,19.9531 239.6563,20.2031 C240.1406,20.4844 240.3125,20.7031 240.4063,21.1094 C240.4688,21.5156 240.5,21.6406 240.6406,21.7656 C240.7813,21.9063 241.0156,22.0156 241.2344,22.0156 C241.5,22.0156 241.7656,21.875 241.9375,21.6563 C242.0469,21.5 242.0781,21.3125 242.0781,20.8906 L242.0781,19.4688 C242.0781,19.0313 242.0625,18.9063 241.9688,18.75 C241.8125,18.4844 241.5313,18.3438 241.2344,18.3438 C240.9375,18.3438 240.7344,18.4375 240.5156,18.75 L240.3438,18.6719 Z \"/><text fill=\"#000000\" font-family=\"sans-serif\" font-size=\"12\" lengthAdjust=\"spacingAndGlyphs\" textLength=\"41\" x=\"252\" y=\"27.1543\">Clase6</text><line style=\"stroke: #A80036; stroke-width: 1.5;\" x1=\"224\" x2=\"295\" y1=\"39\" y2=\"39\"/><line style=\"stroke: #A80036; stroke-width: 1.5;\" x1=\"224\" x2=\"295\" y1=\"47\" y2=\"47\"/><!--MD5=[c72f4fd27793ec7cd83ea4b8cb357ce8]\n",
       "class Clase7--><rect fill=\"#FEFECE\" filter=\"url(#fafe4h4ncy6xv)\" height=\"48\" id=\"Clase7\" style=\"stroke: #A80036; stroke-width: 1.5;\" width=\"73\" x=\"223\" y=\"115\"/><ellipse cx=\"238\" cy=\"131\" fill=\"#ADD1B2\" rx=\"11\" ry=\"11\" style=\"stroke: #A80036; stroke-width: 1.0;\"/><path d=\"M240.3438,126.6719 C239.4063,126.2344 238.8125,126.0938 237.9375,126.0938 C235.3125,126.0938 233.3125,128.1719 233.3125,130.8906 L233.3125,132.0156 C233.3125,134.5938 235.4219,136.4844 238.3125,136.4844 C239.5313,136.4844 240.6875,136.1875 241.4375,135.6406 C242.0156,135.2344 242.3438,134.7813 242.3438,134.3906 C242.3438,133.9375 241.9531,133.5469 241.4844,133.5469 C241.2656,133.5469 241.0625,133.625 240.875,133.8125 C240.4219,134.2969 240.4219,134.2969 240.2344,134.3906 C239.8125,134.6563 239.125,134.7813 238.3594,134.7813 C236.3125,134.7813 235.0156,133.6875 235.0156,131.9844 L235.0156,130.8906 C235.0156,129.1094 236.2656,127.7969 238,127.7969 C238.5781,127.7969 239.1875,127.9531 239.6563,128.2031 C240.1406,128.4844 240.3125,128.7031 240.4063,129.1094 C240.4688,129.5156 240.5,129.6406 240.6406,129.7656 C240.7813,129.9063 241.0156,130.0156 241.2344,130.0156 C241.5,130.0156 241.7656,129.875 241.9375,129.6563 C242.0469,129.5 242.0781,129.3125 242.0781,128.8906 L242.0781,127.4688 C242.0781,127.0313 242.0625,126.9063 241.9688,126.75 C241.8125,126.4844 241.5313,126.3438 241.2344,126.3438 C240.9375,126.3438 240.7344,126.4375 240.5156,126.75 L240.3438,126.6719 Z \"/><text fill=\"#000000\" font-family=\"sans-serif\" font-size=\"12\" lengthAdjust=\"spacingAndGlyphs\" textLength=\"41\" x=\"252\" y=\"135.1543\">Clase7</text><line style=\"stroke: #A80036; stroke-width: 1.5;\" x1=\"224\" x2=\"295\" y1=\"147\" y2=\"147\"/><line style=\"stroke: #A80036; stroke-width: 1.5;\" x1=\"224\" x2=\"295\" y1=\"155\" y2=\"155\"/><!--MD5=[670330bf93e441a96cbcbb2a9f839512]\n",
       "class Clase8--><rect fill=\"#FEFECE\" filter=\"url(#fafe4h4ncy6xv)\" height=\"48\" id=\"Clase8\" style=\"stroke: #A80036; stroke-width: 1.5;\" width=\"73\" x=\"223\" y=\"223\"/><ellipse cx=\"238\" cy=\"239\" fill=\"#ADD1B2\" rx=\"11\" ry=\"11\" style=\"stroke: #A80036; stroke-width: 1.0;\"/><path d=\"M240.3438,234.6719 C239.4063,234.2344 238.8125,234.0938 237.9375,234.0938 C235.3125,234.0938 233.3125,236.1719 233.3125,238.8906 L233.3125,240.0156 C233.3125,242.5938 235.4219,244.4844 238.3125,244.4844 C239.5313,244.4844 240.6875,244.1875 241.4375,243.6406 C242.0156,243.2344 242.3438,242.7813 242.3438,242.3906 C242.3438,241.9375 241.9531,241.5469 241.4844,241.5469 C241.2656,241.5469 241.0625,241.625 240.875,241.8125 C240.4219,242.2969 240.4219,242.2969 240.2344,242.3906 C239.8125,242.6563 239.125,242.7813 238.3594,242.7813 C236.3125,242.7813 235.0156,241.6875 235.0156,239.9844 L235.0156,238.8906 C235.0156,237.1094 236.2656,235.7969 238,235.7969 C238.5781,235.7969 239.1875,235.9531 239.6563,236.2031 C240.1406,236.4844 240.3125,236.7031 240.4063,237.1094 C240.4688,237.5156 240.5,237.6406 240.6406,237.7656 C240.7813,237.9063 241.0156,238.0156 241.2344,238.0156 C241.5,238.0156 241.7656,237.875 241.9375,237.6563 C242.0469,237.5 242.0781,237.3125 242.0781,236.8906 L242.0781,235.4688 C242.0781,235.0313 242.0625,234.9063 241.9688,234.75 C241.8125,234.4844 241.5313,234.3438 241.2344,234.3438 C240.9375,234.3438 240.7344,234.4375 240.5156,234.75 L240.3438,234.6719 Z \"/><text fill=\"#000000\" font-family=\"sans-serif\" font-size=\"12\" lengthAdjust=\"spacingAndGlyphs\" textLength=\"41\" x=\"252\" y=\"243.1543\">Clase8</text><line style=\"stroke: #A80036; stroke-width: 1.5;\" x1=\"224\" x2=\"295\" y1=\"255\" y2=\"255\"/><line style=\"stroke: #A80036; stroke-width: 1.5;\" x1=\"224\" x2=\"295\" y1=\"263\" y2=\"263\"/><!--MD5=[40e18fc00ff8ab332800f69e68307af3]\n",
       "class Clase9--><rect fill=\"#FEFECE\" filter=\"url(#fafe4h4ncy6xv)\" height=\"48\" id=\"Clase9\" style=\"stroke: #A80036; stroke-width: 1.5;\" width=\"73\" x=\"223\" y=\"331\"/><ellipse cx=\"238\" cy=\"347\" fill=\"#ADD1B2\" rx=\"11\" ry=\"11\" style=\"stroke: #A80036; stroke-width: 1.0;\"/><path d=\"M240.3438,342.6719 C239.4063,342.2344 238.8125,342.0938 237.9375,342.0938 C235.3125,342.0938 233.3125,344.1719 233.3125,346.8906 L233.3125,348.0156 C233.3125,350.5938 235.4219,352.4844 238.3125,352.4844 C239.5313,352.4844 240.6875,352.1875 241.4375,351.6406 C242.0156,351.2344 242.3438,350.7813 242.3438,350.3906 C242.3438,349.9375 241.9531,349.5469 241.4844,349.5469 C241.2656,349.5469 241.0625,349.625 240.875,349.8125 C240.4219,350.2969 240.4219,350.2969 240.2344,350.3906 C239.8125,350.6563 239.125,350.7813 238.3594,350.7813 C236.3125,350.7813 235.0156,349.6875 235.0156,347.9844 L235.0156,346.8906 C235.0156,345.1094 236.2656,343.7969 238,343.7969 C238.5781,343.7969 239.1875,343.9531 239.6563,344.2031 C240.1406,344.4844 240.3125,344.7031 240.4063,345.1094 C240.4688,345.5156 240.5,345.6406 240.6406,345.7656 C240.7813,345.9063 241.0156,346.0156 241.2344,346.0156 C241.5,346.0156 241.7656,345.875 241.9375,345.6563 C242.0469,345.5 242.0781,345.3125 242.0781,344.8906 L242.0781,343.4688 C242.0781,343.0313 242.0625,342.9063 241.9688,342.75 C241.8125,342.4844 241.5313,342.3438 241.2344,342.3438 C240.9375,342.3438 240.7344,342.4375 240.5156,342.75 L240.3438,342.6719 Z \"/><text fill=\"#000000\" font-family=\"sans-serif\" font-size=\"12\" lengthAdjust=\"spacingAndGlyphs\" textLength=\"41\" x=\"252\" y=\"351.1543\">Clase9</text><line style=\"stroke: #A80036; stroke-width: 1.5;\" x1=\"224\" x2=\"295\" y1=\"363\" y2=\"363\"/><line style=\"stroke: #A80036; stroke-width: 1.5;\" x1=\"224\" x2=\"295\" y1=\"371\" y2=\"371\"/><!--MD5=[684e14efc15f6535929d828389532330]\n",
       "link Clase1 to Clase2--><path codeLine=\"1\" d=\"M85.7828,55 C76.7872,72.658 64.417,96.941 55.3808,114.678 \" fill=\"none\" id=\"Clase1-Clase2\" style=\"stroke: #A80036; stroke-width: 1.0; stroke-dasharray: 7.0,7.0;\"/><!--MD5=[ad5de1947e7703dccdca6694d209d829]\n",
       "link Clase1 to Clase3--><path codeLine=\"2\" d=\"M109.217,55 C118.213,72.658 130.583,96.941 139.619,114.678 \" fill=\"none\" id=\"Clase1-Clase3\" style=\"stroke: #A80036; stroke-width: 1.0;\"/><!--MD5=[d6b00d345f3556735dee4178866f39d2]\n",
       "link Clase3 to Clase4--><path codeLine=\"3\" d=\"M151.5,163 C151.5,179.003 151.5,200.446 151.5,217.528 \" fill=\"none\" id=\"Clase3-to-Clase4\" style=\"stroke: #A80036; stroke-width: 1.0;\"/><polygon fill=\"#A80036\" points=\"151.5,222.678,155.5,213.678,151.5,217.678,147.5,213.678,151.5,222.678\" style=\"stroke: #A80036; stroke-width: 1.0;\"/><!--MD5=[caf964131a0fc7f1a4442e2bb29942e9]\n",
       "reverse link Clase4 to Clase5--><path codeLine=\"4\" d=\"M151.5,291.0236 C151.5,304.5792 151.5,319.0381 151.5,330.6784 \" fill=\"none\" id=\"Clase4-backto-Clase5\" style=\"stroke: #A80036; stroke-width: 1.0; stroke-dasharray: 7.0,7.0;\"/><polygon fill=\"none\" points=\"144.5,291.0005,151.5,271,158.5,291.0004,144.5,291.0005\" style=\"stroke: #A80036; stroke-width: 1.0;\"/><!--MD5=[c4919253c4452e7410b50162cbee0899]\n",
       "link Clase6 to Clase7--><path codeLine=\"5\" d=\"M259.5,55 C259.5,71.003 259.5,92.446 259.5,109.528 \" fill=\"none\" id=\"Clase6-to-Clase7\" style=\"stroke: #A80036; stroke-width: 1.0; stroke-dasharray: 7.0,7.0;\"/><polygon fill=\"#A80036\" points=\"259.5,114.678,263.5,105.678,259.5,109.678,255.5,105.678,259.5,114.678\" style=\"stroke: #A80036; stroke-width: 1.0;\"/><!--MD5=[580c7e1aeb9107a8527d39d735b623bc]\n",
       "link Clase7 to Clase8--><path codeLine=\"6\" d=\"M259.5,163 C259.5,174.588 259.5,189.029 259.5,202.601 \" fill=\"none\" id=\"Clase7-to-Clase8\" style=\"stroke: #A80036; stroke-width: 1.0; stroke-dasharray: 7.0,7.0;\"/><polygon fill=\"none\" points=\"266.5,202.678,259.5,222.678,252.5,202.678,266.5,202.678\" style=\"stroke: #A80036; stroke-width: 1.0;\"/><!--MD5=[b23ec498c9900924744c9578bb3c5c62]\n",
       "link Clase8 to Clase9--><path codeLine=\"7\" d=\"M259.5,284.3383 C259.5,295.0064 259.5,318.6784 259.5,318.6784 \" fill=\"none\" id=\"Clase8-Clase9\" style=\"stroke: #A80036; stroke-width: 1.0;\"/><polygon fill=\"#A80036\" points=\"259.5,330.6784,263.5,324.6784,259.5,318.6784,255.5,324.6784,259.5,330.6784\" style=\"stroke: #A80036; stroke-width: 1.0;\"/><polygon fill=\"#A80036\" points=\"259.5,271,255.5,280,259.5,276,263.5,280,259.5,271\" style=\"stroke: #A80036; stroke-width: 1.0;\"/><line style=\"stroke: #A80036; stroke-width: 1.0;\" x1=\"259.5\" x2=\"259.5\" y1=\"276\" y2=\"284.0005\"/><!--MD5=[9a11d339249237cfaae5b9bb89b28168]\n",
       "@startuml\n",
       "Clase1 .. Clase2\n",
       "Clase1 - - Clase3\n",
       "Clase3 - -> Clase4\n",
       "Clase4 <|.. Clase5\n",
       "Clase6 ..> Clase7\n",
       "Clase7 ..|> Clase8\n",
       "Clase8 <- -* Clase9\n",
       "@enduml\n",
       "\n",
       "PlantUML version 1.2020.18beta4(Unknown compile time)\n",
       "(GPL source distribution)\n",
       "Java Runtime: Java(TM) SE Runtime Environment\n",
       "JVM: Java HotSpot(TM) 64-Bit Server VM\n",
       "Default Encoding: UTF-8\n",
       "Language: en\n",
       "Country: US\n",
       "--></g></svg>"
      ],
      "text/plain": [
       "<IPython.core.display.SVG object>"
      ]
     },
     "execution_count": 7,
     "metadata": {},
     "output_type": "execute_result"
    }
   ],
   "source": [
    "%%plantuml \n",
    "@startuml\n",
    " \n",
    "Clase1 .. Clase2\n",
    "Clase1 -- Clase3\n",
    "Clase3 --> Clase4\n",
    "Clase4 <|.. Clase5\n",
    "Clase6 ..> Clase7\n",
    "Clase7 ..|> Clase8\n",
    "Clase8 <--* Clase9\n",
    " \n",
    "@enduml"
   ]
  },
  {
   "cell_type": "markdown",
   "metadata": {},
   "source": [
    "Para acabar con este tipo de diagramas, vamos a hablar de la visibilidad de métodos y atributos, así como la posibilidad de trabajar con interfaces o clases abstractas, dejando muchas cosas en el tintero para que podáis investigar (y no os de tanta pereza leer un artículo tan largo)."
   ]
  },
  {
   "cell_type": "code",
   "execution_count": 8,
   "metadata": {},
   "outputs": [
    {
     "data": {
      "image/svg+xml": [
       "<svg contentScriptType=\"application/ecmascript\" contentStyleType=\"text/css\" height=\"233px\" preserveAspectRatio=\"none\" style=\"width:490px;height:233px;\" version=\"1.1\" viewBox=\"0 0 490 233\" width=\"490px\" xmlns=\"http://www.w3.org/2000/svg\" xmlns:xlink=\"http://www.w3.org/1999/xlink\" zoomAndPan=\"magnify\"><defs><filter height=\"300%\" id=\"f1cd3h6txhiwj8\" width=\"300%\" x=\"-1\" y=\"-1\"><feGaussianBlur result=\"blurOut\" stdDeviation=\"2.0\"/><feColorMatrix in=\"blurOut\" result=\"blurOut2\" type=\"matrix\" values=\"0 0 0 0 0 0 0 0 0 0 0 0 0 0 0 0 0 0 .4 0\"/><feOffset dx=\"4.0\" dy=\"4.0\" in=\"blurOut2\" result=\"blurOut3\"/><feBlend in=\"SourceGraphic\" in2=\"blurOut3\" mode=\"normal\"/></filter></defs><g><!--MD5=[2e2fc17516767c5c5517cc20dc36cd6f]\n",
       "class Abstracta--><rect codeLine=\"1\" fill=\"#FEFECE\" filter=\"url(#f1cd3h6txhiwj8)\" height=\"99.2188\" id=\"Abstracta\" style=\"stroke: #A80036; stroke-width: 1.5;\" width=\"128\" x=\"18.5\" y=\"7\"/><ellipse cx=\"50.6\" cy=\"23\" fill=\"#A9DCDF\" rx=\"11\" ry=\"11\" style=\"stroke: #A80036; stroke-width: 1.0;\"/><path d=\"M52.6781,24.8125 L53.0688,25.7969 L52.6781,25.7969 C52.225,25.7969 52.1156,25.8125 51.9594,25.9219 C51.7094,26.0781 51.5531,26.3594 51.5531,26.6563 C51.5531,26.9219 51.6938,27.1719 51.9125,27.3281 C52.0531,27.4531 52.2563,27.5 52.6781,27.5 L55.0375,27.5 C55.3969,27.5 55.6156,27.4688 55.7563,27.375 C56.0063,27.2344 56.1625,26.9375 56.1625,26.6563 C56.1625,26.375 56.0219,26.125 55.8031,25.9688 C55.6313,25.8281 55.475,25.7969 55.0063,25.7969 L51.6156,17.5938 L47.9438,17.5938 C47.4906,17.5938 47.3656,17.6094 47.2094,17.7031 C46.9594,17.875 46.8031,18.1563 46.8031,18.4375 C46.8031,18.7188 46.9438,18.9688 47.1625,19.1406 C47.3344,19.25 47.5063,19.2813 47.9438,19.2813 L49.0219,19.2813 L46.3813,25.7969 C45.9594,25.7969 45.8031,25.8125 45.6469,25.9219 C45.3969,26.0781 45.2406,26.3594 45.2406,26.6563 C45.2406,27.2188 45.6156,27.5 46.3656,27.5 L48.6313,27.5 C48.9906,27.5 49.2094,27.4688 49.3344,27.375 C49.6,27.2344 49.7406,26.9375 49.7406,26.6563 C49.7406,26.375 49.6156,26.125 49.3969,25.9531 C49.225,25.8281 49.0844,25.7969 48.6313,25.7969 L48.2406,25.7969 L48.6313,24.8125 L52.6781,24.8125 Z M51.975,23.1094 L49.3031,23.1094 L50.6469,19.8438 L51.975,23.1094 Z \"/><text fill=\"#000000\" font-family=\"sans-serif\" font-size=\"12\" font-style=\"italic\" lengthAdjust=\"spacingAndGlyphs\" textLength=\"58\" x=\"68.4\" y=\"27.1543\">Abstracta</text><line style=\"stroke: #A80036; stroke-width: 1.5;\" x1=\"19.5\" x2=\"145.5\" y1=\"39\" y2=\"39\"/><rect fill=\"none\" height=\"6\" style=\"stroke: #C82930; stroke-width: 1.0;\" width=\"6\" x=\"26.5\" y=\"47\"/><text fill=\"#000000\" font-family=\"sans-serif\" font-size=\"11\" lengthAdjust=\"spacingAndGlyphs\" textLength=\"42\" x=\"38.5\" y=\"53.2104\">privado</text><polygon fill=\"none\" points=\"29.5,57.8047,33.5,61.8047,29.5,65.8047,25.5,61.8047\" style=\"stroke: #B38D22; stroke-width: 1.0;\"/><text fill=\"#000000\" font-family=\"sans-serif\" font-size=\"11\" lengthAdjust=\"spacingAndGlyphs\" textLength=\"55\" x=\"38.5\" y=\"66.0151\">protected</text><line style=\"stroke: #A80036; stroke-width: 1.5;\" x1=\"19.5\" x2=\"145.5\" y1=\"72.6094\" y2=\"72.6094\"/><polygon fill=\"#4177AF\" points=\"29.5,79.6094,25.5,85.6094,33.5,85.6094\" style=\"stroke: #1963A0; stroke-width: 1.0;\"/><text fill=\"#000000\" font-family=\"sans-serif\" font-size=\"11\" lengthAdjust=\"spacingAndGlyphs\" textLength=\"102\" x=\"38.5\" y=\"86.8198\">package_private()</text><ellipse cx=\"29.5\" cy=\"96.4141\" fill=\"#84BE84\" rx=\"3\" ry=\"3\" style=\"stroke: #038048; stroke-width: 1.0;\"/><text fill=\"#000000\" font-family=\"sans-serif\" font-size=\"11\" lengthAdjust=\"spacingAndGlyphs\" textLength=\"41\" x=\"38.5\" y=\"99.6245\">public()</text><!--MD5=[a2e874bc19895dfc9807100069c4c95c]\n",
       "class Interfaz--><rect codeLine=\"8\" fill=\"#FEFECE\" filter=\"url(#f1cd3h6txhiwj8)\" height=\"60.8047\" id=\"Interfaz\" style=\"stroke: #A80036; stroke-width: 1.5;\" width=\"78\" x=\"274.5\" y=\"26\"/><ellipse cx=\"289.5\" cy=\"42\" fill=\"#B4A7E5\" rx=\"11\" ry=\"11\" style=\"stroke: #A80036; stroke-width: 1.0;\"/><path d=\"M290.4531,38.7813 L292.1719,38.7813 C292.5625,38.7813 292.75,38.75 292.875,38.6719 C293.1406,38.5156 293.2813,38.2344 293.2813,37.9375 C293.2813,37.6719 293.1719,37.4063 292.9375,37.2344 C292.7656,37.125 292.625,37.0938 292.1719,37.0938 L287.0313,37.0938 C286.5938,37.0938 286.4688,37.1094 286.3125,37.2031 C286.0625,37.3594 285.9063,37.6563 285.9063,37.9375 C285.9063,38.2188 286.0469,38.4688 286.2656,38.6406 C286.4219,38.75 286.6094,38.7813 287.0313,38.7813 L288.75,38.7813 L288.75,45.2969 L287.0313,45.2969 C286.5938,45.2969 286.4688,45.3125 286.3125,45.4219 C286.0625,45.5781 285.9063,45.8594 285.9063,46.1563 C285.9063,46.4063 286.0469,46.6719 286.2656,46.8281 C286.4219,46.9531 286.625,47 287.0313,47 L292.1719,47 C292.9219,47 293.2813,46.7188 293.2813,46.1563 C293.2813,45.875 293.1719,45.625 292.9375,45.4531 C292.7656,45.3281 292.625,45.2969 292.1719,45.2969 L290.4531,45.2969 L290.4531,38.7813 Z \"/><text fill=\"#000000\" font-family=\"sans-serif\" font-size=\"12\" font-style=\"italic\" lengthAdjust=\"spacingAndGlyphs\" textLength=\"46\" x=\"303.5\" y=\"46.1543\">Interfaz</text><line style=\"stroke: #A80036; stroke-width: 1.5;\" x1=\"275.5\" x2=\"351.5\" y1=\"58\" y2=\"58\"/><line style=\"stroke: #A80036; stroke-width: 1.5;\" x1=\"275.5\" x2=\"351.5\" y1=\"66\" y2=\"66\"/><text fill=\"#000000\" font-family=\"sans-serif\" font-size=\"11\" lengthAdjust=\"spacingAndGlyphs\" textLength=\"52\" x=\"280.5\" y=\"80.2104\">metodo()</text><!--MD5=[15b68e006199004da79ea2a4d117d8e9]\n",
       "class TimeUnit--><rect codeLine=\"12\" fill=\"#FEFECE\" filter=\"url(#f1cd3h6txhiwj8)\" height=\"86.4141\" id=\"TimeUnit\" style=\"stroke: #A80036; stroke-width: 1.5;\" width=\"84\" x=\"387.5\" y=\"13.5\"/><ellipse cx=\"402.5\" cy=\"29.5\" fill=\"#EB937F\" rx=\"11\" ry=\"11\" style=\"stroke: #A80036; stroke-width: 1.0;\"/><path d=\"M401.2969,30.375 L402.75,30.375 L402.75,30.4844 C402.75,30.8906 402.7813,31.0469 402.8594,31.2031 C403.0156,31.4531 403.2969,31.6094 403.5938,31.6094 C403.8438,31.6094 404.1094,31.4688 404.2656,31.25 C404.3906,31.0938 404.4219,30.9375 404.4219,30.4844 L404.4219,28.5625 C404.4219,28.4063 404.4219,28.3594 404.4063,28.2031 C404.3438,27.7344 404.0313,27.4219 403.5781,27.4219 C403.3281,27.4219 403.0625,27.5625 402.8906,27.7813 C402.7813,27.9531 402.75,28.1094 402.75,28.5625 L402.75,28.6875 L401.2969,28.6875 L401.2969,26.2813 L405.2813,26.2813 L405.2813,27.1406 C405.2813,27.5469 405.3125,27.7188 405.3906,27.875 C405.5625,28.125 405.8438,28.2813 406.125,28.2813 C406.3906,28.2813 406.6563,28.1406 406.8281,27.9219 C406.9375,27.75 406.9688,27.6094 406.9688,27.1406 L406.9688,24.5938 L399.3438,24.5938 C398.9063,24.5938 398.7813,24.6094 398.625,24.7031 C398.375,24.8594 398.2188,25.1563 398.2188,25.4375 C398.2188,25.7188 398.3594,25.9688 398.5781,26.1406 C398.7344,26.25 398.9219,26.2813 399.3438,26.2813 L399.5938,26.2813 L399.5938,32.7969 L399.3438,32.7969 C398.9375,32.7969 398.7813,32.8125 398.625,32.9219 C398.375,33.0938 398.2188,33.3594 398.2188,33.6563 C398.2188,33.9219 398.3594,34.1719 398.5781,34.3281 C398.7188,34.4531 398.9531,34.5 399.3438,34.5 L407.3438,34.5 L407.3438,31.9219 C407.3438,31.4844 407.3125,31.3438 407.2344,31.1875 C407.0625,30.9375 406.7813,30.7813 406.5,30.7813 C406.2344,30.7813 405.9688,30.8906 405.7969,31.1406 C405.6875,31.2969 405.6563,31.4375 405.6563,31.9219 L405.6563,32.7969 L401.2969,32.7969 L401.2969,30.375 Z \"/><text fill=\"#000000\" font-family=\"sans-serif\" font-size=\"12\" lengthAdjust=\"spacingAndGlyphs\" textLength=\"52\" x=\"416.5\" y=\"33.6543\">TimeUnit</text><line style=\"stroke: #A80036; stroke-width: 1.5;\" x1=\"388.5\" x2=\"470.5\" y1=\"45.5\" y2=\"45.5\"/><text fill=\"#000000\" font-family=\"sans-serif\" font-size=\"11\" lengthAdjust=\"spacingAndGlyphs\" textLength=\"28\" x=\"393.5\" y=\"59.7104\">DIAS</text><text fill=\"#000000\" font-family=\"sans-serif\" font-size=\"11\" lengthAdjust=\"spacingAndGlyphs\" textLength=\"40\" x=\"393.5\" y=\"72.5151\">HORAS</text><text fill=\"#000000\" font-family=\"sans-serif\" font-size=\"11\" lengthAdjust=\"spacingAndGlyphs\" textLength=\"52\" x=\"393.5\" y=\"85.3198\">MINUTOS</text><line style=\"stroke: #A80036; stroke-width: 1.5;\" x1=\"388.5\" x2=\"470.5\" y1=\"91.9141\" y2=\"91.9141\"/><!--MD5=[0f41aec53022ad6042a2eb8f0445fa53]\n",
       "class Clase2--><rect codeLine=\"18\" fill=\"#FF0000\" filter=\"url(#f1cd3h6txhiwj8)\" height=\"48\" id=\"Clase2\" style=\"stroke: #A80036; stroke-width: 1.5;\" width=\"73\" x=\"7\" y=\"166\"/><ellipse cx=\"22\" cy=\"182\" fill=\"#ADD1B2\" rx=\"11\" ry=\"11\" style=\"stroke: #A80036; stroke-width: 1.0;\"/><path d=\"M24.3438,177.6719 C23.4063,177.2344 22.8125,177.0938 21.9375,177.0938 C19.3125,177.0938 17.3125,179.1719 17.3125,181.8906 L17.3125,183.0156 C17.3125,185.5938 19.4219,187.4844 22.3125,187.4844 C23.5313,187.4844 24.6875,187.1875 25.4375,186.6406 C26.0156,186.2344 26.3438,185.7813 26.3438,185.3906 C26.3438,184.9375 25.9531,184.5469 25.4844,184.5469 C25.2656,184.5469 25.0625,184.625 24.875,184.8125 C24.4219,185.2969 24.4219,185.2969 24.2344,185.3906 C23.8125,185.6563 23.125,185.7813 22.3594,185.7813 C20.3125,185.7813 19.0156,184.6875 19.0156,182.9844 L19.0156,181.8906 C19.0156,180.1094 20.2656,178.7969 22,178.7969 C22.5781,178.7969 23.1875,178.9531 23.6563,179.2031 C24.1406,179.4844 24.3125,179.7031 24.4063,180.1094 C24.4688,180.5156 24.5,180.6406 24.6406,180.7656 C24.7813,180.9063 25.0156,181.0156 25.2344,181.0156 C25.5,181.0156 25.7656,180.875 25.9375,180.6563 C26.0469,180.5 26.0781,180.3125 26.0781,179.8906 L26.0781,178.4688 C26.0781,178.0313 26.0625,177.9063 25.9688,177.75 C25.8125,177.4844 25.5313,177.3438 25.2344,177.3438 C24.9375,177.3438 24.7344,177.4375 24.5156,177.75 L24.3438,177.6719 Z \"/><text fill=\"#000000\" font-family=\"sans-serif\" font-size=\"12\" lengthAdjust=\"spacingAndGlyphs\" textLength=\"41\" x=\"36\" y=\"186.1543\">Clase2</text><line style=\"stroke: #A80036; stroke-width: 1.5;\" x1=\"8\" x2=\"79\" y1=\"198\" y2=\"198\"/><line style=\"stroke: #A80036; stroke-width: 1.5;\" x1=\"8\" x2=\"79\" y1=\"206\" y2=\"206\"/><!--MD5=[2c9ecc0a7368ed76df993a8b99fd7ad3]\n",
       "class Clase3--><rect fill=\"#FEFECE\" filter=\"url(#f1cd3h6txhiwj8)\" height=\"48\" id=\"Clase3\" style=\"stroke: #A80036; stroke-width: 1.5;\" width=\"73\" x=\"115\" y=\"166\"/><ellipse cx=\"130\" cy=\"182\" fill=\"#ADD1B2\" rx=\"11\" ry=\"11\" style=\"stroke: #A80036; stroke-width: 1.0;\"/><path d=\"M132.3438,177.6719 C131.4063,177.2344 130.8125,177.0938 129.9375,177.0938 C127.3125,177.0938 125.3125,179.1719 125.3125,181.8906 L125.3125,183.0156 C125.3125,185.5938 127.4219,187.4844 130.3125,187.4844 C131.5313,187.4844 132.6875,187.1875 133.4375,186.6406 C134.0156,186.2344 134.3438,185.7813 134.3438,185.3906 C134.3438,184.9375 133.9531,184.5469 133.4844,184.5469 C133.2656,184.5469 133.0625,184.625 132.875,184.8125 C132.4219,185.2969 132.4219,185.2969 132.2344,185.3906 C131.8125,185.6563 131.125,185.7813 130.3594,185.7813 C128.3125,185.7813 127.0156,184.6875 127.0156,182.9844 L127.0156,181.8906 C127.0156,180.1094 128.2656,178.7969 130,178.7969 C130.5781,178.7969 131.1875,178.9531 131.6563,179.2031 C132.1406,179.4844 132.3125,179.7031 132.4063,180.1094 C132.4688,180.5156 132.5,180.6406 132.6406,180.7656 C132.7813,180.9063 133.0156,181.0156 133.2344,181.0156 C133.5,181.0156 133.7656,180.875 133.9375,180.6563 C134.0469,180.5 134.0781,180.3125 134.0781,179.8906 L134.0781,178.4688 C134.0781,178.0313 134.0625,177.9063 133.9688,177.75 C133.8125,177.4844 133.5313,177.3438 133.2344,177.3438 C132.9375,177.3438 132.7344,177.4375 132.5156,177.75 L132.3438,177.6719 Z \"/><text fill=\"#000000\" font-family=\"sans-serif\" font-size=\"12\" lengthAdjust=\"spacingAndGlyphs\" textLength=\"41\" x=\"144\" y=\"186.1543\">Clase3</text><line style=\"stroke: #A80036; stroke-width: 1.5;\" x1=\"116\" x2=\"187\" y1=\"198\" y2=\"198\"/><line style=\"stroke: #A80036; stroke-width: 1.5;\" x1=\"116\" x2=\"187\" y1=\"206\" y2=\"206\"/><!--MD5=[3d03710c9870b3fbccf94dcefe84f8f7]\n",
       "class Clase4--><rect fill=\"#FEFECE\" filter=\"url(#f1cd3h6txhiwj8)\" height=\"48\" id=\"Clase4\" style=\"stroke: #A80036; stroke-width: 1.5;\" width=\"73\" x=\"223\" y=\"166\"/><ellipse cx=\"238\" cy=\"182\" fill=\"#ADD1B2\" rx=\"11\" ry=\"11\" style=\"stroke: #A80036; stroke-width: 1.0;\"/><path d=\"M240.3438,177.6719 C239.4063,177.2344 238.8125,177.0938 237.9375,177.0938 C235.3125,177.0938 233.3125,179.1719 233.3125,181.8906 L233.3125,183.0156 C233.3125,185.5938 235.4219,187.4844 238.3125,187.4844 C239.5313,187.4844 240.6875,187.1875 241.4375,186.6406 C242.0156,186.2344 242.3438,185.7813 242.3438,185.3906 C242.3438,184.9375 241.9531,184.5469 241.4844,184.5469 C241.2656,184.5469 241.0625,184.625 240.875,184.8125 C240.4219,185.2969 240.4219,185.2969 240.2344,185.3906 C239.8125,185.6563 239.125,185.7813 238.3594,185.7813 C236.3125,185.7813 235.0156,184.6875 235.0156,182.9844 L235.0156,181.8906 C235.0156,180.1094 236.2656,178.7969 238,178.7969 C238.5781,178.7969 239.1875,178.9531 239.6563,179.2031 C240.1406,179.4844 240.3125,179.7031 240.4063,180.1094 C240.4688,180.5156 240.5,180.6406 240.6406,180.7656 C240.7813,180.9063 241.0156,181.0156 241.2344,181.0156 C241.5,181.0156 241.7656,180.875 241.9375,180.6563 C242.0469,180.5 242.0781,180.3125 242.0781,179.8906 L242.0781,178.4688 C242.0781,178.0313 242.0625,177.9063 241.9688,177.75 C241.8125,177.4844 241.5313,177.3438 241.2344,177.3438 C240.9375,177.3438 240.7344,177.4375 240.5156,177.75 L240.3438,177.6719 Z \"/><text fill=\"#000000\" font-family=\"sans-serif\" font-size=\"12\" lengthAdjust=\"spacingAndGlyphs\" textLength=\"41\" x=\"252\" y=\"186.1543\">Clase4</text><line style=\"stroke: #A80036; stroke-width: 1.5;\" x1=\"224\" x2=\"295\" y1=\"198\" y2=\"198\"/><line style=\"stroke: #A80036; stroke-width: 1.5;\" x1=\"224\" x2=\"295\" y1=\"206\" y2=\"206\"/><!--MD5=[1f8c144c1c43692a2dc6bfa14b4c4c56]\n",
       "class Clase5--><rect fill=\"#FEFECE\" filter=\"url(#f1cd3h6txhiwj8)\" height=\"48\" id=\"Clase5\" style=\"stroke: #A80036; stroke-width: 1.5;\" width=\"73\" x=\"331\" y=\"166\"/><ellipse cx=\"346\" cy=\"182\" fill=\"#ADD1B2\" rx=\"11\" ry=\"11\" style=\"stroke: #A80036; stroke-width: 1.0;\"/><path d=\"M348.3438,177.6719 C347.4063,177.2344 346.8125,177.0938 345.9375,177.0938 C343.3125,177.0938 341.3125,179.1719 341.3125,181.8906 L341.3125,183.0156 C341.3125,185.5938 343.4219,187.4844 346.3125,187.4844 C347.5313,187.4844 348.6875,187.1875 349.4375,186.6406 C350.0156,186.2344 350.3438,185.7813 350.3438,185.3906 C350.3438,184.9375 349.9531,184.5469 349.4844,184.5469 C349.2656,184.5469 349.0625,184.625 348.875,184.8125 C348.4219,185.2969 348.4219,185.2969 348.2344,185.3906 C347.8125,185.6563 347.125,185.7813 346.3594,185.7813 C344.3125,185.7813 343.0156,184.6875 343.0156,182.9844 L343.0156,181.8906 C343.0156,180.1094 344.2656,178.7969 346,178.7969 C346.5781,178.7969 347.1875,178.9531 347.6563,179.2031 C348.1406,179.4844 348.3125,179.7031 348.4063,180.1094 C348.4688,180.5156 348.5,180.6406 348.6406,180.7656 C348.7813,180.9063 349.0156,181.0156 349.2344,181.0156 C349.5,181.0156 349.7656,180.875 349.9375,180.6563 C350.0469,180.5 350.0781,180.3125 350.0781,179.8906 L350.0781,178.4688 C350.0781,178.0313 350.0625,177.9063 349.9688,177.75 C349.8125,177.4844 349.5313,177.3438 349.2344,177.3438 C348.9375,177.3438 348.7344,177.4375 348.5156,177.75 L348.3438,177.6719 Z \"/><text fill=\"#000000\" font-family=\"sans-serif\" font-size=\"12\" lengthAdjust=\"spacingAndGlyphs\" textLength=\"41\" x=\"360\" y=\"186.1543\">Clase5</text><line style=\"stroke: #A80036; stroke-width: 1.5;\" x1=\"332\" x2=\"403\" y1=\"198\" y2=\"198\"/><line style=\"stroke: #A80036; stroke-width: 1.5;\" x1=\"332\" x2=\"403\" y1=\"206\" y2=\"206\"/><!--MD5=[eccda684992c103dbf84e9f432c4ca72]\n",
       "reverse link Abstracta to Clase2--><path codeLine=\"20\" d=\"M62.2643,125.7307 C57.9569,140.2544 53.6974,154.6165 50.3281,165.9769 \" fill=\"none\" id=\"Abstracta-backto-Clase2\" style=\"stroke: #A80036; stroke-width: 1.0;\"/><polygon fill=\"none\" points=\"55.6908,123.2762,68.0886,106.092,69.1129,127.257,55.6908,123.2762\" style=\"stroke: #A80036; stroke-width: 1.0;\"/><!--MD5=[dfb0ac21e6bbdf24d91204ae626415d6]\n",
       "reverse link Abstracta to Clase3--><path codeLine=\"21\" d=\"M117.522,124.2448 C125.407,139.2717 133.255,154.2292 139.419,165.9769 \" fill=\"none\" id=\"Abstracta-backto-Clase3\" style=\"stroke: #A80036; stroke-width: 1.0;\"/><polygon fill=\"none\" points=\"111.091,127.0547,107.997,106.092,123.488,120.5497,111.091,127.0547\" style=\"stroke: #A80036; stroke-width: 1.0;\"/><!--MD5=[aae2bd873ecb88765bdc834e97bc18ee]\n",
       "reverse link Interfaz to Clase4--><path codeLine=\"23\" d=\"M293.741,105.618 C285.324,126.1127 275.895,149.0759 269.065,165.707 \" fill=\"none\" id=\"Interfaz-backto-Clase4\" style=\"stroke: #A80036; stroke-width: 1.0; stroke-dasharray: 7.0,7.0;\"/><polygon fill=\"none\" points=\"287.309,102.853,301.381,87.011,300.259,108.171,287.309,102.853\" style=\"stroke: #A80036; stroke-width: 1.0;\"/><!--MD5=[606ca79786e7d7bb66d0edba96c4b404]\n",
       "reverse link Interfaz to Clase5--><path codeLine=\"24\" d=\"M333.259,105.618 C341.676,126.1127 351.105,149.0759 357.935,165.707 \" fill=\"none\" id=\"Interfaz-backto-Clase5\" style=\"stroke: #A80036; stroke-width: 1.0; stroke-dasharray: 7.0,7.0;\"/><polygon fill=\"none\" points=\"326.741,108.171,325.619,87.011,339.691,102.853,326.741,108.171\" style=\"stroke: #A80036; stroke-width: 1.0;\"/><!--MD5=[d58ce3bf7dd0d7ade21e62ef53133d83]\n",
       "@startuml\n",
       "abstract Abstracta{\n",
       "      -privado\n",
       "      #protected\n",
       "      ~package_private()\n",
       "      +public()\n",
       "}\n",
       " \n",
       "interface Interfaz {\n",
       "      metodo()\n",
       "}\n",
       " \n",
       "enum TimeUnit {\n",
       "      DIAS\n",
       "      HORAS\n",
       "      MINUTOS\n",
       "}\n",
       " \n",
       "class Clase2 #red\n",
       " \n",
       "Abstracta <|- - Clase2\n",
       "Abstracta <|- - Clase3\n",
       " \n",
       "Interfaz <|.. Clase4\n",
       "Interfaz <|.. Clase5\n",
       "@enduml\n",
       "\n",
       "PlantUML version 1.2020.18beta4(Unknown compile time)\n",
       "(GPL source distribution)\n",
       "Java Runtime: Java(TM) SE Runtime Environment\n",
       "JVM: Java HotSpot(TM) 64-Bit Server VM\n",
       "Default Encoding: UTF-8\n",
       "Language: en\n",
       "Country: US\n",
       "--></g></svg>"
      ],
      "text/plain": [
       "<IPython.core.display.SVG object>"
      ]
     },
     "execution_count": 8,
     "metadata": {},
     "output_type": "execute_result"
    }
   ],
   "source": [
    "%%plantuml \n",
    "@startuml\n",
    " \n",
    "abstract Abstracta{\n",
    "      -privado\n",
    "      #protected\n",
    "      ~package_private()\n",
    "      +public()\n",
    "}\n",
    " \n",
    "interface Interfaz {\n",
    "      metodo()\n",
    "}\n",
    " \n",
    "enum TimeUnit {\n",
    "      DIAS\n",
    "      HORAS\n",
    "      MINUTOS\n",
    "}\n",
    " \n",
    "class Clase2 #red\n",
    " \n",
    "Abstracta <|-- Clase2\n",
    "Abstracta <|-- Clase3\n",
    " \n",
    "Interfaz <|.. Clase4\n",
    "Interfaz <|.. Clase5\n",
    " \n",
    "@enduml"
   ]
  },
  {
   "cell_type": "markdown",
   "metadata": {},
   "source": [
    "### Diagramas de estados\n",
    "Seguimos con los diagramas de estados de toda la vida, que simbolizan un esquema de transiciones entre diversos estados."
   ]
  },
  {
   "cell_type": "code",
   "execution_count": 9,
   "metadata": {},
   "outputs": [
    {
     "data": {
      "image/svg+xml": [
       "<svg contentScriptType=\"application/ecmascript\" contentStyleType=\"text/css\" height=\"362px\" preserveAspectRatio=\"none\" style=\"width:409px;height:362px;\" version=\"1.1\" viewBox=\"0 0 409 362\" width=\"409px\" xmlns=\"http://www.w3.org/2000/svg\" xmlns:xlink=\"http://www.w3.org/1999/xlink\" zoomAndPan=\"magnify\"><defs><filter height=\"300%\" id=\"fp8gz8y7qiw5m\" width=\"300%\" x=\"-1\" y=\"-1\"><feGaussianBlur result=\"blurOut\" stdDeviation=\"2.0\"/><feColorMatrix in=\"blurOut\" result=\"blurOut2\" type=\"matrix\" values=\"0 0 0 0 0 0 0 0 0 0 0 0 0 0 0 0 0 0 .4 0\"/><feOffset dx=\"4.0\" dy=\"4.0\" in=\"blurOut2\" result=\"blurOut3\"/><feBlend in=\"SourceGraphic\" in2=\"blurOut3\" mode=\"normal\"/></filter></defs><g><ellipse cx=\"76.5\" cy=\"16\" fill=\"#000000\" filter=\"url(#fp8gz8y7qiw5m)\" rx=\"10\" ry=\"10\" style=\"stroke: none; stroke-width: 1.0;\"/><g id=\"Nacimiento\"><rect fill=\"#FEFECE\" filter=\"url(#fp8gz8y7qiw5m)\" height=\"50.2656\" rx=\"12.5\" ry=\"12.5\" style=\"stroke: #A80036; stroke-width: 1.5;\" width=\"139\" x=\"7\" y=\"87\"/><line style=\"stroke: #A80036; stroke-width: 1.5;\" x1=\"7\" x2=\"146\" y1=\"113.2969\" y2=\"113.2969\"/><text fill=\"#000000\" font-family=\"sans-serif\" font-size=\"14\" lengthAdjust=\"spacingAndGlyphs\" textLength=\"82\" x=\"35.5\" y=\"104.9951\">Nacimiento</text><text fill=\"#000000\" font-family=\"sans-serif\" font-size=\"12\" lengthAdjust=\"spacingAndGlyphs\" textLength=\"119\" x=\"12\" y=\"129.4355\">sin preocupaciones</text></g><g id=\"Tropiezo\"><rect fill=\"#FEFECE\" filter=\"url(#fp8gz8y7qiw5m)\" height=\"50.2656\" rx=\"12.5\" ry=\"12.5\" style=\"stroke: #A80036; stroke-width: 1.5;\" width=\"92\" x=\"30.5\" y=\"214\"/><line style=\"stroke: #A80036; stroke-width: 1.5;\" x1=\"30.5\" x2=\"122.5\" y1=\"240.2969\" y2=\"240.2969\"/><text fill=\"#000000\" font-family=\"sans-serif\" font-size=\"14\" lengthAdjust=\"spacingAndGlyphs\" textLength=\"64\" x=\"44.5\" y=\"231.9951\">Tropiezo</text><text fill=\"#000000\" font-family=\"sans-serif\" font-size=\"12\" lengthAdjust=\"spacingAndGlyphs\" textLength=\"72\" x=\"35.5\" y=\"256.4355\">se lió parda</text></g><g id=\"Muerte\"><rect fill=\"#FEFECE\" filter=\"url(#fp8gz8y7qiw5m)\" height=\"50\" rx=\"12.5\" ry=\"12.5\" style=\"stroke: #A80036; stroke-width: 1.5;\" width=\"71\" x=\"319\" y=\"214\"/><line style=\"stroke: #A80036; stroke-width: 1.5;\" x1=\"319\" x2=\"390\" y1=\"240.2969\" y2=\"240.2969\"/><text fill=\"#000000\" font-family=\"sans-serif\" font-size=\"14\" lengthAdjust=\"spacingAndGlyphs\" textLength=\"51\" x=\"329\" y=\"231.9951\">Muerte</text></g><ellipse cx=\"354.5\" cy=\"335\" fill=\"none\" filter=\"url(#fp8gz8y7qiw5m)\" rx=\"10\" ry=\"10\" style=\"stroke: #000000; stroke-width: 1.0;\"/><ellipse cx=\"355\" cy=\"335.5\" fill=\"#000000\" rx=\"6\" ry=\"6\" style=\"stroke: none; stroke-width: 1.0;\"/><!--MD5=[0f59990dfa60aeea280648e3fbed20ca]\n",
       "link *start to Nacimiento--><path d=\"M76.5,26.013 C76.5,38.698 76.5,62.409 76.5,81.57 \" fill=\"none\" id=\"*start-to-Nacimiento\" style=\"stroke: #A80036; stroke-width: 1.0;\"/><polygon fill=\"#A80036\" points=\"76.5,86.84,80.5,77.84,76.5,81.84,72.5,77.84,76.5,86.84\" style=\"stroke: #A80036; stroke-width: 1.0;\"/><!--MD5=[bc92e8e58b6d95b75744ca2f732f9df0]\n",
       "link Nacimiento to Tropiezo--><path d=\"M76.5,137.101 C76.5,157.593 76.5,187.076 76.5,208.884 \" fill=\"none\" id=\"Nacimiento-to-Tropiezo\" style=\"stroke: #A80036; stroke-width: 1.0;\"/><polygon fill=\"#A80036\" points=\"76.5,213.973,80.5,204.973,76.5,208.973,72.5,204.973,76.5,213.973\" style=\"stroke: #A80036; stroke-width: 1.0;\"/><text fill=\"#000000\" font-family=\"sans-serif\" font-size=\"13\" lengthAdjust=\"spacingAndGlyphs\" textLength=\"49\" x=\"77.5\" y=\"180.0669\">torpeza</text><!--MD5=[05a1c13652a85b2a57736a63b78b2884]\n",
       "link Tropiezo to Muerte--><path d=\"M122.718,239 C176.007,239 262.779,239 313.675,239 \" fill=\"none\" id=\"Tropiezo-to-Muerte\" style=\"stroke: #A80036; stroke-width: 1.0;\"/><polygon fill=\"#A80036\" points=\"318.789,239,309.789,235,313.789,239,309.789,243,318.789,239\" style=\"stroke: #A80036; stroke-width: 1.0;\"/><text fill=\"#000000\" font-family=\"sans-serif\" font-size=\"13\" lengthAdjust=\"spacingAndGlyphs\" textLength=\"160\" x=\"140.75\" y=\"232.0669\">SAMUR no llega a tiempo</text><!--MD5=[7a3e41aea2c50791f2115171b9681cb6]\n",
       "link Muerte to *end--><path d=\"M354.5,264.2073 C354.5,281.8423 354.5,305.1261 354.5,319.8351 \" fill=\"none\" id=\"Muerte-to-*end\" style=\"stroke: #A80036; stroke-width: 1.0;\"/><polygon fill=\"#A80036\" points=\"354.5,324.8399,358.5,315.8399,354.5,319.8399,350.5,315.8399,354.5,324.8399\" style=\"stroke: #A80036; stroke-width: 1.0;\"/><!--MD5=[60bd4c0ab36b71f2aaeed2f10b9d55d1]\n",
       "@startuml\n",
       "[*] - -> Nacimiento\n",
       "Nacimiento : sin preocupaciones\n",
       "Tropiezo: se lió parda\n",
       "Nacimiento - -> Tropiezo : torpeza\n",
       "Tropiezo -> Muerte : SAMUR no llega a tiempo\n",
       "Muerte - -> [*]\n",
       "@enduml\n",
       "\n",
       "PlantUML version 1.2020.18beta4(Unknown compile time)\n",
       "(GPL source distribution)\n",
       "Java Runtime: Java(TM) SE Runtime Environment\n",
       "JVM: Java HotSpot(TM) 64-Bit Server VM\n",
       "Default Encoding: UTF-8\n",
       "Language: en\n",
       "Country: US\n",
       "--></g></svg>"
      ],
      "text/plain": [
       "<IPython.core.display.SVG object>"
      ]
     },
     "execution_count": 9,
     "metadata": {},
     "output_type": "execute_result"
    }
   ],
   "source": [
    "%%plantuml \n",
    "@startuml\n",
    "[*] --> Nacimiento\n",
    "Nacimiento : sin preocupaciones\n",
    "Tropiezo: se lió parda\n",
    "Nacimiento --> Tropiezo : torpeza\n",
    "Tropiezo -> Muerte : SAMUR no llega a tiempo\n",
    "Muerte --> [*]\n",
    "@enduml"
   ]
  },
  {
   "cell_type": "markdown",
   "metadata": {},
   "source": [
    "Se pueden tener además estados compuestos. Completando el ejemplo anterior con un estado compuesto nos quedaría algo como lo siguiente:"
   ]
  },
  {
   "cell_type": "code",
   "execution_count": 10,
   "metadata": {},
   "outputs": [
    {
     "data": {
      "image/svg+xml": [
       "<svg contentScriptType=\"application/ecmascript\" contentStyleType=\"text/css\" height=\"563px\" preserveAspectRatio=\"none\" style=\"width:510px;height:563px;\" version=\"1.1\" viewBox=\"0 0 510 563\" width=\"510px\" xmlns=\"http://www.w3.org/2000/svg\" xmlns:xlink=\"http://www.w3.org/1999/xlink\" zoomAndPan=\"magnify\"><defs><filter height=\"300%\" id=\"f1vbvizy0214fy\" width=\"300%\" x=\"-1\" y=\"-1\"><feGaussianBlur result=\"blurOut\" stdDeviation=\"2.0\"/><feColorMatrix in=\"blurOut\" result=\"blurOut2\" type=\"matrix\" values=\"0 0 0 0 0 0 0 0 0 0 0 0 0 0 0 0 0 0 .4 0\"/><feOffset dx=\"4.0\" dy=\"4.0\" in=\"blurOut2\" result=\"blurOut3\"/><feBlend in=\"SourceGraphic\" in2=\"blurOut3\" mode=\"normal\"/></filter></defs><g><!--MD5=[ee873b70b9bbab7d744653cbbdc2994b]\n",
       "cluster Tropiezo--><rect fill=\"#FEFECE\" filter=\"url(#f1vbvizy0214fy)\" height=\"136\" rx=\"12.5\" ry=\"12.5\" style=\"stroke: #A80036; stroke-width: 1.5;\" width=\"276\" x=\"217.5\" y=\"208\"/><rect fill=\"#FFFFFF\" height=\"103.7031\" rx=\"12.5\" ry=\"12.5\" style=\"stroke: #FFFFFF; stroke-width: 1.0;\" width=\"270\" x=\"220.5\" y=\"237.2969\"/><line style=\"stroke: #A80036; stroke-width: 1.5;\" x1=\"217.5\" x2=\"493.5\" y1=\"234.2969\" y2=\"234.2969\"/><text fill=\"#000000\" font-family=\"sans-serif\" font-size=\"14\" lengthAdjust=\"spacingAndGlyphs\" textLength=\"64\" x=\"323.5\" y=\"224.9951\">Tropiezo</text><g id=\"Tropiezo.Agilidad\"><rect fill=\"#FEFECE\" filter=\"url(#f1vbvizy0214fy)\" height=\"50.2656\" rx=\"12.5\" ry=\"12.5\" style=\"stroke: #A80036; stroke-width: 1.5;\" width=\"82\" x=\"387.5\" y=\"270\"/><line style=\"stroke: #A80036; stroke-width: 1.5;\" x1=\"387.5\" x2=\"469.5\" y1=\"296.2969\" y2=\"296.2969\"/><text fill=\"#000000\" font-family=\"sans-serif\" font-size=\"14\" lengthAdjust=\"spacingAndGlyphs\" textLength=\"57\" x=\"400\" y=\"287.9951\">Agilidad</text><text fill=\"#000000\" font-family=\"sans-serif\" font-size=\"12\" lengthAdjust=\"spacingAndGlyphs\" textLength=\"62\" x=\"392.5\" y=\"312.4355\">lo esquiva</text></g><g id=\"Tropiezo.Torpeza\"><rect fill=\"#FEFECE\" filter=\"url(#f1vbvizy0214fy)\" height=\"50.2656\" rx=\"12.5\" ry=\"12.5\" style=\"stroke: #A80036; stroke-width: 1.5;\" width=\"92\" x=\"260.5\" y=\"270\"/><line style=\"stroke: #A80036; stroke-width: 1.5;\" x1=\"260.5\" x2=\"352.5\" y1=\"296.2969\" y2=\"296.2969\"/><text fill=\"#000000\" font-family=\"sans-serif\" font-size=\"14\" lengthAdjust=\"spacingAndGlyphs\" textLength=\"59\" x=\"277\" y=\"287.9951\">Torpeza</text><text fill=\"#000000\" font-family=\"sans-serif\" font-size=\"12\" lengthAdjust=\"spacingAndGlyphs\" textLength=\"72\" x=\"265.5\" y=\"312.4355\">se lio parda</text></g><ellipse cx=\"300.5\" cy=\"16\" fill=\"#000000\" filter=\"url(#f1vbvizy0214fy)\" rx=\"10\" ry=\"10\" style=\"stroke: none; stroke-width: 1.0;\"/><g id=\"Nacimiento\"><rect fill=\"#FEFECE\" filter=\"url(#f1vbvizy0214fy)\" height=\"50.2656\" rx=\"12.5\" ry=\"12.5\" style=\"stroke: #A80036; stroke-width: 1.5;\" width=\"139\" x=\"231\" y=\"87\"/><line style=\"stroke: #A80036; stroke-width: 1.5;\" x1=\"231\" x2=\"370\" y1=\"113.2969\" y2=\"113.2969\"/><text fill=\"#000000\" font-family=\"sans-serif\" font-size=\"14\" lengthAdjust=\"spacingAndGlyphs\" textLength=\"82\" x=\"259.5\" y=\"104.9951\">Nacimiento</text><text fill=\"#000000\" font-family=\"sans-serif\" font-size=\"12\" lengthAdjust=\"spacingAndGlyphs\" textLength=\"119\" x=\"236\" y=\"129.4355\">sin preocupaciones</text></g><g id=\"Vida\"><rect fill=\"#FEFECE\" filter=\"url(#f1vbvizy0214fy)\" height=\"50\" rx=\"12.5\" ry=\"12.5\" style=\"stroke: #A80036; stroke-width: 1.5;\" width=\"51\" x=\"7\" y=\"270\"/><line style=\"stroke: #A80036; stroke-width: 1.5;\" x1=\"7\" x2=\"58\" y1=\"296.2969\" y2=\"296.2969\"/><text fill=\"#000000\" font-family=\"sans-serif\" font-size=\"14\" lengthAdjust=\"spacingAndGlyphs\" textLength=\"31\" x=\"17\" y=\"287.9951\">Vida</text></g><g id=\"Muerte\"><rect fill=\"#FEFECE\" filter=\"url(#f1vbvizy0214fy)\" height=\"50\" rx=\"12.5\" ry=\"12.5\" style=\"stroke: #A80036; stroke-width: 1.5;\" width=\"71\" x=\"161\" y=\"415\"/><line style=\"stroke: #A80036; stroke-width: 1.5;\" x1=\"161\" x2=\"232\" y1=\"441.2969\" y2=\"441.2969\"/><text fill=\"#000000\" font-family=\"sans-serif\" font-size=\"14\" lengthAdjust=\"spacingAndGlyphs\" textLength=\"51\" x=\"171\" y=\"432.9951\">Muerte</text></g><ellipse cx=\"196.5\" cy=\"536\" fill=\"none\" filter=\"url(#f1vbvizy0214fy)\" rx=\"10\" ry=\"10\" style=\"stroke: #000000; stroke-width: 1.0;\"/><ellipse cx=\"197\" cy=\"536.5\" fill=\"#000000\" rx=\"6\" ry=\"6\" style=\"stroke: none; stroke-width: 1.0;\"/><!--MD5=[0f59990dfa60aeea280648e3fbed20ca]\n",
       "link *start to Nacimiento--><path d=\"M300.5,26.013 C300.5,38.698 300.5,62.409 300.5,81.57 \" fill=\"none\" id=\"*start-to-Nacimiento\" style=\"stroke: #A80036; stroke-width: 1.0;\"/><polygon fill=\"#A80036\" points=\"300.5,86.84,304.5,77.84,300.5,81.84,296.5,77.84,300.5,86.84\" style=\"stroke: #A80036; stroke-width: 1.0;\"/><!--MD5=[bc92e8e58b6d95b75744ca2f732f9df0]\n",
       "link Nacimiento to Tropiezo--><path d=\"M291.728,137.214 C285.277,152.249 275.235,171.097 261.5,184 C255.414,189.717 249.604,185.391 244.5,192 C241.0321,196.491 238.13,201.4211 235.7069,206.6143 C235.5555,206.9389 235.4059,207.2645 235.2582,207.5911 \" fill=\"none\" id=\"Nacimiento-to-Tropiezo\" style=\"stroke: #A80036; stroke-width: 1.0;\"/><polygon fill=\"#A80036\" points=\"235.2582,207.5911,242.6118,201.0394,237.3188,203.0354,235.3228,197.7424,235.2582,207.5911\" style=\"stroke: #A80036; stroke-width: 1.0;\"/><text fill=\"#000000\" font-family=\"sans-serif\" font-size=\"13\" lengthAdjust=\"spacingAndGlyphs\" textLength=\"49\" x=\"277.5\" y=\"180.0669\">torpeza</text><!--MD5=[c6c648b021a97faa3bd4c219858a9614]\n",
       "link Agilidad to Vida--><path d=\"M422.034,269.641 C414.286,245.136 398.673,209.389 370.5,193 C308.649,157.019 278.625,174.508 209.5,193 C153.102,208.087 96.0508,245.945 62.5045,271.052 \" fill=\"none\" id=\"Agilidad-to-Vida\" style=\"stroke: #A80036; stroke-width: 1.0;\"/><polygon fill=\"#A80036\" points=\"58.1303,274.353,67.7237,272.1245,62.1214,271.3411,62.9047,265.7388,58.1303,274.353\" style=\"stroke: #A80036; stroke-width: 1.0;\"/><text fill=\"#000000\" font-family=\"sans-serif\" font-size=\"13\" lengthAdjust=\"spacingAndGlyphs\" textLength=\"53\" x=\"59\" y=\"180.0669\">felicidad</text><!--MD5=[b123492ba0d7d9c53a1138535c9af818]\n",
       "link Torpeza to Muerte--><path d=\"M287.84,320.258 C268.64,345.219 238.744,384.083 218.427,410.495 \" fill=\"none\" id=\"Torpeza-to-Muerte\" style=\"stroke: #A80036; stroke-width: 1.0;\"/><polygon fill=\"#A80036\" points=\"215.252,414.623,223.9101,409.9285,218.3007,410.66,217.5692,405.0506,215.252,414.623\" style=\"stroke: #A80036; stroke-width: 1.0;\"/><text fill=\"#000000\" font-family=\"sans-serif\" font-size=\"13\" lengthAdjust=\"spacingAndGlyphs\" textLength=\"160\" x=\"249.5\" y=\"381.0669\">SAMUR no llega a tiempo</text><!--MD5=[277089f51ac37d776a991d4d4af179e1]\n",
       "link Torpeza to Vida--><path d=\"M301.976,269.77 C296.113,245.365 283.276,209.695 256.5,193 C238.774,181.948 229.679,187.602 209.5,193 C153.102,208.087 96.0508,245.945 62.5045,271.052 \" fill=\"none\" id=\"Torpeza-to-Vida\" style=\"stroke: #A80036; stroke-width: 1.0;\"/><polygon fill=\"#A80036\" points=\"58.1303,274.353,67.7237,272.1245,62.1214,271.3411,62.9047,265.7388,58.1303,274.353\" style=\"stroke: #A80036; stroke-width: 1.0;\"/><text fill=\"#000000\" font-family=\"sans-serif\" font-size=\"13\" lengthAdjust=\"spacingAndGlyphs\" textLength=\"140\" x=\"119.5\" y=\"180.0669\">SAMUR llega a tiempo</text><!--MD5=[18f4d23ce6a9ad9e03e1d30da88afb5a]\n",
       "link Vida to Muerte--><path d=\"M58.125,318.344 C86.9215,343.453 133.696,384.238 164.777,411.339 \" fill=\"none\" id=\"Vida-to-Muerte\" style=\"stroke: #A80036; stroke-width: 1.0;\"/><polygon fill=\"#A80036\" points=\"168.865,414.904,164.7119,405.9736,165.097,411.6173,159.4533,412.0024,168.865,414.904\" style=\"stroke: #A80036; stroke-width: 1.0;\"/><!--MD5=[7a3e41aea2c50791f2115171b9681cb6]\n",
       "link Muerte to *end--><path d=\"M196.5,465.2073 C196.5,482.8423 196.5,506.1261 196.5,520.8351 \" fill=\"none\" id=\"Muerte-to-*end\" style=\"stroke: #A80036; stroke-width: 1.0;\"/><polygon fill=\"#A80036\" points=\"196.5,525.8399,200.5,516.8399,196.5,520.8399,192.5,516.8399,196.5,525.8399\" style=\"stroke: #A80036; stroke-width: 1.0;\"/><!--MD5=[4c4158cb254eee1ed141f19a17832f53]\n",
       "@startuml\n",
       "[*] - -> Nacimiento\n",
       "Nacimiento : sin preocupaciones\n",
       "state Tropiezo {\n",
       "     Agilidad: lo esquiva\n",
       "     Torpeza: se lio parda\n",
       "}\n",
       "Nacimiento - -> Tropiezo : torpeza\n",
       "Agilidad -> Vida : felicidad\n",
       "Torpeza -> Muerte : SAMUR no llega a tiempo\n",
       "Torpeza -> Vida : SAMUR llega a tiempo\n",
       "Vida - -> Muerte\n",
       "Muerte - -> [*]\n",
       "@enduml\n",
       "\n",
       "PlantUML version 1.2020.18beta4(Unknown compile time)\n",
       "(GPL source distribution)\n",
       "Java Runtime: Java(TM) SE Runtime Environment\n",
       "JVM: Java HotSpot(TM) 64-Bit Server VM\n",
       "Default Encoding: UTF-8\n",
       "Language: en\n",
       "Country: US\n",
       "--></g></svg>"
      ],
      "text/plain": [
       "<IPython.core.display.SVG object>"
      ]
     },
     "execution_count": 10,
     "metadata": {},
     "output_type": "execute_result"
    }
   ],
   "source": [
    "%%plantuml \n",
    "@startuml\n",
    "[*] --> Nacimiento\n",
    "Nacimiento : sin preocupaciones\n",
    "state Tropiezo {\n",
    "     Agilidad: lo esquiva\n",
    "     Torpeza: se lio parda\n",
    "}\n",
    "Nacimiento --> Tropiezo : torpeza\n",
    "Agilidad -> Vida : felicidad\n",
    "Torpeza -> Muerte : SAMUR no llega a tiempo\n",
    "Torpeza -> Vida : SAMUR llega a tiempo\n",
    "Vida --> Muerte\n",
    "Muerte --> [*]\n",
    "@enduml"
   ]
  },
  {
   "cell_type": "markdown",
   "metadata": {},
   "source": [
    "A grandes rasgos es todo para este tipo de diagramas. Señalar que las flechas de transiciones entre estados se adaptan bastante bien a los elementos con los que puedan colisionar."
   ]
  },
  {
   "cell_type": "markdown",
   "metadata": {},
   "source": [
    "## Otros diagramas\n",
    "\n",
    "### Agrupando componentes"
   ]
  },
  {
   "cell_type": "code",
   "execution_count": 11,
   "metadata": {},
   "outputs": [
    {
     "data": {
      "image/svg+xml": [
       "<svg contentScriptType=\"application/ecmascript\" contentStyleType=\"text/css\" height=\"565px\" preserveAspectRatio=\"none\" style=\"width:529px;height:565px;\" version=\"1.1\" viewBox=\"0 0 529 565\" width=\"529px\" xmlns=\"http://www.w3.org/2000/svg\" xmlns:xlink=\"http://www.w3.org/1999/xlink\" zoomAndPan=\"magnify\"><defs><filter height=\"300%\" id=\"fhl9ccl381i8n\" width=\"300%\" x=\"-1\" y=\"-1\"><feGaussianBlur result=\"blurOut\" stdDeviation=\"2.0\"/><feColorMatrix in=\"blurOut\" result=\"blurOut2\" type=\"matrix\" values=\"0 0 0 0 0 0 0 0 0 0 0 0 0 0 0 0 0 0 .4 0\"/><feOffset dx=\"4.0\" dy=\"4.0\" in=\"blurOut2\" result=\"blurOut3\"/><feBlend in=\"SourceGraphic\" in2=\"blurOut3\" mode=\"normal\"/></filter></defs><g><!--MD5=[262aabfe314dcb38308ea550cce12173]\n",
       "cluster Some Group--><polygon fill=\"#FFFFFF\" filter=\"url(#fhl9ccl381i8n)\" points=\"16,6,120,6,127,28.2969,488,28.2969,488,103,16,103,16,6\" style=\"stroke: #000000; stroke-width: 1.5;\"/><line style=\"stroke: #000000; stroke-width: 1.5;\" x1=\"16\" x2=\"127\" y1=\"28.2969\" y2=\"28.2969\"/><text fill=\"#000000\" font-family=\"sans-serif\" font-size=\"14\" font-weight=\"bold\" lengthAdjust=\"spacingAndGlyphs\" textLength=\"98\" x=\"20\" y=\"20.9951\">Some Group</text><!--MD5=[a809f7b457cbc4d947186a4bb863b06b]\n",
       "cluster Other Groups--><polygon fill=\"#FFFFFF\" filter=\"url(#fhl9ccl381i8n)\" points=\"50,137,60,127,319,127,319,219,309,229,50,229,50,137\" style=\"stroke: #000000; stroke-width: 1.5;\"/><line style=\"stroke: #000000; stroke-width: 1.5;\" x1=\"309\" x2=\"319\" y1=\"137\" y2=\"127\"/><line style=\"stroke: #000000; stroke-width: 1.5;\" x1=\"50\" x2=\"309\" y1=\"137\" y2=\"137\"/><line style=\"stroke: #000000; stroke-width: 1.5;\" x1=\"309\" x2=\"309\" y1=\"137\" y2=\"229\"/><text fill=\"#000000\" font-family=\"sans-serif\" font-size=\"14\" font-weight=\"bold\" lengthAdjust=\"spacingAndGlyphs\" textLength=\"109\" x=\"126\" y=\"152.9951\">Other Groups</text><path d=\"M351.8647,159.5676 C355.0864,153.6584 359.2459,152.4538 363.6322,158.413 C366.4061,152.8469 371.5107,153.2402 374.7408,157.9184 C378.0659,152.7551 382.6274,152.3311 386.0174,157.8499 C388.3786,152.155 392.5751,151.2379 396.8058,155.9031 C399.3718,150.8154 402.8914,150.3978 406.6964,154.5813 C410.2874,149.205 414.6602,148.1291 418.9905,153.7552 C423.1571,149.8941 427.0798,150.3987 428.6141,156.3395 C431.7567,150.688 436.8449,150.8694 440.5099,155.7494 C444.5408,150.298 449.1211,151.3466 452.0496,156.9049 C455.4354,152.5253 459.4669,152.6871 462.0405,157.763 C466.29,152.6298 470.8856,153.5767 474.037,159.0097 C477.2544,153.2919 481.8099,154.6547 484.9403,159.1029 C493.9524,161.7833 494.5176,169.2605 487.7706,174.7851 C497.5067,177.0423 500.5352,184.3328 493.2749,192.0185 C498.1892,198.0651 497.9073,204.1642 489.2264,206.3776 C496.3816,213.1098 492.561,220.4214 484.2688,222.3628 C481.2399,228.0137 476.7134,227.7333 472.8064,223.3677 C470.5198,229.4923 466.2599,230.1836 462.1671,225.0791 C458.5497,230.3795 453.0619,230.9078 450.1846,224.3324 C448.6172,228.9027 445.0552,229.9751 441.1842,227.1273 C438.1733,233.1196 433.5781,233.5296 429.364,228.4067 C426.333,234.1021 421.4348,234.4225 417.9245,228.8953 C414.8925,233.8161 410.2741,232.4219 408.1668,227.936 C403.3211,233.7492 397.8366,232.8023 395.2596,225.6735 C391.8945,231.0299 387.7328,230.4877 384.2835,225.7652 C380.7433,230.2839 377.0948,229.6254 374.4319,224.8366 C370.2976,229.4933 366.9484,229.2882 363.6889,223.901 C359.4247,227.8355 355.5981,228.0134 352.8853,222.1845 C345.3496,218.6226 343.2327,211.235 350.8334,205.7799 C344.5832,201.7734 343.0239,195.3753 350.5967,191.1452 C344.1257,185.9982 345.4113,179.9169 352.0578,176.0385 C344.4108,171.102 345.2795,164.671 351.8647,159.5676 \" fill=\"#FFFFFF\" filter=\"url(#fhl9ccl381i8n)\" style=\"stroke: #000000; stroke-width: 1.5;\"/><!--MD5=[a8e31809c94bd3920922c17a126bb0b3]\n",
       "cluster MySql--><path d=\"M317,263 C317,253 417,253 417,253 C417,253 517,253 517,263 L517,543 C517,553 417,553 417,553 C417,553 317,553 317,543 L317,263 \" fill=\"#FFFFFF\" filter=\"url(#fhl9ccl381i8n)\" style=\"stroke: #000000; stroke-width: 1.5;\"/><path d=\"M317,263 C317,273 417,273 417,273 C417,273 517,273 517,263 \" fill=\"none\" style=\"stroke: #000000; stroke-width: 1.5;\"/><text fill=\"#000000\" font-family=\"sans-serif\" font-size=\"14\" font-weight=\"bold\" lengthAdjust=\"spacingAndGlyphs\" textLength=\"48\" x=\"393\" y=\"287.9951\">MySql</text><!--MD5=[57a7dd60b0970f41fd8892a58576fbc8]\n",
       "cluster This is my folder--><polygon fill=\"#FFFFFF\" filter=\"url(#fhl9ccl381i8n)\" points=\"341,311,483,311,490,333.2969,493,333.2969,493,408,341,408,341,311\" style=\"stroke: #000000; stroke-width: 1.5;\"/><line style=\"stroke: #000000; stroke-width: 1.5;\" x1=\"341\" x2=\"490\" y1=\"333.2969\" y2=\"333.2969\"/><text fill=\"#000000\" font-family=\"sans-serif\" font-size=\"14\" font-weight=\"bold\" lengthAdjust=\"spacingAndGlyphs\" textLength=\"136\" x=\"345\" y=\"325.9951\">This is my folder</text><!--MD5=[b098bf3b49ab5940c6091a421f0675e2]\n",
       "cluster Foo--><rect fill=\"#FFFFFF\" filter=\"url(#fhl9ccl381i8n)\" height=\"97\" style=\"stroke: #000000; stroke-width: 1.5;\" width=\"130\" x=\"352\" y=\"432\"/><path d=\"M391,432 L391,441.2969 L381,451.2969 L352,451.2969 \" fill=\"none\" style=\"stroke: #000000; stroke-width: 1.5;\"/><text fill=\"#000000\" font-family=\"sans-serif\" font-size=\"14\" font-weight=\"bold\" lengthAdjust=\"spacingAndGlyphs\" textLength=\"29\" x=\"355\" y=\"445.9951\">Foo</text><!--MD5=[96f7e1299d4a43069e6ed32352fcac20]\n",
       "entity HTTP--><ellipse cx=\"238\" cy=\"64\" fill=\"#FEFECE\" filter=\"url(#fhl9ccl381i8n)\" rx=\"8\" ry=\"8\" style=\"stroke: #A80036; stroke-width: 1.5;\"/><text fill=\"#000000\" font-family=\"sans-serif\" font-size=\"14\" lengthAdjust=\"spacingAndGlyphs\" textLength=\"37\" x=\"219.5\" y=\"93.9951\">HTTP</text><!--MD5=[cbd7cda55f2530e2efe43ec72c097853]\n",
       "entity First Component--><rect fill=\"#FEFECE\" filter=\"url(#fhl9ccl381i8n)\" height=\"46.2969\" style=\"stroke: #A80036; stroke-width: 1.5;\" width=\"162\" x=\"32\" y=\"41\"/><rect fill=\"#FEFECE\" height=\"10\" style=\"stroke: #A80036; stroke-width: 1.5;\" width=\"15\" x=\"174\" y=\"46\"/><rect fill=\"#FEFECE\" height=\"2\" style=\"stroke: #A80036; stroke-width: 1.5;\" width=\"4\" x=\"172\" y=\"48\"/><rect fill=\"#FEFECE\" height=\"2\" style=\"stroke: #A80036; stroke-width: 1.5;\" width=\"4\" x=\"172\" y=\"52\"/><text fill=\"#000000\" font-family=\"sans-serif\" font-size=\"14\" lengthAdjust=\"spacingAndGlyphs\" textLength=\"122\" x=\"47\" y=\"73.9951\">First Component</text><!--MD5=[b9d11f23832c1491231c5b33e55ab8c6]\n",
       "entity Another Component--><rect fill=\"#FEFECE\" filter=\"url(#fhl9ccl381i8n)\" height=\"46.2969\" style=\"stroke: #A80036; stroke-width: 1.5;\" width=\"189\" x=\"282.5\" y=\"41\"/><rect fill=\"#FEFECE\" height=\"10\" style=\"stroke: #A80036; stroke-width: 1.5;\" width=\"15\" x=\"451.5\" y=\"46\"/><rect fill=\"#FEFECE\" height=\"2\" style=\"stroke: #A80036; stroke-width: 1.5;\" width=\"4\" x=\"449.5\" y=\"48\"/><rect fill=\"#FEFECE\" height=\"2\" style=\"stroke: #A80036; stroke-width: 1.5;\" width=\"4\" x=\"449.5\" y=\"52\"/><text fill=\"#000000\" font-family=\"sans-serif\" font-size=\"14\" lengthAdjust=\"spacingAndGlyphs\" textLength=\"149\" x=\"297.5\" y=\"73.9951\">Another Component</text><!--MD5=[76af18d92d7d7c0f7ebd8f4f605ac5aa]\n",
       "entity FTP--><ellipse cx=\"75\" cy=\"190\" fill=\"#FEFECE\" filter=\"url(#fhl9ccl381i8n)\" rx=\"8\" ry=\"8\" style=\"stroke: #A80036; stroke-width: 1.5;\"/><text fill=\"#000000\" font-family=\"sans-serif\" font-size=\"14\" lengthAdjust=\"spacingAndGlyphs\" textLength=\"26\" x=\"62\" y=\"219.9951\">FTP</text><!--MD5=[0e2cc1aee2c7f52697e111b4fb84546c]\n",
       "entity Second Component--><rect fill=\"#FEFECE\" filter=\"url(#fhl9ccl381i8n)\" height=\"46.2969\" style=\"stroke: #A80036; stroke-width: 1.5;\" width=\"183\" x=\"119.5\" y=\"167\"/><rect fill=\"#FEFECE\" height=\"10\" style=\"stroke: #A80036; stroke-width: 1.5;\" width=\"15\" x=\"282.5\" y=\"172\"/><rect fill=\"#FEFECE\" height=\"2\" style=\"stroke: #A80036; stroke-width: 1.5;\" width=\"4\" x=\"280.5\" y=\"174\"/><rect fill=\"#FEFECE\" height=\"2\" style=\"stroke: #A80036; stroke-width: 1.5;\" width=\"4\" x=\"280.5\" y=\"178\"/><text fill=\"#000000\" font-family=\"sans-serif\" font-size=\"14\" lengthAdjust=\"spacingAndGlyphs\" textLength=\"143\" x=\"134.5\" y=\"199.9951\">Second Component</text><!--MD5=[243c1e580c31013c48b02624e18b25a7]\n",
       "entity Example 1--><rect fill=\"#FEFECE\" filter=\"url(#fhl9ccl381i8n)\" height=\"46.2969\" style=\"stroke: #A80036; stroke-width: 1.5;\" width=\"115\" x=\"359.5\" y=\"167\"/><rect fill=\"#FEFECE\" height=\"10\" style=\"stroke: #A80036; stroke-width: 1.5;\" width=\"15\" x=\"454.5\" y=\"172\"/><rect fill=\"#FEFECE\" height=\"2\" style=\"stroke: #A80036; stroke-width: 1.5;\" width=\"4\" x=\"452.5\" y=\"174\"/><rect fill=\"#FEFECE\" height=\"2\" style=\"stroke: #A80036; stroke-width: 1.5;\" width=\"4\" x=\"452.5\" y=\"178\"/><text fill=\"#000000\" font-family=\"sans-serif\" font-size=\"14\" lengthAdjust=\"spacingAndGlyphs\" textLength=\"75\" x=\"374.5\" y=\"199.9951\">Example 1</text><!--MD5=[3e0e08c92570480402984701ab5a6d2d]\n",
       "entity Folder 3--><rect fill=\"#FEFECE\" filter=\"url(#fhl9ccl381i8n)\" height=\"46.2969\" style=\"stroke: #A80036; stroke-width: 1.5;\" width=\"98\" x=\"368\" y=\"346\"/><rect fill=\"#FEFECE\" height=\"10\" style=\"stroke: #A80036; stroke-width: 1.5;\" width=\"15\" x=\"446\" y=\"351\"/><rect fill=\"#FEFECE\" height=\"2\" style=\"stroke: #A80036; stroke-width: 1.5;\" width=\"4\" x=\"444\" y=\"353\"/><rect fill=\"#FEFECE\" height=\"2\" style=\"stroke: #A80036; stroke-width: 1.5;\" width=\"4\" x=\"444\" y=\"357\"/><text fill=\"#000000\" font-family=\"sans-serif\" font-size=\"14\" lengthAdjust=\"spacingAndGlyphs\" textLength=\"58\" x=\"383\" y=\"378.9951\">Folder 3</text><!--MD5=[63877ed85df621d134a6c80fb52dad56]\n",
       "entity Frame 4--><rect fill=\"#FEFECE\" filter=\"url(#fhl9ccl381i8n)\" height=\"46.2969\" style=\"stroke: #A80036; stroke-width: 1.5;\" width=\"97\" x=\"368.5\" y=\"467\"/><rect fill=\"#FEFECE\" height=\"10\" style=\"stroke: #A80036; stroke-width: 1.5;\" width=\"15\" x=\"445.5\" y=\"472\"/><rect fill=\"#FEFECE\" height=\"2\" style=\"stroke: #A80036; stroke-width: 1.5;\" width=\"4\" x=\"443.5\" y=\"474\"/><rect fill=\"#FEFECE\" height=\"2\" style=\"stroke: #A80036; stroke-width: 1.5;\" width=\"4\" x=\"443.5\" y=\"478\"/><text fill=\"#000000\" font-family=\"sans-serif\" font-size=\"14\" lengthAdjust=\"spacingAndGlyphs\" textLength=\"57\" x=\"383.5\" y=\"499.9951\">Frame 4</text><!--MD5=[46d996859f59e5baf77956ce93023cee]\n",
       "link HTTP to First Component--><path d=\"M228.73,64 C217.172,64 205.613,64 194.055,64 \" fill=\"none\" id=\"HTTP-First Component\" style=\"stroke: #A80036; stroke-width: 1.0;\"/><!--MD5=[1966a42bb49d59057147dbda06282f4b]\n",
       "link FTP to Second Component--><path d=\"M84.0312,190 C95.7692,190 107.507,190 119.245,190 \" fill=\"none\" id=\"FTP-Second Component\" style=\"stroke: #A80036; stroke-width: 1.0;\"/><!--MD5=[d3aefbd8005e27b21e7ce98ddd948193]\n",
       "link First Component to FTP--><path d=\"M106.206,87.169 C98.2949,112.985 85.487,154.779 79.0158,175.896 \" fill=\"none\" id=\"First Component-to-FTP\" style=\"stroke: #A80036; stroke-width: 1.0;\"/><polygon fill=\"#A80036\" points=\"77.514,180.797,83.9765,173.3649,78.9797,176.0166,76.3279,171.0198,77.514,180.797\" style=\"stroke: #A80036; stroke-width: 1.0;\"/><!--MD5=[efc1ffe8b578a0fb156c7bce303319bb]\n",
       "link Another Component to Example 1--><path d=\"M384.151,87.169 C390.878,108.023 400.969,139.302 408.189,161.687 \" fill=\"none\" id=\"Another Component-to-Example 1\" style=\"stroke: #A80036; stroke-width: 1.0;\"/><polygon fill=\"#A80036\" points=\"409.776,166.605,410.8185,156.8115,408.2404,161.8467,403.2052,159.2685,409.776,166.605\" style=\"stroke: #A80036; stroke-width: 1.0;\"/><!--MD5=[7ec8393a78a133520e8846dd05a7857a]\n",
       "link Example 1 to Folder 3--><path d=\"M417,213.059 C417,245.343 417,305.423 417,340.53 \" fill=\"none\" id=\"Example 1-to-Folder 3\" style=\"stroke: #A80036; stroke-width: 1.0;\"/><polygon fill=\"#A80036\" points=\"417,345.941,421,336.941,417,340.941,413,336.941,417,345.941\" style=\"stroke: #A80036; stroke-width: 1.0;\"/><!--MD5=[b96c7096199393c1414a8b4e9ed2c30f]\n",
       "link Folder 3 to Frame 4--><path d=\"M417,392.104 C417,411.685 417,440.351 417,461.426 \" fill=\"none\" id=\"Folder 3-to-Frame 4\" style=\"stroke: #A80036; stroke-width: 1.0;\"/><polygon fill=\"#A80036\" points=\"417,466.61,421,457.61,417,461.61,413,457.61,417,466.61\" style=\"stroke: #A80036; stroke-width: 1.0;\"/><!--MD5=[e4673947c0c1148f55f99abc5261ff18]\n",
       "@startuml\n",
       "package \"Some Group\" {\n",
       "  HTTP - [First Component]\n",
       "  [Another Component]\n",
       "}\n",
       "\n",
       "node \"Other Groups\" {\n",
       "  FTP - [Second Component]\n",
       "  [First Component] - -> FTP\n",
       "}\n",
       "\n",
       "cloud {\n",
       "  [Example 1]\n",
       "}\n",
       "\n",
       "\n",
       "database \"MySql\" {\n",
       "  folder \"This is my folder\" {\n",
       "    [Folder 3]\n",
       "  }\n",
       "  frame \"Foo\" {\n",
       "    [Frame 4]\n",
       "  }\n",
       "}\n",
       "\n",
       "\n",
       "[Another Component] - -> [Example 1]\n",
       "[Example 1] - -> [Folder 3]\n",
       "[Folder 3] - -> [Frame 4]\n",
       "@enduml\n",
       "\n",
       "PlantUML version 1.2020.18beta4(Unknown compile time)\n",
       "(GPL source distribution)\n",
       "Java Runtime: Java(TM) SE Runtime Environment\n",
       "JVM: Java HotSpot(TM) 64-Bit Server VM\n",
       "Default Encoding: UTF-8\n",
       "Language: en\n",
       "Country: US\n",
       "--></g></svg>"
      ],
      "text/plain": [
       "<IPython.core.display.SVG object>"
      ]
     },
     "execution_count": 11,
     "metadata": {},
     "output_type": "execute_result"
    }
   ],
   "source": [
    "%%plantuml \n",
    "@startuml\n",
    "\n",
    "package \"Some Group\" {\n",
    "  HTTP - [First Component]\n",
    "  [Another Component]\n",
    "}\n",
    "\n",
    "node \"Other Groups\" {\n",
    "  FTP - [Second Component]\n",
    "  [First Component] --> FTP\n",
    "}\n",
    "\n",
    "cloud {\n",
    "  [Example 1]\n",
    "}\n",
    "\n",
    "\n",
    "database \"MySql\" {\n",
    "  folder \"This is my folder\" {\n",
    "    [Folder 3]\n",
    "  }\n",
    "  frame \"Foo\" {\n",
    "    [Frame 4]\n",
    "  }\n",
    "}\n",
    "\n",
    "\n",
    "[Another Component] --> [Example 1]\n",
    "[Example 1] --> [Folder 3]\n",
    "[Folder 3] --> [Frame 4]\n",
    "\n",
    "@enduml"
   ]
  }
 ],
 "metadata": {
  "kernelspec": {
   "display_name": "Python 3",
   "language": "python",
   "name": "python3"
  },
  "language_info": {
   "codemirror_mode": {
    "name": "ipython",
    "version": 3
   },
   "file_extension": ".py",
   "mimetype": "text/x-python",
   "name": "python",
   "nbconvert_exporter": "python",
   "pygments_lexer": "ipython3",
   "version": "3.7.3"
  },
  "latex_envs": {
   "LaTeX_envs_menu_present": true,
   "autoclose": false,
   "autocomplete": true,
   "bibliofile": "biblio.bib",
   "cite_by": "apalike",
   "current_citInitial": 1,
   "eqLabelWithNumbers": true,
   "eqNumInitial": 1,
   "hotkeys": {
    "equation": "Ctrl-E",
    "itemize": "Ctrl-I"
   },
   "labels_anchors": false,
   "latex_user_defs": false,
   "report_style_numbering": false,
   "user_envs_cfg": false
  }
 },
 "nbformat": 4,
 "nbformat_minor": 4
}

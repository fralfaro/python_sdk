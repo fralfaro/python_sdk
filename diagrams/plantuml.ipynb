{
 "cells": [
  {
   "cell_type": "markdown",
   "metadata": {},
   "source": [
    "# PlantUML\n",
    "\n",
    "## Introducción\n",
    "\n",
    "El modelado visual es una parte esencial del desarrollo de software. Ayuda a los equipos de desarrollo a comprender, comunicar y documentar sus diseños y arquitecturas de manera efectiva. Uno de los estándares más ampliamente utilizados para el modelado visual en el desarrollo de software es UML (Unified Modeling Language).\n",
    "\n",
    "**PlantUML** es una herramienta que simplifica la creación de diagramas UML y otros tipos de diagramas de modelado visual. Utiliza una sintaxis de marcado de texto simple y genera automáticamente diagramas visuales de alta calidad. En este artículo, exploraremos cómo utilizar PlantUML para crear diagramas efectivos y cómo puedes integrarlo en tus proyectos de Python y Jupyter Notebook.\n",
    "\n",
    "## Instalación de PlantUML\n",
    "\n",
    "Antes de comenzar, necesitamos instalar PlantUML. PlantUML se ejecuta en la máquina virtual de Java, por lo que debes asegurarte de tener Java instalado en tu sistema. Luego, puedes descargar la última versión desde el siguiente [enlace](https://plantuml.com/download).\n",
    "\n",
    "\n",
    "Además, necesitaremos Graphviz, una herramienta para la visualización de grafos que PlantUML utiliza para generar diagramas. Puedes descargar Graphviz desde [su sitio web oficial](https://www.graphviz.org/download/) e instalarlo en tu sistema."
   ]
  },
  {
   "cell_type": "markdown",
   "metadata": {},
   "source": [
    "## Creando Diagramas con PlantUML\n",
    "\n",
    "> **Nota**: Para estos ejemplos, utilizaremos [iPlantUML](https://github.com/jbn/iplantuml) para generar los diagramas de PlantUML en Jupyter Notebook.\n",
    "\n",
    "PlantUML utiliza una sintaxis basada en texto para definir diagramas. Puedes crear diagramas UML, diagramas de flujo, diagramas de secuencia y más utilizando esta sintaxis simple. Aquí hay un ejemplo de un diagrama de clases UML básico:"
   ]
  },
  {
   "cell_type": "code",
   "execution_count": 1,
   "metadata": {},
   "outputs": [],
   "source": [
    "import iplantuml"
   ]
  },
  {
   "cell_type": "code",
   "execution_count": 2,
   "metadata": {},
   "outputs": [
    {
     "data": {
      "image/svg+xml": [
       "<svg xmlns=\"http://www.w3.org/2000/svg\" xmlns:xlink=\"http://www.w3.org/1999/xlink\" contentStyleType=\"text/css\" height=\"235px\" preserveAspectRatio=\"none\" style=\"width:134px;height:235px;background:#FFFFFF;\" version=\"1.1\" viewBox=\"0 0 134 235\" width=\"134px\" zoomAndPan=\"magnify\"><defs/><g><!--class Car--><g id=\"elem_Car\"><rect codeLine=\"1\" fill=\"#F1F1F1\" height=\"113.1875\" id=\"Car\" rx=\"2.5\" ry=\"2.5\" style=\"stroke:#181818;stroke-width:0.5;\" width=\"120\" x=\"7\" y=\"7\"/><ellipse cx=\"50.8\" cy=\"23\" fill=\"#ADD1B2\" rx=\"11\" ry=\"11\" style=\"stroke:#181818;stroke-width:1.0;\"/><path d=\"M53.1438,18.6719 C52.2063,18.2344 51.6125,18.0938 50.7375,18.0938 C48.1125,18.0938 46.1125,20.1719 46.1125,22.8906 L46.1125,24.0156 C46.1125,26.5938 48.2219,28.4844 51.1125,28.4844 C52.3313,28.4844 53.4875,28.1875 54.2375,27.6406 C54.8156,27.2344 55.1438,26.7813 55.1438,26.3906 C55.1438,25.9375 54.7531,25.5469 54.2844,25.5469 C54.0656,25.5469 53.8625,25.625 53.675,25.8125 C53.2219,26.2969 53.2219,26.2969 53.0344,26.3906 C52.6125,26.6563 51.925,26.7813 51.1594,26.7813 C49.1125,26.7813 47.8156,25.6875 47.8156,23.9844 L47.8156,22.8906 C47.8156,21.1094 49.0656,19.7969 50.8,19.7969 C51.3781,19.7969 51.9875,19.9531 52.4563,20.2031 C52.9406,20.4844 53.1125,20.7031 53.2063,21.1094 C53.2688,21.5156 53.3,21.6406 53.4406,21.7656 C53.5813,21.9063 53.8156,22.0156 54.0344,22.0156 C54.3,22.0156 54.5656,21.875 54.7375,21.6563 C54.8469,21.5 54.8781,21.3125 54.8781,20.8906 L54.8781,19.4688 C54.8781,19.0313 54.8625,18.9063 54.7688,18.75 C54.6125,18.4844 54.3313,18.3438 54.0344,18.3438 C53.7375,18.3438 53.5344,18.4375 53.3156,18.75 L53.1438,18.6719 Z \" fill=\"#000000\"/><text fill=\"#000000\" font-family=\"sans-serif\" font-size=\"14\" lengthAdjust=\"spacing\" textLength=\"24\" x=\"71.2\" y=\"27.8467\">Car</text><line style=\"stroke:#181818;stroke-width:0.5;\" x1=\"8\" x2=\"126\" y1=\"39\" y2=\"39\"/><line style=\"stroke:#181818;stroke-width:0.5;\" x1=\"8\" x2=\"126\" y1=\"47\" y2=\"47\"/><ellipse cx=\"18\" cy=\"60.6484\" fill=\"#84BE84\" rx=\"3\" ry=\"3\" style=\"stroke:#038048;stroke-width:1.0;\"/><text fill=\"#000000\" font-family=\"sans-serif\" font-size=\"14\" lengthAdjust=\"spacing\" textLength=\"94\" x=\"27\" y=\"63.9951\">startEngine()</text><ellipse cx=\"18\" cy=\"76.9453\" fill=\"#84BE84\" rx=\"3\" ry=\"3\" style=\"stroke:#038048;stroke-width:1.0;\"/><text fill=\"#000000\" font-family=\"sans-serif\" font-size=\"14\" lengthAdjust=\"spacing\" textLength=\"92\" x=\"27\" y=\"80.292\">stopEngine()</text><ellipse cx=\"18\" cy=\"93.2422\" fill=\"#84BE84\" rx=\"3\" ry=\"3\" style=\"stroke:#038048;stroke-width:1.0;\"/><text fill=\"#000000\" font-family=\"sans-serif\" font-size=\"14\" lengthAdjust=\"spacing\" textLength=\"86\" x=\"27\" y=\"96.5889\">accelerate()</text><ellipse cx=\"18\" cy=\"109.5391\" fill=\"#84BE84\" rx=\"3\" ry=\"3\" style=\"stroke:#038048;stroke-width:1.0;\"/><text fill=\"#000000\" font-family=\"sans-serif\" font-size=\"14\" lengthAdjust=\"spacing\" textLength=\"52\" x=\"27\" y=\"112.8857\">brake()</text></g><!--class Engine--><g id=\"elem_Engine\"><rect fill=\"#F1F1F1\" height=\"48\" id=\"Engine\" rx=\"2.5\" ry=\"2.5\" style=\"stroke:#181818;stroke-width:0.5;\" width=\"81\" x=\"26.5\" y=\"180\"/><ellipse cx=\"41.5\" cy=\"196\" fill=\"#ADD1B2\" rx=\"11\" ry=\"11\" style=\"stroke:#181818;stroke-width:1.0;\"/><path d=\"M43.8438,191.6719 C42.9063,191.2344 42.3125,191.0938 41.4375,191.0938 C38.8125,191.0938 36.8125,193.1719 36.8125,195.8906 L36.8125,197.0156 C36.8125,199.5938 38.9219,201.4844 41.8125,201.4844 C43.0313,201.4844 44.1875,201.1875 44.9375,200.6406 C45.5156,200.2344 45.8438,199.7813 45.8438,199.3906 C45.8438,198.9375 45.4531,198.5469 44.9844,198.5469 C44.7656,198.5469 44.5625,198.625 44.375,198.8125 C43.9219,199.2969 43.9219,199.2969 43.7344,199.3906 C43.3125,199.6563 42.625,199.7813 41.8594,199.7813 C39.8125,199.7813 38.5156,198.6875 38.5156,196.9844 L38.5156,195.8906 C38.5156,194.1094 39.7656,192.7969 41.5,192.7969 C42.0781,192.7969 42.6875,192.9531 43.1563,193.2031 C43.6406,193.4844 43.8125,193.7031 43.9063,194.1094 C43.9688,194.5156 44,194.6406 44.1406,194.7656 C44.2813,194.9063 44.5156,195.0156 44.7344,195.0156 C45,195.0156 45.2656,194.875 45.4375,194.6563 C45.5469,194.5 45.5781,194.3125 45.5781,193.8906 L45.5781,192.4688 C45.5781,192.0313 45.5625,191.9063 45.4688,191.75 C45.3125,191.4844 45.0313,191.3438 44.7344,191.3438 C44.4375,191.3438 44.2344,191.4375 44.0156,191.75 L43.8438,191.6719 Z \" fill=\"#000000\"/><text fill=\"#000000\" font-family=\"sans-serif\" font-size=\"14\" lengthAdjust=\"spacing\" textLength=\"49\" x=\"55.5\" y=\"200.8467\">Engine</text><line style=\"stroke:#181818;stroke-width:0.5;\" x1=\"27.5\" x2=\"106.5\" y1=\"212\" y2=\"212\"/><line style=\"stroke:#181818;stroke-width:0.5;\" x1=\"27.5\" x2=\"106.5\" y1=\"220\" y2=\"220\"/></g><!--link Car to Engine--><g id=\"link_Car_Engine\"><path codeLine=\"7\" d=\"M67,120.035 C67,140.9568 67,157.6181 67,173.9619 \" fill=\"none\" id=\"Car-to-Engine\" style=\"stroke:#181818;stroke-width:1.0;\"/><polygon fill=\"#181818\" points=\"67,179.9619,71,170.9619,67,174.9619,63,170.9619,67,179.9619\" style=\"stroke:#181818;stroke-width:1.0;\"/></g><!--SRC=[Iyv9B2vMS4uiKgZcKb3GBYv9B2fnpKlFp4lLq8G8v1SWynEJarDpKeiIIw3yfAB4R12pbWjaXgwkdG94DG00]--></g></svg>"
      ],
      "text/plain": [
       "<IPython.core.display.SVG object>"
      ]
     },
     "execution_count": 2,
     "metadata": {},
     "output_type": "execute_result"
    }
   ],
   "source": [
    "%%plantuml \n",
    "@startuml\n",
    "class Car {\n",
    "  +startEngine()\n",
    "  +stopEngine()\n",
    "  +accelerate()\n",
    "  +brake()\n",
    "}\n",
    "Car --> Engine\n",
    "@enduml"
   ]
  },
  {
   "cell_type": "markdown",
   "metadata": {},
   "source": [
    "Este código define una clase `Car` con cuatro métodos y establece una relación con la clase `Engine`.\n",
    "\n",
    "Para generar un diagrama a partir de este código, puedes usar el comando `plantuml` desde la línea de comandos:\n",
    "\n",
    "```bash\n",
    "plantuml diagrama.clase.uml\n",
    "```\n",
    "\n",
    "Esto generará una imagen del diagrama UML en el archivo `diagrama.clase.png`.\n",
    "\n",
    "## Sintaxis Básica de PlantUML\n",
    "\n",
    "PlantUML ofrece una variedad de elementos de diagrama y relaciones que puedes utilizar en tus diagramas. Aquí hay algunos ejemplos de la sintaxis básica de PlantUML:\n",
    "\n",
    "### Clases y Objetos"
   ]
  },
  {
   "cell_type": "code",
   "execution_count": 3,
   "metadata": {},
   "outputs": [
    {
     "data": {
      "image/svg+xml": [
       "<svg xmlns=\"http://www.w3.org/2000/svg\" xmlns:xlink=\"http://www.w3.org/1999/xlink\" contentStyleType=\"text/css\" height=\"62px\" preserveAspectRatio=\"none\" style=\"width:164px;height:62px;background:#FFFFFF;\" version=\"1.1\" viewBox=\"0 0 164 62\" width=\"164px\" zoomAndPan=\"magnify\"><defs/><g><!--class Car--><g id=\"elem_Car\"><rect codeLine=\"1\" fill=\"#F1F1F1\" height=\"48\" id=\"Car\" rx=\"2.5\" ry=\"2.5\" style=\"stroke:#181818;stroke-width:0.5;\" width=\"56\" x=\"7\" y=\"7\"/><ellipse cx=\"22\" cy=\"23\" fill=\"#ADD1B2\" rx=\"11\" ry=\"11\" style=\"stroke:#181818;stroke-width:1.0;\"/><path d=\"M24.3438,18.6719 C23.4063,18.2344 22.8125,18.0938 21.9375,18.0938 C19.3125,18.0938 17.3125,20.1719 17.3125,22.8906 L17.3125,24.0156 C17.3125,26.5938 19.4219,28.4844 22.3125,28.4844 C23.5313,28.4844 24.6875,28.1875 25.4375,27.6406 C26.0156,27.2344 26.3438,26.7813 26.3438,26.3906 C26.3438,25.9375 25.9531,25.5469 25.4844,25.5469 C25.2656,25.5469 25.0625,25.625 24.875,25.8125 C24.4219,26.2969 24.4219,26.2969 24.2344,26.3906 C23.8125,26.6563 23.125,26.7813 22.3594,26.7813 C20.3125,26.7813 19.0156,25.6875 19.0156,23.9844 L19.0156,22.8906 C19.0156,21.1094 20.2656,19.7969 22,19.7969 C22.5781,19.7969 23.1875,19.9531 23.6563,20.2031 C24.1406,20.4844 24.3125,20.7031 24.4063,21.1094 C24.4688,21.5156 24.5,21.6406 24.6406,21.7656 C24.7813,21.9063 25.0156,22.0156 25.2344,22.0156 C25.5,22.0156 25.7656,21.875 25.9375,21.6563 C26.0469,21.5 26.0781,21.3125 26.0781,20.8906 L26.0781,19.4688 C26.0781,19.0313 26.0625,18.9063 25.9688,18.75 C25.8125,18.4844 25.5313,18.3438 25.2344,18.3438 C24.9375,18.3438 24.7344,18.4375 24.5156,18.75 L24.3438,18.6719 Z \" fill=\"#000000\"/><text fill=\"#000000\" font-family=\"sans-serif\" font-size=\"14\" lengthAdjust=\"spacing\" textLength=\"24\" x=\"36\" y=\"27.8467\">Car</text><line style=\"stroke:#181818;stroke-width:0.5;\" x1=\"8\" x2=\"62\" y1=\"39\" y2=\"39\"/><line style=\"stroke:#181818;stroke-width:0.5;\" x1=\"8\" x2=\"62\" y1=\"47\" y2=\"47\"/></g><g id=\"elem_myCar\"><rect fill=\"#F1F1F1\" height=\"36.2969\" style=\"stroke:#181818;stroke-width:0.5;\" width=\"60\" x=\"98\" y=\"13\"/><text fill=\"#000000\" font-family=\"sans-serif\" font-size=\"14\" lengthAdjust=\"spacing\" textLength=\"46\" x=\"105\" y=\"27.9951\">myCar</text><line style=\"stroke:#181818;stroke-width:0.5;\" x1=\"99\" x2=\"157\" y1=\"33.2969\" y2=\"33.2969\"/></g><!--SRC=[Iyv9B2vMS4uiuifFoafDBb78hGHo0000]--></g></svg>"
      ],
      "text/plain": [
       "<IPython.core.display.SVG object>"
      ]
     },
     "execution_count": 3,
     "metadata": {},
     "output_type": "execute_result"
    }
   ],
   "source": [
    "%%plantuml \n",
    "@startuml\n",
    "class Car\n",
    "object myCar\n",
    "@enduml"
   ]
  },
  {
   "cell_type": "markdown",
   "metadata": {},
   "source": [
    "### Métodos y Atributos"
   ]
  },
  {
   "cell_type": "code",
   "execution_count": 4,
   "metadata": {},
   "outputs": [
    {
     "data": {
      "image/svg+xml": [
       "<svg xmlns=\"http://www.w3.org/2000/svg\" xmlns:xlink=\"http://www.w3.org/1999/xlink\" contentStyleType=\"text/css\" height=\"150px\" preserveAspectRatio=\"none\" style=\"width:141px;height:150px;background:#FFFFFF;\" version=\"1.1\" viewBox=\"0 0 141 150\" width=\"141px\" zoomAndPan=\"magnify\"><defs/><g><!--class Car--><g id=\"elem_Car\"><rect codeLine=\"1\" fill=\"#F1F1F1\" height=\"129.4844\" id=\"Car\" rx=\"2.5\" ry=\"2.5\" style=\"stroke:#181818;stroke-width:0.5;\" width=\"120\" x=\"7\" y=\"7\"/><ellipse cx=\"50.8\" cy=\"23\" fill=\"#ADD1B2\" rx=\"11\" ry=\"11\" style=\"stroke:#181818;stroke-width:1.0;\"/><path d=\"M53.1438,18.6719 C52.2063,18.2344 51.6125,18.0938 50.7375,18.0938 C48.1125,18.0938 46.1125,20.1719 46.1125,22.8906 L46.1125,24.0156 C46.1125,26.5938 48.2219,28.4844 51.1125,28.4844 C52.3313,28.4844 53.4875,28.1875 54.2375,27.6406 C54.8156,27.2344 55.1438,26.7813 55.1438,26.3906 C55.1438,25.9375 54.7531,25.5469 54.2844,25.5469 C54.0656,25.5469 53.8625,25.625 53.675,25.8125 C53.2219,26.2969 53.2219,26.2969 53.0344,26.3906 C52.6125,26.6563 51.925,26.7813 51.1594,26.7813 C49.1125,26.7813 47.8156,25.6875 47.8156,23.9844 L47.8156,22.8906 C47.8156,21.1094 49.0656,19.7969 50.8,19.7969 C51.3781,19.7969 51.9875,19.9531 52.4563,20.2031 C52.9406,20.4844 53.1125,20.7031 53.2063,21.1094 C53.2688,21.5156 53.3,21.6406 53.4406,21.7656 C53.5813,21.9063 53.8156,22.0156 54.0344,22.0156 C54.3,22.0156 54.5656,21.875 54.7375,21.6563 C54.8469,21.5 54.8781,21.3125 54.8781,20.8906 L54.8781,19.4688 C54.8781,19.0313 54.8625,18.9063 54.7688,18.75 C54.6125,18.4844 54.3313,18.3438 54.0344,18.3438 C53.7375,18.3438 53.5344,18.4375 53.3156,18.75 L53.1438,18.6719 Z \" fill=\"#000000\"/><text fill=\"#000000\" font-family=\"sans-serif\" font-size=\"14\" lengthAdjust=\"spacing\" textLength=\"24\" x=\"71.2\" y=\"27.8467\">Car</text><line style=\"stroke:#181818;stroke-width:0.5;\" x1=\"8\" x2=\"126\" y1=\"39\" y2=\"39\"/><text fill=\"#000000\" font-family=\"sans-serif\" font-size=\"14\" lengthAdjust=\"spacing\" textLength=\"61\" x=\"13\" y=\"55.9951\">gear: int</text><line style=\"stroke:#181818;stroke-width:0.5;\" x1=\"8\" x2=\"126\" y1=\"63.2969\" y2=\"63.2969\"/><ellipse cx=\"18\" cy=\"76.9453\" fill=\"#84BE84\" rx=\"3\" ry=\"3\" style=\"stroke:#038048;stroke-width:1.0;\"/><text fill=\"#000000\" font-family=\"sans-serif\" font-size=\"14\" lengthAdjust=\"spacing\" textLength=\"94\" x=\"27\" y=\"80.292\">startEngine()</text><rect fill=\"#F24D5C\" height=\"6\" style=\"stroke:#C82930;stroke-width:1.0;\" width=\"6\" x=\"15\" y=\"90.2422\"/><text fill=\"#000000\" font-family=\"sans-serif\" font-size=\"14\" lengthAdjust=\"spacing\" textLength=\"92\" x=\"27\" y=\"96.5889\">stopEngine()</text><polygon fill=\"#FFFF44\" points=\"18,104.5391,22,108.5391,18,112.5391,14,108.5391\" style=\"stroke:#B38D22;stroke-width:1.0;\"/><text fill=\"#000000\" font-family=\"sans-serif\" font-size=\"14\" lengthAdjust=\"spacing\" textLength=\"86\" x=\"27\" y=\"112.8857\">accelerate()</text><polygon fill=\"#4177AF\" points=\"18,121.8359,14,127.8359,22,127.8359\" style=\"stroke:#1963A0;stroke-width:1.0;\"/><text fill=\"#000000\" font-family=\"sans-serif\" font-size=\"14\" lengthAdjust=\"spacing\" textLength=\"52\" x=\"27\" y=\"129.1826\">brake()</text></g><!--SRC=[Iyv9B2vMS4uiKgZcKb3GBYv9B2fnpKlFp4lLq0GAw1QNv1SWyPKJavDJSrAB4aiW_BgaeiHi23CzDR78IY4phuIh5W00]--></g></svg>"
      ],
      "text/plain": [
       "<IPython.core.display.SVG object>"
      ]
     },
     "execution_count": 4,
     "metadata": {},
     "output_type": "execute_result"
    }
   ],
   "source": [
    "%%plantuml \n",
    "@startuml\n",
    "class Car {\n",
    "  +startEngine()\n",
    "  -stopEngine()\n",
    "  #accelerate()\n",
    "  ~brake()\n",
    "  gear: int\n",
    "}\n",
    "@enduml"
   ]
  },
  {
   "cell_type": "markdown",
   "metadata": {},
   "source": [
    "### Relaciones"
   ]
  },
  {
   "cell_type": "code",
   "execution_count": 5,
   "metadata": {},
   "outputs": [
    {
     "data": {
      "image/svg+xml": [
       "<svg xmlns=\"http://www.w3.org/2000/svg\" xmlns:xlink=\"http://www.w3.org/1999/xlink\" contentStyleType=\"text/css\" height=\"170px\" preserveAspectRatio=\"none\" style=\"width:95px;height:170px;background:#FFFFFF;\" version=\"1.1\" viewBox=\"0 0 95 170\" width=\"95px\" zoomAndPan=\"magnify\"><defs/><g><!--class Car--><g id=\"elem_Car\"><rect codeLine=\"1\" fill=\"#F1F1F1\" height=\"48\" id=\"Car\" rx=\"2.5\" ry=\"2.5\" style=\"stroke:#181818;stroke-width:0.5;\" width=\"56\" x=\"19.5\" y=\"7\"/><ellipse cx=\"34.5\" cy=\"23\" fill=\"#ADD1B2\" rx=\"11\" ry=\"11\" style=\"stroke:#181818;stroke-width:1.0;\"/><path d=\"M36.8438,18.6719 C35.9063,18.2344 35.3125,18.0938 34.4375,18.0938 C31.8125,18.0938 29.8125,20.1719 29.8125,22.8906 L29.8125,24.0156 C29.8125,26.5938 31.9219,28.4844 34.8125,28.4844 C36.0313,28.4844 37.1875,28.1875 37.9375,27.6406 C38.5156,27.2344 38.8438,26.7813 38.8438,26.3906 C38.8438,25.9375 38.4531,25.5469 37.9844,25.5469 C37.7656,25.5469 37.5625,25.625 37.375,25.8125 C36.9219,26.2969 36.9219,26.2969 36.7344,26.3906 C36.3125,26.6563 35.625,26.7813 34.8594,26.7813 C32.8125,26.7813 31.5156,25.6875 31.5156,23.9844 L31.5156,22.8906 C31.5156,21.1094 32.7656,19.7969 34.5,19.7969 C35.0781,19.7969 35.6875,19.9531 36.1563,20.2031 C36.6406,20.4844 36.8125,20.7031 36.9063,21.1094 C36.9688,21.5156 37,21.6406 37.1406,21.7656 C37.2813,21.9063 37.5156,22.0156 37.7344,22.0156 C38,22.0156 38.2656,21.875 38.4375,21.6563 C38.5469,21.5 38.5781,21.3125 38.5781,20.8906 L38.5781,19.4688 C38.5781,19.0313 38.5625,18.9063 38.4688,18.75 C38.3125,18.4844 38.0313,18.3438 37.7344,18.3438 C37.4375,18.3438 37.2344,18.4375 37.0156,18.75 L36.8438,18.6719 Z \" fill=\"#000000\"/><text fill=\"#000000\" font-family=\"sans-serif\" font-size=\"14\" lengthAdjust=\"spacing\" textLength=\"24\" x=\"48.5\" y=\"27.8467\">Car</text><line style=\"stroke:#181818;stroke-width:0.5;\" x1=\"20.5\" x2=\"74.5\" y1=\"39\" y2=\"39\"/><line style=\"stroke:#181818;stroke-width:0.5;\" x1=\"20.5\" x2=\"74.5\" y1=\"47\" y2=\"47\"/></g><!--class Engine--><g id=\"elem_Engine\"><rect codeLine=\"2\" fill=\"#F1F1F1\" height=\"48\" id=\"Engine\" rx=\"2.5\" ry=\"2.5\" style=\"stroke:#181818;stroke-width:0.5;\" width=\"81\" x=\"7\" y=\"115\"/><ellipse cx=\"22\" cy=\"131\" fill=\"#ADD1B2\" rx=\"11\" ry=\"11\" style=\"stroke:#181818;stroke-width:1.0;\"/><path d=\"M24.3438,126.6719 C23.4063,126.2344 22.8125,126.0938 21.9375,126.0938 C19.3125,126.0938 17.3125,128.1719 17.3125,130.8906 L17.3125,132.0156 C17.3125,134.5938 19.4219,136.4844 22.3125,136.4844 C23.5313,136.4844 24.6875,136.1875 25.4375,135.6406 C26.0156,135.2344 26.3438,134.7813 26.3438,134.3906 C26.3438,133.9375 25.9531,133.5469 25.4844,133.5469 C25.2656,133.5469 25.0625,133.625 24.875,133.8125 C24.4219,134.2969 24.4219,134.2969 24.2344,134.3906 C23.8125,134.6563 23.125,134.7813 22.3594,134.7813 C20.3125,134.7813 19.0156,133.6875 19.0156,131.9844 L19.0156,130.8906 C19.0156,129.1094 20.2656,127.7969 22,127.7969 C22.5781,127.7969 23.1875,127.9531 23.6563,128.2031 C24.1406,128.4844 24.3125,128.7031 24.4063,129.1094 C24.4688,129.5156 24.5,129.6406 24.6406,129.7656 C24.7813,129.9063 25.0156,130.0156 25.2344,130.0156 C25.5,130.0156 25.7656,129.875 25.9375,129.6563 C26.0469,129.5 26.0781,129.3125 26.0781,128.8906 L26.0781,127.4688 C26.0781,127.0313 26.0625,126.9063 25.9688,126.75 C25.8125,126.4844 25.5313,126.3438 25.2344,126.3438 C24.9375,126.3438 24.7344,126.4375 24.5156,126.75 L24.3438,126.6719 Z \" fill=\"#000000\"/><text fill=\"#000000\" font-family=\"sans-serif\" font-size=\"14\" lengthAdjust=\"spacing\" textLength=\"49\" x=\"36\" y=\"135.8467\">Engine</text><line style=\"stroke:#181818;stroke-width:0.5;\" x1=\"8\" x2=\"87\" y1=\"147\" y2=\"147\"/><line style=\"stroke:#181818;stroke-width:0.5;\" x1=\"8\" x2=\"87\" y1=\"155\" y2=\"155\"/></g><!--link Car to Engine--><g id=\"link_Car_Engine\"><path codeLine=\"4\" d=\"M47.5,55 C47.5,72.6584 47.5,90.9408 47.5,108.6784 \" fill=\"none\" id=\"Car-to-Engine\" style=\"stroke:#181818;stroke-width:1.0;\"/><polygon fill=\"#181818\" points=\"47.5,114.6784,51.5,105.6784,47.5,109.6784,43.5,105.6784,47.5,114.6784\" style=\"stroke:#181818;stroke-width:1.0;\"/></g><!--SRC=[Iyv9B2vMS4uiuae6irppqZFpKhcuW28AkhfsK3u0]--></g></svg>"
      ],
      "text/plain": [
       "<IPython.core.display.SVG object>"
      ]
     },
     "execution_count": 5,
     "metadata": {},
     "output_type": "execute_result"
    }
   ],
   "source": [
    "%%plantuml \n",
    "@startuml\n",
    "class Car\n",
    "class Engine\n",
    "\n",
    "Car --> Engine\n",
    "@enduml"
   ]
  },
  {
   "cell_type": "markdown",
   "metadata": {},
   "source": [
    "### Diagramas de Flujo"
   ]
  },
  {
   "cell_type": "code",
   "execution_count": 6,
   "metadata": {},
   "outputs": [
    {
     "data": {
      "image/svg+xml": [
       "<svg xmlns=\"http://www.w3.org/2000/svg\" xmlns:xlink=\"http://www.w3.org/1999/xlink\" contentStyleType=\"text/css\" height=\"254px\" preserveAspectRatio=\"none\" style=\"width:245px;height:254px;background:#FFFFFF;\" version=\"1.1\" viewBox=\"0 0 245 254\" width=\"245px\" zoomAndPan=\"magnify\"><defs/><g><ellipse cx=\"121.25\" cy=\"20\" fill=\"#222222\" rx=\"10\" ry=\"10\" style=\"stroke:#222222;stroke-width:1.0;\"/><rect fill=\"#F1F1F1\" height=\"33.9688\" rx=\"12.5\" ry=\"12.5\" style=\"stroke:#181818;stroke-width:0.5;\" width=\"100\" x=\"71.25\" y=\"50\"/><text fill=\"#000000\" font-family=\"sans-serif\" font-size=\"12\" lengthAdjust=\"spacing\" textLength=\"80\" x=\"81.25\" y=\"71.1387\">Start Process</text><polygon fill=\"#F1F1F1\" points=\"94.75,103.9688,147.75,103.9688,159.75,115.9688,147.75,127.9688,94.75,127.9688,82.75,115.9688,94.75,103.9688\" style=\"stroke:#181818;stroke-width:0.5;\"/><text fill=\"#000000\" font-family=\"sans-serif\" font-size=\"11\" lengthAdjust=\"spacing\" textLength=\"53\" x=\"94.75\" y=\"119.7769\">Condition</text><text fill=\"#000000\" font-family=\"sans-serif\" font-size=\"11\" lengthAdjust=\"spacing\" textLength=\"21\" x=\"61.75\" y=\"113.3745\">Yes</text><text fill=\"#000000\" font-family=\"sans-serif\" font-size=\"11\" lengthAdjust=\"spacing\" textLength=\"15\" x=\"159.75\" y=\"113.3745\">No</text><rect fill=\"#F1F1F1\" height=\"33.9688\" rx=\"12.5\" ry=\"12.5\" style=\"stroke:#181818;stroke-width:0.5;\" width=\"99\" x=\"11\" y=\"137.9688\"/><text fill=\"#000000\" font-family=\"sans-serif\" font-size=\"12\" lengthAdjust=\"spacing\" textLength=\"79\" x=\"21\" y=\"159.1074\">Action If True</text><rect fill=\"#F1F1F1\" height=\"33.9688\" rx=\"12.5\" ry=\"12.5\" style=\"stroke:#181818;stroke-width:0.5;\" width=\"104\" x=\"130\" y=\"137.9688\"/><text fill=\"#000000\" font-family=\"sans-serif\" font-size=\"12\" lengthAdjust=\"spacing\" textLength=\"84\" x=\"140\" y=\"159.1074\">Action If False</text><polygon fill=\"#F1F1F1\" points=\"121.25,177.9375,133.25,189.9375,121.25,201.9375,109.25,189.9375,121.25,177.9375\" style=\"stroke:#181818;stroke-width:0.5;\"/><ellipse cx=\"121.25\" cy=\"232.9375\" fill=\"none\" rx=\"11\" ry=\"11\" style=\"stroke:#222222;stroke-width:1.0;\"/><ellipse cx=\"121.25\" cy=\"232.9375\" fill=\"#222222\" rx=\"6\" ry=\"6\" style=\"stroke:#222222;stroke-width:1.0;\"/><line style=\"stroke:#181818;stroke-width:1.0;\" x1=\"121.25\" x2=\"121.25\" y1=\"30\" y2=\"50\"/><polygon fill=\"#181818\" points=\"117.25,40,121.25,50,125.25,40,121.25,44\" style=\"stroke:#181818;stroke-width:1.0;\"/><line style=\"stroke:#181818;stroke-width:1.0;\" x1=\"82.75\" x2=\"60.5\" y1=\"115.9688\" y2=\"115.9688\"/><line style=\"stroke:#181818;stroke-width:1.0;\" x1=\"60.5\" x2=\"60.5\" y1=\"115.9688\" y2=\"137.9688\"/><polygon fill=\"#181818\" points=\"56.5,127.9688,60.5,137.9688,64.5,127.9688,60.5,131.9688\" style=\"stroke:#181818;stroke-width:1.0;\"/><line style=\"stroke:#181818;stroke-width:1.0;\" x1=\"159.75\" x2=\"182\" y1=\"115.9688\" y2=\"115.9688\"/><line style=\"stroke:#181818;stroke-width:1.0;\" x1=\"182\" x2=\"182\" y1=\"115.9688\" y2=\"137.9688\"/><polygon fill=\"#181818\" points=\"178,127.9688,182,137.9688,186,127.9688,182,131.9688\" style=\"stroke:#181818;stroke-width:1.0;\"/><line style=\"stroke:#181818;stroke-width:1.0;\" x1=\"60.5\" x2=\"60.5\" y1=\"171.9375\" y2=\"189.9375\"/><line style=\"stroke:#181818;stroke-width:1.0;\" x1=\"60.5\" x2=\"109.25\" y1=\"189.9375\" y2=\"189.9375\"/><polygon fill=\"#181818\" points=\"99.25,185.9375,109.25,189.9375,99.25,193.9375,103.25,189.9375\" style=\"stroke:#181818;stroke-width:1.0;\"/><line style=\"stroke:#181818;stroke-width:1.0;\" x1=\"182\" x2=\"182\" y1=\"171.9375\" y2=\"189.9375\"/><line style=\"stroke:#181818;stroke-width:1.0;\" x1=\"182\" x2=\"133.25\" y1=\"189.9375\" y2=\"189.9375\"/><polygon fill=\"#181818\" points=\"143.25,185.9375,133.25,189.9375,143.25,193.9375,139.25,189.9375\" style=\"stroke:#181818;stroke-width:1.0;\"/><line style=\"stroke:#181818;stroke-width:1.0;\" x1=\"121.25\" x2=\"121.25\" y1=\"83.9688\" y2=\"103.9688\"/><polygon fill=\"#181818\" points=\"117.25,93.9688,121.25,103.9688,125.25,93.9688,121.25,97.9688\" style=\"stroke:#181818;stroke-width:1.0;\"/><line style=\"stroke:#181818;stroke-width:1.0;\" x1=\"121.25\" x2=\"121.25\" y1=\"201.9375\" y2=\"221.9375\"/><polygon fill=\"#181818\" points=\"117.25,211.9375,121.25,221.9375,125.25,211.9375,121.25,215.9375\" style=\"stroke:#181818;stroke-width:1.0;\"/><!--SRC=[Aov9B2hXiWe6KGe1HVd9gSN5rboPQGeQplbvAPabcVbvcWeb6Qbv2XgHgSMQN0eALex98545ppI5aABIL6kkr9pYL0KDltmqIRT4e3XG5cXA6bTnINu10000]--></g></svg>"
      ],
      "text/plain": [
       "<IPython.core.display.SVG object>"
      ]
     },
     "execution_count": 6,
     "metadata": {},
     "output_type": "execute_result"
    }
   ],
   "source": [
    "%%plantuml \n",
    "@startuml\n",
    "start\n",
    ":Start Process;\n",
    "if (Condition) then (Yes)\n",
    "  :Action If True;\n",
    "else (No)\n",
    "  :Action If False;\n",
    "endif\n",
    "stop\n",
    "@enduml"
   ]
  },
  {
   "cell_type": "markdown",
   "metadata": {},
   "source": [
    "## Ejemplos Prácticos con PlantUML\n",
    "\n",
    "### Diagrama de Clases UML\n",
    "\n",
    "Veamos un ejemplo más detallado de un diagrama de clases UML. Supongamos que estamos modelando una aplicación de biblioteca. Aquí está el código PlantUML para un diagrama de clases que representa esta aplicación:"
   ]
  },
  {
   "cell_type": "code",
   "execution_count": 7,
   "metadata": {},
   "outputs": [
    {
     "data": {
      "image/svg+xml": [
       "<svg xmlns=\"http://www.w3.org/2000/svg\" xmlns:xlink=\"http://www.w3.org/1999/xlink\" contentStyleType=\"text/css\" height=\"333px\" preserveAspectRatio=\"none\" style=\"width:278px;height:333px;background:#FFFFFF;\" version=\"1.1\" viewBox=\"0 0 278 333\" width=\"278px\" zoomAndPan=\"magnify\"><defs/><g><!--class Library--><g id=\"elem_Library\"><rect codeLine=\"1\" fill=\"#F1F1F1\" height=\"145.7813\" id=\"Library\" rx=\"2.5\" ry=\"2.5\" style=\"stroke:#181818;stroke-width:0.5;\" width=\"264\" x=\"7\" y=\"7\"/><ellipse cx=\"109.75\" cy=\"23\" fill=\"#ADD1B2\" rx=\"11\" ry=\"11\" style=\"stroke:#181818;stroke-width:1.0;\"/><path d=\"M112.0938,18.6719 C111.1563,18.2344 110.5625,18.0938 109.6875,18.0938 C107.0625,18.0938 105.0625,20.1719 105.0625,22.8906 L105.0625,24.0156 C105.0625,26.5938 107.1719,28.4844 110.0625,28.4844 C111.2813,28.4844 112.4375,28.1875 113.1875,27.6406 C113.7656,27.2344 114.0938,26.7813 114.0938,26.3906 C114.0938,25.9375 113.7031,25.5469 113.2344,25.5469 C113.0156,25.5469 112.8125,25.625 112.625,25.8125 C112.1719,26.2969 112.1719,26.2969 111.9844,26.3906 C111.5625,26.6563 110.875,26.7813 110.1094,26.7813 C108.0625,26.7813 106.7656,25.6875 106.7656,23.9844 L106.7656,22.8906 C106.7656,21.1094 108.0156,19.7969 109.75,19.7969 C110.3281,19.7969 110.9375,19.9531 111.4063,20.2031 C111.8906,20.4844 112.0625,20.7031 112.1563,21.1094 C112.2188,21.5156 112.25,21.6406 112.3906,21.7656 C112.5313,21.9063 112.7656,22.0156 112.9844,22.0156 C113.25,22.0156 113.5156,21.875 113.6875,21.6563 C113.7969,21.5 113.8281,21.3125 113.8281,20.8906 L113.8281,19.4688 C113.8281,19.0313 113.8125,18.9063 113.7188,18.75 C113.5625,18.4844 113.2813,18.3438 112.9844,18.3438 C112.6875,18.3438 112.4844,18.4375 112.2656,18.75 L112.0938,18.6719 Z \" fill=\"#000000\"/><text fill=\"#000000\" font-family=\"sans-serif\" font-size=\"14\" lengthAdjust=\"spacing\" textLength=\"50\" x=\"130.25\" y=\"27.8467\">Library</text><line style=\"stroke:#181818;stroke-width:0.5;\" x1=\"8\" x2=\"270\" y1=\"39\" y2=\"39\"/><rect fill=\"none\" height=\"6\" style=\"stroke:#C82930;stroke-width:1.0;\" width=\"6\" x=\"15\" y=\"49.6484\"/><text fill=\"#000000\" font-family=\"sans-serif\" font-size=\"14\" lengthAdjust=\"spacing\" textLength=\"93\" x=\"27\" y=\"55.9951\">name: String</text><rect fill=\"none\" height=\"6\" style=\"stroke:#C82930;stroke-width:1.0;\" width=\"6\" x=\"15\" y=\"65.9453\"/><text fill=\"#000000\" font-family=\"sans-serif\" font-size=\"14\" lengthAdjust=\"spacing\" textLength=\"111\" x=\"27\" y=\"72.292\">location: String</text><rect fill=\"none\" height=\"6\" style=\"stroke:#C82930;stroke-width:1.0;\" width=\"6\" x=\"15\" y=\"82.2422\"/><text fill=\"#000000\" font-family=\"sans-serif\" font-size=\"14\" lengthAdjust=\"spacing\" textLength=\"138\" x=\"27\" y=\"88.5889\">books: List&lt;Book&gt;</text><line style=\"stroke:#181818;stroke-width:0.5;\" x1=\"8\" x2=\"270\" y1=\"95.8906\" y2=\"95.8906\"/><ellipse cx=\"18\" cy=\"109.5391\" fill=\"#84BE84\" rx=\"3\" ry=\"3\" style=\"stroke:#038048;stroke-width:1.0;\"/><text fill=\"#000000\" font-family=\"sans-serif\" font-size=\"14\" lengthAdjust=\"spacing\" textLength=\"195\" x=\"27\" y=\"112.8857\">addBook(book: Book): void</text><ellipse cx=\"18\" cy=\"125.8359\" fill=\"#84BE84\" rx=\"3\" ry=\"3\" style=\"stroke:#038048;stroke-width:1.0;\"/><text fill=\"#000000\" font-family=\"sans-serif\" font-size=\"14\" lengthAdjust=\"spacing\" textLength=\"224\" x=\"27\" y=\"129.1826\">removeBook(book: Book): void</text><ellipse cx=\"18\" cy=\"142.1328\" fill=\"#84BE84\" rx=\"3\" ry=\"3\" style=\"stroke:#038048;stroke-width:1.0;\"/><text fill=\"#000000\" font-family=\"sans-serif\" font-size=\"14\" lengthAdjust=\"spacing\" textLength=\"238\" x=\"27\" y=\"145.4795\">getAvailableBooks(): List&lt;Book&gt;</text></g><!--class Book--><g id=\"elem_Book\"><rect codeLine=\"11\" fill=\"#F1F1F1\" height=\"113.1875\" id=\"Book\" rx=\"2.5\" ry=\"2.5\" style=\"stroke:#181818;stroke-width:0.5;\" width=\"156\" x=\"61\" y=\"213\"/><ellipse cx=\"116.25\" cy=\"229\" fill=\"#ADD1B2\" rx=\"11\" ry=\"11\" style=\"stroke:#181818;stroke-width:1.0;\"/><path d=\"M118.5938,224.6719 C117.6563,224.2344 117.0625,224.0938 116.1875,224.0938 C113.5625,224.0938 111.5625,226.1719 111.5625,228.8906 L111.5625,230.0156 C111.5625,232.5938 113.6719,234.4844 116.5625,234.4844 C117.7813,234.4844 118.9375,234.1875 119.6875,233.6406 C120.2656,233.2344 120.5938,232.7813 120.5938,232.3906 C120.5938,231.9375 120.2031,231.5469 119.7344,231.5469 C119.5156,231.5469 119.3125,231.625 119.125,231.8125 C118.6719,232.2969 118.6719,232.2969 118.4844,232.3906 C118.0625,232.6563 117.375,232.7813 116.6094,232.7813 C114.5625,232.7813 113.2656,231.6875 113.2656,229.9844 L113.2656,228.8906 C113.2656,227.1094 114.5156,225.7969 116.25,225.7969 C116.8281,225.7969 117.4375,225.9531 117.9063,226.2031 C118.3906,226.4844 118.5625,226.7031 118.6563,227.1094 C118.7188,227.5156 118.75,227.6406 118.8906,227.7656 C119.0313,227.9063 119.2656,228.0156 119.4844,228.0156 C119.75,228.0156 120.0156,227.875 120.1875,227.6563 C120.2969,227.5 120.3281,227.3125 120.3281,226.8906 L120.3281,225.4688 C120.3281,225.0313 120.3125,224.9063 120.2188,224.75 C120.0625,224.4844 119.7813,224.3438 119.4844,224.3438 C119.1875,224.3438 118.9844,224.4375 118.7656,224.75 L118.5938,224.6719 Z \" fill=\"#000000\"/><text fill=\"#000000\" font-family=\"sans-serif\" font-size=\"14\" lengthAdjust=\"spacing\" textLength=\"37\" x=\"136.75\" y=\"233.8467\">Book</text><line style=\"stroke:#181818;stroke-width:0.5;\" x1=\"62\" x2=\"216\" y1=\"245\" y2=\"245\"/><rect fill=\"none\" height=\"6\" style=\"stroke:#C82930;stroke-width:1.0;\" width=\"6\" x=\"69\" y=\"255.6484\"/><text fill=\"#000000\" font-family=\"sans-serif\" font-size=\"14\" lengthAdjust=\"spacing\" textLength=\"84\" x=\"81\" y=\"261.9951\">title: String</text><rect fill=\"none\" height=\"6\" style=\"stroke:#C82930;stroke-width:1.0;\" width=\"6\" x=\"69\" y=\"271.9453\"/><text fill=\"#000000\" font-family=\"sans-serif\" font-size=\"14\" lengthAdjust=\"spacing\" textLength=\"100\" x=\"81\" y=\"278.292\">author: String</text><rect fill=\"none\" height=\"6\" style=\"stroke:#C82930;stroke-width:1.0;\" width=\"6\" x=\"69\" y=\"288.2422\"/><text fill=\"#000000\" font-family=\"sans-serif\" font-size=\"14\" lengthAdjust=\"spacing\" textLength=\"86\" x=\"81\" y=\"294.5889\">ISBN: String</text><rect fill=\"none\" height=\"6\" style=\"stroke:#C82930;stroke-width:1.0;\" width=\"6\" x=\"69\" y=\"304.5391\"/><text fill=\"#000000\" font-family=\"sans-serif\" font-size=\"14\" lengthAdjust=\"spacing\" textLength=\"130\" x=\"81\" y=\"310.8857\">available: boolean</text><line style=\"stroke:#181818;stroke-width:0.5;\" x1=\"62\" x2=\"216\" y1=\"318.1875\" y2=\"318.1875\"/></g><!--link Library to Book--><g id=\"link_Library_Book\"><path codeLine=\"17\" d=\"M139,153.224 C139,173.032 139,194.194 139,212.91 \" fill=\"none\" id=\"Library-Book\" style=\"stroke:#181818;stroke-width:1.0;\"/><text fill=\"#000000\" font-family=\"sans-serif\" font-size=\"13\" lengthAdjust=\"spacing\" textLength=\"8\" x=\"130.6313\" y=\"172.7488\">1</text><text fill=\"#000000\" font-family=\"sans-serif\" font-size=\"13\" lengthAdjust=\"spacing\" textLength=\"23\" x=\"114.5266\" y=\"201.7619\">0..*</text></g><!--SRC=[TK_D2i8m3BxtAK9FcxAXroA2kmt4ovuWsyeiTWsqSI3YkzjE1jl1MxwVvFlIMGm1hgRrw5_m5W25mr4hQDWRDoHigKCsvDPSI_G8Aku5FbLnFel8xh7l4yYIgY2DkOA9J9z4hqUQz7zzq7oPq5XixUmAMRu9-0ZHpMKJ_3LbmtPJ5Pzy9xzcwgQwRHnBX8BOmcfqyV3olZnAA0gGXxBSoJdd2m00]--></g></svg>"
      ],
      "text/plain": [
       "<IPython.core.display.SVG object>"
      ]
     },
     "execution_count": 7,
     "metadata": {},
     "output_type": "execute_result"
    }
   ],
   "source": [
    "%%plantuml\n",
    "@startuml\n",
    "class Library {\n",
    "  -name: String\n",
    "  -location: String\n",
    "  -books: List<Book>\n",
    "\n",
    "  +addBook(book: Book): void\n",
    "  +removeBook(book: Book): void\n",
    "  +getAvailableBooks(): List<Book>\n",
    "}\n",
    "\n",
    "class Book {\n",
    "  -title: String\n",
    "  -author: String\n",
    "  -ISBN: String\n",
    "  -available: boolean\n",
    "}\n",
    "Library \"1\" -- \"0..*\" Book\n",
    "@enduml"
   ]
  },
  {
   "cell_type": "markdown",
   "metadata": {},
   "source": [
    "Este código define dos clases, `Library` y `Book`, con atributos y métodos relevantes. También establece una relación entre las clases `Library` y `Book` para representar que una biblioteca puede contener múltiples libros.\n",
    "\n",
    "### Diagrama de Secuencia\n",
    "\n",
    "Un diagrama de secuencia es útil para visualizar la interacción entre objetos a lo largo del tiempo. Supongamos que estamos modelando un sistema de reserva de vuelos. Aquí está el código PlantUML para un diagrama de secuencia que representa la reserva de un vuelo:"
   ]
  },
  {
   "cell_type": "code",
   "execution_count": 8,
   "metadata": {},
   "outputs": [
    {
     "data": {
      "image/svg+xml": [
       "<svg xmlns=\"http://www.w3.org/2000/svg\" xmlns:xlink=\"http://www.w3.org/1999/xlink\" contentStyleType=\"text/css\" height=\"356px\" preserveAspectRatio=\"none\" style=\"width:374px;height:356px;background:#FFFFFF;\" version=\"1.1\" viewBox=\"0 0 374 356\" width=\"374px\" zoomAndPan=\"magnify\"><defs/><g><rect fill=\"#FFFFFF\" height=\"87.3984\" style=\"stroke:#181818;stroke-width:1.0;\" width=\"10\" x=\"200.5\" y=\"112.4297\"/><line style=\"stroke:#181818;stroke-width:0.5;stroke-dasharray:5.0,5.0;\" x1=\"23\" x2=\"23\" y1=\"81.2969\" y2=\"276.0938\"/><line style=\"stroke:#181818;stroke-width:0.5;stroke-dasharray:5.0,5.0;\" x1=\"205\" x2=\"205\" y1=\"81.2969\" y2=\"276.0938\"/><line style=\"stroke:#181818;stroke-width:0.5;stroke-dasharray:5.0,5.0;\" x1=\"340\" x2=\"340\" y1=\"81.2969\" y2=\"276.0938\"/><text fill=\"#000000\" font-family=\"sans-serif\" font-size=\"14\" lengthAdjust=\"spacing\" textLength=\"31\" x=\"5\" y=\"77.9951\">User</text><ellipse cx=\"23.5\" cy=\"13.5\" fill=\"#E2E2F0\" rx=\"8\" ry=\"8\" style=\"stroke:#181818;stroke-width:0.5;\"/><path d=\"M23.5,21.5 L23.5,48.5 M10.5,29.5 L36.5,29.5 M23.5,48.5 L10.5,63.5 M23.5,48.5 L36.5,63.5 \" fill=\"none\" style=\"stroke:#181818;stroke-width:0.5;\"/><text fill=\"#000000\" font-family=\"sans-serif\" font-size=\"14\" lengthAdjust=\"spacing\" textLength=\"31\" x=\"5\" y=\"288.0889\">User</text><ellipse cx=\"23.5\" cy=\"299.8906\" fill=\"#E2E2F0\" rx=\"8\" ry=\"8\" style=\"stroke:#181818;stroke-width:0.5;\"/><path d=\"M23.5,307.8906 L23.5,334.8906 M10.5,315.8906 L36.5,315.8906 M23.5,334.8906 L10.5,349.8906 M23.5,334.8906 L36.5,349.8906 \" fill=\"none\" style=\"stroke:#181818;stroke-width:0.5;\"/><rect fill=\"#E2E2F0\" height=\"30.2969\" rx=\"2.5\" ry=\"2.5\" style=\"stroke:#181818;stroke-width:0.5;\" width=\"195\" x=\"108\" y=\"50\"/><text fill=\"#000000\" font-family=\"sans-serif\" font-size=\"14\" lengthAdjust=\"spacing\" textLength=\"181\" x=\"115\" y=\"69.9951\">FlightReservationSystem</text><rect fill=\"#E2E2F0\" height=\"30.2969\" rx=\"2.5\" ry=\"2.5\" style=\"stroke:#181818;stroke-width:0.5;\" width=\"195\" x=\"108\" y=\"275.0938\"/><text fill=\"#000000\" font-family=\"sans-serif\" font-size=\"14\" lengthAdjust=\"spacing\" textLength=\"181\" x=\"115\" y=\"295.0889\">FlightReservationSystem</text><rect fill=\"#E2E2F0\" height=\"30.2969\" rx=\"2.5\" ry=\"2.5\" style=\"stroke:#181818;stroke-width:0.5;\" width=\"55\" x=\"313\" y=\"50\"/><text fill=\"#000000\" font-family=\"sans-serif\" font-size=\"14\" lengthAdjust=\"spacing\" textLength=\"41\" x=\"320\" y=\"69.9951\">Flight</text><rect fill=\"#E2E2F0\" height=\"30.2969\" rx=\"2.5\" ry=\"2.5\" style=\"stroke:#181818;stroke-width:0.5;\" width=\"55\" x=\"313\" y=\"275.0938\"/><text fill=\"#000000\" font-family=\"sans-serif\" font-size=\"14\" lengthAdjust=\"spacing\" textLength=\"41\" x=\"320\" y=\"295.0889\">Flight</text><rect fill=\"#FFFFFF\" height=\"87.3984\" style=\"stroke:#181818;stroke-width:1.0;\" width=\"10\" x=\"200.5\" y=\"112.4297\"/><polygon fill=\"#181818\" points=\"188.5,108.4297,198.5,112.4297,188.5,116.4297,192.5,112.4297\" style=\"stroke:#181818;stroke-width:1.0;\"/><line style=\"stroke:#181818;stroke-width:1.0;\" x1=\"23.5\" x2=\"194.5\" y1=\"112.4297\" y2=\"112.4297\"/><text fill=\"#000000\" font-family=\"sans-serif\" font-size=\"13\" lengthAdjust=\"spacing\" textLength=\"124\" x=\"30.5\" y=\"107.3638\">Initiate Reservation</text><polygon fill=\"#181818\" points=\"188.5,137.5625,198.5,141.5625,188.5,145.5625,192.5,141.5625\" style=\"stroke:#181818;stroke-width:1.0;\"/><line style=\"stroke:#181818;stroke-width:1.0;\" x1=\"23.5\" x2=\"194.5\" y1=\"141.5625\" y2=\"141.5625\"/><text fill=\"#000000\" font-family=\"sans-serif\" font-size=\"13\" lengthAdjust=\"spacing\" textLength=\"77\" x=\"30.5\" y=\"136.4966\">Select Flight</text><polygon fill=\"#181818\" points=\"188.5,166.6953,198.5,170.6953,188.5,174.6953,192.5,170.6953\" style=\"stroke:#181818;stroke-width:1.0;\"/><line style=\"stroke:#181818;stroke-width:1.0;\" x1=\"23.5\" x2=\"194.5\" y1=\"170.6953\" y2=\"170.6953\"/><text fill=\"#000000\" font-family=\"sans-serif\" font-size=\"13\" lengthAdjust=\"spacing\" textLength=\"153\" x=\"30.5\" y=\"165.6294\">Enter Passenger Details</text><polygon fill=\"#181818\" points=\"34.5,195.8281,24.5,199.8281,34.5,203.8281,30.5,199.8281\" style=\"stroke:#181818;stroke-width:1.0;\"/><line style=\"stroke:#181818;stroke-width:1.0;\" x1=\"28.5\" x2=\"204.5\" y1=\"199.8281\" y2=\"199.8281\"/><text fill=\"#000000\" font-family=\"sans-serif\" font-size=\"13\" lengthAdjust=\"spacing\" textLength=\"132\" x=\"40.5\" y=\"194.7622\">Confirm Reservation</text><polygon fill=\"#181818\" points=\"328.5,224.9609,338.5,228.9609,328.5,232.9609,332.5,228.9609\" style=\"stroke:#181818;stroke-width:1.0;\"/><line style=\"stroke:#181818;stroke-width:1.0;\" x1=\"23.5\" x2=\"334.5\" y1=\"228.9609\" y2=\"228.9609\"/><text fill=\"#000000\" font-family=\"sans-serif\" font-size=\"13\" lengthAdjust=\"spacing\" textLength=\"95\" x=\"30.5\" y=\"223.895\">Make Payment</text><polygon fill=\"#181818\" points=\"34.5,254.0938,24.5,258.0938,34.5,262.0938,30.5,258.0938\" style=\"stroke:#181818;stroke-width:1.0;\"/><line style=\"stroke:#181818;stroke-width:1.0;\" x1=\"28.5\" x2=\"339.5\" y1=\"258.0938\" y2=\"258.0938\"/><text fill=\"#000000\" font-family=\"sans-serif\" font-size=\"13\" lengthAdjust=\"spacing\" textLength=\"164\" x=\"40.5\" y=\"253.0278\">Reservation Confirmation</text><!--SRC=[bOvD2i8m48NtESLSe1S8uiOVS268nGCCSQo3oRGaGw6tDrMKAeRYRdxUzzv3fss4Kw9eEepAZZiKXQtdvgf7olSUbLkfXwGKVcYC6M6ebYN6mavO6PLWyZFebFlnM8gQjQt9atlNc9LlHBFYW2cHD7bQaoBxz0GNLHbSjNBX63xQd-dF_XRsUACSFmGI_GgrK-zNtcEv0m00]--></g></svg>"
      ],
      "text/plain": [
       "<IPython.core.display.SVG object>"
      ]
     },
     "execution_count": 8,
     "metadata": {},
     "output_type": "execute_result"
    }
   ],
   "source": [
    "%%plantuml\n",
    "@startuml\n",
    "actor User\n",
    "participant FlightReservationSystem\n",
    "participant Flight\n",
    "\n",
    "User -> FlightReservationSystem: Initiate Reservation\n",
    "activate FlightReservationSystem\n",
    "User -> FlightReservationSystem: Select Flight\n",
    "User -> FlightReservationSystem: Enter Passenger Details\n",
    "User <- FlightReservationSystem: Confirm Reservation\n",
    "deactivate FlightReservationSystem\n",
    "User -> Flight: Make Payment\n",
    "User <- Flight: Reservation Confirmation\n",
    "@enduml"
   ]
  },
  {
   "cell_type": "markdown",
   "metadata": {},
   "source": [
    "Este diagrama muestra cómo el usuario interactúa con el sistema de reserva de vuelos y cómo se comunica con el objeto `Flight` para confirmar la reserva."
   ]
  },
  {
   "cell_type": "markdown",
   "metadata": {},
   "source": [
    "## Conclusión\n",
    "\n",
    "PlantUML es una herramienta poderosa para el modelado visual que facilita la creación de diagramas UML y otros tipos de diagramas. Su sintaxis basada en texto es fácil de aprender y su integración con Python y Jupyter Notebook lo hace aún más versátil. Al agregar diagramas visuales a tu documentación y presentaciones, puedes mejorar la comunicación y comprensión de tus diseños y arquitecturas de software.\n",
    "\n",
    "## Referencias\n",
    "\n",
    "- [Sitio web oficial de PlantUML](https://plantuml.com/)\n",
    "- [Repositorio de Graphviz](https://www.graphviz.org/)\n",
    "- [UML Distilled: A Brief Guide to the Standard Object Modeling Language](https://www.amazon.com/UML-Distilled-Standard-Modeling-Language/dp/0321193687)\n",
    "\n"
   ]
  }
 ],
 "metadata": {
  "kernelspec": {
   "display_name": "Python 3 (ipykernel)",
   "language": "python",
   "name": "python3"
  },
  "language_info": {
   "codemirror_mode": {
    "name": "ipython",
    "version": 3
   },
   "file_extension": ".py",
   "mimetype": "text/x-python",
   "name": "python",
   "nbconvert_exporter": "python",
   "pygments_lexer": "ipython3",
   "version": "3.8.10"
  },
  "latex_envs": {
   "LaTeX_envs_menu_present": true,
   "autoclose": false,
   "autocomplete": true,
   "bibliofile": "biblio.bib",
   "cite_by": "apalike",
   "current_citInitial": 1,
   "eqLabelWithNumbers": true,
   "eqNumInitial": 1,
   "hotkeys": {
    "equation": "Ctrl-E",
    "itemize": "Ctrl-I"
   },
   "labels_anchors": false,
   "latex_user_defs": false,
   "report_style_numbering": false,
   "user_envs_cfg": false
  }
 },
 "nbformat": 4,
 "nbformat_minor": 4
}

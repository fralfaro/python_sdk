{
 "cells": [
  {
   "cell_type": "markdown",
   "metadata": {},
   "source": [
    "# Mypy\n",
    "\n",
    "## Introducción \n",
    "[Mypy](https://mypy.readthedocs.io/en/stable/index.html) es un verificador de tipo estático opcional para Python que tiene como objetivo combinar los beneficios de la escritura dinámica y la escritura estática. \n",
    "\n",
    "Mypy combina el poder expresivo y la conveniencia de Python con un poderoso sistema de tipos y verificación de tipos en tiempo de compilación. El tipo Mypy comprueba los programas estándar de Python; ejecútelos usando cualquier máquina virtual de Python sin básicamente una sobrecarga de tiempo de ejecución."
   ]
  },
  {
   "cell_type": "markdown",
   "metadata": {},
   "source": [
    "### Escritura dinámica y estática\n",
    "<img src=\"images/html_01.png\"  align = \"center\">"
   ]
  },
  {
   "cell_type": "markdown",
   "metadata": {},
   "source": [
    "Migre el código existente a escritura estática, una función a la vez. Puede mezclar libremente la escritura estática y dinámica dentro de un programa, dentro de un módulo o dentro de una expresión. No es necesario renunciar a la escritura dinámica: utilice la escritura estática cuando tenga sentido. A menudo, el simple hecho de agregar firmas de funciones le proporciona un código escrito estáticamente. Mypy puede inferir los tipos de otras variables."
   ]
  },
  {
   "cell_type": "markdown",
   "metadata": {},
   "source": [
    "### Sintaxis de Python\n",
    "El tipo Mypy comprueba los programas que tienen anotaciones de tipo que cumplen con [PEP 484](https://www.python.org/dev/peps/pep-0484/). Empezar es fácil si conoce Python. El objetivo es admitir casi todas las construcciones del lenguaje Python en mypy."
   ]
  },
  {
   "cell_type": "markdown",
   "metadata": {},
   "source": [
    "### Instalación\n",
    "\n",
    "Mypy requiere Python 3.5 o una versión superior para ejecutarse. Para instalar Mypy se debe ejecutar por terminal:\n",
    "\n",
    "```terminal\n",
    "# using pip (pip3)\n",
    "$ pip install mypy\n",
    "\n",
    "# using pipenv\n",
    "$ pipenv install mypy\n",
    "\n",
    "# using poetry\n",
    "$ poetry add mypy\n",
    "```"
   ]
  },
  {
   "cell_type": "markdown",
   "metadata": {},
   "source": [
    "### Uso\n",
    "\n",
    "Para archivos de manera individual (ejemplo `algo.py`), se debe ejecutar por terminal la sentencia:\n",
    "```terminal\n",
    "$ mypy algo.py\n",
    "```\n",
    "\n"
   ]
  },
  {
   "cell_type": "markdown",
   "metadata": {},
   "source": [
    "## Formas de uso\n",
    "\n",
    "Aquí hay algunos programas de ejemplo de mypy. Cada ejemplo tiene código Python/mypy escrito dinámicamente y código mypy escrito estáticamente equivalente lado a lado. Todos los programas siguen siendo válidos en Python 3.x. Se destacan todas las diferencias entre las variantes."
   ]
  },
  {
   "cell_type": "markdown",
   "metadata": {},
   "source": [
    "### Frecuencias de palabras con un diccionario\n",
    "\n",
    "En este ejemplo, agregamos una declaración de tipo explícita para la variable `d`, ya que no es obvio en el contexto local."
   ]
  },
  {
   "cell_type": "markdown",
   "metadata": {},
   "source": [
    "<img src=\"images/html_02.png\"   align = \"center\">"
   ]
  },
  {
   "cell_type": "markdown",
   "metadata": {},
   "source": [
    "\n",
    "#### Mypy with static typing"
   ]
  },
  {
   "cell_type": "code",
   "execution_count": 1,
   "metadata": {},
   "outputs": [
    {
     "name": "stdout",
     "output_type": "stream",
     "text": [
      "Overwriting example_01.py\n"
     ]
    }
   ],
   "source": [
    "%%writefile example_01.py\n",
    "# Display the frequencies of words in a file.\n",
    "import sys\n",
    "import re\n",
    "\n",
    "\n",
    "if not sys.argv[1:]:\n",
    "    raise RuntimeError('Usage: wordfreq FILE')\n",
    "\n",
    "d = {}\n",
    "\n",
    "with open(sys.argv[1]) as f:\n",
    "    for s in f:\n",
    "        for word in re.sub('\\W', ' ', s).split():\n",
    "            d[word] = d.get(word, 0) + 1\n",
    "\n",
    "# Use list comprehension\n",
    "l = [(freq, word) for word, freq in d.items()]\n",
    "\n",
    "for freq, word in sorted(l):\n",
    "    print('%-6d %s' % (freq, word))"
   ]
  },
  {
   "cell_type": "code",
   "execution_count": 2,
   "metadata": {},
   "outputs": [
    {
     "name": "stdout",
     "output_type": "stream",
     "text": [
      "example_01.py:9: \u001b[1m\u001b[31merror:\u001b[m Need type annotation for 'd' (hint: \u001b[m\u001b[1m\"d: Dict[<type>, <type>] = ...\"\u001b[m)\u001b[m\r\n",
      "\u001b[1m\u001b[31mFound 1 error in 1 file (checked 1 source file)\u001b[m\r\n"
     ]
    }
   ],
   "source": [
    "!mypy ./example_01.py"
   ]
  },
  {
   "cell_type": "markdown",
   "metadata": {},
   "source": [
    "#### Mypy with dynamic typing"
   ]
  },
  {
   "cell_type": "code",
   "execution_count": 3,
   "metadata": {},
   "outputs": [
    {
     "name": "stdout",
     "output_type": "stream",
     "text": [
      "Writing example_02.py\n"
     ]
    }
   ],
   "source": [
    "%%writefile example_02.py\n",
    "# Display the frequencies of words in a file.\n",
    "\n",
    "import sys\n",
    "import re\n",
    "from typing import Dict\n",
    "\n",
    "if not sys.argv[1:]:\n",
    "    raise RuntimeError('Usage: wordfreq FILE')\n",
    "\n",
    "d = {}  # type: Dict[str, int]\n",
    "\n",
    "with open(sys.argv[1]) as f:\n",
    "    for s in f:\n",
    "        for word in re.sub('\\W', ' ', s).split():\n",
    "            d[word] = d.get(word, 0) + 1\n",
    "\n",
    "# Use list comprehension\n",
    "l = [(freq, word) for word, freq in d.items()]\n",
    "\n",
    "for freq, word in sorted(l):\n",
    "    print('%-6d %s' % (freq, word))"
   ]
  },
  {
   "cell_type": "code",
   "execution_count": 4,
   "metadata": {},
   "outputs": [
    {
     "name": "stdout",
     "output_type": "stream",
     "text": [
      "\u001b[1m\u001b[32mSuccess: no issues found in 1 source file\u001b[m\r\n"
     ]
    }
   ],
   "source": [
    "!mypy ./example_02.py"
   ]
  },
  {
   "cell_type": "markdown",
   "metadata": {},
   "source": [
    "### Clase simple\n",
    "\n",
    "En este ejemplo, elegimos usar números enteros para representar el balance. Esto estaría bien en un juego, por ejemplo, pero en otras aplicaciones, un tipo diferente tendría más sentido."
   ]
  },
  {
   "cell_type": "markdown",
   "metadata": {},
   "source": [
    "<img src=\"images/html_03.png\"   align = \"center\">"
   ]
  },
  {
   "cell_type": "markdown",
   "metadata": {},
   "source": [
    "\n",
    "#### Mypy with static typing"
   ]
  },
  {
   "cell_type": "code",
   "execution_count": 5,
   "metadata": {},
   "outputs": [
    {
     "name": "stdout",
     "output_type": "stream",
     "text": [
      "Overwriting example_01.py\n"
     ]
    }
   ],
   "source": [
    "%%writefile example_01.py\n",
    "class BankAccount:\n",
    "    def __init__(self, initial_balance=0):\n",
    "        self.balance = initial_balance\n",
    "    def deposit(self, amount):\n",
    "        self.balance += amount\n",
    "    def withdraw(self, amount):\n",
    "        self.balance -= amount\n",
    "    def overdrawn(self):\n",
    "        return self.balance < 0\n",
    "\n",
    "my_account = BankAccount(15)\n",
    "my_account.withdraw(5)\n",
    "print(my_account.balance)"
   ]
  },
  {
   "cell_type": "code",
   "execution_count": 6,
   "metadata": {},
   "outputs": [
    {
     "name": "stdout",
     "output_type": "stream",
     "text": [
      "\u001b[1m\u001b[32mSuccess: no issues found in 1 source file\u001b[m\r\n"
     ]
    }
   ],
   "source": [
    "!mypy example_01.py"
   ]
  },
  {
   "cell_type": "markdown",
   "metadata": {},
   "source": [
    "#### Mypy with dynamic typing"
   ]
  },
  {
   "cell_type": "code",
   "execution_count": 7,
   "metadata": {},
   "outputs": [
    {
     "name": "stdout",
     "output_type": "stream",
     "text": [
      "Overwriting example_02.py\n"
     ]
    }
   ],
   "source": [
    "%%writefile example_02.py\n",
    "class BankAccount:\n",
    "    def __init__(self, initial_balance: int = 0) -> None:\n",
    "        self.balance = initial_balance\n",
    "    def deposit(self, amount: int) -> None:\n",
    "        self.balance += amount\n",
    "    def withdraw(self, amount: int) -> None:\n",
    "        self.balance -= amount\n",
    "    def overdrawn(self) -> bool:\n",
    "        return self.balance < 0\n",
    "\n",
    "my_account = BankAccount(15)\n",
    "my_account.withdraw(5)\n",
    "print(my_account.balance)"
   ]
  },
  {
   "cell_type": "code",
   "execution_count": 8,
   "metadata": {},
   "outputs": [
    {
     "name": "stdout",
     "output_type": "stream",
     "text": [
      "\u001b[1m\u001b[32mSuccess: no issues found in 1 source file\u001b[m\r\n"
     ]
    }
   ],
   "source": [
    "!mypy ./example_02.py"
   ]
  },
  {
   "cell_type": "markdown",
   "metadata": {},
   "source": [
    "### Números primos con generadores\n",
    "\n",
    "Como el ejemplo de la cuenta bancaria, esto fue adaptado de la wiki de Python."
   ]
  },
  {
   "cell_type": "markdown",
   "metadata": {},
   "source": [
    "<img src=\"images/html_04.png\"  align = \"center\">"
   ]
  },
  {
   "cell_type": "markdown",
   "metadata": {},
   "source": [
    "\n",
    "#### Mypy with static typing"
   ]
  },
  {
   "cell_type": "code",
   "execution_count": 9,
   "metadata": {},
   "outputs": [
    {
     "name": "stdout",
     "output_type": "stream",
     "text": [
      "Overwriting example_01.py\n"
     ]
    }
   ],
   "source": [
    "%%writefile example_01.py\n",
    "import itertools\n",
    "\n",
    "\n",
    "def iter_primes():\n",
    "    # An iterator of all numbers between 2 and\n",
    "    # +infinity\n",
    "    numbers = itertools.count(2)\n",
    "\n",
    "    # Generate primes forever\n",
    "    while True:\n",
    "        # Get the first number from the iterator\n",
    "        # (always a prime)\n",
    "        prime = next(numbers)\n",
    "        yield prime\n",
    "\n",
    "        # This code iteratively builds up a chain\n",
    "        # of filters...\n",
    "        numbers = filter(prime.__rmod__, numbers)\n",
    "\n",
    "for p in iter_primes():\n",
    "    if p > 1000:\n",
    "        break\n",
    "    print(p)"
   ]
  },
  {
   "cell_type": "code",
   "execution_count": 10,
   "metadata": {},
   "outputs": [
    {
     "name": "stdout",
     "output_type": "stream",
     "text": [
      "\u001b[1m\u001b[32mSuccess: no issues found in 1 source file\u001b[m\r\n"
     ]
    }
   ],
   "source": [
    "!mypy ./example_01.py"
   ]
  },
  {
   "cell_type": "markdown",
   "metadata": {},
   "source": [
    "#### Mypy with dynamic typing"
   ]
  },
  {
   "cell_type": "code",
   "execution_count": 11,
   "metadata": {},
   "outputs": [
    {
     "name": "stdout",
     "output_type": "stream",
     "text": [
      "Overwriting example_02.py\n"
     ]
    }
   ],
   "source": [
    "%%writefile example_02.py\n",
    "import itertools\n",
    "from typing import Iterator\n",
    "\n",
    "def iter_primes() -> Iterator[int]:\n",
    "    # An iterator of all numbers between 2 and\n",
    "    # +infinity\n",
    "    numbers = itertools.count(2)\n",
    "\n",
    "    # Generate primes forever\n",
    "    while True:\n",
    "        # Get the first number from the iterator\n",
    "        # (always a prime)\n",
    "        prime = next(numbers)\n",
    "        yield prime\n",
    "\n",
    "        # This code iteratively builds up a chain\n",
    "        # of filters...\n",
    "        numbers = filter(prime.__rmod__, numbers)\n",
    "\n",
    "for p in iter_primes():\n",
    "    if p > 1000:\n",
    "        break\n",
    "    print(p)"
   ]
  },
  {
   "cell_type": "code",
   "execution_count": 12,
   "metadata": {},
   "outputs": [
    {
     "name": "stdout",
     "output_type": "stream",
     "text": [
      "\u001b[1m\u001b[32mSuccess: no issues found in 1 source file\u001b[m\r\n"
     ]
    }
   ],
   "source": [
    "!mypy ./example_02.py"
   ]
  },
  {
   "cell_type": "markdown",
   "metadata": {},
   "source": [
    "**Observación**: al final de cada presentación, se eliminan los archivos que generamos de manera temporal."
   ]
  },
  {
   "cell_type": "code",
   "execution_count": 13,
   "metadata": {},
   "outputs": [],
   "source": [
    "!rm -r example_01.py example_02.py"
   ]
  }
 ],
 "metadata": {
  "kernelspec": {
   "display_name": "Python 3",
   "language": "python",
   "name": "python3"
  },
  "language_info": {
   "codemirror_mode": {
    "name": "ipython",
    "version": 3
   },
   "file_extension": ".py",
   "mimetype": "text/x-python",
   "name": "python",
   "nbconvert_exporter": "python",
   "pygments_lexer": "ipython3",
   "version": "3.8.8"
  }
 },
 "nbformat": 4,
 "nbformat_minor": 4
}

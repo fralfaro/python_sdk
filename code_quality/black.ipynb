{
 "cells": [
  {
   "cell_type": "markdown",
   "metadata": {},
   "source": [
    "# Black\n",
    "\n",
    "El formateador de código `black` en Python es una herramienta obstinada que formatea su código de la mejor manera posible. Puede consultar sus decisiones de diseño en el propio repositorio. Algunas decisiones de formato notables, en mi opinión:\n",
    "\n",
    "* A diferencia de `PEP8`, la longitud del código es de 88 caracteres, no de 79.\n",
    "* Uso de comillas dobles que comillas simples en cadenas.\n",
    "* Si hay muchos argumentos de función, cada argumento se ajustará por línea.\n",
    "\n",
    "Prefiero mantener la longitud recomendada de 79 caracteres. Menos mal, tienen la opción de hacerlo. Solo necesito configurar mi `pyproject.toml` a line-length = 79 y todo está listo. Aquí un ejemplo:"
   ]
  },
  {
   "cell_type": "markdown",
   "metadata": {},
   "source": [
    "\n",
    "\n",
    "```toml\n",
    "[tool.black]\n",
    "line-length = 79\n",
    "include = '\\.pyi?$'\n",
    "exclude = '''\n",
    "/(\n",
    "    \\.git\n",
    "  | \\.hg\n",
    "  | \\.mypy_cache\n",
    "  | \\.tox\n",
    "  | \\.venv\n",
    "  | _build\n",
    "  | buck-out\n",
    "  | build\n",
    "  | dist\n",
    ")/\n",
    "'''\n",
    "```"
   ]
  },
  {
   "cell_type": "markdown",
   "metadata": {},
   "source": [
    "Si no eres fanático de `black`, existe  `autopep8`, un formateador más fiel a `PEP8`. Lo bueno es que el marco de `pre-commit` ya tiene un `hook` en esta herramienta, por lo que no es necesario buscarlo en otro repositorio."
   ]
  },
  {
   "cell_type": "markdown",
   "metadata": {},
   "source": [
    "### Instalación\n",
    "\n",
    "Requiere Python 3.6.0+ para ejecutarse, pero también puede reformatear el código Python 2 con él.\n",
    "```terminal\n",
    "# using pip (pip3)\n",
    "$ pip install black\n",
    "\n",
    "# using pipenv\n",
    "$ pipenv install black\n",
    "\n",
    "# using poetry\n",
    "$ poetry add black\n",
    "```"
   ]
  },
  {
   "cell_type": "markdown",
   "metadata": {},
   "source": [
    "## Uso\n",
    "\n",
    "Veamos un ejemplo sencillo:"
   ]
  },
  {
   "cell_type": "code",
   "execution_count": 37,
   "metadata": {},
   "outputs": [
    {
     "name": "stdout",
     "output_type": "stream",
     "text": [
      "Overwriting example_01.py\n"
     ]
    }
   ],
   "source": [
    "%%writefile example_01.py\n",
    "def is_unique( \n",
    "               s \n",
    "               ): \n",
    "\n",
    "    s = list(s \n",
    "                ) \n",
    "    s.sort() \n",
    "  \n",
    "  \n",
    "    for i in range(len(s) - 1): \n",
    "        if s[i] == s[i + 1]: \n",
    "            return 0\n",
    "    else: \n",
    "        return 1\n",
    "  \n",
    "  \n",
    "if __name__ == \"__main__\": \n",
    "    print( \n",
    "          is_unique(input()) \n",
    "         )     "
   ]
  },
  {
   "cell_type": "markdown",
   "metadata": {},
   "source": [
    "Ocupemos black para formatear nuestro código:"
   ]
  },
  {
   "cell_type": "code",
   "execution_count": 38,
   "metadata": {},
   "outputs": [
    {
     "name": "stdout",
     "output_type": "stream",
     "text": [
      "\u001b[1mreformatted example_01.py\u001b[0m\n",
      "\u001b[1mAll done! ✨ 🍰 ✨\u001b[0m\n",
      "\u001b[1m1 file reformatted\u001b[0m.\u001b[0m\n"
     ]
    }
   ],
   "source": [
    "!python -m black  example_01.py"
   ]
  },
  {
   "cell_type": "markdown",
   "metadata": {},
   "source": [
    "Veamos los resultados del código formateado:"
   ]
  },
  {
   "cell_type": "code",
   "execution_count": 35,
   "metadata": {},
   "outputs": [
    {
     "name": "stdout",
     "output_type": "stream",
     "text": [
      "def is_unique(s):\n",
      "\n",
      "    s = list(s)\n",
      "    s.sort()\n",
      "\n",
      "    for i in range(len(s) - 1):\n",
      "        if s[i] == s[i + 1]:\n",
      "            return 0\n",
      "    else:\n",
      "        return 1\n",
      "\n",
      "\n",
      "if __name__ == \"__main__\":\n",
      "    print(is_unique(input()))\n"
     ]
    }
   ],
   "source": [
    "!cat example_01.py"
   ]
  },
  {
   "cell_type": "markdown",
   "metadata": {},
   "source": [
    "Si usted quiere ver más opciones de black (mediante línea de comando), ejecute:"
   ]
  },
  {
   "cell_type": "code",
   "execution_count": 36,
   "metadata": {},
   "outputs": [
    {
     "name": "stdout",
     "output_type": "stream",
     "text": [
      "Usage: __main__.py [OPTIONS] [SRC]...\n",
      "\n",
      "  The uncompromising code formatter.\n",
      "\n",
      "Options:\n",
      "  -c, --code TEXT                 Format the code passed in as a string.\n",
      "  -l, --line-length INTEGER       How many characters per line to allow.\n",
      "                                  [default: 88]\n",
      "\n",
      "  -t, --target-version [py27|py33|py34|py35|py36|py37|py38]\n",
      "                                  Python versions that should be supported by\n",
      "                                  Black's output. [default: per-file auto-\n",
      "                                  detection]\n",
      "\n",
      "  --pyi                           Format all input files like typing stubs\n",
      "                                  regardless of file extension (useful when\n",
      "                                  piping source on standard input).\n",
      "\n",
      "  -S, --skip-string-normalization\n",
      "                                  Don't normalize string quotes or prefixes.\n",
      "  --check                         Don't write the files back, just return the\n",
      "                                  status.  Return code 0 means nothing would\n",
      "                                  change.  Return code 1 means some files\n",
      "                                  would be reformatted. Return code 123 means\n",
      "                                  there was an internal error.\n",
      "\n",
      "  --diff                          Don't write the files back, just output a\n",
      "                                  diff for each file on stdout.\n",
      "\n",
      "  --color / --no-color            Show colored diff. Only applies when\n",
      "                                  `--diff` is given.\n",
      "\n",
      "  --fast / --safe                 If --fast given, skip temporary sanity\n",
      "                                  checks. [default: --safe]\n",
      "\n",
      "  --include TEXT                  A regular expression that matches files and\n",
      "                                  directories that should be included on\n",
      "                                  recursive searches.  An empty value means\n",
      "                                  all files are included regardless of the\n",
      "                                  name.  Use forward slashes for directories\n",
      "                                  on all platforms (Windows, too).  Exclusions\n",
      "                                  are calculated first, inclusions later.\n",
      "                                  [default: \\.pyi?$]\n",
      "\n",
      "  --exclude TEXT                  A regular expression that matches files and\n",
      "                                  directories that should be excluded on\n",
      "                                  recursive searches.  An empty value means no\n",
      "                                  paths are excluded. Use forward slashes for\n",
      "                                  directories on all platforms (Windows, too).\n",
      "                                  Exclusions are calculated first, inclusions\n",
      "                                  later.  [default: /(\\.direnv|\\.eggs|\\.git|\\.\n",
      "                                  hg|\\.mypy_cache|\\.nox|\\.tox|\\.venv|\\.svn|_bu\n",
      "                                  ild|buck-out|build|dist)/]\n",
      "\n",
      "  --force-exclude TEXT            Like --exclude, but files and directories\n",
      "                                  matching this regex will be excluded even\n",
      "                                  when they are passed explicitly as arguments\n",
      "\n",
      "  -q, --quiet                     Don't emit non-error messages to stderr.\n",
      "                                  Errors are still emitted; silence those with\n",
      "                                  2>/dev/null.\n",
      "\n",
      "  -v, --verbose                   Also emit messages to stderr about files\n",
      "                                  that were not changed or were ignored due to\n",
      "                                  --exclude=.\n",
      "\n",
      "  --version                       Show the version and exit.\n",
      "  --config FILE                   Read configuration from FILE path.\n",
      "  -h, --help                      Show this message and exit.\n"
     ]
    }
   ],
   "source": [
    "!python -m black --help"
   ]
  },
  {
   "cell_type": "markdown",
   "metadata": {},
   "source": [
    "**Observación**: al final de cada presentación, se eliminan los archivos que generamos de manera temporal."
   ]
  },
  {
   "cell_type": "code",
   "execution_count": 1,
   "metadata": {},
   "outputs": [],
   "source": [
    "# eliminar archivos temporales\n",
    "!rm -r *.py"
   ]
  }
 ],
 "metadata": {
  "kernelspec": {
   "display_name": "Python 3",
   "language": "python",
   "name": "python3"
  },
  "language_info": {
   "codemirror_mode": {
    "name": "ipython",
    "version": 3
   },
   "file_extension": ".py",
   "mimetype": "text/x-python",
   "name": "python",
   "nbconvert_exporter": "python",
   "pygments_lexer": "ipython3",
   "version": "3.8.8"
  }
 },
 "nbformat": 4,
 "nbformat_minor": 4
}

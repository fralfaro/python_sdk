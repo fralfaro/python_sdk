{
 "cells": [
  {
   "cell_type": "markdown",
   "metadata": {},
   "source": [
    "\n",
    "# Introducción\n",
    "Por supuesto que desea un código de calidad, ¿quién no?, pero para mejorar la calidad del código, tenemos que definir qué es.\n",
    "\n",
    "Una búsqueda rápida en Google produce muchos resultados que definen la calidad del código. Resulta que el término puede significar muchas cosas diferentes para las personas.\n",
    "\n",
    "Una forma de intentar definir la calidad del código es observar un extremo del espectro: el código de alta calidad. Con suerte, puede aceptar los siguientes identificadores de código de alta calidad:\n",
    "\n",
    "* Hace lo que se supone que debe hacer.\n",
    "* No contiene defectos ni problemas.\n",
    "* Es fácil de leer, mantener y ampliar.\n",
    "\n",
    "Estos tres identificadores, aunque simplistas, parecen estar de acuerdo en general. En un esfuerzo por expandir estas ideas aún más, profundicemos en por qué cada una es importante en el ámbito del software."
   ]
  },
  {
   "cell_type": "markdown",
   "metadata": {},
   "source": [
    "## ¿Por qué importa la calidad del código?\n",
    "\n",
    "\n",
    "### No hace lo que se supone que debe hacer\n",
    "El cumplimiento de los requisitos es la base de cualquier producto, software o de otro tipo. Creamos software para hacer algo. Si al final, no funciona ... bueno, definitivamente no es de alta calidad. Si no cumple con los requisitos básicos, es difícil incluso llamarlo de baja calidad.\n",
    "\n",
    "### Contiene defectos y problemas.\n",
    "Si algo que está usando tiene problemas o le causa problemas, probablemente no lo llamaría de alta calidad. De hecho, si es lo suficientemente malo, puede dejar de usarlo por completo.\n",
    "\n",
    "Por el bien de no usar software como ejemplo, digamos que su aspiradora funciona muy bien en una alfombra normal. Limpia todo el polvo y el pelo de gato. Una noche fatídica, el gato derriba una planta y derrama tierra por todas partes. Cuando intentas usar la aspiradora para limpiar la pila de suciedad, se rompe y arroja suciedad por todas partes.\n",
    "\n",
    "Si bien la aspiradora funcionó en algunas circunstancias, no manejó de manera eficiente la carga adicional ocasional. Por lo tanto, no lo llamaría una aspiradora de alta calidad. Ese es un problema que queremos evitar en nuestro código. Si las cosas se rompen en los casos extremos y los defectos causan un comportamiento no deseado, no tenemos un producto de alta calidad.\n",
    "\n",
    "### Es difícil de leer, mantener o ampliar\n",
    "Imagínese esto: un cliente solicita una nueva función. La persona que escribió el código original ya no está. La persona que los ha reemplazado ahora tiene que entender el código que ya está allí. Esa persona eres tú.\n",
    "\n",
    "Si el código es fácil de comprender, podrá analizar el problema y encontrar una solución mucho más rápido. Si el código es complejo y enrevesado, probablemente tardará más y posiblemente haga algunas suposiciones incorrectas.\n",
    "\n",
    "También es bueno si es fácil agregar la nueva función sin interrumpir las funciones anteriores. Si el código no es fácil de extender, su nueva característica podría romper otras cosas. Nadie quiere estar en la posición de tener que leer, mantener o ampliar código de baja calidad. Significa más dolores de cabeza y más trabajo para todos.\n",
    "\n",
    "Ya es bastante malo que tengas que lidiar con código de baja calidad, pero no pongas a otra persona en la misma situación. Puede mejorar la calidad del código que escribe.\n",
    "\n",
    "Si trabaja con un equipo de desarrolladores, puede comenzar a implementar métodos para garantizar una mejor calidad general del código. Suponiendo que cuente con su apoyo, por supuesto. Puede que tengas que convencer a algunas personas (no dudes en enviarles este artículo 😃)."
   ]
  },
  {
   "cell_type": "markdown",
   "metadata": {},
   "source": [
    "## Cómo mejorar la calidad del código Python\n",
    "Hay algunas cosas a considerar en nuestro viaje hacia un código de alta calidad. Primero, este viaje no es de pura objetividad. Hay algunas sensaciones fuertes sobre el aspecto del código de alta calidad.\n",
    "\n",
    "Si bien es de esperar que todos puedan estar de acuerdo con los identificadores mencionados anteriormente, la forma en que se logran es un camino subjetivo. Los temas más obstinados suelen surgir cuando se habla de lograr legibilidad, mantenimiento y extensibilidad.\n",
    "\n",
    "Así que tenga en cuenta que, si bien este artículo intentará ser objetivo en todo momento, hay un mundo muy obstinado cuando se trata de código.\n",
    "\n",
    "Entonces, comencemos con el tema más obstinado: el estilo del código."
   ]
  },
  {
   "cell_type": "markdown",
   "metadata": {},
   "source": [
    "### Guías de estilo (Style Guides)\n",
    "La vieja pregunta: ¿espacios o tabulaciones?. Independientemente de su opinión personal sobre cómo representar los espacios en blanco, es seguro asumir que al menos desea coherencia en el código.\n",
    "\n",
    "Una guía de estilo sirve para definir una forma coherente de escribir su código. Por lo general, todo esto es cosmético, lo que significa que no cambia el resultado lógico del código. Aunque, algunas elecciones estilísticas evitan errores lógicos comunes.\n",
    "\n",
    "Las guías de estilo sirven para ayudar a facilitar el objetivo de hacer que el código sea fácil de leer, mantener y ampliar.\n",
    "\n",
    "En lo que respecta a Python, existe un estándar bien aceptado. Fue escrito, en parte, por el autor del propio lenguaje de programación Python.\n",
    "\n",
    "[PEP 8](https://pep8.org/) proporciona convenciones de codificación para el código Python. Es bastante común que el código Python siga esta guía de estilo. Es un gran lugar para comenzar, ya que está bien definido.\n",
    "\n",
    "Una propuesta hermana de Python Enhancement, [PEP 257](https://www.python.org/dev/peps/pep-0257/) describe las convenciones para las cadenas de documentos de Python, que son cadenas destinadas a documentar módulos, clases, funciones y métodos. Como beneficio adicional, si las cadenas de documentos son consistentes, existen herramientas capaces de generar documentación directamente desde el código.\n",
    "\n",
    "Todo lo que hacen estas guías es definir una forma de diseñar el código. Pero, ¿cómo lo haces cumplir? ¿Y qué pasa con los defectos y problemas en el código, cómo se pueden detectar? Ahí es donde entran en juego los linters."
   ]
  },
  {
   "cell_type": "markdown",
   "metadata": {},
   "source": [
    "### Linters\n",
    "\n",
    "Primero, hablemos de Linter. Esos pequeños y molestos defectos que de alguna manera manchan tu ropa. La ropa se ve y se siente mucho mejor sin toda esas pelusa. Tu código no es diferente. Pequeños errores, inconsistencias estilísticas y lógica peligrosa no hacen que su código se sienta bien.\n",
    "\n",
    "Pero todos cometemos errores. No puede esperar que los atrape siempre a tiempo. Nombres de variables mal escritos, olvidar un corchete de cierre, tabulación incorrecta en Python, llamar a una función con el número incorrecto de argumentos, la lista sigue y sigue. Linters ayudan a identificar esas áreas problemáticas.\n",
    "\n",
    "Además, la mayoría de los editores e IDE tienen la capacidad de ejecutar linters en segundo plano mientras escribe. Esto da como resultado un entorno capaz de resaltar, subrayar o identificar áreas problemáticas en el código antes de ejecutarlo. Es como un corrector ortográfico avanzado para el código. Subraya los problemas con líneas rojas onduladas, como lo hace su procesador de texto favorito.\n",
    "\n",
    "Linters analiza el código para detectar varias categorías de linters. Esas categorías pueden definirse ampliamente como las siguientes:\n",
    "\n",
    "* **Logical Lint**\n",
    " * Errores de código\n",
    " * Código con resultados potencialmente no deseados\n",
    " * Patrones de código peligrosos\n",
    " \n",
    " \n",
    " \n",
    "* **Stylistic Lint**\n",
    " * Código que no se ajusta a las convenciones definidas\n",
    " \n",
    "También hay herramientas de análisis de código que brindan otros conocimientos sobre su código. Aunque tal vez no sean linters por definición, estas herramientas generalmente se usan junto con linters. Ellos también esperan mejorar la calidad del código.\n",
    "\n",
    "Finalmente, existen herramientas que formatean automáticamente el código según alguna especificación. Estas herramientas automatizadas garantizan que nuestras mentes humanas inferiores no estropeen las convenciones"
   ]
  },
  {
   "cell_type": "markdown",
   "metadata": {},
   "source": [
    "##  Linters para Python\n",
    "Antes de profundizar en sus opciones, es importante reconocer que algunos \"linters\" son solo varios linters empaquetados muy bien juntos. Algunos ejemplos populares de esos combo-linters son los siguientes:\n",
    "\n",
    "* **Flake8**: Capaz de detectar pelusa tanto lógica como estilística. Agrega las comprobaciones de estilo y complejidad de pycodestyle a la detección lógica de pelusa de PyFlakes. Combina los siguientes linters:\n",
    " * PyFlakes\n",
    " * pycodestyle (anteriormente pep8)\n",
    " * Mccabe\n",
    "\n",
    "\n",
    "* **Pylama**: una herramienta de auditoría de código compuesta por una gran cantidad de linters y otras herramientas para analizar código. Combina lo siguiente:\n",
    "\n",
    " * pycodestyle (anteriormente pep8)\n",
    " * pydocstyle (anteriormente pep257)\n",
    " * PyFlakes\n",
    " * Mccabe\n",
    " * Pylint\n",
    " * Radón\n",
    " * gjslint\n",
    " \n",
    "Aquí hay algunos linters independientes categorizados con breves descripciones:"
   ]
  },
  {
   "cell_type": "markdown",
   "metadata": {},
   "source": [
    "| Linter      | Category            | Description                                                                  |\n",
    "|-------------|---------------------|------------------------------------------------------------------------------|\n",
    "| Pylint      | Logical & Stylistic | Checks for errors, tries to enforce a coding standard, looks for code smells |\n",
    "| PyFlakes    | Logical             | Analyzes programs and detects various errors                                 |\n",
    "| pycodestyle | Stylistic           | Checks against some of the style conventions in PEP 8                        |\n",
    "| pydocstyle  | Stylistic           | Checks compliance with Python docstring conventions                          |\n",
    "| Bandit      | Logical             | Analyzes code to find common security issues                                 |\n",
    "| MyPy        | Logical             | Checks for optionally-enforced static types                                  |"
   ]
  },
  {
   "cell_type": "markdown",
   "metadata": {},
   "source": [
    "Y aquí hay algunas herramientas de formato y análisis de código:"
   ]
  },
  {
   "cell_type": "markdown",
   "metadata": {},
   "source": [
    "| Tool   | Category   | Description                                                              |\n",
    "|--------|------------|--------------------------------------------------------------------------|\n",
    "| Mccabe | Analytical | Checks McCabe complexity                                                 |\n",
    "| Radon  | Analytical | Analyzes code for various metrics (lines of code, complexity, and so on) |\n",
    "| Black  | Formatter  | Formats Python code without compromise                                   |\n",
    "| Isort  | Formatter  | Formats imports by sorting alphabetically and separating into sections   |"
   ]
  }
 ],
 "metadata": {
  "kernelspec": {
   "display_name": "Python 3",
   "language": "python",
   "name": "python3"
  },
  "language_info": {
   "codemirror_mode": {
    "name": "ipython",
    "version": 3
   },
   "file_extension": ".py",
   "mimetype": "text/x-python",
   "name": "python",
   "nbconvert_exporter": "python",
   "pygments_lexer": "ipython3",
   "version": "3.8.10"
  }
 },
 "nbformat": 4,
 "nbformat_minor": 4
}

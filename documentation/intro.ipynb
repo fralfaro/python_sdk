{
 "cells": [
  {
   "cell_type": "markdown",
   "id": "10332230",
   "metadata": {},
   "source": [
    "# Introducción\n",
    "\n",
    "Bienvenido a su guía completa para documentar el código Python. Si está leyendo este tutorial, ya sabe la importancia de documentar su código. Pero si no, permítanme citar algo que Guido me mencionó en una PyCon reciente:\n",
    "\n",
    "> **Code is more often read than written** — Guido van Rossum\n",
    "\n",
    "Cuando escribe código, lo escribe para dos públicos principales: sus usuarios y sus desarrolladores (incluido usted mismo). Ambos públicos son igualmente importantes. Si eres como yo, probablemente hayas abierto bases de código antiguas y te hayas preguntado: \"¿En qué diablos estaba pensando?\" Si tiene problemas para leer su propio código, imagine lo que están experimentando sus usuarios u otros desarrolladores cuando intentan utilizar o contribuir a su código.\n",
    "\n",
    "Por el contrario, estoy seguro de que te has encontrado con una situación en la que querías hacer algo en Python y encontraste lo que parece una gran biblioteca que puede hacer el trabajo. Sin embargo, cuando comienza a usar la biblioteca, busca ejemplos, reseñas o incluso documentación oficial sobre cómo hacer algo específico y no puede encontrar la solución de inmediato.\n",
    "\n",
    "Después de buscar, se da cuenta de que falta la documentación o, lo que es peor, falta por completo. Este es un sentimiento frustrante que lo disuade de usar la biblioteca, sin importar cuán bueno o eficiente sea el código. Daniele Procida resumió mejor esta situación:\n",
    "\n",
    "> **It doesn’t matter how good your software is, because if the documentation is not good enough, people will not use it** — Daniele Procida\n",
    "\n",
    "En esta guía, aprenderá desde cero cómo documentar correctamente su código Python, desde los scripts más pequeños hasta los proyectos Python más grandes, para ayudar a evitar que sus usuarios se sientan demasiado frustrados para usar o contribuir a su proyecto."
   ]
  }
 ],
 "metadata": {
  "jupytext": {
   "cell_metadata_filter": "-all",
   "main_language": "python",
   "notebook_metadata_filter": "-all",
   "text_representation": {
    "extension": ".md",
    "format_name": "markdown"
   }
  }
 },
 "nbformat": 4,
 "nbformat_minor": 5
}

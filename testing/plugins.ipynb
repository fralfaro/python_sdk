{
 "cells": [
  {
   "cell_type": "markdown",
   "metadata": {},
   "source": [
    "# Pytest Plugins\n",
    "\n",
    "## Introducción \n",
    "\n",
    "Esta sección habla sobre la instalación y el uso de complementos de terceros.\n",
    "\n",
    "La instalación de un complemento de terceros se puede hacer fácilmente con `pip`:\n",
    "\n",
    "```terminal\n",
    "pip install pytest-NAME\n",
    "pip uninstall pytest-NAME\n",
    "```\n",
    "\n",
    "Si se instala un complemento, `pytest` lo encuentra e integra automáticamente, no es necesario activarlo.\n",
    "\n",
    "Aquí hay una pequeña lista anotada de algunos complementos populares:\n",
    "\n",
    "* **pytest-django**: write tests for django apps, using pytest integration.\n",
    "* **pytest-twisted**: write tests for twisted apps, starting a reactor and processing deferreds from test functions.\n",
    "* **pytest-cov**: coverage reporting, compatible with distributed testing\n",
    "* **pytest-xdist**: to distribute tests to CPUs and remote hosts, to run in boxed mode which allows to survive segmentation faults, to run in looponfailing mode, automatically re-running failing tests on file changes.\n",
    "* **pytest-instafail**: to report failures while the test run is happening.\n",
    "* **pytest-bdd**: to write tests using behaviour-driven testing.\n",
    "* **pytest-timeout**: to timeout tests based on function marks or global definitions.\n",
    "* **pytest-pep8**: a `--pep8` option to enable PEP8 compliance checking.\n",
    "* **pytest-flakes**: check source code with pyflakes.\n",
    "* **oejskit**: a plugin to run javascript unittests in live browsers.\n",
    "\n",
    "Para ver una lista completa de todos los complementos con su último estado de prueba contra diferentes versiones de pytest y Python, visite [plugincompat](http://plugincompat.herokuapp.com/)."
   ]
  },
  {
   "cell_type": "markdown",
   "metadata": {},
   "source": [
    "## Pytest Coverage\n",
    "\n",
    "Este plugin produce informes de cobertura. En comparación con el uso de `coverage run`, este complemento tiene algunos extras:\n",
    "\n",
    "* Soporte de subprocesos: puede bifurcar o ejecutar cosas en un subproceso y estará cubierto sin ningún problema.\n",
    "* Soporte de `Xdist`: puede usar todas las funciones de pytest-xdist y aún obtener cobertura.\n",
    "* Comportamiento constante de Pytest. Si ejecuta la sentencia `coverage run -m pytest`, tendrá `sys.path` ligeramente diferente (CWD estará en él, a diferencia de cuando se ejecuta `pytest`)."
   ]
  },
  {
   "cell_type": "markdown",
   "metadata": {},
   "source": [
    "### Reporting\n",
    "\n",
    "* Es posible generar cualquier combinación de informes para una sola ejecución de test.\n",
    "* Los informes disponibles son terminales (con o sin los números de línea que faltan), HTML, XML y código fuente anotado.\n",
    "\n",
    "Lo primero es replicar el ejemplo de la seción **Unit testing: Pytest**:\n"
   ]
  },
  {
   "cell_type": "markdown",
   "metadata": {},
   "source": [
    "1.- El informe del terminal sin números de línea (default):"
   ]
  },
  {
   "cell_type": "code",
   "execution_count": 2,
   "metadata": {},
   "outputs": [
    {
     "name": "stdout",
     "output_type": "stream",
     "text": [
      "\u001b[1m============================= test session starts ==============================\u001b[0m\n",
      "platform linux -- Python 3.8.5, pytest-5.4.3, py-1.10.0, pluggy-0.13.1\n",
      "rootdir: /home/fralfaro/PycharmProjects/python_development_tools/python_development_tools/testing\n",
      "plugins: hypothesis-5.49.0, cov-2.11.1\n",
      "collected 7 items                                                              \u001b[0m\n",
      "\n",
      "src/tests/algo_test.py \u001b[32m.\u001b[0m\u001b[32m.\u001b[0m\u001b[32m.\u001b[0m\u001b[32m.\u001b[0m\u001b[32m                                              [ 57%]\u001b[0m\n",
      "src/tests/srel_test.py \u001b[32m.\u001b[0m\u001b[32m.\u001b[0m\u001b[32m.\u001b[0m\u001b[32m                                               [100%]\u001b[0m\n",
      "\n",
      "----------- coverage: platform linux, python 3.8.5-final-0 -----------\n",
      "Name                     Stmts   Miss  Cover\n",
      "--------------------------------------------\n",
      "src/tests/__init__.py        0      0   100%\n",
      "src/tests/algo_test.py      15      0   100%\n",
      "src/tests/srel_test.py       6      0   100%\n",
      "src/utils/__init__.py        0      0   100%\n",
      "src/utils/algo.py           24      0   100%\n",
      "src/utils/srel.py            2      0   100%\n",
      "--------------------------------------------\n",
      "TOTAL                       47      0   100%\n",
      "\n",
      "\n",
      "\u001b[32m============================== \u001b[32m\u001b[1m7 passed\u001b[0m\u001b[32m in 0.09s\u001b[0m\u001b[32m ===============================\u001b[0m\n"
     ]
    }
   ],
   "source": [
    "!pytest --cov-report term --cov=src"
   ]
  },
  {
   "cell_type": "markdown",
   "metadata": {},
   "source": [
    "2.- El informe de la terminal con números de línea:"
   ]
  },
  {
   "cell_type": "code",
   "execution_count": 3,
   "metadata": {},
   "outputs": [
    {
     "name": "stdout",
     "output_type": "stream",
     "text": [
      "\u001b[1m============================= test session starts ==============================\u001b[0m\n",
      "platform linux -- Python 3.8.5, pytest-5.4.3, py-1.10.0, pluggy-0.13.1\n",
      "rootdir: /home/fralfaro/PycharmProjects/python_development_tools/python_development_tools/testing\n",
      "plugins: hypothesis-5.49.0, cov-2.11.1\n",
      "collected 7 items                                                              \u001b[0m\n",
      "\n",
      "src/tests/algo_test.py \u001b[32m.\u001b[0m\u001b[32m.\u001b[0m\u001b[32m.\u001b[0m\u001b[32m.\u001b[0m\u001b[32m                                              [ 57%]\u001b[0m\n",
      "src/tests/srel_test.py \u001b[32m.\u001b[0m\u001b[32m.\u001b[0m\u001b[32m.\u001b[0m\u001b[32m                                               [100%]\u001b[0m\n",
      "\n",
      "----------- coverage: platform linux, python 3.8.5-final-0 -----------\n",
      "Name                     Stmts   Miss  Cover   Missing\n",
      "------------------------------------------------------\n",
      "src/tests/__init__.py        0      0   100%\n",
      "src/tests/algo_test.py      15      0   100%\n",
      "src/tests/srel_test.py       6      0   100%\n",
      "src/utils/__init__.py        0      0   100%\n",
      "src/utils/algo.py           24      0   100%\n",
      "src/utils/srel.py            2      0   100%\n",
      "------------------------------------------------------\n",
      "TOTAL                       47      0   100%\n",
      "\n",
      "\n",
      "\u001b[32m============================== \u001b[32m\u001b[1m7 passed\u001b[0m\u001b[32m in 0.10s\u001b[0m\u001b[32m ===============================\u001b[0m\n"
     ]
    }
   ],
   "source": [
    "!pytest --cov-report term-missing --cov=src"
   ]
  },
  {
   "cell_type": "markdown",
   "metadata": {},
   "source": [
    "3.- El informe de la terminal con `skip covered`:"
   ]
  },
  {
   "cell_type": "code",
   "execution_count": 4,
   "metadata": {},
   "outputs": [
    {
     "name": "stdout",
     "output_type": "stream",
     "text": [
      "\u001b[1m============================= test session starts ==============================\u001b[0m\n",
      "platform linux -- Python 3.8.5, pytest-5.4.3, py-1.10.0, pluggy-0.13.1\n",
      "rootdir: /home/fralfaro/PycharmProjects/python_development_tools/python_development_tools/testing\n",
      "plugins: hypothesis-5.49.0, cov-2.11.1\n",
      "collected 7 items                                                              \u001b[0m\n",
      "\n",
      "src/tests/algo_test.py \u001b[32m.\u001b[0m\u001b[32m.\u001b[0m\u001b[32m.\u001b[0m\u001b[32m.\u001b[0m\u001b[32m                                              [ 57%]\u001b[0m\n",
      "src/tests/srel_test.py \u001b[32m.\u001b[0m\u001b[32m.\u001b[0m\u001b[32m.\u001b[0m\u001b[32m                                               [100%]\u001b[0m\n",
      "\n",
      "----------- coverage: platform linux, python 3.8.5-final-0 -----------\n",
      "Name    Stmts   Miss  Cover\n",
      "---------------------------\n",
      "---------------------------\n",
      "TOTAL      47      0   100%\n",
      "\n",
      "6 files skipped due to complete coverage.\n",
      "\n",
      "\n",
      "\u001b[32m============================== \u001b[32m\u001b[1m7 passed\u001b[0m\u001b[32m in 0.10s\u001b[0m\u001b[32m ===============================\u001b[0m\n"
     ]
    }
   ],
   "source": [
    "!pytest --cov-report term:skip-covered --cov=src"
   ]
  },
  {
   "cell_type": "markdown",
   "metadata": {},
   "source": [
    "4.- Estas tres opciones de informe se envían a archivos sin mostrar nada en el terminal:"
   ]
  },
  {
   "cell_type": "code",
   "execution_count": 5,
   "metadata": {},
   "outputs": [
    {
     "name": "stdout",
     "output_type": "stream",
     "text": [
      "\u001b[1m============================= test session starts ==============================\u001b[0m\n",
      "platform linux -- Python 3.8.5, pytest-5.4.3, py-1.10.0, pluggy-0.13.1\n",
      "rootdir: /home/fralfaro/PycharmProjects/python_development_tools/python_development_tools/testing\n",
      "plugins: hypothesis-5.49.0, cov-2.11.1\n",
      "collected 7 items                                                              \u001b[0m\n",
      "\n",
      "src/tests/algo_test.py \u001b[32m.\u001b[0m\u001b[32m.\u001b[0m\u001b[32m.\u001b[0m\u001b[32m.\u001b[0m\u001b[32m                                              [ 57%]\u001b[0m\n",
      "src/tests/srel_test.py \u001b[32m.\u001b[0m\u001b[32m.\u001b[0m\u001b[32m.\u001b[0m\u001b[32m                                               [100%]\u001b[0m\n",
      "\n",
      "----------- coverage: platform linux, python 3.8.5-final-0 -----------\n",
      "Coverage annotated source written next to source\n",
      "Coverage HTML written to dir htmlcov\n",
      "Coverage XML written to file coverage.xml\n",
      "\n",
      "\n",
      "\u001b[32m============================== \u001b[32m\u001b[1m7 passed\u001b[0m\u001b[32m in 0.15s\u001b[0m\u001b[32m ===============================\u001b[0m\n"
     ]
    }
   ],
   "source": [
    "!pytest --cov-report html \\\n",
    "        --cov-report xml \\\n",
    "        --cov-report annotate \\\n",
    "        --cov=src"
   ]
  },
  {
   "cell_type": "markdown",
   "metadata": {},
   "source": [
    "5.- Se puede especificar la ubicación de salida para cada uno de estos informes. La ubicación de salida del informe XML es un archivo. Donde, como ubicación de salida para los informes HTML y de código fuente anotado son directorios:"
   ]
  },
  {
   "cell_type": "code",
   "execution_count": 6,
   "metadata": {},
   "outputs": [
    {
     "name": "stdout",
     "output_type": "stream",
     "text": [
      "\u001b[1m============================= test session starts ==============================\u001b[0m\n",
      "platform linux -- Python 3.8.5, pytest-5.4.3, py-1.10.0, pluggy-0.13.1\n",
      "rootdir: /home/fralfaro/PycharmProjects/python_development_tools/python_development_tools/testing\n",
      "plugins: hypothesis-5.49.0, cov-2.11.1\n",
      "collected 7 items                                                              \u001b[0m\n",
      "\n",
      "src/tests/algo_test.py \u001b[32m.\u001b[0m\u001b[32m.\u001b[0m\u001b[32m.\u001b[0m\u001b[32m.\u001b[0m\u001b[32m                                              [ 57%]\u001b[0m\n",
      "src/tests/srel_test.py \u001b[32m.\u001b[0m\u001b[32m.\u001b[0m\u001b[32m.\u001b[0m\u001b[32m                                               [100%]\u001b[0m\n",
      "\n",
      "----------- coverage: platform linux, python 3.8.5-final-0 -----------\n",
      "Coverage annotated source written to dir cov_annotate\n",
      "Coverage HTML written to dir cov_html\n",
      "Coverage XML written to file cov.xml\n",
      "\n",
      "\n",
      "\u001b[32m============================== \u001b[32m\u001b[1m7 passed\u001b[0m\u001b[32m in 0.17s\u001b[0m\u001b[32m ===============================\u001b[0m\n"
     ]
    }
   ],
   "source": [
    "! pytest --cov-report html:cov_html \\\n",
    "        --cov-report xml:cov.xml \\\n",
    "        --cov-report annotate:cov_annotate \\\n",
    "        --cov=src"
   ]
  },
  {
   "cell_type": "markdown",
   "metadata": {},
   "source": [
    "6.- La opción de informe final también puede suprimir la impresión en el terminal:"
   ]
  },
  {
   "cell_type": "code",
   "execution_count": 7,
   "metadata": {},
   "outputs": [
    {
     "name": "stdout",
     "output_type": "stream",
     "text": [
      "\u001b[1m============================= test session starts ==============================\u001b[0m\n",
      "platform linux -- Python 3.8.5, pytest-5.4.3, py-1.10.0, pluggy-0.13.1\n",
      "rootdir: /home/fralfaro/PycharmProjects/python_development_tools/python_development_tools/testing\n",
      "plugins: hypothesis-5.49.0, cov-2.11.1\n",
      "collected 7 items                                                              \u001b[0m\n",
      "\n",
      "src/tests/algo_test.py \u001b[32m.\u001b[0m\u001b[32m.\u001b[0m\u001b[32m.\u001b[0m\u001b[32m.\u001b[0m\u001b[32m                                              [ 57%]\u001b[0m\n",
      "src/tests/srel_test.py \u001b[32m.\u001b[0m\u001b[32m.\u001b[0m\u001b[32m.\u001b[0m\u001b[32m                                               [100%]\u001b[0m\n",
      "\n",
      "\n",
      "\n",
      "\u001b[32m============================== \u001b[32m\u001b[1m7 passed\u001b[0m\u001b[32m in 0.12s\u001b[0m\u001b[32m ===============================\u001b[0m\n"
     ]
    }
   ],
   "source": [
    "!pytest --cov-report= --cov=src "
   ]
  },
  {
   "cell_type": "markdown",
   "metadata": {},
   "source": [
    "Este modo puede ser especialmente útil en servidores de integración continua, donde se necesita un archivo de cobertura para el procesamiento posterior, pero no es necesario ver un informe local. Por ejemplo, las pruebas realizadas en `Travis-CI` podrían generar un archivo `.coverage` para usar con `Coveralls`."
   ]
  },
  {
   "cell_type": "markdown",
   "metadata": {},
   "source": [
    "**Observación**: al final de cada presentación, se eliminan los archivos que generamos de manera temporal."
   ]
  },
  {
   "cell_type": "code",
   "execution_count": 39,
   "metadata": {},
   "outputs": [],
   "source": [
    "# eliminar archivos temporales\n",
    "!rm -r cov_annotate cov_html htmlcov src *.py *.xml"
   ]
  }
 ],
 "metadata": {
  "kernelspec": {
   "display_name": "Python 3",
   "language": "python",
   "name": "python3"
  },
  "language_info": {
   "codemirror_mode": {
    "name": "ipython",
    "version": 3
   },
   "file_extension": ".py",
   "mimetype": "text/x-python",
   "name": "python",
   "nbconvert_exporter": "python",
   "pygments_lexer": "ipython3",
   "version": "3.8.5"
  }
 },
 "nbformat": 4,
 "nbformat_minor": 4
}

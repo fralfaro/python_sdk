{
 "cells": [
  {
   "cell_type": "markdown",
   "metadata": {},
   "source": [
    "# Mocking functions: Mocker\n",
    "\n",
    "## Introducción\n",
    "A veces, durante las pruebas, necesita algunos datos falsos.\n",
    "\n",
    "Tal vez esté haciendo una llamada de API de terceros que puede ser costosa de ejecutar o tiene algún límite que no desea arriesgarse a alcanzar. O tal vez necesite crear un objeto completo sobre la marcha solo para una o dos funciones, pero ese objeto puede ser difícil de construir desde cero. O tal vez tus necesidades sean más sencillas. \n",
    "\n",
    "Por estas razones y más, existe la biblioteca `mock`. Actualmente estamos usando `pytest`, por lo que no tenemos que preocuparnos por acceder a mock desde la biblioteca `unittest`; podemos usar `pytest-mock`. \n",
    "\n",
    "Si este paquete está instalado, cuando ejecutemos `py.test` tendremos acceso al accesorio `mocker`, que ha adjuntado toda la funcionalidad de la biblioteca `unittest.mock`.\n",
    "\n",
    "Esta no será una explicación exhaustiva de lo que se puede hacer con la biblioteca `pytest-mock`, pero cubrirá algunos de los casos de uso más comunes."
   ]
  },
  {
   "cell_type": "markdown",
   "metadata": {},
   "source": [
    "## Monkey Patching\n",
    "\n",
    "`monkeypatch`  le permite interceptar lo que haría normalmente una función, sustituyendo su ejecución completa con un valor de retorno de su propia especificación. \n",
    "\n",
    "Tenga en cuenta que el `monkey patching` en una llamada de función no cuenta como una prueba de esa llamada de función. En realidad, **no está** usando la función que ha parcheado; está rechazando su comportamiento predeterminado y sustituyéndolo por un nuevo comportamiento.\n",
    "\n",
    "Tomemos como ejemplo las siguientes funciones para obtener y analizar datos de GitHub"
   ]
  },
  {
   "cell_type": "code",
   "execution_count": 14,
   "metadata": {},
   "outputs": [
    {
     "name": "stdout",
     "output_type": "stream",
     "text": [
      "Overwriting users.py\n"
     ]
    }
   ],
   "source": [
    "%%writefile users.py\n",
    "import requests\n",
    "import json\n",
    "\n",
    "def get_user_followers(username):\n",
    "    \"\"\"Grab the JSON object from a given user's followers.\"\"\"\n",
    "    response = requests.get('https://api.github.com/users/{}/followers'.format(username))\n",
    "    return response.content\n",
    "\n",
    "def get_follower_names(username):\n",
    "    \"\"\"Given a username of a GitHub user, return a list of follower usernames.\"\"\"\n",
    "    json_out = get_user_followers(username)\n",
    "    as_dict = json.loads(json_out)\n",
    "    return list(map(lambda x: x[\"login\"], as_dict))"
   ]
  },
  {
   "cell_type": "markdown",
   "metadata": {},
   "source": [
    "GitHub establece un límite en la velocidad a la que puede acceder a sus datos. Sin embargo, a medida que probamos `get_follower_names` y otro código que pueda llamar a `get_user_followers`, tendremos que llamar a esta función una y otra vez."
   ]
  },
  {
   "cell_type": "code",
   "execution_count": 15,
   "metadata": {},
   "outputs": [
    {
     "name": "stdout",
     "output_type": "stream",
     "text": [
      "Overwriting test_users.py\n"
     ]
    }
   ],
   "source": [
    "%%writefile test_users.py\n",
    "from users import get_follower_names\n",
    "def test_get_follower_names_returns_name_list():\n",
    "    assert 'jradavenport' in get_follower_names('nhuntwalker')"
   ]
  },
  {
   "cell_type": "markdown",
   "metadata": {},
   "source": [
    "En poco tiempo, alcanzaremos nuestro límite de frecuencia (incluso con un token de API). Cualquier prueba que ejecutemos con esta función después de este punto fallará automáticamente.\n",
    "\n",
    "¿Entonces lo que hay que hacer?\n",
    "\n",
    "En nuestro archivo de prueba, podemos \"parchear\" la llamada a la API de GitHub. \n",
    "\n",
    "Podemos hacer esto usando el accesorio `monkeypatch` proporcionado por `pytest-mock`. No es necesario que lo importe al archivo. "
   ]
  },
  {
   "cell_type": "code",
   "execution_count": 16,
   "metadata": {},
   "outputs": [
    {
     "name": "stdout",
     "output_type": "stream",
     "text": [
      "Overwriting test_users.py\n"
     ]
    }
   ],
   "source": [
    "%%writefile test_users.py\n",
    "import users\n",
    "\n",
    "def substitute_func(username):\n",
    "    return '[{\"login\": \"aishapectyo\"},{\"login\": \"jradavenport\"},{\"login\": \"kridicule\"}]'\n",
    "\n",
    "def test_get_follower_names_returns_name_list(monkeypatch):\n",
    "    monkeypatch.setattr(users, 'get_user_followers', substitute_func)\n",
    "    assert 'jradavenport' in users.get_follower_names('nhuntwalker')"
   ]
  },
  {
   "cell_type": "markdown",
   "metadata": {},
   "source": [
    "`monkeypatch` es un objeto en sí mismo con una variedad de métodos para falsificar atributos de otros objetos o espacios de nombres completos. En el ejemplo anterior, usamos el método `.setattr` para intercambiar nuestra función `users.get_user_followers` real con alguna otra función sustituta, `substitute_func`. Al tratar el módulo de usuarios como un objeto, `monkeypatch` cambia el comportamiento de la función `get_user_followers` dentro del módulo cuando se llama para esta prueba.\n",
    "\n",
    "La función sustituta, a su vez, simplemente devuelve lo que le digamos para los propósitos de la(s) prueba(s). En el ejemplo anterior, codificamos una cadena que es un objeto JSON adecuado, tal como lo espera `users.get_follower_names`. \n",
    "\n",
    "De lo contrario, la función sustituta no realiza ningún trabajo que no esté especificado en la definición de la función.\n",
    "\n",
    "El resultado final es que, **para esta prueba**, siempre que hagamos la solicitud HTTP completa a GitHub para sus datos, en su lugar, obtendremos el valor de retorno de `substitute_func()`.\n",
    "\n",
    "Fuera de esta prueba, a menos que usemos `monkeypatch` nuevamente, `users.get_user_followers` funcionará como se supone que debe hacerlo.\n",
    "\n",
    "Como ocurre con la mayoría de los problemas de prueba, si queremos que ocurra el mismo comportamiento en una variedad de pruebas, siempre podemos configurar un `fixture`. \n",
    "\n",
    "Recuerde que cada vez que incluye un `fixture` en su función de prueba, el código dentro del dispositivo se ejecuta en su totalidad antes de ejecutar la prueba. Podemos usar eso a nuestro favor."
   ]
  },
  {
   "cell_type": "code",
   "execution_count": 17,
   "metadata": {},
   "outputs": [
    {
     "name": "stdout",
     "output_type": "stream",
     "text": [
      "Overwriting test_users.py\n"
     ]
    }
   ],
   "source": [
    "%%writefile test_users.py\n",
    "import pytest\n",
    "\n",
    "def substitute_func(username):\n",
    "    return '[{\"login\": \"aishapectyo\"},{\"login\": \"jradavenport\"},{\"login\": \"kridicule\"}]'\n",
    "\n",
    "@pytest.fixture\n",
    "def gh_patched(monkeypatch):\n",
    "    import users\n",
    "    monkeypatch.setattr(users, 'get_user_followers', substitute_func)\n",
    "\n",
    "def test_get_follower_names_returns_name_list(gh_patched):\n",
    "    from users import get_follower_names\n",
    "    assert 'jradavenport' in get_follower_names('nhuntwalker')"
   ]
  },
  {
   "cell_type": "markdown",
   "metadata": {},
   "source": [
    "Si queremos que en cada prueba este comportamiento sea parcheado sin que tengamos que pensar en ello, podemos establecer el argumento de palabra clave `autouse` de `pytest.fixture` en `True`."
   ]
  },
  {
   "cell_type": "code",
   "execution_count": 18,
   "metadata": {},
   "outputs": [
    {
     "name": "stdout",
     "output_type": "stream",
     "text": [
      "Overwriting test_users.py\n"
     ]
    }
   ],
   "source": [
    "%%writefile test_users.py\n",
    "import pytest\n",
    "    import users\n",
    "\n",
    "def substitute_func(username):\n",
    "    return '[{\"login\": \"aishapectyo\"},{\"login\": \"jradavenport\"},{\"login\": \"kridicule\"}]'\n",
    "\n",
    "@pytest.fixture(autouse=True)\n",
    "def gh_patched(monkeypatch):\n",
    "    monkeypatch.setattr(users, 'get_user_followers', substitute_func)\n",
    "\n",
    "def test_get_follower_names_returns_name_list():\n",
    "    from users import get_follower_names\n",
    "    assert 'jradavenport' in get_follower_names('nhuntwalker')"
   ]
  },
  {
   "cell_type": "markdown",
   "metadata": {},
   "source": [
    "Tenga en cuenta que la prueba ya no incluye nuestro `fixture` en la lista de parámetros.\n",
    "\n",
    "Tenga cuidado con los cambios de comportamiento universalmente. Si parcheamos el comportamiento de `get_user_followers` automáticamente para cada prueba, corremos el riesgo de no poder probar la función después de todo."
   ]
  },
  {
   "cell_type": "markdown",
   "metadata": {},
   "source": [
    "## MagicMock and Faking Objects\n",
    "\n",
    "A veces no es suficiente parchear una sola función; a veces necesitas una instancia de un objeto completo, pero construir ese objeto no es un esfuerzo trivial. \n",
    "\n",
    "Considere el siguiente ejemplo:"
   ]
  },
  {
   "cell_type": "code",
   "execution_count": 19,
   "metadata": {},
   "outputs": [
    {
     "name": "stdout",
     "output_type": "stream",
     "text": [
      "Overwriting request.py\n"
     ]
    }
   ],
   "source": [
    "%%writefile request.py\n",
    "def some_view(request):\n",
    "    if request.method == \"GET\":\n",
    "        return {}\n",
    "    if request.method == \"POST\":\n",
    "        new_entry = Entry(\n",
    "            title = request.POST['title'],\n",
    "            body = request.POST['body']\n",
    "        )\n",
    "        request.dbsession.add(new_entry)\n",
    "        return HTTPFound(request.route_url('entry_list'))"
   ]
  },
  {
   "cell_type": "markdown",
   "metadata": {},
   "source": [
    "Aquí tenemos una función de vista que maneja las solicitudes `GET` y `POST`. Se espera como argumento algún tipo de objeto de solicitud, pero normalmente solo podemos construir objetos de solicitud a partir de una solicitud HTTP real. Por lo tanto, debemos tener configurado algún tipo de cliente de prueba que pueda enviar solicitudes o recibir solicitudes reales para probar nuestra vista.\n",
    "\n",
    "(Ignore el hecho de que esto se basa en el patrón de `Pyramid` para las solicitudes de construcción y que `Pyramid` tiene su propio objeto `DummyRequest` integrado)\n",
    "\n",
    "Con el objeto `MagicMock`, podemos construir un objeto que pueda actuar como una `request` sin tener que ser realmente una instancia **real** de ninguna clase de `request`. En ese objeto podemos definir cualquier método o atributo que pueda ser útil para la prueba. De esta manera, nos preocupamos menos por la configuración que implica probar una función y, en cambio, nos enfocamos solo en darle a la función lo que necesita para funcionar.\n",
    "\n",
    "Para obtener acceso al objeto `MagicMock` de `pytest-mock`, primero tenemos que incluir el accesorio de burla que nos proporciona `pytest-mock`. El objeto `MagicMock` es un atributo de ese dispositivo y se puede utilizar como desee desde allí.\n",
    "\n",
    "En nuestra prueba para `some_view`, podríamos escribir"
   ]
  },
  {
   "cell_type": "code",
   "execution_count": 20,
   "metadata": {},
   "outputs": [
    {
     "name": "stdout",
     "output_type": "stream",
     "text": [
      "Writing test_request_get.py\n"
     ]
    }
   ],
   "source": [
    "%%writefile test_request_get.py\n",
    "\n",
    "def test_some_view_get_req_returns_dict(mocker):\n",
    "    from views import some_view\n",
    "    req = mocker.MagicMock()\n",
    "    req.method = 'GET'\n",
    "    assert some_view(req) == {}"
   ]
  },
  {
   "cell_type": "markdown",
   "metadata": {},
   "source": [
    "De esta forma probamos que la función `some_view` dado un objeto con un método de `GET` devuelve el diccionario que esperamos. De manera similar, podemos escribir más pruebas asumiendo que cualquier objeto simulado por el que pasamos es el objeto real."
   ]
  },
  {
   "cell_type": "code",
   "execution_count": 21,
   "metadata": {},
   "outputs": [
    {
     "name": "stdout",
     "output_type": "stream",
     "text": [
      "Overwriting test_request_post.py\n"
     ]
    }
   ],
   "source": [
    "%%writefile test_request_post.py\n",
    "def test_some_view_post_returns_redirect(mocker):\n",
    "    from views import some_view\n",
    "    req = mocker.MagicMock()\n",
    "    req.method = 'POST'\n",
    "    req.POST = {'title': 'some title', 'body': 'some body text'}\n",
    "    req.dbsession.add = lambda arg: None\n",
    "    assert isinstance(some_view(req), HTTPFound)"
   ]
  },
  {
   "cell_type": "markdown",
   "metadata": {},
   "source": [
    "Aquí hemos creado un objeto con un atributo de método que tiene un valor de 'POST', un atributo `POST` que es un diccionario que contiene algunos valores y un atributo `dbsession` que tiene su propio método falso, `add()`. \n",
    "\n",
    "*Ninguno de estos está obligado a funcionar realmente para que nuestra prueba pase.*\n",
    "\n",
    "Omitimos la sobrecarga de tener que configurar esa funcionalidad solo para ejecutar estas pruebas. En cambio, nos aseguramos de que nuestro objeto falso tenga todos los atributos que necesitamos para que la función funcione. Luego lo pasamos a la función sin que la función sea más sabia.\n",
    "\n",
    "Como podemos ver, el objeto `MagicMock` es prácticamente arcilla para esculpir, adoptando cualquier forma y funcionalidad que necesitemos por el momento. Es bueno para pruebas unitarias de funciones que no requieren que también verifiquemos los efectos secundarios. \n",
    "\n",
    "Dependiendo del efecto secundario que esperemos, es posible que incluso podamos burlarnos de eso proporcionando el argumento de la palabra clave `side_effect` al inicializar `MagicMock`, pero si estamos llegando al punto de probar la funcionalidad interconectada, es posible que deseemos elegir un método de prueba diferente."
   ]
  },
  {
   "cell_type": "markdown",
   "metadata": {},
   "source": [
    "## mocker.spy for Tracking Your Methods\n",
    "\n",
    "A veces no quieres apropiarte completamente de una función. A veces, solo desea realizar un seguimiento del uso de una función en su aplicación o base de código. Para eso, hay `mocker.spy`.\n",
    "\n",
    "`mocker.spy` permitirá que su objeto o función actúe exactamente como lo haría normalmente en todos los casos. El beneficio es que puede utilizar algunas de las características de un objeto `MagicMock` junto con las operaciones habituales de su función u objeto.\n",
    "\n",
    "Por ejemplo, considere el siguiente objeto masivamente ineficiente"
   ]
  },
  {
   "cell_type": "code",
   "execution_count": 22,
   "metadata": {},
   "outputs": [
    {
     "name": "stdout",
     "output_type": "stream",
     "text": [
      "Overwriting visits.py\n"
     ]
    }
   ],
   "source": [
    "%%writefile visits.py\n",
    "\n",
    "class Numbers(object):\n",
    "    def __init__(self, iterable):\n",
    "        self._container = iterable\n",
    "\n",
    "    def make_unique(self):\n",
    "        i = 0\n",
    "        visited = []\n",
    "        while i < len(self._container):\n",
    "            if self._container[i] in visited:\n",
    "                self._drop_val(i)\n",
    "                i = 0\n",
    "                continue\n",
    "            visited.append(self._container[i])\n",
    "            i += 1\n",
    "\n",
    "    def _drop_val(self, idx):\n",
    "        self._container.pop(idx)"
   ]
  },
  {
   "cell_type": "markdown",
   "metadata": {},
   "source": [
    "Se debe llamar al método `_drop_val` siempre que haya un valor para eliminar de la lista de contenedores. Quizás para una lista determinada de valores (es decir, $[1,2,1,2,1,2]$) quiero asegurarme de que `_drop_val` se llame un número específico de veces (es decir, 4). Puedo incorporar eso en mis pruebas espiando `_drop_val` y verificando la cantidad de veces que se llamó a este método."
   ]
  },
  {
   "cell_type": "code",
   "execution_count": 23,
   "metadata": {},
   "outputs": [
    {
     "name": "stdout",
     "output_type": "stream",
     "text": [
      "Overwriting test_visits.py\n"
     ]
    }
   ],
   "source": [
    "%%writefile test_visits.py\n",
    "def test_values_are_dropped_if_already_seen(mocker):\n",
    "    nums = Numbers([1,2,1,2,1,2])\n",
    "    mocker.spy(nums, '_drop_val')\n",
    "    nums.make_unique()\n",
    "    assert nums._make_unique.call_count == 4"
   ]
  },
  {
   "cell_type": "markdown",
   "metadata": {},
   "source": [
    "Y ahora, cada vez que se llamó a `_drop_val`, ese recuento se mantuvo y se puede verificar más adelante.\n",
    "\n",
    "Además de espiar el recuento de llamadas, los métodos de espionaje tienen otras funciones útiles:\n",
    "\n",
    "* assert_called_with(*args, **kwargs)\n",
    "* assert_any_call(*args, **kwargs)\n",
    "* called\n",
    "* mock_calls\n",
    "\n",
    "\n",
    "Consulte la [documentación de Mock Class](https://docs.python.org/3/library/unittest.mock.html) para conocer todos los detalles.\n",
    "\n",
    "Puede usar esto de varias maneras, como encontrar cuellos de botella en la ejecución de su código buscando métodos que se llaman un montón de veces, solucionar problemas de ejecución de la función verificando con qué se llama, descubrir qué funciones / métodos están llamando al estás interesado, etc."
   ]
  }
 ],
 "metadata": {
  "kernelspec": {
   "display_name": "Python 3",
   "language": "python",
   "name": "python3"
  },
  "language_info": {
   "codemirror_mode": {
    "name": "ipython",
    "version": 3
   },
   "file_extension": ".py",
   "mimetype": "text/x-python",
   "name": "python",
   "nbconvert_exporter": "python",
   "pygments_lexer": "ipython3",
   "version": "3.8.5"
  }
 },
 "nbformat": 4,
 "nbformat_minor": 4
}
